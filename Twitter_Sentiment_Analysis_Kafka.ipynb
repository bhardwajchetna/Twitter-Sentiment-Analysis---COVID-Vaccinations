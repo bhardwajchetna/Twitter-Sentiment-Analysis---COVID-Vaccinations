{
  "nbformat": 4,
  "nbformat_minor": 0,
  "metadata": {
    "kernelspec": {
      "display_name": "Python 3",
      "language": "python",
      "name": "python3"
    },
    "language_info": {
      "codemirror_mode": {
        "name": "ipython",
        "version": 3
      },
      "file_extension": ".py",
      "mimetype": "text/x-python",
      "name": "python",
      "nbconvert_exporter": "python",
      "pygments_lexer": "ipython3",
      "version": "3.8.3"
    },
    "colab": {
      "name": "Twitter Sentiment Analysis - Kafka.ipynb",
      "provenance": [],
      "collapsed_sections": [],
      "include_colab_link": true
    }
  },
  "cells": [
    {
      "cell_type": "markdown",
      "metadata": {
        "id": "view-in-github",
        "colab_type": "text"
      },
      "source": [
        "<a href=\"https://colab.research.google.com/github/bhardwajchetna/Twitter-Sentiment-Analysis---COVID-Vaccinations/blob/main/Twitter_Sentiment_Analysis_Kafka.ipynb\" target=\"_parent\"><img src=\"https://colab.research.google.com/assets/colab-badge.svg\" alt=\"Open In Colab\"/></a>"
      ]
    },
    {
      "cell_type": "markdown",
      "metadata": {
        "id": "shNX81vJ_zGr"
      },
      "source": [
        "# Kafka & Zookeeper\n"
      ]
    },
    {
      "cell_type": "code",
      "metadata": {
        "colab": {
          "base_uri": "https://localhost:8080/"
        },
        "id": "14Z5og-B_KPe",
        "outputId": "83b94dd2-9e99-4214-8adb-929def97fe96"
      },
      "source": [
        "!pip install tensorflow-io\n",
        "!pip install kafka-python"
      ],
      "execution_count": null,
      "outputs": [
        {
          "output_type": "stream",
          "text": [
            "Requirement already satisfied: tensorflow-io in /usr/local/lib/python3.7/dist-packages (0.17.1)\n",
            "Requirement already satisfied: tensorflow<2.5.0,>=2.4.0 in /usr/local/lib/python3.7/dist-packages (from tensorflow-io) (2.4.1)\n",
            "Requirement already satisfied: grpcio~=1.32.0 in /usr/local/lib/python3.7/dist-packages (from tensorflow<2.5.0,>=2.4.0->tensorflow-io) (1.32.0)\n",
            "Requirement already satisfied: wrapt~=1.12.1 in /usr/local/lib/python3.7/dist-packages (from tensorflow<2.5.0,>=2.4.0->tensorflow-io) (1.12.1)\n",
            "Requirement already satisfied: typing-extensions~=3.7.4 in /usr/local/lib/python3.7/dist-packages (from tensorflow<2.5.0,>=2.4.0->tensorflow-io) (3.7.4.3)\n",
            "Requirement already satisfied: numpy~=1.19.2 in /usr/local/lib/python3.7/dist-packages (from tensorflow<2.5.0,>=2.4.0->tensorflow-io) (1.19.5)\n",
            "Requirement already satisfied: wheel~=0.35 in /usr/local/lib/python3.7/dist-packages (from tensorflow<2.5.0,>=2.4.0->tensorflow-io) (0.36.2)\n",
            "Requirement already satisfied: gast==0.3.3 in /usr/local/lib/python3.7/dist-packages (from tensorflow<2.5.0,>=2.4.0->tensorflow-io) (0.3.3)\n",
            "Requirement already satisfied: six~=1.15.0 in /usr/local/lib/python3.7/dist-packages (from tensorflow<2.5.0,>=2.4.0->tensorflow-io) (1.15.0)\n",
            "Requirement already satisfied: absl-py~=0.10 in /usr/local/lib/python3.7/dist-packages (from tensorflow<2.5.0,>=2.4.0->tensorflow-io) (0.12.0)\n",
            "Requirement already satisfied: h5py~=2.10.0 in /usr/local/lib/python3.7/dist-packages (from tensorflow<2.5.0,>=2.4.0->tensorflow-io) (2.10.0)\n",
            "Requirement already satisfied: protobuf>=3.9.2 in /usr/local/lib/python3.7/dist-packages (from tensorflow<2.5.0,>=2.4.0->tensorflow-io) (3.12.4)\n",
            "Requirement already satisfied: tensorflow-estimator<2.5.0,>=2.4.0 in /usr/local/lib/python3.7/dist-packages (from tensorflow<2.5.0,>=2.4.0->tensorflow-io) (2.4.0)\n",
            "Requirement already satisfied: opt-einsum~=3.3.0 in /usr/local/lib/python3.7/dist-packages (from tensorflow<2.5.0,>=2.4.0->tensorflow-io) (3.3.0)\n",
            "Requirement already satisfied: keras-preprocessing~=1.1.2 in /usr/local/lib/python3.7/dist-packages (from tensorflow<2.5.0,>=2.4.0->tensorflow-io) (1.1.2)\n",
            "Requirement already satisfied: flatbuffers~=1.12.0 in /usr/local/lib/python3.7/dist-packages (from tensorflow<2.5.0,>=2.4.0->tensorflow-io) (1.12)\n",
            "Requirement already satisfied: termcolor~=1.1.0 in /usr/local/lib/python3.7/dist-packages (from tensorflow<2.5.0,>=2.4.0->tensorflow-io) (1.1.0)\n",
            "Requirement already satisfied: tensorboard~=2.4 in /usr/local/lib/python3.7/dist-packages (from tensorflow<2.5.0,>=2.4.0->tensorflow-io) (2.4.1)\n",
            "Requirement already satisfied: google-pasta~=0.2 in /usr/local/lib/python3.7/dist-packages (from tensorflow<2.5.0,>=2.4.0->tensorflow-io) (0.2.0)\n",
            "Requirement already satisfied: astunparse~=1.6.3 in /usr/local/lib/python3.7/dist-packages (from tensorflow<2.5.0,>=2.4.0->tensorflow-io) (1.6.3)\n",
            "Requirement already satisfied: setuptools in /usr/local/lib/python3.7/dist-packages (from protobuf>=3.9.2->tensorflow<2.5.0,>=2.4.0->tensorflow-io) (56.0.0)\n",
            "Requirement already satisfied: markdown>=2.6.8 in /usr/local/lib/python3.7/dist-packages (from tensorboard~=2.4->tensorflow<2.5.0,>=2.4.0->tensorflow-io) (3.3.4)\n",
            "Requirement already satisfied: google-auth-oauthlib<0.5,>=0.4.1 in /usr/local/lib/python3.7/dist-packages (from tensorboard~=2.4->tensorflow<2.5.0,>=2.4.0->tensorflow-io) (0.4.4)\n",
            "Requirement already satisfied: google-auth<2,>=1.6.3 in /usr/local/lib/python3.7/dist-packages (from tensorboard~=2.4->tensorflow<2.5.0,>=2.4.0->tensorflow-io) (1.28.1)\n",
            "Requirement already satisfied: requests<3,>=2.21.0 in /usr/local/lib/python3.7/dist-packages (from tensorboard~=2.4->tensorflow<2.5.0,>=2.4.0->tensorflow-io) (2.23.0)\n",
            "Requirement already satisfied: werkzeug>=0.11.15 in /usr/local/lib/python3.7/dist-packages (from tensorboard~=2.4->tensorflow<2.5.0,>=2.4.0->tensorflow-io) (1.0.1)\n",
            "Requirement already satisfied: tensorboard-plugin-wit>=1.6.0 in /usr/local/lib/python3.7/dist-packages (from tensorboard~=2.4->tensorflow<2.5.0,>=2.4.0->tensorflow-io) (1.8.0)\n",
            "Requirement already satisfied: importlib-metadata; python_version < \"3.8\" in /usr/local/lib/python3.7/dist-packages (from markdown>=2.6.8->tensorboard~=2.4->tensorflow<2.5.0,>=2.4.0->tensorflow-io) (3.10.1)\n",
            "Requirement already satisfied: requests-oauthlib>=0.7.0 in /usr/local/lib/python3.7/dist-packages (from google-auth-oauthlib<0.5,>=0.4.1->tensorboard~=2.4->tensorflow<2.5.0,>=2.4.0->tensorflow-io) (1.3.0)\n",
            "Requirement already satisfied: rsa<5,>=3.1.4; python_version >= \"3.6\" in /usr/local/lib/python3.7/dist-packages (from google-auth<2,>=1.6.3->tensorboard~=2.4->tensorflow<2.5.0,>=2.4.0->tensorflow-io) (4.7.2)\n",
            "Requirement already satisfied: pyasn1-modules>=0.2.1 in /usr/local/lib/python3.7/dist-packages (from google-auth<2,>=1.6.3->tensorboard~=2.4->tensorflow<2.5.0,>=2.4.0->tensorflow-io) (0.2.8)\n",
            "Requirement already satisfied: cachetools<5.0,>=2.0.0 in /usr/local/lib/python3.7/dist-packages (from google-auth<2,>=1.6.3->tensorboard~=2.4->tensorflow<2.5.0,>=2.4.0->tensorflow-io) (4.2.1)\n",
            "Requirement already satisfied: certifi>=2017.4.17 in /usr/local/lib/python3.7/dist-packages (from requests<3,>=2.21.0->tensorboard~=2.4->tensorflow<2.5.0,>=2.4.0->tensorflow-io) (2020.12.5)\n",
            "Requirement already satisfied: urllib3!=1.25.0,!=1.25.1,<1.26,>=1.21.1 in /usr/local/lib/python3.7/dist-packages (from requests<3,>=2.21.0->tensorboard~=2.4->tensorflow<2.5.0,>=2.4.0->tensorflow-io) (1.24.3)\n",
            "Requirement already satisfied: chardet<4,>=3.0.2 in /usr/local/lib/python3.7/dist-packages (from requests<3,>=2.21.0->tensorboard~=2.4->tensorflow<2.5.0,>=2.4.0->tensorflow-io) (3.0.4)\n",
            "Requirement already satisfied: idna<3,>=2.5 in /usr/local/lib/python3.7/dist-packages (from requests<3,>=2.21.0->tensorboard~=2.4->tensorflow<2.5.0,>=2.4.0->tensorflow-io) (2.10)\n",
            "Requirement already satisfied: zipp>=0.5 in /usr/local/lib/python3.7/dist-packages (from importlib-metadata; python_version < \"3.8\"->markdown>=2.6.8->tensorboard~=2.4->tensorflow<2.5.0,>=2.4.0->tensorflow-io) (3.4.1)\n",
            "Requirement already satisfied: oauthlib>=3.0.0 in /usr/local/lib/python3.7/dist-packages (from requests-oauthlib>=0.7.0->google-auth-oauthlib<0.5,>=0.4.1->tensorboard~=2.4->tensorflow<2.5.0,>=2.4.0->tensorflow-io) (3.1.0)\n",
            "Requirement already satisfied: pyasn1>=0.1.3 in /usr/local/lib/python3.7/dist-packages (from rsa<5,>=3.1.4; python_version >= \"3.6\"->google-auth<2,>=1.6.3->tensorboard~=2.4->tensorflow<2.5.0,>=2.4.0->tensorflow-io) (0.4.8)\n",
            "Requirement already satisfied: kafka-python in /usr/local/lib/python3.7/dist-packages (2.0.2)\n"
          ],
          "name": "stdout"
        }
      ]
    },
    {
      "cell_type": "code",
      "metadata": {
        "id": "21Zdj0Qo_LXv"
      },
      "source": [
        "import os\n",
        "from datetime import datetime\n",
        "import time\n",
        "import threading\n",
        "import json\n",
        "from kafka import KafkaProducer\n",
        "from kafka.errors import KafkaError\n",
        "from sklearn.model_selection import train_test_split\n",
        "import pandas as pd\n",
        "import tensorflow as tf\n",
        "import tensorflow_io as tfio"
      ],
      "execution_count": null,
      "outputs": []
    },
    {
      "cell_type": "code",
      "metadata": {
        "colab": {
          "base_uri": "https://localhost:8080/"
        },
        "id": "O0imE3YO_OlI",
        "outputId": "c27f8aa8-422b-46cb-82e2-56c51dda3842"
      },
      "source": [
        "print(\"tensorflow-io version: {}\".format(tfio.__version__))\n",
        "print(\"tensorflow version: {}\".format(tf.__version__))"
      ],
      "execution_count": null,
      "outputs": [
        {
          "output_type": "stream",
          "text": [
            "tensorflow-io version: 0.17.1\n",
            "tensorflow version: 2.4.1\n"
          ],
          "name": "stdout"
        }
      ]
    },
    {
      "cell_type": "code",
      "metadata": {
        "id": "BEAsAblA_TPK"
      },
      "source": [
        "!curl -sSOL https://downloads.apache.org/kafka/2.7.0/kafka_2.13-2.7.0.tgz\n",
        "!tar -xzf kafka_2.13-2.7.0.tgz"
      ],
      "execution_count": null,
      "outputs": []
    },
    {
      "cell_type": "code",
      "metadata": {
        "colab": {
          "base_uri": "https://localhost:8080/"
        },
        "id": "fGSduI-T_UKb",
        "outputId": "09c1413a-0e40-416e-f644-fdd391aee002"
      },
      "source": [
        "!./kafka_2.13-2.7.0/bin/zookeeper-server-start.sh -daemon ./kafka_2.13-2.7.0/config/zookeeper.properties\n",
        "!./kafka_2.13-2.7.0/bin/kafka-server-start.sh -daemon ./kafka_2.13-2.7.0/config/server.properties\n",
        "!echo \"Waiting for 10 secs until kafka and zookeeper services are up and running\"\n",
        "!sleep 10"
      ],
      "execution_count": null,
      "outputs": [
        {
          "output_type": "stream",
          "text": [
            "Waiting for 10 secs until kafka and zookeeper services are up and running\n"
          ],
          "name": "stdout"
        }
      ]
    },
    {
      "cell_type": "code",
      "metadata": {
        "colab": {
          "base_uri": "https://localhost:8080/"
        },
        "id": "-MB2aQNS_YvL",
        "outputId": "fa0368e3-c1d9-4deb-fa56-24a6dab52657"
      },
      "source": [
        "!ps -ef | grep kafka"
      ],
      "execution_count": null,
      "outputs": [
        {
          "output_type": "stream",
          "text": [
            "root         460       1  0 16:41 ?        00:00:26 java -Xmx512M -Xms512M -server -XX:+UseG1GC -XX:MaxGCPauseMillis=20 -XX:InitiatingHeapOccupancyPercent=35 -XX:+ExplicitGCInvokesConcurrent -XX:MaxInlineLevel=15 -Djava.awt.headless=true -Xlog:gc*:file=/content/kafka_2.13-2.7.0/bin/../logs/zookeeper-gc.log:time,tags:filecount=10,filesize=100M -Dcom.sun.management.jmxremote -Dcom.sun.management.jmxremote.authenticate=false -Dcom.sun.management.jmxremote.ssl=false -Dkafka.logs.dir=/content/kafka_2.13-2.7.0/bin/../logs -Dlog4j.configuration=file:./kafka_2.13-2.7.0/bin/../config/log4j.properties -cp /content/kafka_2.13-2.7.0/bin/../libs/activation-1.1.1.jar:/content/kafka_2.13-2.7.0/bin/../libs/aopalliance-repackaged-2.6.1.jar:/content/kafka_2.13-2.7.0/bin/../libs/argparse4j-0.7.0.jar:/content/kafka_2.13-2.7.0/bin/../libs/audience-annotations-0.5.0.jar:/content/kafka_2.13-2.7.0/bin/../libs/commons-cli-1.4.jar:/content/kafka_2.13-2.7.0/bin/../libs/commons-lang3-3.8.1.jar:/content/kafka_2.13-2.7.0/bin/../libs/connect-api-2.7.0.jar:/content/kafka_2.13-2.7.0/bin/../libs/connect-basic-auth-extension-2.7.0.jar:/content/kafka_2.13-2.7.0/bin/../libs/connect-file-2.7.0.jar:/content/kafka_2.13-2.7.0/bin/../libs/connect-json-2.7.0.jar:/content/kafka_2.13-2.7.0/bin/../libs/connect-mirror-2.7.0.jar:/content/kafka_2.13-2.7.0/bin/../libs/connect-mirror-client-2.7.0.jar:/content/kafka_2.13-2.7.0/bin/../libs/connect-runtime-2.7.0.jar:/content/kafka_2.13-2.7.0/bin/../libs/connect-transforms-2.7.0.jar:/content/kafka_2.13-2.7.0/bin/../libs/hk2-api-2.6.1.jar:/content/kafka_2.13-2.7.0/bin/../libs/hk2-locator-2.6.1.jar:/content/kafka_2.13-2.7.0/bin/../libs/hk2-utils-2.6.1.jar:/content/kafka_2.13-2.7.0/bin/../libs/jackson-annotations-2.10.5.jar:/content/kafka_2.13-2.7.0/bin/../libs/jackson-core-2.10.5.jar:/content/kafka_2.13-2.7.0/bin/../libs/jackson-databind-2.10.5.1.jar:/content/kafka_2.13-2.7.0/bin/../libs/jackson-dataformat-csv-2.10.5.jar:/content/kafka_2.13-2.7.0/bin/../libs/jackson-datatype-jdk8-2.10.5.jar:/content/kafka_2.13-2.7.0/bin/../libs/jackson-jaxrs-base-2.10.5.jar:/content/kafka_2.13-2.7.0/bin/../libs/jackson-jaxrs-json-provider-2.10.5.jar:/content/kafka_2.13-2.7.0/bin/../libs/jackson-module-jaxb-annotations-2.10.5.jar:/content/kafka_2.13-2.7.0/bin/../libs/jackson-module-paranamer-2.10.5.jar:/content/kafka_2.13-2.7.0/bin/../libs/jackson-module-scala_2.13-2.10.5.jar:/content/kafka_2.13-2.7.0/bin/../libs/jakarta.activation-api-1.2.1.jar:/content/kafka_2.13-2.7.0/bin/../libs/jakarta.annotation-api-1.3.5.jar:/content/kafka_2.13-2.7.0/bin/../libs/jakarta.inject-2.6.1.jar:/content/kafka_2.13-2.7.0/bin/../libs/jakarta.validation-api-2.0.2.jar:/content/kafka_2.13-2.7.0/bin/../libs/jakarta.ws.rs-api-2.1.6.jar:/content/kafka_2.13-2.7.0/bin/../libs/jakarta.xml.bind-api-2.3.2.jar:/content/kafka_2.13-2.7.0/bin/../libs/javassist-3.25.0-GA.jar:/content/kafka_2.13-2.7.0/bin/../libs/javassist-3.26.0-GA.jar:/content/kafka_2.13-2.7.0/bin/../libs/javax.servlet-api-3.1.0.jar:/content/kafka_2.13-2.7.0/bin/../libs/javax.ws.rs-api-2.1.1.jar:/content/kafka_2.13-2.7.0/bin/../libs/jaxb-api-2.3.0.jar:/content/kafka_2.13-2.7.0/bin/../libs/jersey-client-2.31.jar:/content/kafka_2.13-2.7.0/bin/../libs/jersey-common-2.31.jar:/content/kafka_2.13-2.7.0/bin/../libs/jersey-container-servlet-2.31.jar:/content/kafka_2.13-2.7.0/bin/../libs/jersey-container-servlet-core-2.31.jar:/content/kafka_2.13-2.7.0/bin/../libs/jersey-hk2-2.31.jar:/content/kafka_2.13-2.7.0/bin/../libs/jersey-media-jaxb-2.31.jar:/content/kafka_2.13-2.7.0/bin/../libs/jersey-server-2.31.jar:/content/kafka_2.13-2.7.0/bin/../libs/jetty-client-9.4.33.v20201020.jar:/content/kafka_2.13-2.7.0/bin/../libs/jetty-continuation-9.4.33.v20201020.jar:/content/kafka_2.13-2.7.0/bin/../libs/jetty-http-9.4.33.v20201020.jar:/content/kafka_2.13-2.7.0/bin/../libs/jetty-io-9.4.33.v20201020.jar:/content/kafka_2.13-2.7.0/bin/../libs/jetty-security-9.4.33.v20201020.jar:/content/kafka_2.13-2.7.0/bin/../libs/jetty-server-9.4.33.v20201020.jar:/content/kafka_2.13-2.7.0/bin/../libs/jetty-servlet-9.4.33.v20201020.jar:/content/kafka_2.13-2.7.0/bin/../libs/jetty-servlets-9.4.33.v20201020.jar:/content/kafka_2.13-2.7.0/bin/../libs/jetty-util-9.4.33.v20201020.jar:/content/kafka_2.13-2.7.0/bin/../libs/jopt-simple-5.0.4.jar:/content/kafka_2.13-2.7.0/bin/../libs/kafka_2.13-2.7.0.jar:/content/kafka_2.13-2.7.0/bin/../libs/kafka_2.13-2.7.0-sources.jar:/content/kafka_2.13-2.7.0/bin/../libs/kafka-clients-2.7.0.jar:/content/kafka_2.13-2.7.0/bin/../libs/kafka-log4j-appender-2.7.0.jar:/content/kafka_2.13-2.7.0/bin/../libs/kafka-raft-2.7.0.jar:/content/kafka_2.13-2.7.0/bin/../libs/kafka-streams-2.7.0.jar:/content/kafka_2.13-2.7.0/bin/../libs/kafka-streams-examples-2.7.0.jar:/content/kafka_2.13-2.7.0/bin/../libs/kafka-streams-scala_2.13-2.7.0.jar:/content/kafka_2.13-2.7.0/bin/../libs/kafka-streams-test-utils-2.7.0.jar:/content/kafka_2.13-2.7.0/bin/../libs/kafka-tools-2.7.0.jar:/content/kafka_2.13-2.7.0/bin/../libs/log4j-1.2.17.jar:/content/kafka_2.13-2.7.0/bin/../libs/lz4-java-1.7.1.jar:/content/kafka_2.13-2.7.0/bin/../libs/maven-artifact-3.6.3.jar:/content/kafka_2.13-2.7.0/bin/../libs/metrics-core-2.2.0.jar:/content/kafka_2.13-2.7.0/bin/../libs/netty-buffer-4.1.51.Final.jar:/content/kafka_2.13-2.7.0/bin/../libs/netty-codec-4.1.51.Final.jar:/content/kafka_2.13-2.7.0/bin/../libs/netty-common-4.1.51.Final.jar:/content/kafka_2.13-2.7.0/bin/../libs/netty-handler-4.1.51.Final.jar:/content/kafka_2.13-2.7.0/bin/../libs/netty-resolver-4.1.51.Final.jar:/content/kafka_2.13-2.7.0/bin/../libs/netty-transport-4.1.51.Final.jar:/content/kafka_2.13-2.7.0/bin/../libs/netty-transport-native-epoll-4.1.51.Final.jar:/content/kafka_2.13-2.7.0/bin/../libs/netty-transport-native-unix-common-4.1.51.Final.jar:/content/kafka_2.13-2.7.0/bin/../libs/osgi-resource-locator-1.0.3.jar:/content/kafka_2.13-2.7.0/bin/../libs/paranamer-2.8.jar:/content/kafka_2.13-2.7.0/bin/../libs/plexus-utils-3.2.1.jar:/content/kafka_2.13-2.7.0/bin/../libs/reflections-0.9.12.jar:/content/kafka_2.13-2.7.0/bin/../libs/rocksdbjni-5.18.4.jar:/content/kafka_2.13-2.7.0/bin/../libs/scala-collection-compat_2.13-2.2.0.jar:/content/kafka_2.13-2.7.0/bin/../libs/scala-java8-compat_2.13-0.9.1.jar:/content/kafka_2.13-2.7.0/bin/../libs/scala-library-2.13.3.jar:/content/kafka_2.13-2.7.0/bin/../libs/scala-logging_2.13-3.9.2.jar:/content/kafka_2.13-2.7.0/bin/../libs/scala-reflect-2.13.3.jar:/content/kafka_2.13-2.7.0/bin/../libs/slf4j-api-1.7.30.jar:/content/kafka_2.13-2.7.0/bin/../libs/slf4j-log4j12-1.7.30.jar:/content/kafka_2.13-2.7.0/bin/../libs/snappy-java-1.1.7.7.jar:/content/kafka_2.13-2.7.0/bin/../libs/zookeeper-3.5.8.jar:/content/kafka_2.13-2.7.0/bin/../libs/zookeeper-jute-3.5.8.jar:/content/kafka_2.13-2.7.0/bin/../libs/zstd-jni-1.4.5-6.jar org.apache.zookeeper.server.quorum.QuorumPeerMain ./kafka_2.13-2.7.0/config/zookeeper.properties\n",
            "root         809       1  0 16:41 ?        00:02:52 java -Xmx1G -Xms1G -server -XX:+UseG1GC -XX:MaxGCPauseMillis=20 -XX:InitiatingHeapOccupancyPercent=35 -XX:+ExplicitGCInvokesConcurrent -XX:MaxInlineLevel=15 -Djava.awt.headless=true -Xlog:gc*:file=/content/kafka_2.13-2.7.0/bin/../logs/kafkaServer-gc.log:time,tags:filecount=10,filesize=100M -Dcom.sun.management.jmxremote -Dcom.sun.management.jmxremote.authenticate=false -Dcom.sun.management.jmxremote.ssl=false -Dkafka.logs.dir=/content/kafka_2.13-2.7.0/bin/../logs -Dlog4j.configuration=file:./kafka_2.13-2.7.0/bin/../config/log4j.properties -cp /content/kafka_2.13-2.7.0/bin/../libs/activation-1.1.1.jar:/content/kafka_2.13-2.7.0/bin/../libs/aopalliance-repackaged-2.6.1.jar:/content/kafka_2.13-2.7.0/bin/../libs/argparse4j-0.7.0.jar:/content/kafka_2.13-2.7.0/bin/../libs/audience-annotations-0.5.0.jar:/content/kafka_2.13-2.7.0/bin/../libs/commons-cli-1.4.jar:/content/kafka_2.13-2.7.0/bin/../libs/commons-lang3-3.8.1.jar:/content/kafka_2.13-2.7.0/bin/../libs/connect-api-2.7.0.jar:/content/kafka_2.13-2.7.0/bin/../libs/connect-basic-auth-extension-2.7.0.jar:/content/kafka_2.13-2.7.0/bin/../libs/connect-file-2.7.0.jar:/content/kafka_2.13-2.7.0/bin/../libs/connect-json-2.7.0.jar:/content/kafka_2.13-2.7.0/bin/../libs/connect-mirror-2.7.0.jar:/content/kafka_2.13-2.7.0/bin/../libs/connect-mirror-client-2.7.0.jar:/content/kafka_2.13-2.7.0/bin/../libs/connect-runtime-2.7.0.jar:/content/kafka_2.13-2.7.0/bin/../libs/connect-transforms-2.7.0.jar:/content/kafka_2.13-2.7.0/bin/../libs/hk2-api-2.6.1.jar:/content/kafka_2.13-2.7.0/bin/../libs/hk2-locator-2.6.1.jar:/content/kafka_2.13-2.7.0/bin/../libs/hk2-utils-2.6.1.jar:/content/kafka_2.13-2.7.0/bin/../libs/jackson-annotations-2.10.5.jar:/content/kafka_2.13-2.7.0/bin/../libs/jackson-core-2.10.5.jar:/content/kafka_2.13-2.7.0/bin/../libs/jackson-databind-2.10.5.1.jar:/content/kafka_2.13-2.7.0/bin/../libs/jackson-dataformat-csv-2.10.5.jar:/content/kafka_2.13-2.7.0/bin/../libs/jackson-datatype-jdk8-2.10.5.jar:/content/kafka_2.13-2.7.0/bin/../libs/jackson-jaxrs-base-2.10.5.jar:/content/kafka_2.13-2.7.0/bin/../libs/jackson-jaxrs-json-provider-2.10.5.jar:/content/kafka_2.13-2.7.0/bin/../libs/jackson-module-jaxb-annotations-2.10.5.jar:/content/kafka_2.13-2.7.0/bin/../libs/jackson-module-paranamer-2.10.5.jar:/content/kafka_2.13-2.7.0/bin/../libs/jackson-module-scala_2.13-2.10.5.jar:/content/kafka_2.13-2.7.0/bin/../libs/jakarta.activation-api-1.2.1.jar:/content/kafka_2.13-2.7.0/bin/../libs/jakarta.annotation-api-1.3.5.jar:/content/kafka_2.13-2.7.0/bin/../libs/jakarta.inject-2.6.1.jar:/content/kafka_2.13-2.7.0/bin/../libs/jakarta.validation-api-2.0.2.jar:/content/kafka_2.13-2.7.0/bin/../libs/jakarta.ws.rs-api-2.1.6.jar:/content/kafka_2.13-2.7.0/bin/../libs/jakarta.xml.bind-api-2.3.2.jar:/content/kafka_2.13-2.7.0/bin/../libs/javassist-3.25.0-GA.jar:/content/kafka_2.13-2.7.0/bin/../libs/javassist-3.26.0-GA.jar:/content/kafka_2.13-2.7.0/bin/../libs/javax.servlet-api-3.1.0.jar:/content/kafka_2.13-2.7.0/bin/../libs/javax.ws.rs-api-2.1.1.jar:/content/kafka_2.13-2.7.0/bin/../libs/jaxb-api-2.3.0.jar:/content/kafka_2.13-2.7.0/bin/../libs/jersey-client-2.31.jar:/content/kafka_2.13-2.7.0/bin/../libs/jersey-common-2.31.jar:/content/kafka_2.13-2.7.0/bin/../libs/jersey-container-servlet-2.31.jar:/content/kafka_2.13-2.7.0/bin/../libs/jersey-container-servlet-core-2.31.jar:/content/kafka_2.13-2.7.0/bin/../libs/jersey-hk2-2.31.jar:/content/kafka_2.13-2.7.0/bin/../libs/jersey-media-jaxb-2.31.jar:/content/kafka_2.13-2.7.0/bin/../libs/jersey-server-2.31.jar:/content/kafka_2.13-2.7.0/bin/../libs/jetty-client-9.4.33.v20201020.jar:/content/kafka_2.13-2.7.0/bin/../libs/jetty-continuation-9.4.33.v20201020.jar:/content/kafka_2.13-2.7.0/bin/../libs/jetty-http-9.4.33.v20201020.jar:/content/kafka_2.13-2.7.0/bin/../libs/jetty-io-9.4.33.v20201020.jar:/content/kafka_2.13-2.7.0/bin/../libs/jetty-security-9.4.33.v20201020.jar:/content/kafka_2.13-2.7.0/bin/../libs/jetty-server-9.4.33.v20201020.jar:/content/kafka_2.13-2.7.0/bin/../libs/jetty-servlet-9.4.33.v20201020.jar:/content/kafka_2.13-2.7.0/bin/../libs/jetty-servlets-9.4.33.v20201020.jar:/content/kafka_2.13-2.7.0/bin/../libs/jetty-util-9.4.33.v20201020.jar:/content/kafka_2.13-2.7.0/bin/../libs/jopt-simple-5.0.4.jar:/content/kafka_2.13-2.7.0/bin/../libs/kafka_2.13-2.7.0.jar:/content/kafka_2.13-2.7.0/bin/../libs/kafka_2.13-2.7.0-sources.jar:/content/kafka_2.13-2.7.0/bin/../libs/kafka-clients-2.7.0.jar:/content/kafka_2.13-2.7.0/bin/../libs/kafka-log4j-appender-2.7.0.jar:/content/kafka_2.13-2.7.0/bin/../libs/kafka-raft-2.7.0.jar:/content/kafka_2.13-2.7.0/bin/../libs/kafka-streams-2.7.0.jar:/content/kafka_2.13-2.7.0/bin/../libs/kafka-streams-examples-2.7.0.jar:/content/kafka_2.13-2.7.0/bin/../libs/kafka-streams-scala_2.13-2.7.0.jar:/content/kafka_2.13-2.7.0/bin/../libs/kafka-streams-test-utils-2.7.0.jar:/content/kafka_2.13-2.7.0/bin/../libs/kafka-tools-2.7.0.jar:/content/kafka_2.13-2.7.0/bin/../libs/log4j-1.2.17.jar:/content/kafka_2.13-2.7.0/bin/../libs/lz4-java-1.7.1.jar:/content/kafka_2.13-2.7.0/bin/../libs/maven-artifact-3.6.3.jar:/content/kafka_2.13-2.7.0/bin/../libs/metrics-core-2.2.0.jar:/content/kafka_2.13-2.7.0/bin/../libs/netty-buffer-4.1.51.Final.jar:/content/kafka_2.13-2.7.0/bin/../libs/netty-codec-4.1.51.Final.jar:/content/kafka_2.13-2.7.0/bin/../libs/netty-common-4.1.51.Final.jar:/content/kafka_2.13-2.7.0/bin/../libs/netty-handler-4.1.51.Final.jar:/content/kafka_2.13-2.7.0/bin/../libs/netty-resolver-4.1.51.Final.jar:/content/kafka_2.13-2.7.0/bin/../libs/netty-transport-4.1.51.Final.jar:/content/kafka_2.13-2.7.0/bin/../libs/netty-transport-native-epoll-4.1.51.Final.jar:/content/kafka_2.13-2.7.0/bin/../libs/netty-transport-native-unix-common-4.1.51.Final.jar:/content/kafka_2.13-2.7.0/bin/../libs/osgi-resource-locator-1.0.3.jar:/content/kafka_2.13-2.7.0/bin/../libs/paranamer-2.8.jar:/content/kafka_2.13-2.7.0/bin/../libs/plexus-utils-3.2.1.jar:/content/kafka_2.13-2.7.0/bin/../libs/reflections-0.9.12.jar:/content/kafka_2.13-2.7.0/bin/../libs/rocksdbjni-5.18.4.jar:/content/kafka_2.13-2.7.0/bin/../libs/scala-collection-compat_2.13-2.2.0.jar:/content/kafka_2.13-2.7.0/bin/../libs/scala-java8-compat_2.13-0.9.1.jar:/content/kafka_2.13-2.7.0/bin/../libs/scala-library-2.13.3.jar:/content/kafka_2.13-2.7.0/bin/../libs/scala-logging_2.13-3.9.2.jar:/content/kafka_2.13-2.7.0/bin/../libs/scala-reflect-2.13.3.jar:/content/kafka_2.13-2.7.0/bin/../libs/slf4j-api-1.7.30.jar:/content/kafka_2.13-2.7.0/bin/../libs/slf4j-log4j12-1.7.30.jar:/content/kafka_2.13-2.7.0/bin/../libs/snappy-java-1.1.7.7.jar:/content/kafka_2.13-2.7.0/bin/../libs/zookeeper-3.5.8.jar:/content/kafka_2.13-2.7.0/bin/../libs/zookeeper-jute-3.5.8.jar:/content/kafka_2.13-2.7.0/bin/../libs/zstd-jni-1.4.5-6.jar kafka.Kafka ./kafka_2.13-2.7.0/config/server.properties\n",
            "root        8155      61  0 22:49 ?        00:00:00 /bin/bash -c ps -ef | grep kafka\n",
            "root        8157    8155  0 22:49 ?        00:00:00 grep kafka\n"
          ],
          "name": "stdout"
        }
      ]
    },
    {
      "cell_type": "code",
      "metadata": {
        "colab": {
          "base_uri": "https://localhost:8080/"
        },
        "id": "jlUaVMuH_b1f",
        "outputId": "0a018346-15bb-4647-eb31-08f419aaa939"
      },
      "source": [
        "!./kafka_2.13-2.7.0/bin/kafka-topics.sh --create --bootstrap-server 127.0.0.1:9092 --replication-factor 1 --partitions 3 --topic climatetweets\n",
        "!./kafka_2.13-2.7.0/bin/kafka-topics.sh --create --bootstrap-server 127.0.0.1:9092 --replication-factor 1 --partitions 3 --topic vaccinationstweets\n",
        "!./kafka_2.13-2.7.0/bin/kafka-topics.sh --create --bootstrap-server 127.0.0.1:9092 --replication-factor 1 --partitions 3 --topic covidtweets\n"
      ],
      "execution_count": null,
      "outputs": [
        {
          "output_type": "stream",
          "text": [
            "Created topic climatetweets.\n",
            "Created topic vaccinationstweets.\n",
            "Created topic covidtweets.\n"
          ],
          "name": "stdout"
        }
      ]
    },
    {
      "cell_type": "code",
      "metadata": {
        "colab": {
          "base_uri": "https://localhost:8080/"
        },
        "id": "liX9KnZJ_gr5",
        "outputId": "65aea02c-3d08-479b-bf92-f7eab3931ce5"
      },
      "source": [
        "!./kafka_2.13-2.7.0/bin/kafka-topics.sh --describe --bootstrap-server 127.0.0.1:9092 --topic climatetweets\n",
        "!./kafka_2.13-2.7.0/bin/kafka-topics.sh --describe --bootstrap-server 127.0.0.1:9092 --topic vaccinationstweets\n",
        "!./kafka_2.13-2.7.0/bin/kafka-topics.sh --describe --bootstrap-server 127.0.0.1:9092 --topic covidtweets"
      ],
      "execution_count": null,
      "outputs": [
        {
          "output_type": "stream",
          "text": [
            "Topic: climatetweets\tPartitionCount: 3\tReplicationFactor: 1\tConfigs: segment.bytes=1073741824\n",
            "\tTopic: climatetweets\tPartition: 0\tLeader: 0\tReplicas: 0\tIsr: 0\n",
            "\tTopic: climatetweets\tPartition: 1\tLeader: 0\tReplicas: 0\tIsr: 0\n",
            "\tTopic: climatetweets\tPartition: 2\tLeader: 0\tReplicas: 0\tIsr: 0\n",
            "Topic: vaccinationstweets\tPartitionCount: 3\tReplicationFactor: 1\tConfigs: segment.bytes=1073741824\n",
            "\tTopic: vaccinationstweets\tPartition: 0\tLeader: 0\tReplicas: 0\tIsr: 0\n",
            "\tTopic: vaccinationstweets\tPartition: 1\tLeader: 0\tReplicas: 0\tIsr: 0\n",
            "\tTopic: vaccinationstweets\tPartition: 2\tLeader: 0\tReplicas: 0\tIsr: 0\n",
            "Topic: covidtweets\tPartitionCount: 3\tReplicationFactor: 1\tConfigs: segment.bytes=1073741824\n",
            "\tTopic: covidtweets\tPartition: 0\tLeader: 0\tReplicas: 0\tIsr: 0\n",
            "\tTopic: covidtweets\tPartition: 1\tLeader: 0\tReplicas: 0\tIsr: 0\n",
            "\tTopic: covidtweets\tPartition: 2\tLeader: 0\tReplicas: 0\tIsr: 0\n"
          ],
          "name": "stdout"
        }
      ]
    },
    {
      "cell_type": "markdown",
      "metadata": {
        "id": "w8FXLllw_-wc"
      },
      "source": [
        "### Import Packages and Connect"
      ]
    },
    {
      "cell_type": "code",
      "metadata": {
        "id": "tj6y3YU1-nEp"
      },
      "source": [
        "from tweepy.streaming import StreamListener\n",
        "from tweepy import OAuthHandler\n",
        "from tweepy import Stream\n",
        "from kafka import KafkaConsumer, KafkaProducer\n",
        "import json\n",
        "import time\n",
        "import os\n",
        "import re\n",
        "from elasticsearch_dsl import Search\n",
        "import pandas as pd\n",
        "import nltk\n",
        "from nltk.stem import PorterStemmer\n",
        "from nltk.corpus import stopwords\n",
        "from sklearn.feature_extraction.text import CountVectorizer, TfidfVectorizer "
      ],
      "execution_count": null,
      "outputs": []
    },
    {
      "cell_type": "code",
      "metadata": {
        "id": "MiXiulcB-nEw"
      },
      "source": [
        "ACCESS_TOKEN = ''\n",
        "ACCESS_SECRET = ''\n",
        "CONSUMER_KEY = ''\n",
        "CONSUMER_SECRET = ''"
      ],
      "execution_count": null,
      "outputs": []
    },
    {
      "cell_type": "code",
      "metadata": {
        "id": "zvMeKckh-nEw",
        "colab": {
          "base_uri": "https://localhost:8080/"
        },
        "outputId": "bf5a44fe-93bd-40f3-bcc4-9f706449e3b2"
      },
      "source": [
        "kafka_producer = KafkaProducer(bootstrap_servers='localhost:9092')"
      ],
      "execution_count": null,
      "outputs": [
        {
          "output_type": "stream",
          "text": [
            "INFO:kafka.conn:<BrokerConnection node_id=bootstrap-0 host=localhost:9092 <connecting> [IPv4 ('127.0.0.1', 9092)]>: connecting to localhost:9092 [('127.0.0.1', 9092) IPv4]\n",
            "INFO:kafka.conn:Probing node bootstrap-0 broker version\n",
            "INFO:kafka.conn:<BrokerConnection node_id=bootstrap-0 host=localhost:9092 <connecting> [IPv4 ('127.0.0.1', 9092)]>: Connection complete.\n",
            "INFO:kafka.conn:Broker version identified as 2.5.0\n",
            "INFO:kafka.conn:Set configuration api_version=(2, 5, 0) to skip auto check_version requests on startup\n",
            "INFO:kafka.conn:<BrokerConnection node_id=bootstrap-0 host=localhost:9092 <connected> [IPv4 ('127.0.0.1', 9092)]>: Closing connection. \n"
          ],
          "name": "stderr"
        }
      ]
    },
    {
      "cell_type": "markdown",
      "metadata": {
        "id": "5RM9xmKS05jZ"
      },
      "source": [
        "### Climate tweets\n"
      ]
    },
    {
      "cell_type": "code",
      "metadata": {
        "scrolled": true,
        "id": "1WytUqoY-nEx"
      },
      "source": [
        "count = 0\n",
        "class StdOutListener(StreamListener):\n",
        "    def on_data(self, data):\n",
        "        data_json = json.loads(data)\n",
        "        #print(data_json.keys())\n",
        "        global count\n",
        "        print(count)\n",
        "        if data_json['user']['followers_count'] > 1000 and count <= 800:\n",
        "            count = count + 1\n",
        "            kafka_producer.send(\"climatetweets\", data.encode('utf-8')).get(timeout=3)\n",
        "            #print(data)\n",
        "        if count > 800:\n",
        "          return False\n",
        "        return True\n",
        "\n",
        "    def on_error(self, status):\n",
        "        print(status)\n",
        "\n",
        "\n",
        "def kafka_run():\n",
        "    l = StdOutListener()\n",
        "    auth = OAuthHandler(CONSUMER_KEY, CONSUMER_SECRET)\n",
        "    auth.set_access_token(ACCESS_TOKEN, ACCESS_SECRET)\n",
        "    stream = Stream(auth, l)\n",
        "    stream.filter(track=[\"climate change\", \"climate\", \"global warming\", \"gas\", \"oil\", \"sea level\", \"glaciers\", \"renewable energy\", \"CO2\", \"methane\", \"ozone\", \"greenhouse\", \"environment\", \"fossil fuel\", \"green new deal\"], languages=[\"en\"])\n",
        "\n",
        "# Press the green button in the gutter to run the script.\n",
        "if __name__ == '__main__':\n",
        "    kafka_run()"
      ],
      "execution_count": null,
      "outputs": []
    },
    {
      "cell_type": "markdown",
      "metadata": {
        "id": "0No_uWbjHRrJ"
      },
      "source": [
        "### Vaccination tweets"
      ]
    },
    {
      "cell_type": "code",
      "metadata": {
        "id": "IDKKhSI-HHkk",
        "colab": {
          "base_uri": "https://localhost:8080/"
        },
        "outputId": "2dd23f9c-7ead-4a7a-bf0a-9b2e1679d642"
      },
      "source": [
        "count1 = 0\n",
        "class StdOutListener(StreamListener):\n",
        "    def on_data(self, data):\n",
        "        data_json = json.loads(data)\n",
        "        #print(data_json.keys())\n",
        "        global count1\n",
        "        print(count1)\n",
        "        if data_json['user']['followers_count'] > 1000 and count1 <= 800:\n",
        "            count1 = count1 + 1\n",
        "            kafka_producer.send(\"vaccinationstweets\", data.encode('utf-8')).get(timeout=3)\n",
        "            #print(data)\n",
        "        if count1 > 800:\n",
        "          return False\n",
        "        return True\n",
        "\n",
        "    def on_error(self, status):\n",
        "        print(status)\n",
        "\n",
        "\n",
        "def kafka_run():\n",
        "    l = StdOutListener()\n",
        "    auth = OAuthHandler(CONSUMER_KEY, CONSUMER_SECRET)\n",
        "    auth.set_access_token(ACCESS_TOKEN, ACCESS_SECRET)\n",
        "    stream = Stream(auth, l)\n",
        "    stream.filter(track=[\"vaccinations\", \"vaccine\", \"cdc\", \"immunization\", \"herd immunity\", \"vaccinated\"], languages=[\"en\"])\n",
        "\n",
        "# Press the green button in the gutter to run the script.\n",
        "if __name__ == '__main__':\n",
        "    kafka_run()"
      ],
      "execution_count": null,
      "outputs": [
        {
          "output_type": "stream",
          "text": [
            "0\n",
            "0\n",
            "1\n",
            "1\n",
            "1\n",
            "2\n",
            "2\n",
            "2\n",
            "2\n",
            "2\n",
            "2\n",
            "2\n",
            "3\n",
            "3\n",
            "3\n",
            "3\n",
            "3\n",
            "4\n",
            "5\n",
            "5\n",
            "6\n",
            "6\n",
            "6\n",
            "7\n",
            "7\n",
            "8\n",
            "8\n",
            "8\n",
            "8\n",
            "8\n",
            "8\n",
            "9\n",
            "10\n",
            "10\n",
            "10\n",
            "11\n",
            "11\n",
            "11\n",
            "11\n",
            "11\n",
            "12\n",
            "13\n",
            "14\n",
            "14\n",
            "15\n",
            "15\n",
            "15\n",
            "15\n",
            "15\n",
            "15\n",
            "15\n",
            "15\n",
            "16\n",
            "17\n",
            "18\n",
            "19\n",
            "19\n",
            "19\n",
            "20\n",
            "20\n",
            "20\n",
            "20\n",
            "20\n",
            "20\n",
            "20\n",
            "20\n",
            "21\n",
            "21\n",
            "21\n",
            "21\n",
            "21\n",
            "21\n",
            "22\n",
            "22\n",
            "22\n",
            "22\n",
            "22\n",
            "23\n",
            "23\n",
            "23\n",
            "23\n",
            "24\n",
            "25\n",
            "25\n",
            "26\n",
            "27\n",
            "28\n",
            "28\n",
            "28\n",
            "28\n",
            "28\n",
            "29\n",
            "30\n",
            "30\n",
            "30\n",
            "31\n",
            "32\n",
            "33\n",
            "34\n",
            "35\n",
            "35\n",
            "36\n",
            "36\n",
            "36\n",
            "36\n",
            "36\n",
            "37\n",
            "37\n",
            "37\n",
            "37\n",
            "37\n",
            "37\n",
            "37\n",
            "37\n",
            "37\n",
            "38\n",
            "38\n",
            "38\n",
            "39\n",
            "39\n",
            "40\n",
            "40\n",
            "41\n",
            "42\n",
            "42\n",
            "42\n",
            "42\n",
            "42\n",
            "43\n",
            "43\n",
            "44\n",
            "44\n",
            "45\n",
            "45\n",
            "45\n",
            "46\n",
            "47\n",
            "48\n",
            "49\n",
            "49\n",
            "50\n",
            "50\n",
            "51\n",
            "51\n",
            "51\n",
            "52\n",
            "53\n",
            "53\n",
            "54\n",
            "55\n",
            "55\n",
            "55\n",
            "55\n",
            "55\n",
            "55\n",
            "55\n",
            "56\n",
            "56\n",
            "56\n",
            "56\n",
            "56\n",
            "57\n",
            "57\n",
            "58\n",
            "58\n",
            "58\n",
            "59\n",
            "59\n",
            "59\n",
            "59\n",
            "59\n",
            "59\n",
            "60\n",
            "60\n",
            "60\n",
            "60\n",
            "60\n",
            "60\n",
            "60\n",
            "60\n",
            "61\n",
            "62\n",
            "62\n",
            "62\n",
            "62\n",
            "63\n",
            "63\n",
            "63\n",
            "63\n",
            "63\n",
            "63\n",
            "63\n",
            "64\n",
            "65\n",
            "65\n",
            "65\n",
            "65\n",
            "65\n",
            "66\n",
            "67\n",
            "67\n",
            "67\n",
            "68\n",
            "68\n",
            "68\n",
            "69\n",
            "69\n",
            "69\n",
            "70\n",
            "70\n",
            "70\n",
            "70\n",
            "70\n",
            "70\n",
            "70\n",
            "71\n",
            "71\n",
            "71\n",
            "72\n",
            "73\n",
            "73\n",
            "73\n",
            "74\n",
            "74\n",
            "74\n",
            "75\n",
            "75\n",
            "76\n",
            "76\n",
            "76\n",
            "76\n",
            "76\n",
            "76\n",
            "76\n",
            "76\n",
            "76\n",
            "77\n",
            "78\n",
            "78\n",
            "79\n",
            "80\n",
            "80\n",
            "80\n",
            "81\n",
            "81\n",
            "82\n",
            "82\n",
            "82\n",
            "82\n",
            "82\n",
            "83\n",
            "84\n",
            "84\n",
            "84\n",
            "85\n",
            "85\n",
            "85\n",
            "85\n",
            "86\n",
            "86\n",
            "86\n",
            "87\n",
            "87\n",
            "87\n",
            "87\n",
            "87\n",
            "88\n",
            "88\n",
            "88\n",
            "88\n",
            "89\n",
            "89\n",
            "89\n",
            "89\n",
            "90\n",
            "90\n",
            "90\n",
            "90\n",
            "90\n",
            "90\n",
            "91\n",
            "92\n",
            "93\n",
            "93\n",
            "93\n",
            "93\n",
            "93\n",
            "93\n",
            "93\n",
            "93\n",
            "94\n",
            "94\n",
            "94\n",
            "94\n",
            "94\n",
            "95\n",
            "95\n",
            "95\n",
            "95\n",
            "95\n",
            "96\n",
            "97\n",
            "97\n",
            "97\n",
            "98\n",
            "98\n",
            "99\n",
            "99\n",
            "99\n",
            "99\n",
            "99\n",
            "99\n",
            "100\n",
            "100\n",
            "100\n",
            "100\n",
            "100\n",
            "101\n",
            "102\n",
            "102\n",
            "102\n",
            "103\n",
            "103\n",
            "104\n",
            "104\n",
            "105\n",
            "105\n",
            "106\n",
            "106\n",
            "106\n",
            "107\n",
            "108\n",
            "109\n",
            "109\n",
            "110\n",
            "110\n",
            "111\n",
            "111\n",
            "111\n",
            "111\n",
            "111\n",
            "111\n",
            "111\n",
            "111\n",
            "111\n",
            "111\n",
            "111\n",
            "111\n",
            "111\n",
            "111\n",
            "111\n",
            "111\n",
            "112\n",
            "113\n",
            "113\n",
            "113\n",
            "113\n",
            "114\n",
            "114\n",
            "114\n",
            "114\n",
            "114\n",
            "114\n",
            "114\n",
            "115\n",
            "115\n",
            "115\n",
            "116\n",
            "116\n",
            "116\n",
            "116\n",
            "116\n",
            "116\n",
            "116\n",
            "116\n",
            "116\n",
            "116\n",
            "117\n",
            "117\n",
            "117\n",
            "117\n",
            "117\n",
            "117\n",
            "117\n",
            "118\n",
            "118\n",
            "119\n",
            "119\n",
            "120\n",
            "120\n",
            "120\n",
            "120\n",
            "120\n",
            "120\n",
            "120\n",
            "121\n",
            "122\n",
            "122\n",
            "122\n",
            "123\n",
            "123\n",
            "123\n",
            "124\n",
            "125\n",
            "125\n",
            "126\n",
            "127\n",
            "127\n",
            "128\n",
            "128\n",
            "129\n",
            "129\n",
            "130\n",
            "130\n",
            "130\n",
            "130\n",
            "130\n",
            "130\n",
            "130\n",
            "130\n",
            "130\n",
            "130\n",
            "130\n",
            "131\n",
            "131\n",
            "131\n",
            "132\n",
            "132\n",
            "132\n",
            "132\n",
            "133\n",
            "133\n",
            "133\n",
            "133\n",
            "133\n",
            "134\n",
            "134\n",
            "134\n",
            "134\n",
            "134\n",
            "134\n",
            "134\n",
            "134\n",
            "134\n",
            "134\n",
            "135\n",
            "136\n",
            "137\n",
            "137\n",
            "138\n",
            "138\n",
            "138\n",
            "138\n",
            "139\n",
            "140\n",
            "140\n",
            "140\n",
            "141\n",
            "141\n",
            "141\n",
            "141\n",
            "142\n",
            "143\n",
            "144\n",
            "144\n",
            "144\n",
            "145\n",
            "145\n",
            "146\n",
            "146\n",
            "146\n",
            "146\n",
            "146\n",
            "146\n",
            "147\n",
            "148\n",
            "148\n",
            "149\n",
            "149\n",
            "150\n",
            "150\n",
            "151\n",
            "151\n",
            "152\n",
            "153\n",
            "154\n",
            "154\n",
            "154\n",
            "155\n",
            "155\n",
            "155\n",
            "155\n",
            "156\n",
            "156\n",
            "156\n",
            "156\n",
            "157\n",
            "157\n",
            "157\n",
            "158\n",
            "158\n",
            "158\n",
            "158\n",
            "158\n",
            "158\n",
            "158\n",
            "158\n",
            "158\n",
            "158\n",
            "159\n",
            "160\n",
            "160\n",
            "161\n",
            "162\n",
            "163\n",
            "164\n",
            "164\n",
            "164\n",
            "164\n",
            "164\n",
            "165\n",
            "166\n",
            "166\n",
            "166\n",
            "167\n",
            "167\n",
            "168\n",
            "168\n",
            "168\n",
            "169\n",
            "169\n",
            "169\n",
            "169\n",
            "169\n",
            "169\n",
            "169\n",
            "169\n",
            "170\n",
            "171\n",
            "171\n",
            "171\n",
            "171\n",
            "171\n",
            "171\n",
            "171\n",
            "171\n",
            "171\n",
            "171\n",
            "171\n",
            "171\n",
            "171\n",
            "172\n",
            "172\n",
            "172\n",
            "172\n",
            "172\n",
            "172\n",
            "172\n",
            "172\n",
            "172\n",
            "172\n",
            "172\n",
            "173\n",
            "173\n",
            "173\n",
            "173\n",
            "173\n",
            "173\n",
            "173\n",
            "174\n",
            "175\n",
            "175\n",
            "175\n",
            "176\n",
            "176\n",
            "176\n",
            "176\n",
            "177\n",
            "178\n",
            "178\n",
            "178\n",
            "178\n",
            "178\n",
            "178\n",
            "178\n",
            "178\n",
            "179\n",
            "179\n",
            "179\n",
            "179\n",
            "179\n",
            "180\n",
            "180\n",
            "180\n",
            "181\n",
            "182\n",
            "182\n",
            "182\n",
            "182\n",
            "183\n",
            "183\n",
            "183\n",
            "183\n",
            "183\n",
            "184\n",
            "184\n",
            "184\n",
            "185\n",
            "185\n",
            "185\n",
            "185\n",
            "185\n",
            "185\n",
            "185\n",
            "185\n",
            "185\n",
            "185\n",
            "185\n",
            "186\n",
            "186\n",
            "186\n",
            "187\n",
            "187\n",
            "188\n",
            "188\n",
            "188\n",
            "188\n",
            "188\n",
            "188\n",
            "189\n",
            "189\n",
            "190\n",
            "190\n",
            "191\n",
            "191\n",
            "191\n",
            "191\n",
            "191\n",
            "191\n",
            "192\n",
            "192\n",
            "192\n",
            "193\n",
            "193\n",
            "193\n",
            "193\n",
            "193\n",
            "193\n",
            "193\n",
            "193\n",
            "193\n",
            "193\n",
            "193\n",
            "194\n",
            "194\n",
            "194\n",
            "194\n",
            "194\n",
            "194\n",
            "194\n",
            "195\n",
            "196\n",
            "197\n",
            "197\n",
            "197\n",
            "198\n",
            "198\n",
            "199\n",
            "199\n",
            "199\n",
            "199\n",
            "199\n",
            "199\n",
            "199\n",
            "199\n",
            "200\n",
            "200\n",
            "201\n",
            "201\n",
            "201\n",
            "201\n",
            "202\n",
            "203\n",
            "203\n",
            "204\n",
            "204\n",
            "204\n",
            "205\n",
            "205\n",
            "206\n",
            "206\n",
            "207\n",
            "208\n",
            "208\n",
            "208\n",
            "209\n",
            "209\n",
            "210\n",
            "210\n",
            "210\n",
            "210\n",
            "210\n",
            "210\n",
            "210\n",
            "210\n",
            "210\n",
            "211\n",
            "211\n",
            "211\n",
            "211\n",
            "211\n",
            "212\n",
            "213\n",
            "213\n",
            "213\n",
            "213\n",
            "214\n",
            "214\n",
            "215\n",
            "215\n",
            "215\n",
            "215\n",
            "215\n",
            "215\n",
            "216\n",
            "216\n",
            "216\n",
            "217\n",
            "217\n",
            "217\n",
            "217\n",
            "217\n",
            "217\n",
            "217\n",
            "217\n",
            "217\n",
            "218\n",
            "218\n",
            "219\n",
            "219\n",
            "219\n",
            "220\n",
            "220\n",
            "220\n",
            "220\n",
            "221\n",
            "222\n",
            "222\n",
            "222\n",
            "222\n",
            "223\n",
            "223\n",
            "223\n",
            "223\n",
            "224\n",
            "225\n",
            "226\n",
            "226\n",
            "226\n",
            "226\n",
            "227\n",
            "228\n",
            "228\n",
            "228\n",
            "229\n",
            "230\n",
            "230\n",
            "231\n",
            "231\n",
            "232\n",
            "233\n",
            "233\n",
            "234\n",
            "234\n",
            "234\n",
            "234\n",
            "234\n",
            "234\n",
            "235\n",
            "236\n",
            "236\n",
            "236\n",
            "237\n",
            "237\n",
            "237\n",
            "237\n",
            "237\n",
            "237\n",
            "237\n",
            "237\n",
            "237\n",
            "237\n",
            "237\n",
            "237\n",
            "237\n",
            "238\n",
            "238\n",
            "238\n",
            "239\n",
            "239\n",
            "239\n",
            "240\n",
            "240\n",
            "240\n",
            "241\n",
            "242\n",
            "243\n",
            "244\n",
            "245\n",
            "245\n",
            "245\n",
            "245\n",
            "245\n",
            "245\n",
            "246\n",
            "247\n",
            "248\n",
            "249\n",
            "250\n",
            "250\n",
            "250\n",
            "250\n",
            "250\n",
            "250\n",
            "250\n",
            "250\n",
            "250\n",
            "250\n",
            "250\n",
            "250\n",
            "251\n",
            "251\n",
            "251\n",
            "251\n",
            "251\n",
            "252\n",
            "252\n",
            "252\n",
            "252\n",
            "253\n",
            "254\n",
            "255\n",
            "256\n",
            "257\n",
            "257\n",
            "258\n",
            "258\n",
            "258\n",
            "259\n",
            "259\n",
            "259\n",
            "259\n",
            "260\n",
            "260\n",
            "260\n",
            "260\n",
            "261\n",
            "262\n",
            "263\n",
            "263\n",
            "263\n",
            "263\n",
            "263\n",
            "264\n",
            "264\n",
            "264\n",
            "264\n",
            "264\n",
            "265\n",
            "265\n",
            "265\n",
            "266\n",
            "266\n",
            "266\n",
            "266\n",
            "266\n",
            "266\n",
            "267\n",
            "268\n",
            "268\n",
            "269\n",
            "269\n",
            "269\n",
            "270\n",
            "271\n",
            "271\n",
            "271\n",
            "271\n",
            "271\n",
            "271\n",
            "271\n",
            "271\n",
            "271\n",
            "271\n",
            "271\n",
            "271\n",
            "271\n",
            "271\n",
            "272\n",
            "273\n",
            "273\n",
            "273\n",
            "273\n",
            "273\n",
            "274\n",
            "274\n",
            "274\n",
            "274\n",
            "274\n",
            "274\n",
            "274\n",
            "274\n",
            "274\n",
            "274\n",
            "275\n",
            "275\n",
            "276\n",
            "276\n",
            "277\n",
            "278\n",
            "278\n",
            "278\n",
            "278\n",
            "278\n",
            "279\n",
            "280\n",
            "280\n",
            "280\n",
            "280\n",
            "280\n",
            "280\n",
            "280\n",
            "280\n",
            "280\n",
            "280\n",
            "280\n",
            "280\n",
            "281\n",
            "281\n",
            "281\n",
            "281\n",
            "281\n",
            "281\n",
            "281\n",
            "282\n",
            "282\n",
            "282\n",
            "283\n",
            "284\n",
            "284\n",
            "284\n",
            "285\n",
            "285\n",
            "285\n",
            "286\n",
            "286\n",
            "286\n",
            "287\n",
            "287\n",
            "287\n",
            "287\n",
            "288\n",
            "288\n",
            "289\n",
            "289\n",
            "289\n",
            "289\n",
            "289\n",
            "290\n",
            "290\n",
            "290\n",
            "290\n",
            "291\n",
            "291\n",
            "292\n",
            "293\n",
            "293\n",
            "293\n",
            "293\n",
            "293\n",
            "293\n",
            "293\n",
            "293\n",
            "293\n",
            "294\n",
            "294\n",
            "294\n",
            "294\n",
            "294\n",
            "295\n",
            "295\n",
            "296\n",
            "296\n",
            "297\n",
            "297\n",
            "298\n",
            "298\n",
            "298\n",
            "298\n",
            "298\n",
            "298\n",
            "298\n",
            "298\n",
            "299\n",
            "300\n",
            "301\n",
            "302\n",
            "302\n",
            "302\n",
            "302\n",
            "302\n",
            "302\n",
            "303\n",
            "303\n",
            "303\n",
            "304\n",
            "304\n",
            "304\n",
            "304\n",
            "304\n",
            "304\n",
            "305\n",
            "305\n",
            "306\n",
            "306\n",
            "306\n",
            "306\n",
            "306\n",
            "306\n",
            "307\n",
            "308\n",
            "309\n",
            "310\n",
            "311\n",
            "311\n",
            "312\n",
            "312\n",
            "312\n",
            "312\n",
            "313\n",
            "313\n",
            "313\n",
            "313\n",
            "313\n",
            "313\n",
            "313\n",
            "314\n",
            "315\n",
            "315\n",
            "316\n",
            "316\n",
            "317\n",
            "317\n",
            "317\n",
            "317\n",
            "317\n",
            "317\n",
            "318\n",
            "318\n",
            "318\n",
            "318\n",
            "319\n",
            "319\n",
            "319\n",
            "319\n",
            "320\n",
            "320\n",
            "321\n",
            "321\n",
            "321\n",
            "322\n",
            "323\n",
            "323\n",
            "324\n",
            "325\n",
            "326\n",
            "327\n",
            "327\n",
            "327\n",
            "327\n",
            "327\n",
            "328\n",
            "328\n",
            "328\n",
            "329\n",
            "330\n",
            "330\n",
            "331\n",
            "332\n",
            "332\n",
            "332\n",
            "332\n",
            "332\n",
            "333\n",
            "333\n",
            "333\n",
            "334\n",
            "334\n",
            "335\n",
            "335\n",
            "335\n",
            "335\n",
            "335\n",
            "335\n",
            "335\n",
            "335\n",
            "335\n",
            "335\n",
            "335\n",
            "336\n",
            "336\n",
            "336\n",
            "336\n",
            "336\n",
            "336\n",
            "337\n",
            "337\n",
            "337\n",
            "338\n",
            "339\n",
            "339\n",
            "339\n",
            "339\n",
            "339\n",
            "340\n",
            "340\n",
            "341\n",
            "341\n",
            "341\n",
            "342\n",
            "342\n",
            "342\n",
            "343\n",
            "343\n",
            "343\n",
            "343\n",
            "343\n",
            "344\n",
            "344\n",
            "345\n",
            "345\n",
            "346\n",
            "346\n",
            "347\n",
            "348\n",
            "349\n",
            "350\n",
            "350\n",
            "351\n",
            "351\n",
            "351\n",
            "352\n",
            "353\n",
            "353\n",
            "354\n",
            "354\n",
            "354\n",
            "354\n",
            "354\n",
            "355\n",
            "355\n",
            "355\n",
            "355\n",
            "355\n",
            "356\n",
            "356\n",
            "357\n",
            "357\n",
            "358\n",
            "358\n",
            "358\n",
            "358\n",
            "358\n",
            "358\n",
            "358\n",
            "358\n",
            "358\n",
            "359\n",
            "359\n",
            "360\n",
            "361\n",
            "361\n",
            "361\n",
            "362\n",
            "363\n",
            "363\n",
            "363\n",
            "363\n",
            "363\n",
            "363\n",
            "363\n",
            "364\n",
            "364\n",
            "364\n",
            "365\n",
            "365\n",
            "365\n",
            "365\n",
            "365\n",
            "365\n",
            "366\n",
            "367\n",
            "367\n",
            "367\n",
            "367\n",
            "367\n",
            "367\n",
            "368\n",
            "368\n",
            "368\n",
            "369\n",
            "369\n",
            "370\n",
            "370\n",
            "371\n",
            "371\n",
            "371\n",
            "371\n",
            "371\n",
            "372\n",
            "372\n",
            "372\n",
            "372\n",
            "373\n",
            "374\n",
            "375\n",
            "376\n",
            "377\n",
            "377\n",
            "377\n",
            "377\n",
            "378\n",
            "379\n",
            "380\n",
            "381\n",
            "381\n",
            "382\n",
            "382\n",
            "383\n",
            "383\n",
            "383\n",
            "383\n",
            "383\n",
            "383\n",
            "383\n",
            "384\n",
            "384\n",
            "384\n",
            "384\n",
            "384\n",
            "384\n",
            "384\n",
            "384\n",
            "384\n",
            "385\n",
            "385\n",
            "386\n",
            "386\n",
            "386\n",
            "386\n",
            "386\n",
            "387\n",
            "387\n",
            "387\n",
            "388\n",
            "388\n",
            "388\n",
            "388\n",
            "389\n",
            "389\n",
            "389\n",
            "390\n",
            "391\n",
            "391\n",
            "391\n",
            "391\n",
            "391\n",
            "392\n",
            "392\n",
            "392\n",
            "392\n",
            "392\n",
            "392\n",
            "392\n",
            "393\n",
            "394\n",
            "394\n",
            "394\n",
            "395\n",
            "395\n",
            "396\n",
            "396\n",
            "397\n",
            "397\n",
            "398\n",
            "398\n",
            "398\n",
            "399\n",
            "399\n",
            "399\n",
            "399\n",
            "400\n",
            "401\n",
            "401\n",
            "401\n",
            "401\n",
            "402\n",
            "402\n",
            "402\n",
            "402\n",
            "402\n",
            "403\n",
            "404\n",
            "405\n",
            "405\n",
            "405\n",
            "405\n",
            "406\n",
            "406\n",
            "406\n",
            "406\n",
            "407\n",
            "407\n",
            "407\n",
            "407\n",
            "407\n",
            "408\n",
            "409\n",
            "410\n",
            "410\n",
            "410\n",
            "410\n",
            "410\n",
            "411\n",
            "411\n",
            "411\n",
            "412\n",
            "413\n",
            "413\n",
            "414\n",
            "414\n",
            "414\n",
            "414\n",
            "414\n",
            "414\n",
            "415\n",
            "416\n",
            "417\n",
            "417\n",
            "417\n",
            "417\n",
            "417\n",
            "417\n",
            "418\n",
            "418\n",
            "418\n",
            "418\n",
            "418\n",
            "418\n",
            "418\n",
            "419\n",
            "419\n",
            "419\n",
            "420\n",
            "421\n",
            "422\n",
            "423\n",
            "423\n",
            "423\n",
            "424\n",
            "425\n",
            "426\n",
            "427\n",
            "427\n",
            "427\n",
            "428\n",
            "428\n",
            "428\n",
            "429\n",
            "430\n",
            "430\n",
            "430\n",
            "430\n",
            "430\n",
            "430\n",
            "430\n",
            "430\n",
            "431\n",
            "431\n",
            "431\n",
            "432\n",
            "432\n",
            "433\n",
            "433\n",
            "434\n",
            "434\n",
            "434\n",
            "434\n",
            "434\n",
            "434\n",
            "434\n",
            "434\n",
            "434\n",
            "434\n",
            "434\n",
            "434\n",
            "435\n",
            "435\n",
            "436\n",
            "436\n",
            "436\n",
            "436\n",
            "436\n",
            "436\n",
            "436\n",
            "436\n",
            "437\n",
            "437\n",
            "437\n",
            "437\n",
            "437\n",
            "437\n",
            "438\n",
            "438\n",
            "438\n",
            "439\n",
            "439\n",
            "439\n",
            "440\n",
            "441\n",
            "441\n",
            "441\n",
            "442\n",
            "442\n",
            "443\n",
            "443\n",
            "443\n",
            "444\n",
            "444\n",
            "444\n",
            "444\n",
            "444\n",
            "444\n",
            "444\n",
            "444\n",
            "445\n",
            "445\n",
            "445\n",
            "445\n",
            "445\n",
            "446\n",
            "446\n",
            "446\n",
            "447\n",
            "448\n",
            "449\n",
            "449\n",
            "449\n",
            "449\n",
            "450\n",
            "450\n",
            "451\n",
            "452\n",
            "453\n",
            "453\n",
            "453\n",
            "453\n",
            "453\n",
            "453\n",
            "453\n",
            "453\n",
            "454\n",
            "454\n",
            "455\n",
            "455\n",
            "455\n",
            "455\n",
            "455\n",
            "456\n",
            "457\n",
            "457\n",
            "457\n",
            "457\n",
            "457\n",
            "457\n",
            "458\n",
            "459\n",
            "459\n",
            "459\n",
            "459\n",
            "459\n",
            "459\n",
            "460\n",
            "461\n",
            "461\n",
            "462\n",
            "463\n",
            "463\n",
            "464\n",
            "464\n",
            "464\n",
            "465\n",
            "465\n",
            "466\n",
            "466\n",
            "466\n",
            "466\n",
            "466\n",
            "467\n",
            "467\n",
            "467\n",
            "467\n",
            "467\n",
            "467\n",
            "468\n",
            "468\n",
            "468\n",
            "468\n",
            "469\n",
            "469\n",
            "469\n",
            "470\n",
            "470\n",
            "471\n",
            "472\n",
            "472\n",
            "472\n",
            "473\n",
            "473\n",
            "473\n",
            "473\n",
            "474\n",
            "475\n",
            "475\n",
            "476\n",
            "476\n",
            "476\n",
            "476\n",
            "476\n",
            "477\n",
            "478\n",
            "478\n",
            "479\n",
            "479\n",
            "480\n",
            "480\n",
            "481\n",
            "481\n",
            "481\n",
            "481\n",
            "482\n",
            "482\n",
            "482\n",
            "482\n",
            "483\n",
            "483\n",
            "483\n",
            "483\n",
            "483\n",
            "483\n",
            "483\n",
            "483\n",
            "483\n",
            "483\n",
            "483\n",
            "483\n",
            "483\n",
            "483\n",
            "483\n",
            "484\n",
            "484\n",
            "484\n",
            "484\n",
            "484\n",
            "485\n",
            "485\n",
            "485\n",
            "485\n",
            "485\n",
            "485\n",
            "486\n",
            "486\n",
            "486\n",
            "486\n",
            "487\n",
            "487\n",
            "487\n",
            "487\n",
            "488\n",
            "488\n",
            "488\n",
            "488\n",
            "489\n",
            "489\n",
            "489\n",
            "489\n",
            "489\n",
            "490\n",
            "491\n",
            "491\n",
            "492\n",
            "492\n",
            "493\n",
            "493\n",
            "493\n",
            "494\n",
            "494\n",
            "494\n",
            "495\n",
            "495\n",
            "496\n",
            "497\n",
            "497\n",
            "497\n",
            "498\n",
            "498\n",
            "498\n",
            "498\n",
            "498\n",
            "498\n",
            "499\n",
            "499\n",
            "500\n",
            "501\n",
            "502\n",
            "502\n",
            "503\n",
            "503\n",
            "503\n",
            "504\n",
            "504\n",
            "505\n",
            "505\n",
            "506\n",
            "506\n",
            "507\n",
            "507\n",
            "507\n",
            "507\n",
            "507\n",
            "508\n",
            "508\n",
            "508\n",
            "508\n",
            "508\n",
            "508\n",
            "509\n",
            "509\n",
            "509\n",
            "510\n",
            "511\n",
            "512\n",
            "512\n",
            "512\n",
            "513\n",
            "513\n",
            "513\n",
            "513\n",
            "513\n",
            "513\n",
            "513\n",
            "513\n",
            "513\n",
            "514\n",
            "514\n",
            "514\n",
            "514\n",
            "515\n",
            "515\n",
            "516\n",
            "516\n",
            "516\n",
            "517\n",
            "517\n",
            "517\n",
            "517\n",
            "517\n",
            "517\n",
            "518\n",
            "518\n",
            "519\n",
            "520\n",
            "521\n",
            "521\n",
            "522\n",
            "522\n",
            "522\n",
            "522\n",
            "523\n",
            "523\n",
            "523\n",
            "524\n",
            "524\n",
            "524\n",
            "525\n",
            "525\n",
            "525\n",
            "525\n",
            "525\n",
            "525\n",
            "526\n",
            "526\n",
            "526\n",
            "527\n",
            "527\n",
            "527\n",
            "528\n",
            "528\n",
            "528\n",
            "529\n",
            "529\n",
            "530\n",
            "530\n",
            "531\n",
            "532\n",
            "532\n",
            "533\n",
            "533\n",
            "533\n",
            "534\n",
            "534\n",
            "534\n",
            "534\n",
            "534\n",
            "534\n",
            "534\n",
            "535\n",
            "536\n",
            "536\n",
            "536\n",
            "536\n",
            "536\n",
            "537\n",
            "538\n",
            "538\n",
            "538\n",
            "538\n",
            "539\n",
            "539\n",
            "539\n",
            "540\n",
            "540\n",
            "541\n",
            "541\n",
            "541\n",
            "541\n",
            "542\n",
            "542\n",
            "542\n",
            "542\n",
            "542\n",
            "542\n",
            "542\n",
            "542\n",
            "542\n",
            "542\n",
            "543\n",
            "543\n",
            "544\n",
            "544\n",
            "544\n",
            "544\n",
            "544\n",
            "544\n",
            "544\n",
            "544\n",
            "545\n",
            "546\n",
            "546\n",
            "546\n",
            "546\n",
            "546\n",
            "546\n",
            "546\n",
            "546\n",
            "546\n",
            "546\n",
            "546\n",
            "546\n",
            "546\n",
            "546\n",
            "546\n",
            "547\n",
            "547\n",
            "548\n",
            "548\n",
            "548\n",
            "549\n",
            "549\n",
            "550\n",
            "550\n",
            "550\n",
            "550\n",
            "550\n",
            "550\n",
            "551\n",
            "552\n",
            "553\n",
            "554\n",
            "555\n",
            "555\n",
            "556\n",
            "557\n",
            "557\n",
            "557\n",
            "557\n",
            "558\n",
            "559\n",
            "559\n",
            "559\n",
            "560\n",
            "560\n",
            "560\n",
            "560\n",
            "560\n",
            "561\n",
            "561\n",
            "562\n",
            "563\n",
            "563\n",
            "563\n",
            "563\n",
            "564\n",
            "564\n",
            "564\n",
            "564\n",
            "565\n",
            "566\n",
            "566\n",
            "567\n",
            "567\n",
            "567\n",
            "567\n",
            "567\n",
            "568\n",
            "568\n",
            "569\n",
            "569\n",
            "569\n",
            "569\n",
            "569\n",
            "570\n",
            "570\n",
            "570\n",
            "571\n",
            "572\n",
            "572\n",
            "573\n",
            "573\n",
            "573\n",
            "574\n",
            "574\n",
            "574\n",
            "574\n",
            "575\n",
            "575\n",
            "575\n",
            "575\n",
            "575\n",
            "575\n",
            "575\n",
            "576\n",
            "576\n",
            "577\n",
            "577\n",
            "577\n",
            "577\n",
            "578\n",
            "579\n",
            "579\n",
            "579\n",
            "580\n",
            "581\n",
            "581\n",
            "582\n",
            "582\n",
            "583\n",
            "583\n",
            "583\n",
            "583\n",
            "584\n",
            "584\n",
            "585\n",
            "586\n",
            "586\n",
            "586\n",
            "586\n",
            "586\n",
            "586\n",
            "586\n",
            "586\n",
            "586\n",
            "586\n",
            "586\n",
            "586\n",
            "586\n",
            "586\n",
            "586\n",
            "586\n",
            "587\n",
            "587\n",
            "587\n",
            "587\n",
            "588\n",
            "589\n",
            "589\n",
            "590\n",
            "590\n",
            "590\n",
            "590\n",
            "590\n",
            "590\n",
            "590\n",
            "591\n",
            "592\n",
            "593\n",
            "594\n",
            "594\n",
            "594\n",
            "595\n",
            "596\n",
            "596\n",
            "596\n",
            "597\n",
            "597\n",
            "598\n",
            "598\n",
            "598\n",
            "598\n",
            "598\n",
            "599\n",
            "599\n",
            "599\n",
            "599\n",
            "600\n",
            "600\n",
            "600\n",
            "601\n",
            "601\n",
            "602\n",
            "602\n",
            "603\n",
            "604\n",
            "604\n",
            "605\n",
            "605\n",
            "605\n",
            "606\n",
            "607\n",
            "608\n",
            "608\n",
            "608\n",
            "608\n",
            "608\n",
            "609\n",
            "610\n",
            "610\n",
            "610\n",
            "611\n",
            "611\n",
            "612\n",
            "612\n",
            "612\n",
            "612\n",
            "613\n",
            "613\n",
            "613\n",
            "613\n",
            "613\n",
            "613\n",
            "613\n",
            "613\n",
            "613\n",
            "613\n",
            "613\n",
            "613\n",
            "614\n",
            "615\n",
            "616\n",
            "616\n",
            "616\n",
            "616\n",
            "616\n",
            "616\n",
            "616\n",
            "616\n",
            "616\n",
            "616\n",
            "616\n",
            "617\n",
            "618\n",
            "618\n",
            "619\n",
            "619\n",
            "619\n",
            "619\n",
            "619\n",
            "620\n",
            "620\n",
            "621\n",
            "621\n",
            "622\n",
            "622\n",
            "623\n",
            "623\n",
            "624\n",
            "624\n",
            "624\n",
            "625\n",
            "626\n",
            "627\n",
            "627\n",
            "627\n",
            "628\n",
            "628\n",
            "628\n",
            "628\n",
            "628\n",
            "628\n",
            "629\n",
            "629\n",
            "629\n",
            "629\n",
            "630\n",
            "630\n",
            "630\n",
            "631\n",
            "632\n",
            "632\n",
            "633\n",
            "633\n",
            "634\n",
            "635\n",
            "635\n",
            "636\n",
            "636\n",
            "636\n",
            "636\n",
            "637\n",
            "638\n",
            "639\n",
            "640\n",
            "640\n",
            "641\n",
            "641\n",
            "641\n",
            "641\n",
            "641\n",
            "641\n",
            "641\n",
            "642\n",
            "643\n",
            "643\n",
            "643\n",
            "643\n",
            "643\n",
            "644\n",
            "644\n",
            "644\n",
            "644\n",
            "644\n",
            "644\n",
            "645\n",
            "646\n",
            "646\n",
            "647\n",
            "647\n",
            "648\n",
            "648\n",
            "649\n",
            "650\n",
            "651\n",
            "651\n",
            "652\n",
            "653\n",
            "654\n",
            "654\n",
            "654\n",
            "654\n",
            "654\n",
            "655\n",
            "655\n",
            "655\n",
            "655\n",
            "655\n",
            "656\n",
            "656\n",
            "656\n",
            "656\n",
            "656\n",
            "657\n",
            "657\n",
            "657\n",
            "657\n",
            "657\n",
            "657\n",
            "658\n",
            "659\n",
            "659\n",
            "659\n",
            "659\n",
            "660\n",
            "660\n",
            "660\n",
            "661\n",
            "661\n",
            "661\n",
            "661\n",
            "662\n",
            "662\n",
            "662\n",
            "663\n",
            "663\n",
            "663\n",
            "663\n",
            "663\n",
            "663\n",
            "663\n",
            "663\n",
            "664\n",
            "665\n",
            "665\n",
            "665\n",
            "665\n",
            "666\n",
            "667\n",
            "668\n",
            "668\n",
            "668\n",
            "668\n",
            "668\n",
            "669\n",
            "669\n",
            "669\n",
            "670\n",
            "670\n",
            "671\n",
            "672\n",
            "672\n",
            "672\n",
            "673\n",
            "673\n",
            "673\n",
            "674\n",
            "674\n",
            "675\n",
            "676\n",
            "676\n",
            "677\n",
            "677\n",
            "677\n",
            "678\n",
            "678\n",
            "678\n",
            "678\n",
            "679\n",
            "680\n",
            "681\n",
            "681\n",
            "682\n",
            "682\n",
            "682\n",
            "682\n",
            "682\n",
            "683\n",
            "683\n",
            "684\n",
            "684\n",
            "685\n",
            "685\n",
            "685\n",
            "686\n",
            "686\n",
            "686\n",
            "687\n",
            "687\n",
            "687\n",
            "687\n",
            "687\n",
            "687\n",
            "688\n",
            "689\n",
            "689\n",
            "690\n",
            "691\n",
            "692\n",
            "692\n",
            "692\n",
            "692\n",
            "692\n",
            "692\n",
            "692\n",
            "692\n",
            "692\n",
            "692\n",
            "692\n",
            "692\n",
            "692\n",
            "692\n",
            "693\n",
            "694\n",
            "695\n",
            "695\n",
            "695\n",
            "695\n",
            "696\n",
            "696\n",
            "696\n",
            "697\n",
            "697\n",
            "697\n",
            "697\n",
            "698\n",
            "698\n",
            "698\n",
            "698\n",
            "699\n",
            "700\n",
            "701\n",
            "701\n",
            "702\n",
            "702\n",
            "702\n",
            "702\n",
            "702\n",
            "703\n",
            "703\n",
            "704\n",
            "705\n",
            "706\n",
            "706\n",
            "707\n",
            "707\n",
            "708\n",
            "709\n",
            "710\n",
            "711\n",
            "711\n",
            "712\n",
            "712\n",
            "713\n",
            "714\n",
            "714\n",
            "714\n",
            "715\n",
            "715\n",
            "715\n",
            "716\n",
            "716\n",
            "716\n",
            "717\n",
            "718\n",
            "719\n",
            "720\n",
            "720\n",
            "720\n",
            "720\n",
            "721\n",
            "721\n",
            "722\n",
            "723\n",
            "723\n",
            "723\n",
            "723\n",
            "724\n",
            "725\n",
            "725\n",
            "725\n",
            "725\n",
            "725\n",
            "726\n",
            "726\n",
            "726\n",
            "727\n",
            "728\n",
            "729\n",
            "729\n",
            "729\n",
            "730\n",
            "731\n",
            "732\n",
            "732\n",
            "732\n",
            "732\n",
            "732\n",
            "733\n",
            "734\n",
            "734\n",
            "734\n",
            "735\n",
            "735\n",
            "735\n",
            "736\n",
            "736\n",
            "737\n",
            "738\n",
            "739\n",
            "739\n",
            "740\n",
            "740\n",
            "740\n",
            "740\n",
            "741\n",
            "741\n",
            "741\n",
            "742\n",
            "742\n",
            "742\n",
            "742\n",
            "742\n",
            "742\n",
            "743\n",
            "743\n",
            "743\n",
            "744\n",
            "744\n",
            "744\n",
            "745\n",
            "746\n",
            "746\n",
            "746\n",
            "746\n",
            "746\n",
            "747\n",
            "747\n",
            "748\n",
            "748\n",
            "748\n",
            "748\n",
            "748\n",
            "749\n",
            "749\n",
            "749\n",
            "749\n",
            "750\n",
            "751\n",
            "752\n",
            "753\n",
            "753\n",
            "753\n",
            "753\n",
            "753\n",
            "754\n",
            "754\n",
            "754\n",
            "755\n",
            "755\n",
            "755\n",
            "756\n",
            "757\n",
            "757\n",
            "758\n",
            "759\n",
            "759\n",
            "759\n",
            "759\n",
            "760\n",
            "761\n",
            "762\n",
            "762\n",
            "762\n",
            "763\n",
            "763\n",
            "763\n",
            "764\n",
            "764\n",
            "764\n",
            "764\n",
            "765\n",
            "765\n",
            "765\n",
            "766\n",
            "766\n",
            "766\n",
            "767\n",
            "767\n",
            "767\n",
            "768\n",
            "768\n",
            "768\n",
            "769\n",
            "770\n",
            "770\n",
            "771\n",
            "771\n",
            "772\n",
            "772\n",
            "772\n",
            "772\n",
            "772\n",
            "772\n",
            "772\n",
            "773\n",
            "773\n",
            "773\n",
            "773\n",
            "773\n",
            "774\n",
            "774\n",
            "775\n",
            "776\n",
            "777\n",
            "777\n",
            "777\n",
            "777\n",
            "777\n",
            "777\n",
            "777\n",
            "777\n",
            "778\n",
            "778\n",
            "778\n",
            "778\n",
            "778\n",
            "778\n",
            "779\n",
            "779\n",
            "779\n",
            "779\n",
            "779\n",
            "779\n",
            "780\n",
            "780\n",
            "781\n",
            "781\n",
            "781\n",
            "781\n",
            "782\n",
            "783\n",
            "783\n",
            "783\n",
            "783\n",
            "783\n",
            "783\n",
            "784\n",
            "784\n",
            "784\n",
            "785\n",
            "785\n",
            "785\n",
            "786\n",
            "787\n",
            "788\n",
            "788\n",
            "788\n",
            "788\n",
            "788\n",
            "788\n",
            "788\n",
            "788\n",
            "788\n",
            "789\n",
            "790\n",
            "790\n",
            "790\n",
            "790\n",
            "790\n",
            "791\n",
            "791\n",
            "791\n",
            "791\n",
            "791\n",
            "791\n",
            "791\n",
            "791\n",
            "792\n",
            "792\n",
            "792\n",
            "792\n",
            "792\n",
            "793\n",
            "793\n",
            "793\n",
            "794\n",
            "795\n",
            "795\n",
            "795\n",
            "795\n",
            "795\n",
            "796\n",
            "796\n",
            "797\n",
            "798\n",
            "798\n",
            "799\n",
            "800\n",
            "800\n"
          ],
          "name": "stdout"
        }
      ]
    },
    {
      "cell_type": "markdown",
      "metadata": {
        "id": "FMTJ_y04HX6W"
      },
      "source": [
        "### COVID tweets"
      ]
    },
    {
      "cell_type": "code",
      "metadata": {
        "id": "lfrlmvn6HcUl"
      },
      "source": [
        "count2 = 0\n",
        "class StdOutListener(StreamListener):\n",
        "    def on_data(self, data):\n",
        "        data_json = json.loads(data)\n",
        "        #print(data_json.keys())\n",
        "        global count2\n",
        "        print(count2)\n",
        "        if data_json['user']['followers_count'] > 1000 and count2 <= 800:\n",
        "            count2 = count2 + 1\n",
        "            kafka_producer.send(\"covidtweets\", data.encode('utf-8')).get(timeout=3)\n",
        "            #print(data)\n",
        "        if count2 > 800:\n",
        "          return False\n",
        "        return True\n",
        "\n",
        "    def on_error(self, status):\n",
        "        print(status)\n",
        "\n",
        "\n",
        "def kafka_run():\n",
        "    l = StdOutListener()\n",
        "    auth = OAuthHandler(CONSUMER_KEY, CONSUMER_SECRET)\n",
        "    auth.set_access_token(ACCESS_TOKEN, ACCESS_SECRET)\n",
        "    stream = Stream(auth, l)\n",
        "    stream.filter(track=[\"J&J\", \"Janssen\", \"Moderna\", \"Pfizer\", \"covid\", \"covid-19\", \"cdc\", \"coronavirus\"], languages=[\"en\"])\n",
        "\n",
        "# Press the green button in the gutter to run the script.\n",
        "if __name__ == '__main__':\n",
        "    kafka_run()"
      ],
      "execution_count": null,
      "outputs": []
    },
    {
      "cell_type": "code",
      "metadata": {
        "colab": {
          "base_uri": "https://localhost:8080/"
        },
        "id": "-If2oPYrmUTv",
        "outputId": "e346e39e-1b5d-4acf-9bd7-336818860c40"
      },
      "source": [
        "#pip install elasticsearch"
      ],
      "execution_count": null,
      "outputs": [
        {
          "output_type": "stream",
          "text": [
            "Collecting elasticsearch\n",
            "\u001b[?25l  Downloading https://files.pythonhosted.org/packages/8f/5c/60a32dfc24da07703b5b32d9935bcc36786a9176e67117c4b6215fd6d914/elasticsearch-7.12.1-py2.py3-none-any.whl (339kB)\n",
            "\r\u001b[K     |█                               | 10kB 16.3MB/s eta 0:00:01\r\u001b[K     |██                              | 20kB 13.5MB/s eta 0:00:01\r\u001b[K     |███                             | 30kB 9.4MB/s eta 0:00:01\r\u001b[K     |███▉                            | 40kB 8.3MB/s eta 0:00:01\r\u001b[K     |████▉                           | 51kB 5.3MB/s eta 0:00:01\r\u001b[K     |█████▉                          | 61kB 5.7MB/s eta 0:00:01\r\u001b[K     |██████▊                         | 71kB 5.9MB/s eta 0:00:01\r\u001b[K     |███████▊                        | 81kB 6.2MB/s eta 0:00:01\r\u001b[K     |████████▊                       | 92kB 6.6MB/s eta 0:00:01\r\u001b[K     |█████████▋                      | 102kB 6.5MB/s eta 0:00:01\r\u001b[K     |██████████▋                     | 112kB 6.5MB/s eta 0:00:01\r\u001b[K     |███████████▋                    | 122kB 6.5MB/s eta 0:00:01\r\u001b[K     |████████████▌                   | 133kB 6.5MB/s eta 0:00:01\r\u001b[K     |█████████████▌                  | 143kB 6.5MB/s eta 0:00:01\r\u001b[K     |██████████████▌                 | 153kB 6.5MB/s eta 0:00:01\r\u001b[K     |███████████████▍                | 163kB 6.5MB/s eta 0:00:01\r\u001b[K     |████████████████▍               | 174kB 6.5MB/s eta 0:00:01\r\u001b[K     |█████████████████▍              | 184kB 6.5MB/s eta 0:00:01\r\u001b[K     |██████████████████▎             | 194kB 6.5MB/s eta 0:00:01\r\u001b[K     |███████████████████▎            | 204kB 6.5MB/s eta 0:00:01\r\u001b[K     |████████████████████▎           | 215kB 6.5MB/s eta 0:00:01\r\u001b[K     |█████████████████████▏          | 225kB 6.5MB/s eta 0:00:01\r\u001b[K     |██████████████████████▏         | 235kB 6.5MB/s eta 0:00:01\r\u001b[K     |███████████████████████▏        | 245kB 6.5MB/s eta 0:00:01\r\u001b[K     |████████████████████████        | 256kB 6.5MB/s eta 0:00:01\r\u001b[K     |█████████████████████████       | 266kB 6.5MB/s eta 0:00:01\r\u001b[K     |██████████████████████████      | 276kB 6.5MB/s eta 0:00:01\r\u001b[K     |███████████████████████████     | 286kB 6.5MB/s eta 0:00:01\r\u001b[K     |████████████████████████████    | 296kB 6.5MB/s eta 0:00:01\r\u001b[K     |█████████████████████████████   | 307kB 6.5MB/s eta 0:00:01\r\u001b[K     |██████████████████████████████  | 317kB 6.5MB/s eta 0:00:01\r\u001b[K     |██████████████████████████████▉ | 327kB 6.5MB/s eta 0:00:01\r\u001b[K     |███████████████████████████████▉| 337kB 6.5MB/s eta 0:00:01\r\u001b[K     |████████████████████████████████| 348kB 6.5MB/s \n",
            "\u001b[?25hRequirement already satisfied: certifi in /usr/local/lib/python3.7/dist-packages (from elasticsearch) (2020.12.5)\n",
            "Requirement already satisfied: urllib3<2,>=1.21.1 in /usr/local/lib/python3.7/dist-packages (from elasticsearch) (1.24.3)\n",
            "Installing collected packages: elasticsearch\n",
            "Successfully installed elasticsearch-7.12.1\n"
          ],
          "name": "stdout"
        }
      ]
    },
    {
      "cell_type": "markdown",
      "metadata": {
        "id": "k-nJ3fjVAHmD"
      },
      "source": [
        "### Connect Bonsai"
      ]
    },
    {
      "cell_type": "code",
      "metadata": {
        "id": "6Xrcgb3w-nEz",
        "colab": {
          "base_uri": "https://localhost:8080/"
        },
        "outputId": "a7f777f4-fe2a-4e29-bd63-be144577f143"
      },
      "source": [
        "import nltk\n",
        "from nltk.stem import PorterStemmer\n",
        "from nltk.corpus import stopwords\n",
        "\n",
        "nltk.download('punkt')\n",
        "nltk.download('wordnet')\n",
        "nltk.download('stopwords')\n",
        "\n",
        "import os, base64, re, logging\n",
        "from elasticsearch import Elasticsearch\n",
        "\n",
        "def elasticsearch_connect():\n",
        "    # Log transport details (optional):\n",
        "    logging.basicConfig(level=logging.INFO)\n",
        "    # Parse the auth and host from env:\n",
        "    os.environ['BONSAI_URL'] = ''\n",
        "    bonsai = os.environ['BONSAI_URL']\n",
        "    auth = re.search('https\\:\\/\\/(.*)\\@', bonsai).group(1).split(':')\n",
        "    host = bonsai.replace('https://%s:%s@' % (auth[0], auth[1]), '')\n",
        "    \n",
        "    # optional port\n",
        "    match = re.search('(:\\d+)', host)\n",
        "    if match:\n",
        "        p = match.group(0)\n",
        "        host = host.replace(p, '')\n",
        "        port = int(p.split(':')[1])\n",
        "    else:\n",
        "        port=443\n",
        "        # Connect to cluster over SSL using auth for best security:\n",
        "    es_header = [{\n",
        "        'host': host,\n",
        "        'port': port,\n",
        "        'use_ssl': True,\n",
        "        'http_auth': (auth[0],auth[1])\n",
        "    }]\n",
        "    # Instantiate the new Elasticsearch connection:\n",
        "    es = Elasticsearch(es_header)\n",
        "    # Verify that Python can talk to Bonsai (optional):\n",
        "    es.ping()\n",
        "    \n",
        "    return es"
      ],
      "execution_count": null,
      "outputs": [
        {
          "output_type": "stream",
          "text": [
            "[nltk_data] Downloading package punkt to /root/nltk_data...\n",
            "[nltk_data]   Package punkt is already up-to-date!\n",
            "[nltk_data] Downloading package wordnet to /root/nltk_data...\n",
            "[nltk_data]   Package wordnet is already up-to-date!\n",
            "[nltk_data] Downloading package stopwords to /root/nltk_data...\n",
            "[nltk_data]   Package stopwords is already up-to-date!\n"
          ],
          "name": "stdout"
        }
      ]
    },
    {
      "cell_type": "markdown",
      "metadata": {
        "id": "v2FLDR821Ogk"
      },
      "source": [
        "### Climate to Bonsai"
      ]
    },
    {
      "cell_type": "code",
      "metadata": {
        "id": "axnfXvse-nE0",
        "colab": {
          "base_uri": "https://localhost:8080/",
          "height": 1000
        },
        "outputId": "32fb1406-68dc-4e77-c1aa-4c688f27d850"
      },
      "source": [
        "count1 = 0\n",
        "def elasticsearch_consumer_main(topicname):\n",
        "    es = elasticsearch_connect()\n",
        "    #To Consume Messages\n",
        "    consumer = KafkaConsumer(topicname, \n",
        "                            auto_commit_interval_ms = 30 *1000,\n",
        "                            auto_offset_reset = 'earliest', \n",
        "                            bootstrap_servers=['localhost:9092'])\n",
        "    #esid = 1\n",
        "    \n",
        "    \n",
        "    global count1\n",
        "    for message in consumer: \n",
        "        #time.sleep(1)\n",
        "        #print(\"next\")\n",
        "        #esid +=1\n",
        "        #if esid % 1000 == 0:\n",
        "            #print(esid)\n",
        "            #res_create = es.create(index=\"tweets\", doc_type= topicname, id=1, body={})\n",
        "        count1 = count1 + 1\n",
        "        msg = json.loads(message.value)\n",
        "        \n",
        "        msg_id = msg['id']\n",
        "        #print(msg)\n",
        "        print(count1)\n",
        "        res = es.index(index = topicname, id = msg_id, body = msg)\n",
        "        \n",
        "\n",
        "if __name__ == '__main__':\n",
        "    elasticsearch_consumer_main('climatetweets')   "
      ],
      "execution_count": null,
      "outputs": [
        {
          "output_type": "stream",
          "text": [
            "INFO:elasticsearch:HEAD https://kafka-homework3-5284633582.us-east-1.bonsaisearch.net:443/ [status:200 request:0.105s]\n",
            "INFO:kafka.conn:<BrokerConnection node_id=bootstrap-0 host=localhost:9092 <connecting> [IPv4 ('127.0.0.1', 9092)]>: connecting to localhost:9092 [('127.0.0.1', 9092) IPv4]\n",
            "INFO:kafka.conn:Probing node bootstrap-0 broker version\n",
            "INFO:kafka.conn:<BrokerConnection node_id=bootstrap-0 host=localhost:9092 <connecting> [IPv4 ('127.0.0.1', 9092)]>: Connection complete.\n",
            "INFO:kafka.conn:Broker version identified as 2.5.0\n",
            "INFO:kafka.conn:Set configuration api_version=(2, 5, 0) to skip auto check_version requests on startup\n",
            "WARNING:kafka.coordinator.consumer:group_id is None: disabling auto-commit.\n",
            "INFO:kafka.consumer.subscription_state:Updating subscribed topics to: ('climatetweets',)\n",
            "INFO:kafka.consumer.subscription_state:Updated partition assignment: [TopicPartition(topic='climatetweets', partition=0), TopicPartition(topic='climatetweets', partition=1), TopicPartition(topic='climatetweets', partition=2)]\n",
            "INFO:kafka.conn:<BrokerConnection node_id=0 host=c8d5f846f074:9092 <connecting> [IPv4 ('172.28.0.2', 9092)]>: connecting to c8d5f846f074:9092 [('172.28.0.2', 9092) IPv4]\n",
            "INFO:kafka.conn:<BrokerConnection node_id=0 host=c8d5f846f074:9092 <connecting> [IPv4 ('172.28.0.2', 9092)]>: Connection complete.\n",
            "INFO:kafka.conn:<BrokerConnection node_id=bootstrap-0 host=localhost:9092 <connected> [IPv4 ('127.0.0.1', 9092)]>: Closing connection. \n",
            "INFO:elasticsearch:PUT https://kafka-homework3-5284633582.us-east-1.bonsaisearch.net:443/climatetweets/_doc/1387902136378445825 [status:201 request:0.073s]\n",
            "INFO:elasticsearch:PUT https://kafka-homework3-5284633582.us-east-1.bonsaisearch.net:443/climatetweets/_doc/1387902139372998656 [status:201 request:0.074s]\n",
            "INFO:elasticsearch:PUT https://kafka-homework3-5284633582.us-east-1.bonsaisearch.net:443/climatetweets/_doc/1387902147753295887 [status:201 request:0.027s]\n"
          ],
          "name": "stderr"
        },
        {
          "output_type": "stream",
          "text": [
            "1\n",
            "2\n",
            "3\n",
            "4\n"
          ],
          "name": "stdout"
        },
        {
          "output_type": "stream",
          "text": [
            "INFO:elasticsearch:PUT https://kafka-homework3-5284633582.us-east-1.bonsaisearch.net:443/climatetweets/_doc/1387902167646887939 [status:201 request:0.028s]\n",
            "INFO:elasticsearch:PUT https://kafka-homework3-5284633582.us-east-1.bonsaisearch.net:443/climatetweets/_doc/1387902189255995392 [status:201 request:0.028s]\n",
            "INFO:elasticsearch:PUT https://kafka-homework3-5284633582.us-east-1.bonsaisearch.net:443/climatetweets/_doc/1387902195413159937 [status:201 request:0.073s]\n"
          ],
          "name": "stderr"
        },
        {
          "output_type": "stream",
          "text": [
            "5\n",
            "6\n",
            "7\n"
          ],
          "name": "stdout"
        },
        {
          "output_type": "stream",
          "text": [
            "INFO:elasticsearch:PUT https://kafka-homework3-5284633582.us-east-1.bonsaisearch.net:443/climatetweets/_doc/1387902211666022406 [status:201 request:0.124s]\n",
            "INFO:elasticsearch:PUT https://kafka-homework3-5284633582.us-east-1.bonsaisearch.net:443/climatetweets/_doc/1387902228938338305 [status:201 request:0.116s]\n",
            "INFO:elasticsearch:PUT https://kafka-homework3-5284633582.us-east-1.bonsaisearch.net:443/climatetweets/_doc/1387902244016820225 [status:201 request:0.030s]\n",
            "INFO:elasticsearch:PUT https://kafka-homework3-5284633582.us-east-1.bonsaisearch.net:443/climatetweets/_doc/1387902254452117504 [status:201 request:0.028s]\n"
          ],
          "name": "stderr"
        },
        {
          "output_type": "stream",
          "text": [
            "8\n",
            "9\n",
            "10\n",
            "11\n"
          ],
          "name": "stdout"
        },
        {
          "output_type": "stream",
          "text": [
            "INFO:elasticsearch:PUT https://kafka-homework3-5284633582.us-east-1.bonsaisearch.net:443/climatetweets/_doc/1387902259216932869 [status:201 request:0.034s]\n",
            "INFO:elasticsearch:PUT https://kafka-homework3-5284633582.us-east-1.bonsaisearch.net:443/climatetweets/_doc/1387902263432155136 [status:201 request:0.030s]\n",
            "INFO:elasticsearch:PUT https://kafka-homework3-5284633582.us-east-1.bonsaisearch.net:443/climatetweets/_doc/1387902264753467401 [status:201 request:0.086s]\n",
            "INFO:elasticsearch:PUT https://kafka-homework3-5284633582.us-east-1.bonsaisearch.net:443/climatetweets/_doc/1387902270109634560 [status:201 request:0.029s]\n"
          ],
          "name": "stderr"
        },
        {
          "output_type": "stream",
          "text": [
            "12\n",
            "13\n",
            "14\n",
            "15\n"
          ],
          "name": "stdout"
        },
        {
          "output_type": "stream",
          "text": [
            "INFO:elasticsearch:PUT https://kafka-homework3-5284633582.us-east-1.bonsaisearch.net:443/climatetweets/_doc/1387902279051739139 [status:201 request:0.086s]\n",
            "INFO:elasticsearch:PUT https://kafka-homework3-5284633582.us-east-1.bonsaisearch.net:443/climatetweets/_doc/1387902282155454464 [status:201 request:0.028s]\n",
            "INFO:elasticsearch:PUT https://kafka-homework3-5284633582.us-east-1.bonsaisearch.net:443/climatetweets/_doc/1387902284412112896 [status:201 request:0.027s]\n",
            "INFO:elasticsearch:PUT https://kafka-homework3-5284633582.us-east-1.bonsaisearch.net:443/climatetweets/_doc/1387902287490650112 [status:201 request:0.027s]\n",
            "INFO:elasticsearch:PUT https://kafka-homework3-5284633582.us-east-1.bonsaisearch.net:443/climatetweets/_doc/1387902305958256643 [status:201 request:0.027s]\n",
            "INFO:elasticsearch:PUT https://kafka-homework3-5284633582.us-east-1.bonsaisearch.net:443/climatetweets/_doc/1387902312665034757 [status:201 request:0.027s]\n",
            "INFO:elasticsearch:PUT https://kafka-homework3-5284633582.us-east-1.bonsaisearch.net:443/climatetweets/_doc/1387902323993759744 [status:201 request:0.026s]\n"
          ],
          "name": "stderr"
        },
        {
          "output_type": "stream",
          "text": [
            "16\n",
            "17\n",
            "18\n",
            "19\n",
            "20\n",
            "21\n",
            "22\n"
          ],
          "name": "stdout"
        },
        {
          "output_type": "stream",
          "text": [
            "INFO:elasticsearch:PUT https://kafka-homework3-5284633582.us-east-1.bonsaisearch.net:443/climatetweets/_doc/1387902327743451139 [status:201 request:0.026s]\n",
            "INFO:elasticsearch:PUT https://kafka-homework3-5284633582.us-east-1.bonsaisearch.net:443/climatetweets/_doc/1387902330541023233 [status:201 request:0.087s]\n",
            "INFO:elasticsearch:PUT https://kafka-homework3-5284633582.us-east-1.bonsaisearch.net:443/climatetweets/_doc/1387902337117822977 [status:201 request:0.028s]\n"
          ],
          "name": "stderr"
        },
        {
          "output_type": "stream",
          "text": [
            "23\n",
            "24\n",
            "25\n"
          ],
          "name": "stdout"
        },
        {
          "output_type": "stream",
          "text": [
            "INFO:elasticsearch:PUT https://kafka-homework3-5284633582.us-east-1.bonsaisearch.net:443/climatetweets/_doc/1387902353974587393 [status:201 request:0.086s]\n",
            "INFO:elasticsearch:PUT https://kafka-homework3-5284633582.us-east-1.bonsaisearch.net:443/climatetweets/_doc/1387902360131940354 [status:201 request:0.088s]\n",
            "INFO:elasticsearch:PUT https://kafka-homework3-5284633582.us-east-1.bonsaisearch.net:443/climatetweets/_doc/1387902361868378115 [status:201 request:0.028s]\n",
            "INFO:elasticsearch:PUT https://kafka-homework3-5284633582.us-east-1.bonsaisearch.net:443/climatetweets/_doc/1387902364821168130 [status:201 request:0.028s]\n"
          ],
          "name": "stderr"
        },
        {
          "output_type": "stream",
          "text": [
            "26\n",
            "27\n",
            "28\n",
            "29\n"
          ],
          "name": "stdout"
        },
        {
          "output_type": "stream",
          "text": [
            "INFO:elasticsearch:PUT https://kafka-homework3-5284633582.us-east-1.bonsaisearch.net:443/climatetweets/_doc/1387902367136419840 [status:201 request:0.088s]\n",
            "INFO:elasticsearch:PUT https://kafka-homework3-5284633582.us-east-1.bonsaisearch.net:443/climatetweets/_doc/1387902368570740737 [status:201 request:0.029s]\n",
            "INFO:elasticsearch:PUT https://kafka-homework3-5284633582.us-east-1.bonsaisearch.net:443/climatetweets/_doc/1387902371196399617 [status:201 request:0.026s]\n",
            "INFO:elasticsearch:PUT https://kafka-homework3-5284633582.us-east-1.bonsaisearch.net:443/climatetweets/_doc/1387902396299317249 [status:201 request:0.027s]\n",
            "INFO:elasticsearch:PUT https://kafka-homework3-5284633582.us-east-1.bonsaisearch.net:443/climatetweets/_doc/1387902406034341893 [status:201 request:0.027s]\n"
          ],
          "name": "stderr"
        },
        {
          "output_type": "stream",
          "text": [
            "30\n",
            "31\n",
            "32\n",
            "33\n",
            "34\n"
          ],
          "name": "stdout"
        },
        {
          "output_type": "stream",
          "text": [
            "INFO:elasticsearch:PUT https://kafka-homework3-5284633582.us-east-1.bonsaisearch.net:443/climatetweets/_doc/1387902409238745089 [status:201 request:0.093s]\n",
            "INFO:elasticsearch:PUT https://kafka-homework3-5284633582.us-east-1.bonsaisearch.net:443/climatetweets/_doc/1387902409347846151 [status:201 request:0.027s]\n",
            "INFO:elasticsearch:PUT https://kafka-homework3-5284633582.us-east-1.bonsaisearch.net:443/climatetweets/_doc/1387902416079572994 [status:201 request:0.027s]\n",
            "INFO:elasticsearch:PUT https://kafka-homework3-5284633582.us-east-1.bonsaisearch.net:443/climatetweets/_doc/1387902417073803269 [status:201 request:0.105s]\n",
            "INFO:elasticsearch:PUT https://kafka-homework3-5284633582.us-east-1.bonsaisearch.net:443/climatetweets/_doc/1387902418554392580 [status:201 request:0.026s]\n"
          ],
          "name": "stderr"
        },
        {
          "output_type": "stream",
          "text": [
            "35\n",
            "36\n",
            "37\n",
            "38\n",
            "39\n"
          ],
          "name": "stdout"
        },
        {
          "output_type": "stream",
          "text": [
            "INFO:elasticsearch:PUT https://kafka-homework3-5284633582.us-east-1.bonsaisearch.net:443/climatetweets/_doc/1387902428708839429 [status:201 request:0.029s]\n",
            "INFO:elasticsearch:PUT https://kafka-homework3-5284633582.us-east-1.bonsaisearch.net:443/climatetweets/_doc/1387902429077905416 [status:201 request:0.029s]\n",
            "INFO:elasticsearch:PUT https://kafka-homework3-5284633582.us-east-1.bonsaisearch.net:443/climatetweets/_doc/1387902441220452357 [status:201 request:0.027s]\n",
            "INFO:elasticsearch:PUT https://kafka-homework3-5284633582.us-east-1.bonsaisearch.net:443/climatetweets/_doc/1387902445943238660 [status:201 request:0.115s]\n"
          ],
          "name": "stderr"
        },
        {
          "output_type": "stream",
          "text": [
            "40\n",
            "41\n",
            "42\n",
            "43\n"
          ],
          "name": "stdout"
        },
        {
          "output_type": "stream",
          "text": [
            "INFO:elasticsearch:PUT https://kafka-homework3-5284633582.us-east-1.bonsaisearch.net:443/climatetweets/_doc/1387902450850488325 [status:201 request:0.029s]\n",
            "INFO:elasticsearch:PUT https://kafka-homework3-5284633582.us-east-1.bonsaisearch.net:443/climatetweets/_doc/1387902451034976256 [status:201 request:0.028s]\n",
            "INFO:elasticsearch:PUT https://kafka-homework3-5284633582.us-east-1.bonsaisearch.net:443/climatetweets/_doc/1387902458500890629 [status:201 request:0.100s]\n",
            "INFO:elasticsearch:PUT https://kafka-homework3-5284633582.us-east-1.bonsaisearch.net:443/climatetweets/_doc/1387902459650007042 [status:201 request:0.029s]\n",
            "INFO:elasticsearch:PUT https://kafka-homework3-5284633582.us-east-1.bonsaisearch.net:443/climatetweets/_doc/1387902479644471297 [status:201 request:0.027s]\n"
          ],
          "name": "stderr"
        },
        {
          "output_type": "stream",
          "text": [
            "44\n",
            "45\n",
            "46\n",
            "47\n",
            "48\n"
          ],
          "name": "stdout"
        },
        {
          "output_type": "stream",
          "text": [
            "INFO:elasticsearch:PUT https://kafka-homework3-5284633582.us-east-1.bonsaisearch.net:443/climatetweets/_doc/1387902483037659138 [status:201 request:0.027s]\n",
            "INFO:elasticsearch:PUT https://kafka-homework3-5284633582.us-east-1.bonsaisearch.net:443/climatetweets/_doc/1387902505523322890 [status:201 request:0.029s]\n",
            "INFO:elasticsearch:PUT https://kafka-homework3-5284633582.us-east-1.bonsaisearch.net:443/climatetweets/_doc/1387902509189115904 [status:201 request:0.033s]\n",
            "INFO:elasticsearch:PUT https://kafka-homework3-5284633582.us-east-1.bonsaisearch.net:443/climatetweets/_doc/1387902509780553731 [status:201 request:0.028s]\n",
            "INFO:elasticsearch:PUT https://kafka-homework3-5284633582.us-east-1.bonsaisearch.net:443/climatetweets/_doc/1387902512615804931 [status:201 request:0.034s]\n",
            "INFO:elasticsearch:PUT https://kafka-homework3-5284633582.us-east-1.bonsaisearch.net:443/climatetweets/_doc/1387902520715010048 [status:201 request:0.027s]\n",
            "INFO:elasticsearch:PUT https://kafka-homework3-5284633582.us-east-1.bonsaisearch.net:443/climatetweets/_doc/1387902521700671500 [status:201 request:0.028s]\n"
          ],
          "name": "stderr"
        },
        {
          "output_type": "stream",
          "text": [
            "49\n",
            "50\n",
            "51\n",
            "52\n",
            "53\n",
            "54\n",
            "55\n"
          ],
          "name": "stdout"
        },
        {
          "output_type": "stream",
          "text": [
            "INFO:elasticsearch:PUT https://kafka-homework3-5284633582.us-east-1.bonsaisearch.net:443/climatetweets/_doc/1387902526813581326 [status:201 request:0.029s]\n",
            "INFO:elasticsearch:PUT https://kafka-homework3-5284633582.us-east-1.bonsaisearch.net:443/climatetweets/_doc/1387902528826785792 [status:201 request:0.027s]\n",
            "INFO:elasticsearch:PUT https://kafka-homework3-5284633582.us-east-1.bonsaisearch.net:443/climatetweets/_doc/1387902537160871940 [status:201 request:0.026s]\n",
            "INFO:elasticsearch:PUT https://kafka-homework3-5284633582.us-east-1.bonsaisearch.net:443/climatetweets/_doc/1387902537727188995 [status:201 request:0.027s]\n",
            "INFO:elasticsearch:PUT https://kafka-homework3-5284633582.us-east-1.bonsaisearch.net:443/climatetweets/_doc/1387902568177684481 [status:201 request:0.026s]\n"
          ],
          "name": "stderr"
        },
        {
          "output_type": "stream",
          "text": [
            "56\n",
            "57\n",
            "58\n",
            "59\n",
            "60\n"
          ],
          "name": "stdout"
        },
        {
          "output_type": "stream",
          "text": [
            "INFO:elasticsearch:PUT https://kafka-homework3-5284633582.us-east-1.bonsaisearch.net:443/climatetweets/_doc/1387902576675405824 [status:201 request:0.098s]\n",
            "INFO:elasticsearch:PUT https://kafka-homework3-5284633582.us-east-1.bonsaisearch.net:443/climatetweets/_doc/1387902600998113281 [status:201 request:0.034s]\n",
            "INFO:elasticsearch:PUT https://kafka-homework3-5284633582.us-east-1.bonsaisearch.net:443/climatetweets/_doc/1387902608350879748 [status:201 request:0.027s]\n",
            "INFO:elasticsearch:PUT https://kafka-homework3-5284633582.us-east-1.bonsaisearch.net:443/climatetweets/_doc/1387902612125609988 [status:201 request:0.027s]\n",
            "INFO:elasticsearch:PUT https://kafka-homework3-5284633582.us-east-1.bonsaisearch.net:443/climatetweets/_doc/1387902628173025282 [status:201 request:0.028s]\n",
            "INFO:elasticsearch:PUT https://kafka-homework3-5284633582.us-east-1.bonsaisearch.net:443/climatetweets/_doc/1387902631612338179 [status:201 request:0.028s]\n",
            "INFO:elasticsearch:PUT https://kafka-homework3-5284633582.us-east-1.bonsaisearch.net:443/climatetweets/_doc/1387902634984710145 [status:201 request:0.030s]\n"
          ],
          "name": "stderr"
        },
        {
          "output_type": "stream",
          "text": [
            "61\n",
            "62\n",
            "63\n",
            "64\n",
            "65\n",
            "66\n",
            "67\n"
          ],
          "name": "stdout"
        },
        {
          "output_type": "stream",
          "text": [
            "INFO:elasticsearch:PUT https://kafka-homework3-5284633582.us-east-1.bonsaisearch.net:443/climatetweets/_doc/1387902673047855108 [status:201 request:0.031s]\n",
            "INFO:elasticsearch:PUT https://kafka-homework3-5284633582.us-east-1.bonsaisearch.net:443/climatetweets/_doc/1387902674310475779 [status:201 request:0.029s]\n",
            "INFO:elasticsearch:PUT https://kafka-homework3-5284633582.us-east-1.bonsaisearch.net:443/climatetweets/_doc/1387902684770947086 [status:201 request:0.102s]\n",
            "INFO:elasticsearch:PUT https://kafka-homework3-5284633582.us-east-1.bonsaisearch.net:443/climatetweets/_doc/1387902686486417408 [status:201 request:0.028s]\n",
            "INFO:elasticsearch:PUT https://kafka-homework3-5284633582.us-east-1.bonsaisearch.net:443/climatetweets/_doc/1387902708208832513 [status:201 request:0.028s]\n"
          ],
          "name": "stderr"
        },
        {
          "output_type": "stream",
          "text": [
            "68\n",
            "69\n",
            "70\n",
            "71\n",
            "72\n"
          ],
          "name": "stdout"
        },
        {
          "output_type": "stream",
          "text": [
            "INFO:elasticsearch:PUT https://kafka-homework3-5284633582.us-east-1.bonsaisearch.net:443/climatetweets/_doc/1387902720946868225 [status:201 request:0.027s]\n",
            "INFO:elasticsearch:PUT https://kafka-homework3-5284633582.us-east-1.bonsaisearch.net:443/climatetweets/_doc/1387902728551108610 [status:201 request:0.029s]\n",
            "INFO:elasticsearch:PUT https://kafka-homework3-5284633582.us-east-1.bonsaisearch.net:443/climatetweets/_doc/1387902739858923521 [status:201 request:0.028s]\n",
            "INFO:elasticsearch:PUT https://kafka-homework3-5284633582.us-east-1.bonsaisearch.net:443/climatetweets/_doc/1387902747970838537 [status:201 request:0.027s]\n",
            "INFO:elasticsearch:PUT https://kafka-homework3-5284633582.us-east-1.bonsaisearch.net:443/climatetweets/_doc/1387902748490829824 [status:201 request:0.027s]\n",
            "INFO:elasticsearch:PUT https://kafka-homework3-5284633582.us-east-1.bonsaisearch.net:443/climatetweets/_doc/1387902757198307333 [status:201 request:0.029s]\n",
            "INFO:elasticsearch:PUT https://kafka-homework3-5284633582.us-east-1.bonsaisearch.net:443/climatetweets/_doc/1387902764987027456 [status:201 request:0.028s]\n"
          ],
          "name": "stderr"
        },
        {
          "output_type": "stream",
          "text": [
            "73\n",
            "74\n",
            "75\n",
            "76\n",
            "77\n",
            "78\n",
            "79\n"
          ],
          "name": "stdout"
        },
        {
          "output_type": "stream",
          "text": [
            "INFO:elasticsearch:PUT https://kafka-homework3-5284633582.us-east-1.bonsaisearch.net:443/climatetweets/_doc/1387902774805815297 [status:201 request:0.027s]\n",
            "INFO:elasticsearch:PUT https://kafka-homework3-5284633582.us-east-1.bonsaisearch.net:443/climatetweets/_doc/1387902785887289348 [status:201 request:0.097s]\n",
            "INFO:elasticsearch:PUT https://kafka-homework3-5284633582.us-east-1.bonsaisearch.net:443/climatetweets/_doc/1387902793344823296 [status:201 request:0.027s]\n",
            "INFO:elasticsearch:PUT https://kafka-homework3-5284633582.us-east-1.bonsaisearch.net:443/climatetweets/_doc/1387902793785221120 [status:201 request:0.027s]\n",
            "INFO:elasticsearch:PUT https://kafka-homework3-5284633582.us-east-1.bonsaisearch.net:443/climatetweets/_doc/1387902808339398672 [status:201 request:0.029s]\n"
          ],
          "name": "stderr"
        },
        {
          "output_type": "stream",
          "text": [
            "80\n",
            "81\n",
            "82\n",
            "83\n",
            "84\n"
          ],
          "name": "stdout"
        },
        {
          "output_type": "stream",
          "text": [
            "INFO:elasticsearch:PUT https://kafka-homework3-5284633582.us-east-1.bonsaisearch.net:443/climatetweets/_doc/1387902809773903878 [status:201 request:0.027s]\n",
            "INFO:elasticsearch:PUT https://kafka-homework3-5284633582.us-east-1.bonsaisearch.net:443/climatetweets/_doc/1387902813573951491 [status:201 request:0.028s]\n",
            "INFO:elasticsearch:PUT https://kafka-homework3-5284633582.us-east-1.bonsaisearch.net:443/climatetweets/_doc/1387902823732551685 [status:201 request:0.027s]\n",
            "INFO:elasticsearch:PUT https://kafka-homework3-5284633582.us-east-1.bonsaisearch.net:443/climatetweets/_doc/1387902827431874573 [status:201 request:0.026s]\n",
            "INFO:elasticsearch:PUT https://kafka-homework3-5284633582.us-east-1.bonsaisearch.net:443/climatetweets/_doc/1387902843722604544 [status:201 request:0.028s]\n",
            "INFO:elasticsearch:PUT https://kafka-homework3-5284633582.us-east-1.bonsaisearch.net:443/climatetweets/_doc/1387902860709437443 [status:201 request:0.028s]\n",
            "INFO:elasticsearch:PUT https://kafka-homework3-5284633582.us-east-1.bonsaisearch.net:443/climatetweets/_doc/1387902866216603649 [status:201 request:0.027s]\n"
          ],
          "name": "stderr"
        },
        {
          "output_type": "stream",
          "text": [
            "85\n",
            "86\n",
            "87\n",
            "88\n",
            "89\n",
            "90\n",
            "91\n"
          ],
          "name": "stdout"
        },
        {
          "output_type": "stream",
          "text": [
            "INFO:elasticsearch:PUT https://kafka-homework3-5284633582.us-east-1.bonsaisearch.net:443/climatetweets/_doc/1387902873141383173 [status:201 request:0.027s]\n",
            "INFO:elasticsearch:PUT https://kafka-homework3-5284633582.us-east-1.bonsaisearch.net:443/climatetweets/_doc/1387902883920715777 [status:201 request:0.029s]\n",
            "INFO:elasticsearch:PUT https://kafka-homework3-5284633582.us-east-1.bonsaisearch.net:443/climatetweets/_doc/1387902896470118400 [status:201 request:0.028s]\n",
            "INFO:elasticsearch:PUT https://kafka-homework3-5284633582.us-east-1.bonsaisearch.net:443/climatetweets/_doc/1387902900144427010 [status:201 request:0.027s]\n",
            "INFO:elasticsearch:PUT https://kafka-homework3-5284633582.us-east-1.bonsaisearch.net:443/climatetweets/_doc/1387902903348862977 [status:201 request:0.027s]\n",
            "INFO:elasticsearch:PUT https://kafka-homework3-5284633582.us-east-1.bonsaisearch.net:443/climatetweets/_doc/1387902915545808896 [status:201 request:0.028s]\n",
            "INFO:elasticsearch:PUT https://kafka-homework3-5284633582.us-east-1.bonsaisearch.net:443/climatetweets/_doc/1387902927671644160 [status:201 request:0.028s]\n"
          ],
          "name": "stderr"
        },
        {
          "output_type": "stream",
          "text": [
            "92\n",
            "93\n",
            "94\n",
            "95\n",
            "96\n",
            "97\n",
            "98\n"
          ],
          "name": "stdout"
        },
        {
          "output_type": "stream",
          "text": [
            "INFO:elasticsearch:PUT https://kafka-homework3-5284633582.us-east-1.bonsaisearch.net:443/climatetweets/_doc/1387902975641899017 [status:201 request:0.027s]\n",
            "INFO:elasticsearch:PUT https://kafka-homework3-5284633582.us-east-1.bonsaisearch.net:443/climatetweets/_doc/1387902981786509316 [status:201 request:0.028s]\n",
            "INFO:elasticsearch:PUT https://kafka-homework3-5284633582.us-east-1.bonsaisearch.net:443/climatetweets/_doc/1387902983925420032 [status:201 request:0.028s]\n",
            "INFO:elasticsearch:PUT https://kafka-homework3-5284633582.us-east-1.bonsaisearch.net:443/climatetweets/_doc/1387902984005238791 [status:201 request:0.029s]\n",
            "INFO:elasticsearch:PUT https://kafka-homework3-5284633582.us-east-1.bonsaisearch.net:443/climatetweets/_doc/1387902987432042498 [status:201 request:0.029s]\n",
            "INFO:elasticsearch:PUT https://kafka-homework3-5284633582.us-east-1.bonsaisearch.net:443/climatetweets/_doc/1387902992637206529 [status:201 request:0.029s]\n",
            "INFO:elasticsearch:PUT https://kafka-homework3-5284633582.us-east-1.bonsaisearch.net:443/climatetweets/_doc/1387903013780697089 [status:201 request:0.027s]\n"
          ],
          "name": "stderr"
        },
        {
          "output_type": "stream",
          "text": [
            "99\n",
            "100\n",
            "101\n",
            "102\n",
            "103\n",
            "104\n",
            "105\n"
          ],
          "name": "stdout"
        },
        {
          "output_type": "stream",
          "text": [
            "INFO:elasticsearch:PUT https://kafka-homework3-5284633582.us-east-1.bonsaisearch.net:443/climatetweets/_doc/1387903024786411524 [status:201 request:0.027s]\n",
            "INFO:elasticsearch:PUT https://kafka-homework3-5284633582.us-east-1.bonsaisearch.net:443/climatetweets/_doc/1387903028511100928 [status:201 request:0.029s]\n",
            "INFO:elasticsearch:PUT https://kafka-homework3-5284633582.us-east-1.bonsaisearch.net:443/climatetweets/_doc/1387903046194171904 [status:201 request:0.027s]\n",
            "INFO:elasticsearch:PUT https://kafka-homework3-5284633582.us-east-1.bonsaisearch.net:443/climatetweets/_doc/1387903052255006734 [status:201 request:0.027s]\n",
            "INFO:elasticsearch:PUT https://kafka-homework3-5284633582.us-east-1.bonsaisearch.net:443/climatetweets/_doc/1387903055950135296 [status:201 request:0.098s]\n"
          ],
          "name": "stderr"
        },
        {
          "output_type": "stream",
          "text": [
            "106\n",
            "107\n",
            "108\n",
            "109\n",
            "110\n"
          ],
          "name": "stdout"
        },
        {
          "output_type": "stream",
          "text": [
            "INFO:elasticsearch:PUT https://kafka-homework3-5284633582.us-east-1.bonsaisearch.net:443/climatetweets/_doc/1387903066016473088 [status:201 request:0.027s]\n",
            "INFO:elasticsearch:PUT https://kafka-homework3-5284633582.us-east-1.bonsaisearch.net:443/climatetweets/_doc/1387903072710578176 [status:201 request:0.027s]\n",
            "INFO:elasticsearch:PUT https://kafka-homework3-5284633582.us-east-1.bonsaisearch.net:443/climatetweets/_doc/1387903109955952642 [status:201 request:0.029s]\n",
            "INFO:elasticsearch:PUT https://kafka-homework3-5284633582.us-east-1.bonsaisearch.net:443/climatetweets/_doc/1387903113009319936 [status:201 request:0.031s]\n",
            "INFO:elasticsearch:PUT https://kafka-homework3-5284633582.us-east-1.bonsaisearch.net:443/climatetweets/_doc/1387903114724843521 [status:201 request:0.027s]\n",
            "INFO:elasticsearch:PUT https://kafka-homework3-5284633582.us-east-1.bonsaisearch.net:443/climatetweets/_doc/1387903120110280704 [status:201 request:0.028s]\n",
            "INFO:elasticsearch:PUT https://kafka-homework3-5284633582.us-east-1.bonsaisearch.net:443/climatetweets/_doc/1387903122094411785 [status:201 request:0.029s]\n"
          ],
          "name": "stderr"
        },
        {
          "output_type": "stream",
          "text": [
            "111\n",
            "112\n",
            "113\n",
            "114\n",
            "115\n",
            "116\n",
            "117\n"
          ],
          "name": "stdout"
        },
        {
          "output_type": "stream",
          "text": [
            "INFO:elasticsearch:PUT https://kafka-homework3-5284633582.us-east-1.bonsaisearch.net:443/climatetweets/_doc/1387903130201780225 [status:201 request:0.028s]\n",
            "INFO:elasticsearch:PUT https://kafka-homework3-5284633582.us-east-1.bonsaisearch.net:443/climatetweets/_doc/1387903134874415114 [status:201 request:0.028s]\n",
            "INFO:elasticsearch:PUT https://kafka-homework3-5284633582.us-east-1.bonsaisearch.net:443/climatetweets/_doc/1387903148090544132 [status:201 request:0.031s]\n",
            "INFO:elasticsearch:PUT https://kafka-homework3-5284633582.us-east-1.bonsaisearch.net:443/climatetweets/_doc/1387903153513897984 [status:201 request:0.028s]\n",
            "INFO:elasticsearch:PUT https://kafka-homework3-5284633582.us-east-1.bonsaisearch.net:443/climatetweets/_doc/1387903159973171211 [status:201 request:0.028s]\n"
          ],
          "name": "stderr"
        },
        {
          "output_type": "stream",
          "text": [
            "118\n",
            "119\n",
            "120\n",
            "121\n",
            "122\n"
          ],
          "name": "stdout"
        },
        {
          "output_type": "stream",
          "text": [
            "INFO:elasticsearch:PUT https://kafka-homework3-5284633582.us-east-1.bonsaisearch.net:443/climatetweets/_doc/1387903160623124484 [status:201 request:0.148s]\n",
            "INFO:elasticsearch:PUT https://kafka-homework3-5284633582.us-east-1.bonsaisearch.net:443/climatetweets/_doc/1387903164091875335 [status:201 request:0.027s]\n",
            "INFO:elasticsearch:PUT https://kafka-homework3-5284633582.us-east-1.bonsaisearch.net:443/climatetweets/_doc/1387903176771137542 [status:201 request:0.027s]\n",
            "INFO:elasticsearch:PUT https://kafka-homework3-5284633582.us-east-1.bonsaisearch.net:443/climatetweets/_doc/1387903183536726024 [status:201 request:0.027s]\n",
            "INFO:elasticsearch:PUT https://kafka-homework3-5284633582.us-east-1.bonsaisearch.net:443/climatetweets/_doc/1387903205607157763 [status:201 request:0.028s]\n",
            "INFO:elasticsearch:PUT https://kafka-homework3-5284633582.us-east-1.bonsaisearch.net:443/climatetweets/_doc/1387903214864027658 [status:201 request:0.027s]\n",
            "INFO:elasticsearch:PUT https://kafka-homework3-5284633582.us-east-1.bonsaisearch.net:443/climatetweets/_doc/1387903227539206152 [status:201 request:0.030s]\n"
          ],
          "name": "stderr"
        },
        {
          "output_type": "stream",
          "text": [
            "123\n",
            "124\n",
            "125\n",
            "126\n",
            "127\n",
            "128\n",
            "129\n"
          ],
          "name": "stdout"
        },
        {
          "output_type": "stream",
          "text": [
            "INFO:elasticsearch:PUT https://kafka-homework3-5284633582.us-east-1.bonsaisearch.net:443/climatetweets/_doc/1387903238305943553 [status:201 request:0.030s]\n",
            "INFO:elasticsearch:PUT https://kafka-homework3-5284633582.us-east-1.bonsaisearch.net:443/climatetweets/_doc/1387903270069280770 [status:201 request:0.027s]\n",
            "INFO:elasticsearch:PUT https://kafka-homework3-5284633582.us-east-1.bonsaisearch.net:443/climatetweets/_doc/1387903296547872768 [status:201 request:0.034s]\n",
            "INFO:elasticsearch:PUT https://kafka-homework3-5284633582.us-east-1.bonsaisearch.net:443/climatetweets/_doc/1387903315233570816 [status:201 request:0.027s]\n",
            "INFO:elasticsearch:PUT https://kafka-homework3-5284633582.us-east-1.bonsaisearch.net:443/climatetweets/_doc/1387903315380379651 [status:201 request:0.029s]\n"
          ],
          "name": "stderr"
        },
        {
          "output_type": "stream",
          "text": [
            "130\n",
            "131\n",
            "132\n",
            "133\n",
            "134\n"
          ],
          "name": "stdout"
        },
        {
          "output_type": "stream",
          "text": [
            "INFO:elasticsearch:PUT https://kafka-homework3-5284633582.us-east-1.bonsaisearch.net:443/climatetweets/_doc/1387903335169236992 [status:201 request:0.260s]\n",
            "INFO:elasticsearch:PUT https://kafka-homework3-5284633582.us-east-1.bonsaisearch.net:443/climatetweets/_doc/1387903336993669120 [status:201 request:0.028s]\n",
            "INFO:elasticsearch:PUT https://kafka-homework3-5284633582.us-east-1.bonsaisearch.net:443/climatetweets/_doc/1387903348699959300 [status:201 request:0.027s]\n",
            "INFO:elasticsearch:PUT https://kafka-homework3-5284633582.us-east-1.bonsaisearch.net:443/climatetweets/_doc/1387903349572448258 [status:201 request:0.029s]\n",
            "INFO:elasticsearch:PUT https://kafka-homework3-5284633582.us-east-1.bonsaisearch.net:443/climatetweets/_doc/1387903361182175232 [status:201 request:0.032s]\n",
            "INFO:elasticsearch:PUT https://kafka-homework3-5284633582.us-east-1.bonsaisearch.net:443/climatetweets/_doc/1387903368878862344 [status:201 request:0.028s]\n",
            "INFO:elasticsearch:PUT https://kafka-homework3-5284633582.us-east-1.bonsaisearch.net:443/climatetweets/_doc/1387903384284454919 [status:201 request:0.028s]\n"
          ],
          "name": "stderr"
        },
        {
          "output_type": "stream",
          "text": [
            "135\n",
            "136\n",
            "137\n",
            "138\n",
            "139\n",
            "140\n",
            "141\n"
          ],
          "name": "stdout"
        },
        {
          "output_type": "stream",
          "text": [
            "INFO:elasticsearch:PUT https://kafka-homework3-5284633582.us-east-1.bonsaisearch.net:443/climatetweets/_doc/1387903387107213320 [status:201 request:0.032s]\n",
            "INFO:elasticsearch:PUT https://kafka-homework3-5284633582.us-east-1.bonsaisearch.net:443/climatetweets/_doc/1387903399170039811 [status:201 request:0.028s]\n",
            "INFO:elasticsearch:PUT https://kafka-homework3-5284633582.us-east-1.bonsaisearch.net:443/climatetweets/_doc/1387903401296633862 [status:201 request:0.029s]\n",
            "INFO:elasticsearch:PUT https://kafka-homework3-5284633582.us-east-1.bonsaisearch.net:443/climatetweets/_doc/1387903406438768641 [status:201 request:0.110s]\n"
          ],
          "name": "stderr"
        },
        {
          "output_type": "stream",
          "text": [
            "142\n",
            "143\n",
            "144\n",
            "145\n"
          ],
          "name": "stdout"
        },
        {
          "output_type": "stream",
          "text": [
            "INFO:elasticsearch:PUT https://kafka-homework3-5284633582.us-east-1.bonsaisearch.net:443/climatetweets/_doc/1387903409831956485 [status:201 request:0.029s]\n",
            "INFO:elasticsearch:PUT https://kafka-homework3-5284633582.us-east-1.bonsaisearch.net:443/climatetweets/_doc/1387903442778214403 [status:201 request:0.028s]\n",
            "INFO:elasticsearch:PUT https://kafka-homework3-5284633582.us-east-1.bonsaisearch.net:443/climatetweets/_doc/1387903453993783299 [status:201 request:0.029s]\n",
            "INFO:elasticsearch:PUT https://kafka-homework3-5284633582.us-east-1.bonsaisearch.net:443/climatetweets/_doc/1387903454564085762 [status:201 request:0.032s]\n",
            "INFO:elasticsearch:PUT https://kafka-homework3-5284633582.us-east-1.bonsaisearch.net:443/climatetweets/_doc/1387903461950373889 [status:201 request:0.030s]\n",
            "INFO:elasticsearch:PUT https://kafka-homework3-5284633582.us-east-1.bonsaisearch.net:443/climatetweets/_doc/1387903472851308546 [status:201 request:0.029s]\n",
            "INFO:elasticsearch:PUT https://kafka-homework3-5284633582.us-east-1.bonsaisearch.net:443/climatetweets/_doc/1387903477754388481 [status:201 request:0.029s]\n"
          ],
          "name": "stderr"
        },
        {
          "output_type": "stream",
          "text": [
            "146\n",
            "147\n",
            "148\n",
            "149\n",
            "150\n",
            "151\n",
            "152\n"
          ],
          "name": "stdout"
        },
        {
          "output_type": "stream",
          "text": [
            "INFO:elasticsearch:PUT https://kafka-homework3-5284633582.us-east-1.bonsaisearch.net:443/climatetweets/_doc/1387903485472120832 [status:201 request:0.028s]\n",
            "INFO:elasticsearch:PUT https://kafka-homework3-5284633582.us-east-1.bonsaisearch.net:443/climatetweets/_doc/1387903501829775361 [status:201 request:0.029s]\n",
            "INFO:elasticsearch:PUT https://kafka-homework3-5284633582.us-east-1.bonsaisearch.net:443/climatetweets/_doc/1387903504371666946 [status:201 request:0.031s]\n",
            "INFO:elasticsearch:PUT https://kafka-homework3-5284633582.us-east-1.bonsaisearch.net:443/climatetweets/_doc/1387903510176542731 [status:201 request:0.028s]\n",
            "INFO:elasticsearch:PUT https://kafka-homework3-5284633582.us-east-1.bonsaisearch.net:443/climatetweets/_doc/1387903513024352256 [status:201 request:0.027s]\n"
          ],
          "name": "stderr"
        },
        {
          "output_type": "stream",
          "text": [
            "153\n",
            "154\n",
            "155\n",
            "156\n",
            "157\n"
          ],
          "name": "stdout"
        },
        {
          "output_type": "stream",
          "text": [
            "INFO:elasticsearch:PUT https://kafka-homework3-5284633582.us-east-1.bonsaisearch.net:443/climatetweets/_doc/1387903512881807361 [status:201 request:0.208s]\n",
            "INFO:elasticsearch:PUT https://kafka-homework3-5284633582.us-east-1.bonsaisearch.net:443/climatetweets/_doc/1387903515259981826 [status:201 request:0.030s]\n",
            "INFO:elasticsearch:PUT https://kafka-homework3-5284633582.us-east-1.bonsaisearch.net:443/climatetweets/_doc/1387902116736417793 [status:201 request:0.027s]\n",
            "INFO:elasticsearch:PUT https://kafka-homework3-5284633582.us-east-1.bonsaisearch.net:443/climatetweets/_doc/1387902117961154570 [status:201 request:0.028s]\n",
            "INFO:elasticsearch:PUT https://kafka-homework3-5284633582.us-east-1.bonsaisearch.net:443/climatetweets/_doc/1387902125041016834 [status:201 request:0.030s]\n",
            "INFO:elasticsearch:PUT https://kafka-homework3-5284633582.us-east-1.bonsaisearch.net:443/climatetweets/_doc/1387902129042493442 [status:201 request:0.027s]\n",
            "INFO:elasticsearch:PUT https://kafka-homework3-5284633582.us-east-1.bonsaisearch.net:443/climatetweets/_doc/1387902131764490240 [status:201 request:0.029s]\n"
          ],
          "name": "stderr"
        },
        {
          "output_type": "stream",
          "text": [
            "158\n",
            "159\n",
            "160\n",
            "161\n",
            "162\n",
            "163\n",
            "164\n"
          ],
          "name": "stdout"
        },
        {
          "output_type": "stream",
          "text": [
            "INFO:elasticsearch:PUT https://kafka-homework3-5284633582.us-east-1.bonsaisearch.net:443/climatetweets/_doc/1387902146465734664 [status:201 request:0.028s]\n",
            "INFO:elasticsearch:PUT https://kafka-homework3-5284633582.us-east-1.bonsaisearch.net:443/climatetweets/_doc/1387902153067536385 [status:201 request:0.029s]\n",
            "INFO:elasticsearch:PUT https://kafka-homework3-5284633582.us-east-1.bonsaisearch.net:443/climatetweets/_doc/1387902159736303619 [status:201 request:0.028s]\n",
            "INFO:elasticsearch:PUT https://kafka-homework3-5284633582.us-east-1.bonsaisearch.net:443/climatetweets/_doc/1387902170163470336 [status:201 request:0.026s]\n",
            "INFO:elasticsearch:PUT https://kafka-homework3-5284633582.us-east-1.bonsaisearch.net:443/climatetweets/_doc/1387902171769942021 [status:201 request:0.033s]\n",
            "INFO:elasticsearch:PUT https://kafka-homework3-5284633582.us-east-1.bonsaisearch.net:443/climatetweets/_doc/1387902171836870656 [status:201 request:0.027s]\n",
            "INFO:elasticsearch:PUT https://kafka-homework3-5284633582.us-east-1.bonsaisearch.net:443/climatetweets/_doc/1387902188203085826 [status:201 request:0.030s]\n"
          ],
          "name": "stderr"
        },
        {
          "output_type": "stream",
          "text": [
            "165\n",
            "166\n",
            "167\n",
            "168\n",
            "169\n",
            "170\n",
            "171\n"
          ],
          "name": "stdout"
        },
        {
          "output_type": "stream",
          "text": [
            "INFO:elasticsearch:PUT https://kafka-homework3-5284633582.us-east-1.bonsaisearch.net:443/climatetweets/_doc/1387902190346399750 [status:201 request:0.031s]\n",
            "INFO:elasticsearch:PUT https://kafka-homework3-5284633582.us-east-1.bonsaisearch.net:443/climatetweets/_doc/1387902192418394113 [status:201 request:0.029s]\n",
            "INFO:elasticsearch:PUT https://kafka-homework3-5284633582.us-east-1.bonsaisearch.net:443/climatetweets/_doc/1387902195090268160 [status:201 request:0.028s]\n",
            "INFO:elasticsearch:PUT https://kafka-homework3-5284633582.us-east-1.bonsaisearch.net:443/climatetweets/_doc/1387902212777684995 [status:201 request:0.030s]\n",
            "INFO:elasticsearch:PUT https://kafka-homework3-5284633582.us-east-1.bonsaisearch.net:443/climatetweets/_doc/1387902217877745669 [status:201 request:0.031s]\n",
            "INFO:elasticsearch:PUT https://kafka-homework3-5284633582.us-east-1.bonsaisearch.net:443/climatetweets/_doc/1387902224693710852 [status:201 request:0.028s]\n",
            "INFO:elasticsearch:PUT https://kafka-homework3-5284633582.us-east-1.bonsaisearch.net:443/climatetweets/_doc/1387902227088617477 [status:201 request:0.027s]\n"
          ],
          "name": "stderr"
        },
        {
          "output_type": "stream",
          "text": [
            "172\n",
            "173\n",
            "174\n",
            "175\n",
            "176\n",
            "177\n",
            "178\n"
          ],
          "name": "stdout"
        },
        {
          "output_type": "stream",
          "text": [
            "INFO:elasticsearch:PUT https://kafka-homework3-5284633582.us-east-1.bonsaisearch.net:443/climatetweets/_doc/1387902231907684352 [status:201 request:0.029s]\n",
            "INFO:elasticsearch:PUT https://kafka-homework3-5284633582.us-east-1.bonsaisearch.net:443/climatetweets/_doc/1387902287713026049 [status:201 request:0.027s]\n",
            "INFO:elasticsearch:PUT https://kafka-homework3-5284633582.us-east-1.bonsaisearch.net:443/climatetweets/_doc/1387902290359635969 [status:201 request:0.030s]\n",
            "INFO:elasticsearch:PUT https://kafka-homework3-5284633582.us-east-1.bonsaisearch.net:443/climatetweets/_doc/1387902290976141319 [status:201 request:0.032s]\n",
            "INFO:elasticsearch:PUT https://kafka-homework3-5284633582.us-east-1.bonsaisearch.net:443/climatetweets/_doc/1387902300019175426 [status:201 request:0.030s]\n",
            "INFO:elasticsearch:PUT https://kafka-homework3-5284633582.us-east-1.bonsaisearch.net:443/climatetweets/_doc/1387902314351038472 [status:201 request:0.027s]\n",
            "INFO:elasticsearch:PUT https://kafka-homework3-5284633582.us-east-1.bonsaisearch.net:443/climatetweets/_doc/1387902333519110153 [status:201 request:0.027s]\n"
          ],
          "name": "stderr"
        },
        {
          "output_type": "stream",
          "text": [
            "179\n",
            "180\n",
            "181\n",
            "182\n",
            "183\n",
            "184\n",
            "185\n"
          ],
          "name": "stdout"
        },
        {
          "output_type": "stream",
          "text": [
            "INFO:elasticsearch:PUT https://kafka-homework3-5284633582.us-east-1.bonsaisearch.net:443/climatetweets/_doc/1387902344772345856 [status:201 request:0.030s]\n",
            "INFO:elasticsearch:PUT https://kafka-homework3-5284633582.us-east-1.bonsaisearch.net:443/climatetweets/_doc/1387902351948742657 [status:201 request:0.028s]\n",
            "INFO:elasticsearch:PUT https://kafka-homework3-5284633582.us-east-1.bonsaisearch.net:443/climatetweets/_doc/1387902405602390025 [status:201 request:0.028s]\n",
            "INFO:elasticsearch:PUT https://kafka-homework3-5284633582.us-east-1.bonsaisearch.net:443/climatetweets/_doc/1387902411281518599 [status:201 request:0.028s]\n",
            "INFO:elasticsearch:PUT https://kafka-homework3-5284633582.us-east-1.bonsaisearch.net:443/climatetweets/_doc/1387902423608537088 [status:201 request:0.028s]\n",
            "INFO:elasticsearch:PUT https://kafka-homework3-5284633582.us-east-1.bonsaisearch.net:443/climatetweets/_doc/1387902431925661699 [status:201 request:0.029s]\n",
            "INFO:elasticsearch:PUT https://kafka-homework3-5284633582.us-east-1.bonsaisearch.net:443/climatetweets/_doc/1387902432248668161 [status:201 request:0.031s]\n"
          ],
          "name": "stderr"
        },
        {
          "output_type": "stream",
          "text": [
            "186\n",
            "187\n",
            "188\n",
            "189\n",
            "190\n",
            "191\n",
            "192\n"
          ],
          "name": "stdout"
        },
        {
          "output_type": "stream",
          "text": [
            "INFO:elasticsearch:PUT https://kafka-homework3-5284633582.us-east-1.bonsaisearch.net:443/climatetweets/_doc/1387902432194310147 [status:201 request:0.034s]\n",
            "INFO:elasticsearch:PUT https://kafka-homework3-5284633582.us-east-1.bonsaisearch.net:443/climatetweets/_doc/1387902433901301767 [status:201 request:0.027s]\n",
            "INFO:elasticsearch:PUT https://kafka-homework3-5284633582.us-east-1.bonsaisearch.net:443/climatetweets/_doc/1387902439475486721 [status:201 request:0.031s]\n",
            "INFO:elasticsearch:PUT https://kafka-homework3-5284633582.us-east-1.bonsaisearch.net:443/climatetweets/_doc/1387902442893938692 [status:201 request:0.113s]\n"
          ],
          "name": "stderr"
        },
        {
          "output_type": "stream",
          "text": [
            "193\n",
            "194\n",
            "195\n",
            "196\n"
          ],
          "name": "stdout"
        },
        {
          "output_type": "stream",
          "text": [
            "INFO:elasticsearch:PUT https://kafka-homework3-5284633582.us-east-1.bonsaisearch.net:443/climatetweets/_doc/1387902443942555653 [status:201 request:0.028s]\n",
            "INFO:elasticsearch:PUT https://kafka-homework3-5284633582.us-east-1.bonsaisearch.net:443/climatetweets/_doc/1387902446090039297 [status:201 request:0.027s]\n",
            "INFO:elasticsearch:PUT https://kafka-homework3-5284633582.us-east-1.bonsaisearch.net:443/climatetweets/_doc/1387902451601313800 [status:201 request:0.028s]\n",
            "INFO:elasticsearch:PUT https://kafka-homework3-5284633582.us-east-1.bonsaisearch.net:443/climatetweets/_doc/1387902461269069824 [status:201 request:0.031s]\n",
            "INFO:elasticsearch:PUT https://kafka-homework3-5284633582.us-east-1.bonsaisearch.net:443/climatetweets/_doc/1387902471985668099 [status:201 request:0.029s]\n",
            "INFO:elasticsearch:PUT https://kafka-homework3-5284633582.us-east-1.bonsaisearch.net:443/climatetweets/_doc/1387902479069814786 [status:201 request:0.029s]\n",
            "INFO:elasticsearch:PUT https://kafka-homework3-5284633582.us-east-1.bonsaisearch.net:443/climatetweets/_doc/1387902484056793088 [status:201 request:0.030s]\n"
          ],
          "name": "stderr"
        },
        {
          "output_type": "stream",
          "text": [
            "197\n",
            "198\n",
            "199\n",
            "200\n",
            "201\n",
            "202\n",
            "203\n"
          ],
          "name": "stdout"
        },
        {
          "output_type": "stream",
          "text": [
            "INFO:elasticsearch:PUT https://kafka-homework3-5284633582.us-east-1.bonsaisearch.net:443/climatetweets/_doc/1387902494173446148 [status:201 request:0.028s]\n",
            "INFO:elasticsearch:PUT https://kafka-homework3-5284633582.us-east-1.bonsaisearch.net:443/climatetweets/_doc/1387902506018254850 [status:201 request:0.027s]\n",
            "INFO:elasticsearch:PUT https://kafka-homework3-5284633582.us-east-1.bonsaisearch.net:443/climatetweets/_doc/1387902511495872513 [status:201 request:0.028s]\n",
            "INFO:elasticsearch:PUT https://kafka-homework3-5284633582.us-east-1.bonsaisearch.net:443/climatetweets/_doc/1387902529082560513 [status:201 request:0.028s]\n",
            "INFO:elasticsearch:PUT https://kafka-homework3-5284633582.us-east-1.bonsaisearch.net:443/climatetweets/_doc/1387902530269626368 [status:201 request:0.027s]\n",
            "INFO:elasticsearch:PUT https://kafka-homework3-5284633582.us-east-1.bonsaisearch.net:443/climatetweets/_doc/1387902530772824068 [status:201 request:0.027s]\n",
            "INFO:elasticsearch:PUT https://kafka-homework3-5284633582.us-east-1.bonsaisearch.net:443/climatetweets/_doc/1387902534849761282 [status:201 request:0.033s]\n"
          ],
          "name": "stderr"
        },
        {
          "output_type": "stream",
          "text": [
            "204\n",
            "205\n",
            "206\n",
            "207\n",
            "208\n",
            "209\n",
            "210\n"
          ],
          "name": "stdout"
        },
        {
          "output_type": "stream",
          "text": [
            "INFO:elasticsearch:PUT https://kafka-homework3-5284633582.us-east-1.bonsaisearch.net:443/climatetweets/_doc/1387902536892387329 [status:201 request:0.031s]\n",
            "INFO:elasticsearch:PUT https://kafka-homework3-5284633582.us-east-1.bonsaisearch.net:443/climatetweets/_doc/1387902559914967040 [status:201 request:0.031s]\n",
            "INFO:elasticsearch:PUT https://kafka-homework3-5284633582.us-east-1.bonsaisearch.net:443/climatetweets/_doc/1387902600230670343 [status:201 request:0.028s]\n",
            "INFO:elasticsearch:PUT https://kafka-homework3-5284633582.us-east-1.bonsaisearch.net:443/climatetweets/_doc/1387902602009010183 [status:201 request:0.030s]\n",
            "INFO:elasticsearch:PUT https://kafka-homework3-5284633582.us-east-1.bonsaisearch.net:443/climatetweets/_doc/1387902604726910980 [status:201 request:0.028s]\n",
            "INFO:elasticsearch:PUT https://kafka-homework3-5284633582.us-east-1.bonsaisearch.net:443/climatetweets/_doc/1387902606157168650 [status:201 request:0.027s]\n",
            "INFO:elasticsearch:PUT https://kafka-homework3-5284633582.us-east-1.bonsaisearch.net:443/climatetweets/_doc/1387902607918780420 [status:201 request:0.027s]\n"
          ],
          "name": "stderr"
        },
        {
          "output_type": "stream",
          "text": [
            "211\n",
            "212\n",
            "213\n",
            "214\n",
            "215\n",
            "216\n",
            "217\n"
          ],
          "name": "stdout"
        },
        {
          "output_type": "stream",
          "text": [
            "INFO:elasticsearch:PUT https://kafka-homework3-5284633582.us-east-1.bonsaisearch.net:443/climatetweets/_doc/1387902639099334658 [status:201 request:0.027s]\n",
            "INFO:elasticsearch:PUT https://kafka-homework3-5284633582.us-east-1.bonsaisearch.net:443/climatetweets/_doc/1387902639229132801 [status:201 request:0.033s]\n",
            "INFO:elasticsearch:PUT https://kafka-homework3-5284633582.us-east-1.bonsaisearch.net:443/climatetweets/_doc/1387902655532453890 [status:201 request:0.027s]\n",
            "INFO:elasticsearch:PUT https://kafka-homework3-5284633582.us-east-1.bonsaisearch.net:443/climatetweets/_doc/1387902658455826439 [status:201 request:0.029s]\n",
            "INFO:elasticsearch:PUT https://kafka-homework3-5284633582.us-east-1.bonsaisearch.net:443/climatetweets/_doc/1387902662713221120 [status:201 request:0.028s]\n",
            "INFO:elasticsearch:PUT https://kafka-homework3-5284633582.us-east-1.bonsaisearch.net:443/climatetweets/_doc/1387902681293934597 [status:201 request:0.027s]\n",
            "INFO:elasticsearch:PUT https://kafka-homework3-5284633582.us-east-1.bonsaisearch.net:443/climatetweets/_doc/1387902696007606278 [status:201 request:0.033s]\n"
          ],
          "name": "stderr"
        },
        {
          "output_type": "stream",
          "text": [
            "218\n",
            "219\n",
            "220\n",
            "221\n",
            "222\n",
            "223\n",
            "224\n"
          ],
          "name": "stdout"
        },
        {
          "output_type": "stream",
          "text": [
            "INFO:elasticsearch:PUT https://kafka-homework3-5284633582.us-east-1.bonsaisearch.net:443/climatetweets/_doc/1387902696510967810 [status:201 request:0.027s]\n",
            "INFO:elasticsearch:PUT https://kafka-homework3-5284633582.us-east-1.bonsaisearch.net:443/climatetweets/_doc/1387902700923281409 [status:201 request:0.027s]\n",
            "INFO:elasticsearch:PUT https://kafka-homework3-5284633582.us-east-1.bonsaisearch.net:443/climatetweets/_doc/1387902736834994177 [status:201 request:0.032s]\n",
            "INFO:elasticsearch:PUT https://kafka-homework3-5284633582.us-east-1.bonsaisearch.net:443/climatetweets/_doc/1387902741435977729 [status:201 request:0.031s]\n",
            "INFO:elasticsearch:PUT https://kafka-homework3-5284633582.us-east-1.bonsaisearch.net:443/climatetweets/_doc/1387902753775792130 [status:201 request:0.027s]\n",
            "INFO:elasticsearch:PUT https://kafka-homework3-5284633582.us-east-1.bonsaisearch.net:443/climatetweets/_doc/1387902772650127363 [status:201 request:0.028s]\n",
            "INFO:elasticsearch:PUT https://kafka-homework3-5284633582.us-east-1.bonsaisearch.net:443/climatetweets/_doc/1387902776223674368 [status:201 request:0.029s]\n"
          ],
          "name": "stderr"
        },
        {
          "output_type": "stream",
          "text": [
            "225\n",
            "226\n",
            "227\n",
            "228\n",
            "229\n",
            "230\n",
            "231\n"
          ],
          "name": "stdout"
        },
        {
          "output_type": "stream",
          "text": [
            "INFO:elasticsearch:PUT https://kafka-homework3-5284633582.us-east-1.bonsaisearch.net:443/climatetweets/_doc/1387902776768872450 [status:201 request:0.031s]\n",
            "INFO:elasticsearch:PUT https://kafka-homework3-5284633582.us-east-1.bonsaisearch.net:443/climatetweets/_doc/1387902784775856129 [status:201 request:0.028s]\n",
            "INFO:elasticsearch:PUT https://kafka-homework3-5284633582.us-east-1.bonsaisearch.net:443/climatetweets/_doc/1387902806015705093 [status:201 request:0.027s]\n",
            "INFO:elasticsearch:PUT https://kafka-homework3-5284633582.us-east-1.bonsaisearch.net:443/climatetweets/_doc/1387902807785709569 [status:201 request:0.029s]\n",
            "INFO:elasticsearch:PUT https://kafka-homework3-5284633582.us-east-1.bonsaisearch.net:443/climatetweets/_doc/1387902826895007744 [status:201 request:0.029s]\n",
            "INFO:elasticsearch:PUT https://kafka-homework3-5284633582.us-east-1.bonsaisearch.net:443/climatetweets/_doc/1387902838441922562 [status:201 request:0.029s]\n",
            "INFO:elasticsearch:PUT https://kafka-homework3-5284633582.us-east-1.bonsaisearch.net:443/climatetweets/_doc/1387902845739933697 [status:201 request:0.029s]\n"
          ],
          "name": "stderr"
        },
        {
          "output_type": "stream",
          "text": [
            "232\n",
            "233\n",
            "234\n",
            "235\n",
            "236\n",
            "237\n",
            "238\n"
          ],
          "name": "stdout"
        },
        {
          "output_type": "stream",
          "text": [
            "INFO:elasticsearch:PUT https://kafka-homework3-5284633582.us-east-1.bonsaisearch.net:443/climatetweets/_doc/1387902848365645827 [status:201 request:0.026s]\n",
            "INFO:elasticsearch:PUT https://kafka-homework3-5284633582.us-east-1.bonsaisearch.net:443/climatetweets/_doc/1387902852488736768 [status:201 request:0.028s]\n",
            "INFO:elasticsearch:PUT https://kafka-homework3-5284633582.us-east-1.bonsaisearch.net:443/climatetweets/_doc/1387902867399270402 [status:201 request:0.031s]\n",
            "INFO:elasticsearch:PUT https://kafka-homework3-5284633582.us-east-1.bonsaisearch.net:443/climatetweets/_doc/1387902872596123649 [status:201 request:0.027s]\n",
            "INFO:elasticsearch:PUT https://kafka-homework3-5284633582.us-east-1.bonsaisearch.net:443/climatetweets/_doc/1387902873342644226 [status:201 request:0.027s]\n",
            "INFO:elasticsearch:PUT https://kafka-homework3-5284633582.us-east-1.bonsaisearch.net:443/climatetweets/_doc/1387902876006195202 [status:201 request:0.028s]\n",
            "INFO:elasticsearch:PUT https://kafka-homework3-5284633582.us-east-1.bonsaisearch.net:443/climatetweets/_doc/1387902878816288770 [status:201 request:0.028s]\n"
          ],
          "name": "stderr"
        },
        {
          "output_type": "stream",
          "text": [
            "239\n",
            "240\n",
            "241\n",
            "242\n",
            "243\n",
            "244\n",
            "245\n"
          ],
          "name": "stdout"
        },
        {
          "output_type": "stream",
          "text": [
            "INFO:elasticsearch:PUT https://kafka-homework3-5284633582.us-east-1.bonsaisearch.net:443/climatetweets/_doc/1387902890392494081 [status:201 request:0.027s]\n",
            "INFO:elasticsearch:PUT https://kafka-homework3-5284633582.us-east-1.bonsaisearch.net:443/climatetweets/_doc/1387902890933620739 [status:201 request:0.027s]\n",
            "INFO:elasticsearch:PUT https://kafka-homework3-5284633582.us-east-1.bonsaisearch.net:443/climatetweets/_doc/1387902894553370628 [status:201 request:0.028s]\n",
            "INFO:elasticsearch:PUT https://kafka-homework3-5284633582.us-east-1.bonsaisearch.net:443/climatetweets/_doc/1387902901138325507 [status:201 request:0.029s]\n",
            "INFO:elasticsearch:PUT https://kafka-homework3-5284633582.us-east-1.bonsaisearch.net:443/climatetweets/_doc/1387902902589657090 [status:201 request:0.034s]\n",
            "INFO:elasticsearch:PUT https://kafka-homework3-5284633582.us-east-1.bonsaisearch.net:443/climatetweets/_doc/1387902914887311360 [status:201 request:0.027s]\n",
            "INFO:elasticsearch:PUT https://kafka-homework3-5284633582.us-east-1.bonsaisearch.net:443/climatetweets/_doc/1387902924290990086 [status:201 request:0.028s]\n"
          ],
          "name": "stderr"
        },
        {
          "output_type": "stream",
          "text": [
            "246\n",
            "247\n",
            "248\n",
            "249\n",
            "250\n",
            "251\n",
            "252\n"
          ],
          "name": "stdout"
        },
        {
          "output_type": "stream",
          "text": [
            "INFO:elasticsearch:PUT https://kafka-homework3-5284633582.us-east-1.bonsaisearch.net:443/climatetweets/_doc/1387902925679337472 [status:201 request:0.028s]\n",
            "INFO:elasticsearch:PUT https://kafka-homework3-5284633582.us-east-1.bonsaisearch.net:443/climatetweets/_doc/1387902926471843841 [status:201 request:0.027s]\n",
            "INFO:elasticsearch:PUT https://kafka-homework3-5284633582.us-east-1.bonsaisearch.net:443/climatetweets/_doc/1387902934298488832 [status:201 request:0.028s]\n",
            "INFO:elasticsearch:PUT https://kafka-homework3-5284633582.us-east-1.bonsaisearch.net:443/climatetweets/_doc/1387902935900856324 [status:201 request:0.027s]\n",
            "INFO:elasticsearch:PUT https://kafka-homework3-5284633582.us-east-1.bonsaisearch.net:443/climatetweets/_doc/1387902936898965507 [status:201 request:0.027s]\n",
            "INFO:elasticsearch:PUT https://kafka-homework3-5284633582.us-east-1.bonsaisearch.net:443/climatetweets/_doc/1387902955018276864 [status:201 request:0.029s]\n",
            "INFO:elasticsearch:PUT https://kafka-homework3-5284633582.us-east-1.bonsaisearch.net:443/climatetweets/_doc/1387903008034361344 [status:201 request:0.026s]\n"
          ],
          "name": "stderr"
        },
        {
          "output_type": "stream",
          "text": [
            "253\n",
            "254\n",
            "255\n",
            "256\n",
            "257\n",
            "258\n",
            "259\n"
          ],
          "name": "stdout"
        },
        {
          "output_type": "stream",
          "text": [
            "INFO:elasticsearch:PUT https://kafka-homework3-5284633582.us-east-1.bonsaisearch.net:443/climatetweets/_doc/1387903008659361795 [status:201 request:0.028s]\n",
            "INFO:elasticsearch:PUT https://kafka-homework3-5284633582.us-east-1.bonsaisearch.net:443/climatetweets/_doc/1387903023368732673 [status:201 request:0.027s]\n",
            "INFO:elasticsearch:PUT https://kafka-homework3-5284633582.us-east-1.bonsaisearch.net:443/climatetweets/_doc/1387903029903511555 [status:201 request:0.027s]\n",
            "INFO:elasticsearch:PUT https://kafka-homework3-5284633582.us-east-1.bonsaisearch.net:443/climatetweets/_doc/1387903032537583617 [status:201 request:0.031s]\n",
            "INFO:elasticsearch:PUT https://kafka-homework3-5284633582.us-east-1.bonsaisearch.net:443/climatetweets/_doc/1387903036597616643 [status:201 request:0.027s]\n",
            "INFO:elasticsearch:PUT https://kafka-homework3-5284633582.us-east-1.bonsaisearch.net:443/climatetweets/_doc/1387903083112456204 [status:201 request:0.027s]\n",
            "INFO:elasticsearch:PUT https://kafka-homework3-5284633582.us-east-1.bonsaisearch.net:443/climatetweets/_doc/1387903083984924673 [status:201 request:0.028s]\n"
          ],
          "name": "stderr"
        },
        {
          "output_type": "stream",
          "text": [
            "260\n",
            "261\n",
            "262\n",
            "263\n",
            "264\n",
            "265\n",
            "266\n"
          ],
          "name": "stdout"
        },
        {
          "output_type": "stream",
          "text": [
            "INFO:elasticsearch:PUT https://kafka-homework3-5284633582.us-east-1.bonsaisearch.net:443/climatetweets/_doc/1387903085456986114 [status:201 request:0.026s]\n",
            "INFO:elasticsearch:PUT https://kafka-homework3-5284633582.us-east-1.bonsaisearch.net:443/climatetweets/_doc/1387903092700626944 [status:201 request:0.030s]\n",
            "INFO:elasticsearch:PUT https://kafka-homework3-5284633582.us-east-1.bonsaisearch.net:443/climatetweets/_doc/1387903102859112452 [status:201 request:0.028s]\n",
            "INFO:elasticsearch:PUT https://kafka-homework3-5284633582.us-east-1.bonsaisearch.net:443/climatetweets/_doc/1387903118957064192 [status:201 request:0.031s]\n",
            "INFO:elasticsearch:PUT https://kafka-homework3-5284633582.us-east-1.bonsaisearch.net:443/climatetweets/_doc/1387903165274759169 [status:201 request:0.030s]\n",
            "INFO:elasticsearch:PUT https://kafka-homework3-5284633582.us-east-1.bonsaisearch.net:443/climatetweets/_doc/1387903168449679363 [status:201 request:0.031s]\n",
            "INFO:elasticsearch:PUT https://kafka-homework3-5284633582.us-east-1.bonsaisearch.net:443/climatetweets/_doc/1387903175110299650 [status:201 request:0.031s]\n"
          ],
          "name": "stderr"
        },
        {
          "output_type": "stream",
          "text": [
            "267\n",
            "268\n",
            "269\n",
            "270\n",
            "271\n",
            "272\n",
            "273\n"
          ],
          "name": "stdout"
        },
        {
          "output_type": "stream",
          "text": [
            "INFO:elasticsearch:PUT https://kafka-homework3-5284633582.us-east-1.bonsaisearch.net:443/climatetweets/_doc/1387903175395528705 [status:201 request:0.027s]\n",
            "INFO:elasticsearch:PUT https://kafka-homework3-5284633582.us-east-1.bonsaisearch.net:443/climatetweets/_doc/1387903176141987841 [status:201 request:0.033s]\n",
            "INFO:elasticsearch:PUT https://kafka-homework3-5284633582.us-east-1.bonsaisearch.net:443/climatetweets/_doc/1387903180109975552 [status:201 request:0.124s]\n",
            "INFO:elasticsearch:PUT https://kafka-homework3-5284633582.us-east-1.bonsaisearch.net:443/climatetweets/_doc/1387903180672061443 [status:201 request:0.030s]\n"
          ],
          "name": "stderr"
        },
        {
          "output_type": "stream",
          "text": [
            "274\n",
            "275\n",
            "276\n",
            "277\n"
          ],
          "name": "stdout"
        },
        {
          "output_type": "stream",
          "text": [
            "INFO:elasticsearch:PUT https://kafka-homework3-5284633582.us-east-1.bonsaisearch.net:443/climatetweets/_doc/1387903189836394505 [status:201 request:0.028s]\n",
            "INFO:elasticsearch:PUT https://kafka-homework3-5284633582.us-east-1.bonsaisearch.net:443/climatetweets/_doc/1387903204688605185 [status:201 request:0.028s]\n",
            "INFO:elasticsearch:PUT https://kafka-homework3-5284633582.us-east-1.bonsaisearch.net:443/climatetweets/_doc/1387903211961556995 [status:201 request:0.026s]\n",
            "INFO:elasticsearch:PUT https://kafka-homework3-5284633582.us-east-1.bonsaisearch.net:443/climatetweets/_doc/1387903226859560966 [status:201 request:0.026s]\n",
            "INFO:elasticsearch:PUT https://kafka-homework3-5284633582.us-east-1.bonsaisearch.net:443/climatetweets/_doc/1387903232270290945 [status:201 request:0.027s]\n",
            "INFO:elasticsearch:PUT https://kafka-homework3-5284633582.us-east-1.bonsaisearch.net:443/climatetweets/_doc/1387903248804220937 [status:201 request:0.026s]\n",
            "INFO:elasticsearch:PUT https://kafka-homework3-5284633582.us-east-1.bonsaisearch.net:443/climatetweets/_doc/1387903250112946184 [status:201 request:0.027s]\n",
            "INFO:elasticsearch:PUT https://kafka-homework3-5284633582.us-east-1.bonsaisearch.net:443/climatetweets/_doc/1387903253434802178 [status:201 request:0.027s]\n"
          ],
          "name": "stderr"
        },
        {
          "output_type": "stream",
          "text": [
            "278\n",
            "279\n",
            "280\n",
            "281\n",
            "282\n",
            "283\n",
            "284\n"
          ],
          "name": "stdout"
        },
        {
          "output_type": "stream",
          "text": [
            "INFO:elasticsearch:PUT https://kafka-homework3-5284633582.us-east-1.bonsaisearch.net:443/climatetweets/_doc/1387903256924409857 [status:201 request:0.029s]\n",
            "INFO:elasticsearch:PUT https://kafka-homework3-5284633582.us-east-1.bonsaisearch.net:443/climatetweets/_doc/1387903259583516672 [status:201 request:0.030s]\n",
            "INFO:elasticsearch:PUT https://kafka-homework3-5284633582.us-east-1.bonsaisearch.net:443/climatetweets/_doc/1387903277824716800 [status:201 request:0.028s]\n",
            "INFO:elasticsearch:PUT https://kafka-homework3-5284633582.us-east-1.bonsaisearch.net:443/climatetweets/_doc/1387903283797368835 [status:201 request:0.029s]\n",
            "INFO:elasticsearch:PUT https://kafka-homework3-5284633582.us-east-1.bonsaisearch.net:443/climatetweets/_doc/1387903285949042696 [status:201 request:0.027s]\n",
            "INFO:elasticsearch:PUT https://kafka-homework3-5284633582.us-east-1.bonsaisearch.net:443/climatetweets/_doc/1387903297802100744 [status:201 request:0.031s]\n",
            "INFO:elasticsearch:PUT https://kafka-homework3-5284633582.us-east-1.bonsaisearch.net:443/climatetweets/_doc/1387903300213911559 [status:201 request:0.028s]\n"
          ],
          "name": "stderr"
        },
        {
          "output_type": "stream",
          "text": [
            "285\n",
            "286\n",
            "287\n",
            "288\n",
            "289\n",
            "290\n",
            "291\n",
            "292\n"
          ],
          "name": "stdout"
        },
        {
          "output_type": "stream",
          "text": [
            "INFO:elasticsearch:PUT https://kafka-homework3-5284633582.us-east-1.bonsaisearch.net:443/climatetweets/_doc/1387903307235028993 [status:201 request:0.028s]\n",
            "INFO:elasticsearch:PUT https://kafka-homework3-5284633582.us-east-1.bonsaisearch.net:443/climatetweets/_doc/1387903310158450690 [status:201 request:0.029s]\n",
            "INFO:elasticsearch:PUT https://kafka-homework3-5284633582.us-east-1.bonsaisearch.net:443/climatetweets/_doc/1387903317989228544 [status:201 request:0.029s]\n",
            "INFO:elasticsearch:PUT https://kafka-homework3-5284633582.us-east-1.bonsaisearch.net:443/climatetweets/_doc/1387903332203835393 [status:201 request:0.027s]\n",
            "INFO:elasticsearch:PUT https://kafka-homework3-5284633582.us-east-1.bonsaisearch.net:443/climatetweets/_doc/1387903332711288832 [status:201 request:0.029s]\n",
            "INFO:elasticsearch:PUT https://kafka-homework3-5284633582.us-east-1.bonsaisearch.net:443/climatetweets/_doc/1387903340827136002 [status:201 request:0.030s]\n",
            "INFO:elasticsearch:PUT https://kafka-homework3-5284633582.us-east-1.bonsaisearch.net:443/climatetweets/_doc/1387903348813168640 [status:201 request:0.029s]\n"
          ],
          "name": "stderr"
        },
        {
          "output_type": "stream",
          "text": [
            "293\n",
            "294\n",
            "295\n",
            "296\n",
            "297\n",
            "298\n",
            "299\n"
          ],
          "name": "stdout"
        },
        {
          "output_type": "stream",
          "text": [
            "INFO:elasticsearch:PUT https://kafka-homework3-5284633582.us-east-1.bonsaisearch.net:443/climatetweets/_doc/1387903356346114049 [status:201 request:0.123s]\n",
            "INFO:elasticsearch:PUT https://kafka-homework3-5284633582.us-east-1.bonsaisearch.net:443/climatetweets/_doc/1387903359781376000 [status:201 request:0.029s]\n",
            "INFO:elasticsearch:PUT https://kafka-homework3-5284633582.us-east-1.bonsaisearch.net:443/climatetweets/_doc/1387903364382355456 [status:201 request:0.029s]\n",
            "INFO:elasticsearch:PUT https://kafka-homework3-5284633582.us-east-1.bonsaisearch.net:443/climatetweets/_doc/1387903369755467777 [status:201 request:0.110s]\n"
          ],
          "name": "stderr"
        },
        {
          "output_type": "stream",
          "text": [
            "300\n",
            "301\n",
            "302\n",
            "303\n"
          ],
          "name": "stdout"
        },
        {
          "output_type": "stream",
          "text": [
            "INFO:elasticsearch:PUT https://kafka-homework3-5284633582.us-east-1.bonsaisearch.net:443/climatetweets/_doc/1387903372213186560 [status:201 request:0.030s]\n",
            "INFO:elasticsearch:PUT https://kafka-homework3-5284633582.us-east-1.bonsaisearch.net:443/climatetweets/_doc/1387903379620442112 [status:201 request:0.027s]\n",
            "INFO:elasticsearch:PUT https://kafka-homework3-5284633582.us-east-1.bonsaisearch.net:443/climatetweets/_doc/1387903382300635136 [status:201 request:0.028s]\n",
            "INFO:elasticsearch:PUT https://kafka-homework3-5284633582.us-east-1.bonsaisearch.net:443/climatetweets/_doc/1387903399207841793 [status:201 request:0.028s]\n",
            "INFO:elasticsearch:PUT https://kafka-homework3-5284633582.us-east-1.bonsaisearch.net:443/climatetweets/_doc/1387903407701340163 [status:201 request:0.029s]\n",
            "INFO:elasticsearch:PUT https://kafka-homework3-5284633582.us-east-1.bonsaisearch.net:443/climatetweets/_doc/1387903436629364736 [status:201 request:0.028s]\n",
            "INFO:elasticsearch:PUT https://kafka-homework3-5284633582.us-east-1.bonsaisearch.net:443/climatetweets/_doc/1387903439393333253 [status:201 request:0.028s]\n"
          ],
          "name": "stderr"
        },
        {
          "output_type": "stream",
          "text": [
            "304\n",
            "305\n",
            "306\n",
            "307\n",
            "308\n",
            "309\n",
            "310\n"
          ],
          "name": "stdout"
        },
        {
          "output_type": "stream",
          "text": [
            "INFO:elasticsearch:PUT https://kafka-homework3-5284633582.us-east-1.bonsaisearch.net:443/climatetweets/_doc/1387903450470445058 [status:201 request:0.027s]\n",
            "INFO:elasticsearch:PUT https://kafka-homework3-5284633582.us-east-1.bonsaisearch.net:443/climatetweets/_doc/1387903456564989952 [status:201 request:0.028s]\n",
            "INFO:elasticsearch:PUT https://kafka-homework3-5284633582.us-east-1.bonsaisearch.net:443/climatetweets/_doc/1387903458888634369 [status:201 request:0.032s]\n",
            "INFO:elasticsearch:PUT https://kafka-homework3-5284633582.us-east-1.bonsaisearch.net:443/climatetweets/_doc/1387903494053515269 [status:201 request:0.027s]\n",
            "INFO:elasticsearch:PUT https://kafka-homework3-5284633582.us-east-1.bonsaisearch.net:443/climatetweets/_doc/1387903500609228805 [status:201 request:0.027s]\n",
            "INFO:elasticsearch:PUT https://kafka-homework3-5284633582.us-east-1.bonsaisearch.net:443/climatetweets/_doc/1387903528740474883 [status:201 request:0.026s]\n",
            "INFO:elasticsearch:PUT https://kafka-homework3-5284633582.us-east-1.bonsaisearch.net:443/climatetweets/_doc/1387903530757939201 [status:201 request:0.027s]\n"
          ],
          "name": "stderr"
        },
        {
          "output_type": "stream",
          "text": [
            "311\n",
            "312\n",
            "313\n",
            "314\n",
            "315\n",
            "316\n",
            "317\n"
          ],
          "name": "stdout"
        },
        {
          "output_type": "stream",
          "text": [
            "INFO:elasticsearch:PUT https://kafka-homework3-5284633582.us-east-1.bonsaisearch.net:443/climatetweets/_doc/1387903532569817089 [status:201 request:0.029s]\n",
            "INFO:elasticsearch:PUT https://kafka-homework3-5284633582.us-east-1.bonsaisearch.net:443/climatetweets/_doc/1387903534771933184 [status:201 request:0.028s]\n",
            "INFO:elasticsearch:PUT https://kafka-homework3-5284633582.us-east-1.bonsaisearch.net:443/climatetweets/_doc/1387903535841529856 [status:201 request:0.032s]\n",
            "INFO:elasticsearch:PUT https://kafka-homework3-5284633582.us-east-1.bonsaisearch.net:443/climatetweets/_doc/1387903538529984515 [status:201 request:0.027s]\n",
            "INFO:elasticsearch:PUT https://kafka-homework3-5284633582.us-east-1.bonsaisearch.net:443/climatetweets/_doc/1387903538957852675 [status:201 request:0.028s]\n"
          ],
          "name": "stderr"
        },
        {
          "output_type": "stream",
          "text": [
            "318\n",
            "319\n",
            "320\n",
            "321\n",
            "322\n"
          ],
          "name": "stdout"
        },
        {
          "output_type": "stream",
          "text": [
            "INFO:elasticsearch:PUT https://kafka-homework3-5284633582.us-east-1.bonsaisearch.net:443/climatetweets/_doc/1387903540698521610 [status:201 request:0.110s]\n",
            "INFO:elasticsearch:PUT https://kafka-homework3-5284633582.us-east-1.bonsaisearch.net:443/climatetweets/_doc/1387902126571941893 [status:201 request:0.027s]\n",
            "INFO:elasticsearch:PUT https://kafka-homework3-5284633582.us-east-1.bonsaisearch.net:443/climatetweets/_doc/1387902136281882629 [status:201 request:0.027s]\n",
            "INFO:elasticsearch:PUT https://kafka-homework3-5284633582.us-east-1.bonsaisearch.net:443/climatetweets/_doc/1387902140044173314 [status:201 request:0.029s]\n",
            "INFO:elasticsearch:PUT https://kafka-homework3-5284633582.us-east-1.bonsaisearch.net:443/climatetweets/_doc/1387902141684142082 [status:201 request:0.028s]\n",
            "INFO:elasticsearch:PUT https://kafka-homework3-5284633582.us-east-1.bonsaisearch.net:443/climatetweets/_doc/1387902145681297412 [status:201 request:0.028s]\n",
            "INFO:elasticsearch:PUT https://kafka-homework3-5284633582.us-east-1.bonsaisearch.net:443/climatetweets/_doc/1387902151758811139 [status:201 request:0.026s]\n"
          ],
          "name": "stderr"
        },
        {
          "output_type": "stream",
          "text": [
            "323\n",
            "324\n",
            "325\n",
            "326\n",
            "327\n",
            "328\n",
            "329\n"
          ],
          "name": "stdout"
        },
        {
          "output_type": "stream",
          "text": [
            "INFO:elasticsearch:PUT https://kafka-homework3-5284633582.us-east-1.bonsaisearch.net:443/climatetweets/_doc/1387902165394477062 [status:201 request:0.028s]\n",
            "INFO:elasticsearch:PUT https://kafka-homework3-5284633582.us-east-1.bonsaisearch.net:443/climatetweets/_doc/1387902174756151301 [status:201 request:0.028s]\n",
            "INFO:elasticsearch:PUT https://kafka-homework3-5284633582.us-east-1.bonsaisearch.net:443/climatetweets/_doc/1387902201314615308 [status:201 request:0.028s]\n",
            "INFO:elasticsearch:PUT https://kafka-homework3-5284633582.us-east-1.bonsaisearch.net:443/climatetweets/_doc/1387902200014249986 [status:201 request:0.028s]\n",
            "INFO:elasticsearch:PUT https://kafka-homework3-5284633582.us-east-1.bonsaisearch.net:443/climatetweets/_doc/1387902204317638660 [status:201 request:0.034s]\n",
            "INFO:elasticsearch:PUT https://kafka-homework3-5284633582.us-east-1.bonsaisearch.net:443/climatetweets/_doc/1387902212114898947 [status:201 request:0.028s]\n",
            "INFO:elasticsearch:PUT https://kafka-homework3-5284633582.us-east-1.bonsaisearch.net:443/climatetweets/_doc/1387902217504579584 [status:201 request:0.029s]\n"
          ],
          "name": "stderr"
        },
        {
          "output_type": "stream",
          "text": [
            "330\n",
            "331\n",
            "332\n",
            "333\n",
            "334\n",
            "335\n",
            "336\n"
          ],
          "name": "stdout"
        },
        {
          "output_type": "stream",
          "text": [
            "INFO:elasticsearch:PUT https://kafka-homework3-5284633582.us-east-1.bonsaisearch.net:443/climatetweets/_doc/1387902220738338818 [status:201 request:0.028s]\n",
            "INFO:elasticsearch:PUT https://kafka-homework3-5284633582.us-east-1.bonsaisearch.net:443/climatetweets/_doc/1387902264652800001 [status:201 request:0.031s]\n",
            "INFO:elasticsearch:PUT https://kafka-homework3-5284633582.us-east-1.bonsaisearch.net:443/climatetweets/_doc/1387902266410106882 [status:201 request:0.030s]\n",
            "INFO:elasticsearch:PUT https://kafka-homework3-5284633582.us-east-1.bonsaisearch.net:443/climatetweets/_doc/1387902276497412096 [status:201 request:0.029s]\n",
            "INFO:elasticsearch:PUT https://kafka-homework3-5284633582.us-east-1.bonsaisearch.net:443/climatetweets/_doc/1387902276799500290 [status:201 request:0.027s]\n",
            "INFO:elasticsearch:PUT https://kafka-homework3-5284633582.us-east-1.bonsaisearch.net:443/climatetweets/_doc/1387902287062908932 [status:201 request:0.029s]\n",
            "INFO:elasticsearch:PUT https://kafka-homework3-5284633582.us-east-1.bonsaisearch.net:443/climatetweets/_doc/1387902289269071872 [status:201 request:0.028s]\n"
          ],
          "name": "stderr"
        },
        {
          "output_type": "stream",
          "text": [
            "337\n",
            "338\n",
            "339\n",
            "340\n",
            "341\n",
            "342\n",
            "343\n"
          ],
          "name": "stdout"
        },
        {
          "output_type": "stream",
          "text": [
            "INFO:elasticsearch:PUT https://kafka-homework3-5284633582.us-east-1.bonsaisearch.net:443/climatetweets/_doc/1387902296080588802 [status:201 request:0.028s]\n",
            "INFO:elasticsearch:PUT https://kafka-homework3-5284633582.us-east-1.bonsaisearch.net:443/climatetweets/_doc/1387902305702268930 [status:201 request:0.027s]\n",
            "INFO:elasticsearch:PUT https://kafka-homework3-5284633582.us-east-1.bonsaisearch.net:443/climatetweets/_doc/1387902321183449090 [status:201 request:0.028s]\n",
            "INFO:elasticsearch:PUT https://kafka-homework3-5284633582.us-east-1.bonsaisearch.net:443/climatetweets/_doc/1387902331539247105 [status:201 request:0.030s]\n",
            "INFO:elasticsearch:PUT https://kafka-homework3-5284633582.us-east-1.bonsaisearch.net:443/climatetweets/_doc/1387902336383737860 [status:201 request:0.027s]\n",
            "INFO:elasticsearch:PUT https://kafka-homework3-5284633582.us-east-1.bonsaisearch.net:443/climatetweets/_doc/1387902357900562432 [status:201 request:0.028s]\n",
            "INFO:elasticsearch:PUT https://kafka-homework3-5284633582.us-east-1.bonsaisearch.net:443/climatetweets/_doc/1387902364456132612 [status:201 request:0.028s]\n"
          ],
          "name": "stderr"
        },
        {
          "output_type": "stream",
          "text": [
            "344\n",
            "345\n",
            "346\n",
            "347\n",
            "348\n",
            "349\n",
            "350\n"
          ],
          "name": "stdout"
        },
        {
          "output_type": "stream",
          "text": [
            "INFO:elasticsearch:PUT https://kafka-homework3-5284633582.us-east-1.bonsaisearch.net:443/climatetweets/_doc/1387902382802018304 [status:201 request:0.029s]\n",
            "INFO:elasticsearch:PUT https://kafka-homework3-5284633582.us-east-1.bonsaisearch.net:443/climatetweets/_doc/1387902385553563653 [status:201 request:0.026s]\n",
            "INFO:elasticsearch:PUT https://kafka-homework3-5284633582.us-east-1.bonsaisearch.net:443/climatetweets/_doc/1387902395053613062 [status:201 request:0.034s]\n",
            "INFO:elasticsearch:PUT https://kafka-homework3-5284633582.us-east-1.bonsaisearch.net:443/climatetweets/_doc/1387902399629639683 [status:201 request:0.025s]\n",
            "INFO:elasticsearch:PUT https://kafka-homework3-5284633582.us-east-1.bonsaisearch.net:443/climatetweets/_doc/1387902402641108994 [status:201 request:0.029s]\n",
            "INFO:elasticsearch:PUT https://kafka-homework3-5284633582.us-east-1.bonsaisearch.net:443/climatetweets/_doc/1387902411260497920 [status:201 request:0.027s]\n",
            "INFO:elasticsearch:PUT https://kafka-homework3-5284633582.us-east-1.bonsaisearch.net:443/climatetweets/_doc/1387902417656696833 [status:201 request:0.028s]\n"
          ],
          "name": "stderr"
        },
        {
          "output_type": "stream",
          "text": [
            "351\n",
            "352\n",
            "353\n",
            "354\n",
            "355\n",
            "356\n",
            "357\n"
          ],
          "name": "stdout"
        },
        {
          "output_type": "stream",
          "text": [
            "INFO:elasticsearch:PUT https://kafka-homework3-5284633582.us-east-1.bonsaisearch.net:443/climatetweets/_doc/1387902426758279170 [status:201 request:0.027s]\n",
            "INFO:elasticsearch:PUT https://kafka-homework3-5284633582.us-east-1.bonsaisearch.net:443/climatetweets/_doc/1387902431393026054 [status:201 request:0.029s]\n",
            "INFO:elasticsearch:PUT https://kafka-homework3-5284633582.us-east-1.bonsaisearch.net:443/climatetweets/_doc/1387902451009818624 [status:201 request:0.029s]\n",
            "INFO:elasticsearch:PUT https://kafka-homework3-5284633582.us-east-1.bonsaisearch.net:443/climatetweets/_doc/1387902452662427649 [status:201 request:0.028s]\n",
            "INFO:elasticsearch:PUT https://kafka-homework3-5284633582.us-east-1.bonsaisearch.net:443/climatetweets/_doc/1387902460337922051 [status:201 request:0.025s]\n",
            "INFO:elasticsearch:PUT https://kafka-homework3-5284633582.us-east-1.bonsaisearch.net:443/climatetweets/_doc/1387902472870629376 [status:201 request:0.028s]\n",
            "INFO:elasticsearch:PUT https://kafka-homework3-5284633582.us-east-1.bonsaisearch.net:443/climatetweets/_doc/1387902475647082498 [status:201 request:0.026s]\n"
          ],
          "name": "stderr"
        },
        {
          "output_type": "stream",
          "text": [
            "358\n",
            "359\n",
            "360\n",
            "361\n",
            "362\n",
            "363\n",
            "364\n"
          ],
          "name": "stdout"
        },
        {
          "output_type": "stream",
          "text": [
            "INFO:elasticsearch:PUT https://kafka-homework3-5284633582.us-east-1.bonsaisearch.net:443/climatetweets/_doc/1387902483545141254 [status:201 request:0.027s]\n",
            "INFO:elasticsearch:PUT https://kafka-homework3-5284633582.us-east-1.bonsaisearch.net:443/climatetweets/_doc/1387902503753117701 [status:201 request:0.030s]\n",
            "INFO:elasticsearch:PUT https://kafka-homework3-5284633582.us-east-1.bonsaisearch.net:443/climatetweets/_doc/1387902518554996737 [status:201 request:0.029s]\n",
            "INFO:elasticsearch:PUT https://kafka-homework3-5284633582.us-east-1.bonsaisearch.net:443/climatetweets/_doc/1387902524573863938 [status:201 request:0.027s]\n",
            "INFO:elasticsearch:PUT https://kafka-homework3-5284633582.us-east-1.bonsaisearch.net:443/climatetweets/_doc/1387902528772354056 [status:201 request:0.029s]\n",
            "INFO:elasticsearch:PUT https://kafka-homework3-5284633582.us-east-1.bonsaisearch.net:443/climatetweets/_doc/1387902543909380103 [status:201 request:0.031s]\n"
          ],
          "name": "stderr"
        },
        {
          "output_type": "stream",
          "text": [
            "365\n",
            "366\n",
            "367\n",
            "368\n",
            "369\n",
            "370\n"
          ],
          "name": "stdout"
        },
        {
          "output_type": "stream",
          "text": [
            "INFO:elasticsearch:PUT https://kafka-homework3-5284633582.us-east-1.bonsaisearch.net:443/climatetweets/_doc/1387902558782504976 [status:201 request:0.100s]\n",
            "INFO:elasticsearch:PUT https://kafka-homework3-5284633582.us-east-1.bonsaisearch.net:443/climatetweets/_doc/1387902573747785734 [status:201 request:0.031s]\n",
            "INFO:elasticsearch:PUT https://kafka-homework3-5284633582.us-east-1.bonsaisearch.net:443/climatetweets/_doc/1387902574850887683 [status:201 request:0.028s]\n",
            "INFO:elasticsearch:PUT https://kafka-homework3-5284633582.us-east-1.bonsaisearch.net:443/climatetweets/_doc/1387902596413677568 [status:201 request:0.026s]\n",
            "INFO:elasticsearch:PUT https://kafka-homework3-5284633582.us-east-1.bonsaisearch.net:443/climatetweets/_doc/1387902602210422784 [status:201 request:0.027s]\n",
            "INFO:elasticsearch:PUT https://kafka-homework3-5284633582.us-east-1.bonsaisearch.net:443/climatetweets/_doc/1387902623173562369 [status:201 request:0.029s]\n",
            "INFO:elasticsearch:PUT https://kafka-homework3-5284633582.us-east-1.bonsaisearch.net:443/climatetweets/_doc/1387902624381374466 [status:201 request:0.029s]\n"
          ],
          "name": "stderr"
        },
        {
          "output_type": "stream",
          "text": [
            "371\n",
            "372\n",
            "373\n",
            "374\n",
            "375\n",
            "376\n",
            "377\n"
          ],
          "name": "stdout"
        },
        {
          "output_type": "stream",
          "text": [
            "INFO:elasticsearch:PUT https://kafka-homework3-5284633582.us-east-1.bonsaisearch.net:443/climatetweets/_doc/1387902624603774981 [status:201 request:0.027s]\n",
            "INFO:elasticsearch:PUT https://kafka-homework3-5284633582.us-east-1.bonsaisearch.net:443/climatetweets/_doc/1387902625174151170 [status:201 request:0.027s]\n",
            "INFO:elasticsearch:PUT https://kafka-homework3-5284633582.us-east-1.bonsaisearch.net:443/climatetweets/_doc/1387902646380597248 [status:201 request:0.029s]\n",
            "INFO:elasticsearch:PUT https://kafka-homework3-5284633582.us-east-1.bonsaisearch.net:443/climatetweets/_doc/1387902649010475015 [status:201 request:0.031s]\n",
            "INFO:elasticsearch:PUT https://kafka-homework3-5284633582.us-east-1.bonsaisearch.net:443/climatetweets/_doc/1387902665607172097 [status:201 request:0.028s]\n",
            "INFO:elasticsearch:PUT https://kafka-homework3-5284633582.us-east-1.bonsaisearch.net:443/climatetweets/_doc/1387902671206617105 [status:201 request:0.030s]\n",
            "INFO:elasticsearch:PUT https://kafka-homework3-5284633582.us-east-1.bonsaisearch.net:443/climatetweets/_doc/1387902672808779776 [status:201 request:0.034s]\n"
          ],
          "name": "stderr"
        },
        {
          "output_type": "stream",
          "text": [
            "378\n",
            "379\n",
            "380\n",
            "381\n",
            "382\n",
            "383\n",
            "384\n"
          ],
          "name": "stdout"
        },
        {
          "output_type": "stream",
          "text": [
            "INFO:elasticsearch:PUT https://kafka-homework3-5284633582.us-east-1.bonsaisearch.net:443/climatetweets/_doc/1387902680144695296 [status:201 request:0.026s]\n",
            "INFO:elasticsearch:PUT https://kafka-homework3-5284633582.us-east-1.bonsaisearch.net:443/climatetweets/_doc/1387902681981804548 [status:201 request:0.028s]\n",
            "INFO:elasticsearch:PUT https://kafka-homework3-5284633582.us-east-1.bonsaisearch.net:443/climatetweets/_doc/1387902697668583427 [status:201 request:0.026s]\n",
            "INFO:elasticsearch:PUT https://kafka-homework3-5284633582.us-east-1.bonsaisearch.net:443/climatetweets/_doc/1387902704643715077 [status:201 request:0.028s]\n",
            "INFO:elasticsearch:PUT https://kafka-homework3-5284633582.us-east-1.bonsaisearch.net:443/climatetweets/_doc/1387902711442681857 [status:201 request:0.030s]\n",
            "INFO:elasticsearch:PUT https://kafka-homework3-5284633582.us-east-1.bonsaisearch.net:443/climatetweets/_doc/1387902717113212934 [status:201 request:0.026s]\n",
            "INFO:elasticsearch:PUT https://kafka-homework3-5284633582.us-east-1.bonsaisearch.net:443/climatetweets/_doc/1387902735505297410 [status:201 request:0.027s]\n"
          ],
          "name": "stderr"
        },
        {
          "output_type": "stream",
          "text": [
            "385\n",
            "386\n",
            "387\n",
            "388\n",
            "389\n",
            "390\n",
            "391\n"
          ],
          "name": "stdout"
        },
        {
          "output_type": "stream",
          "text": [
            "INFO:elasticsearch:PUT https://kafka-homework3-5284633582.us-east-1.bonsaisearch.net:443/climatetweets/_doc/1387902746314084353 [status:201 request:0.028s]\n",
            "INFO:elasticsearch:PUT https://kafka-homework3-5284633582.us-east-1.bonsaisearch.net:443/climatetweets/_doc/1387902760297848834 [status:201 request:0.026s]\n",
            "INFO:elasticsearch:PUT https://kafka-homework3-5284633582.us-east-1.bonsaisearch.net:443/climatetweets/_doc/1387902762558529543 [status:201 request:0.027s]\n",
            "INFO:elasticsearch:PUT https://kafka-homework3-5284633582.us-east-1.bonsaisearch.net:443/climatetweets/_doc/1387902766996094980 [status:201 request:0.102s]\n",
            "INFO:elasticsearch:PUT https://kafka-homework3-5284633582.us-east-1.bonsaisearch.net:443/climatetweets/_doc/1387902795261546503 [status:201 request:0.026s]\n"
          ],
          "name": "stderr"
        },
        {
          "output_type": "stream",
          "text": [
            "392\n",
            "393\n",
            "394\n",
            "395\n",
            "396\n"
          ],
          "name": "stdout"
        },
        {
          "output_type": "stream",
          "text": [
            "INFO:elasticsearch:PUT https://kafka-homework3-5284633582.us-east-1.bonsaisearch.net:443/climatetweets/_doc/1387902795563507712 [status:201 request:0.031s]\n",
            "INFO:elasticsearch:PUT https://kafka-homework3-5284633582.us-east-1.bonsaisearch.net:443/climatetweets/_doc/1387902798159704064 [status:201 request:0.030s]\n",
            "INFO:elasticsearch:PUT https://kafka-homework3-5284633582.us-east-1.bonsaisearch.net:443/climatetweets/_doc/1387902802685485056 [status:201 request:0.028s]\n",
            "INFO:elasticsearch:PUT https://kafka-homework3-5284633582.us-east-1.bonsaisearch.net:443/climatetweets/_doc/1387902806296760322 [status:201 request:0.027s]\n",
            "INFO:elasticsearch:PUT https://kafka-homework3-5284633582.us-east-1.bonsaisearch.net:443/climatetweets/_doc/1387902816929341441 [status:201 request:0.025s]\n",
            "INFO:elasticsearch:PUT https://kafka-homework3-5284633582.us-east-1.bonsaisearch.net:443/climatetweets/_doc/1387902822063149058 [status:201 request:0.028s]\n",
            "INFO:elasticsearch:PUT https://kafka-homework3-5284633582.us-east-1.bonsaisearch.net:443/climatetweets/_doc/1387902848092971010 [status:201 request:0.028s]\n"
          ],
          "name": "stderr"
        },
        {
          "output_type": "stream",
          "text": [
            "397\n",
            "398\n",
            "399\n",
            "400\n",
            "401\n",
            "402\n",
            "403\n"
          ],
          "name": "stdout"
        },
        {
          "output_type": "stream",
          "text": [
            "INFO:elasticsearch:PUT https://kafka-homework3-5284633582.us-east-1.bonsaisearch.net:443/climatetweets/_doc/1387902848743182434 [status:201 request:0.025s]\n",
            "INFO:elasticsearch:PUT https://kafka-homework3-5284633582.us-east-1.bonsaisearch.net:443/climatetweets/_doc/1387902848667684864 [status:201 request:0.029s]\n",
            "INFO:elasticsearch:PUT https://kafka-homework3-5284633582.us-east-1.bonsaisearch.net:443/climatetweets/_doc/1387902850596966401 [status:201 request:0.032s]\n",
            "INFO:elasticsearch:PUT https://kafka-homework3-5284633582.us-east-1.bonsaisearch.net:443/climatetweets/_doc/1387902860596187138 [status:201 request:0.028s]\n",
            "INFO:elasticsearch:PUT https://kafka-homework3-5284633582.us-east-1.bonsaisearch.net:443/climatetweets/_doc/1387902861464510466 [status:201 request:0.026s]\n",
            "INFO:elasticsearch:PUT https://kafka-homework3-5284633582.us-east-1.bonsaisearch.net:443/climatetweets/_doc/1387902895773818885 [status:201 request:0.030s]\n",
            "INFO:elasticsearch:PUT https://kafka-homework3-5284633582.us-east-1.bonsaisearch.net:443/climatetweets/_doc/1387902900870000642 [status:201 request:0.035s]\n"
          ],
          "name": "stderr"
        },
        {
          "output_type": "stream",
          "text": [
            "404\n",
            "405\n",
            "406\n",
            "407\n",
            "408\n",
            "409\n"
          ],
          "name": "stdout"
        },
        {
          "output_type": "stream",
          "text": [
            "INFO:elasticsearch:PUT https://kafka-homework3-5284633582.us-east-1.bonsaisearch.net:443/climatetweets/_doc/1387902919710625792 [status:201 request:0.029s]\n",
            "INFO:elasticsearch:PUT https://kafka-homework3-5284633582.us-east-1.bonsaisearch.net:443/climatetweets/_doc/1387902929047273473 [status:201 request:0.028s]\n",
            "INFO:elasticsearch:PUT https://kafka-homework3-5284633582.us-east-1.bonsaisearch.net:443/climatetweets/_doc/1387902953944723461 [status:201 request:0.027s]\n",
            "INFO:elasticsearch:PUT https://kafka-homework3-5284633582.us-east-1.bonsaisearch.net:443/climatetweets/_doc/1387902964090564609 [status:201 request:0.028s]\n",
            "INFO:elasticsearch:PUT https://kafka-homework3-5284633582.us-east-1.bonsaisearch.net:443/climatetweets/_doc/1387902975394283521 [status:201 request:0.028s]\n",
            "INFO:elasticsearch:PUT https://kafka-homework3-5284633582.us-east-1.bonsaisearch.net:443/climatetweets/_doc/1387902987583082499 [status:201 request:0.027s]\n",
            "INFO:elasticsearch:PUT https://kafka-homework3-5284633582.us-east-1.bonsaisearch.net:443/climatetweets/_doc/1387903008000729091 [status:201 request:0.026s]\n"
          ],
          "name": "stderr"
        },
        {
          "output_type": "stream",
          "text": [
            "410\n",
            "411\n",
            "412\n",
            "413\n",
            "414\n",
            "415\n",
            "416\n",
            "417\n"
          ],
          "name": "stdout"
        },
        {
          "output_type": "stream",
          "text": [
            "INFO:elasticsearch:PUT https://kafka-homework3-5284633582.us-east-1.bonsaisearch.net:443/climatetweets/_doc/1387903010865655813 [status:201 request:0.028s]\n",
            "INFO:elasticsearch:PUT https://kafka-homework3-5284633582.us-east-1.bonsaisearch.net:443/climatetweets/_doc/1387903018729820164 [status:201 request:0.028s]\n",
            "INFO:elasticsearch:PUT https://kafka-homework3-5284633582.us-east-1.bonsaisearch.net:443/climatetweets/_doc/1387903024601894912 [status:201 request:0.029s]\n",
            "INFO:elasticsearch:PUT https://kafka-homework3-5284633582.us-east-1.bonsaisearch.net:443/climatetweets/_doc/1387903027668045824 [status:201 request:0.026s]\n",
            "INFO:elasticsearch:PUT https://kafka-homework3-5284633582.us-east-1.bonsaisearch.net:443/climatetweets/_doc/1387903036358631429 [status:201 request:0.028s]\n",
            "INFO:elasticsearch:PUT https://kafka-homework3-5284633582.us-east-1.bonsaisearch.net:443/climatetweets/_doc/1387903046647169029 [status:201 request:0.026s]\n",
            "INFO:elasticsearch:PUT https://kafka-homework3-5284633582.us-east-1.bonsaisearch.net:443/climatetweets/_doc/1387903058776969218 [status:201 request:0.028s]\n",
            "INFO:elasticsearch:PUT https://kafka-homework3-5284633582.us-east-1.bonsaisearch.net:443/climatetweets/_doc/1387903067459399683 [status:201 request:0.027s]\n"
          ],
          "name": "stderr"
        },
        {
          "output_type": "stream",
          "text": [
            "418\n",
            "419\n",
            "420\n",
            "421\n",
            "422\n",
            "423\n",
            "424\n"
          ],
          "name": "stdout"
        },
        {
          "output_type": "stream",
          "text": [
            "INFO:elasticsearch:PUT https://kafka-homework3-5284633582.us-east-1.bonsaisearch.net:443/climatetweets/_doc/1387903070307299328 [status:201 request:0.032s]\n",
            "INFO:elasticsearch:PUT https://kafka-homework3-5284633582.us-east-1.bonsaisearch.net:443/climatetweets/_doc/1387903098945896449 [status:201 request:0.026s]\n",
            "INFO:elasticsearch:PUT https://kafka-homework3-5284633582.us-east-1.bonsaisearch.net:443/climatetweets/_doc/1387903114573869058 [status:201 request:0.025s]\n",
            "INFO:elasticsearch:PUT https://kafka-homework3-5284633582.us-east-1.bonsaisearch.net:443/climatetweets/_doc/1387903124787052544 [status:201 request:0.029s]\n",
            "INFO:elasticsearch:PUT https://kafka-homework3-5284633582.us-east-1.bonsaisearch.net:443/climatetweets/_doc/1387903127752527876 [status:201 request:0.028s]\n",
            "INFO:elasticsearch:PUT https://kafka-homework3-5284633582.us-east-1.bonsaisearch.net:443/climatetweets/_doc/1387903136174542848 [status:201 request:0.029s]\n",
            "INFO:elasticsearch:PUT https://kafka-homework3-5284633582.us-east-1.bonsaisearch.net:443/climatetweets/_doc/1387903147394441218 [status:201 request:0.029s]\n"
          ],
          "name": "stderr"
        },
        {
          "output_type": "stream",
          "text": [
            "425\n",
            "426\n",
            "427\n",
            "428\n",
            "429\n",
            "430\n",
            "431\n",
            "432\n"
          ],
          "name": "stdout"
        },
        {
          "output_type": "stream",
          "text": [
            "INFO:elasticsearch:PUT https://kafka-homework3-5284633582.us-east-1.bonsaisearch.net:443/climatetweets/_doc/1387903146706489346 [status:201 request:0.028s]\n",
            "INFO:elasticsearch:PUT https://kafka-homework3-5284633582.us-east-1.bonsaisearch.net:443/climatetweets/_doc/1387903162288263168 [status:201 request:0.027s]\n",
            "INFO:elasticsearch:PUT https://kafka-homework3-5284633582.us-east-1.bonsaisearch.net:443/climatetweets/_doc/1387903178235068416 [status:201 request:0.029s]\n",
            "INFO:elasticsearch:PUT https://kafka-homework3-5284633582.us-east-1.bonsaisearch.net:443/climatetweets/_doc/1387903186216882185 [status:201 request:0.028s]\n",
            "INFO:elasticsearch:PUT https://kafka-homework3-5284633582.us-east-1.bonsaisearch.net:443/climatetweets/_doc/1387903198871101440 [status:201 request:0.027s]\n",
            "INFO:elasticsearch:PUT https://kafka-homework3-5284633582.us-east-1.bonsaisearch.net:443/climatetweets/_doc/1387903202339614724 [status:201 request:0.029s]\n",
            "INFO:elasticsearch:PUT https://kafka-homework3-5284633582.us-east-1.bonsaisearch.net:443/climatetweets/_doc/1387903209851736065 [status:201 request:0.028s]\n"
          ],
          "name": "stderr"
        },
        {
          "output_type": "stream",
          "text": [
            "433\n",
            "434\n",
            "435\n",
            "436\n",
            "437\n",
            "438\n",
            "439\n"
          ],
          "name": "stdout"
        },
        {
          "output_type": "stream",
          "text": [
            "INFO:elasticsearch:PUT https://kafka-homework3-5284633582.us-east-1.bonsaisearch.net:443/climatetweets/_doc/1387903222417960960 [status:201 request:0.027s]\n",
            "INFO:elasticsearch:PUT https://kafka-homework3-5284633582.us-east-1.bonsaisearch.net:443/climatetweets/_doc/1387903225102147588 [status:201 request:0.030s]\n",
            "INFO:elasticsearch:PUT https://kafka-homework3-5284633582.us-east-1.bonsaisearch.net:443/climatetweets/_doc/1387903227035795465 [status:201 request:0.027s]\n",
            "INFO:elasticsearch:PUT https://kafka-homework3-5284633582.us-east-1.bonsaisearch.net:443/climatetweets/_doc/1387903233583165445 [status:201 request:0.027s]\n",
            "INFO:elasticsearch:PUT https://kafka-homework3-5284633582.us-east-1.bonsaisearch.net:443/climatetweets/_doc/1387903260560814084 [status:201 request:0.031s]\n",
            "INFO:elasticsearch:PUT https://kafka-homework3-5284633582.us-east-1.bonsaisearch.net:443/climatetweets/_doc/1387903266554535936 [status:201 request:0.028s]\n",
            "INFO:elasticsearch:PUT https://kafka-homework3-5284633582.us-east-1.bonsaisearch.net:443/climatetweets/_doc/1387903271189336067 [status:201 request:0.030s]\n"
          ],
          "name": "stderr"
        },
        {
          "output_type": "stream",
          "text": [
            "440\n",
            "441\n",
            "442\n",
            "443\n",
            "444\n",
            "445\n",
            "446\n"
          ],
          "name": "stdout"
        },
        {
          "output_type": "stream",
          "text": [
            "INFO:elasticsearch:PUT https://kafka-homework3-5284633582.us-east-1.bonsaisearch.net:443/climatetweets/_doc/1387903278009180163 [status:201 request:0.028s]\n",
            "INFO:elasticsearch:PUT https://kafka-homework3-5284633582.us-east-1.bonsaisearch.net:443/climatetweets/_doc/1387903279544287235 [status:201 request:0.026s]\n",
            "INFO:elasticsearch:PUT https://kafka-homework3-5284633582.us-east-1.bonsaisearch.net:443/climatetweets/_doc/1387903287786049539 [status:201 request:0.031s]\n",
            "INFO:elasticsearch:PUT https://kafka-homework3-5284633582.us-east-1.bonsaisearch.net:443/climatetweets/_doc/1387903293452652551 [status:201 request:0.027s]\n",
            "INFO:elasticsearch:PUT https://kafka-homework3-5284633582.us-east-1.bonsaisearch.net:443/climatetweets/_doc/1387903294450843656 [status:201 request:0.027s]\n",
            "INFO:elasticsearch:PUT https://kafka-homework3-5284633582.us-east-1.bonsaisearch.net:443/climatetweets/_doc/1387903302453628929 [status:201 request:0.031s]\n",
            "INFO:elasticsearch:PUT https://kafka-homework3-5284633582.us-east-1.bonsaisearch.net:443/climatetweets/_doc/1387903304886374400 [status:201 request:0.027s]\n"
          ],
          "name": "stderr"
        },
        {
          "output_type": "stream",
          "text": [
            "447\n",
            "448\n",
            "449\n",
            "450\n",
            "451\n",
            "452\n",
            "453\n"
          ],
          "name": "stdout"
        },
        {
          "output_type": "stream",
          "text": [
            "INFO:elasticsearch:PUT https://kafka-homework3-5284633582.us-east-1.bonsaisearch.net:443/climatetweets/_doc/1387903307251859460 [status:201 request:0.029s]\n",
            "INFO:elasticsearch:PUT https://kafka-homework3-5284633582.us-east-1.bonsaisearch.net:443/climatetweets/_doc/1387903316923928580 [status:201 request:0.029s]\n",
            "INFO:elasticsearch:PUT https://kafka-homework3-5284633582.us-east-1.bonsaisearch.net:443/climatetweets/_doc/1387903322519080963 [status:201 request:0.028s]\n",
            "INFO:elasticsearch:PUT https://kafka-homework3-5284633582.us-east-1.bonsaisearch.net:443/climatetweets/_doc/1387903332627406859 [status:201 request:0.028s]\n",
            "INFO:elasticsearch:PUT https://kafka-homework3-5284633582.us-east-1.bonsaisearch.net:443/climatetweets/_doc/1387903334271574018 [status:201 request:0.104s]\n"
          ],
          "name": "stderr"
        },
        {
          "output_type": "stream",
          "text": [
            "454\n",
            "455\n",
            "456\n",
            "457\n",
            "458\n"
          ],
          "name": "stdout"
        },
        {
          "output_type": "stream",
          "text": [
            "INFO:elasticsearch:PUT https://kafka-homework3-5284633582.us-east-1.bonsaisearch.net:443/climatetweets/_doc/1387903350352629763 [status:201 request:0.028s]\n",
            "INFO:elasticsearch:PUT https://kafka-homework3-5284633582.us-east-1.bonsaisearch.net:443/climatetweets/_doc/1387903354395836419 [status:201 request:0.028s]\n",
            "INFO:elasticsearch:PUT https://kafka-homework3-5284633582.us-east-1.bonsaisearch.net:443/climatetweets/_doc/1387903362952318977 [status:201 request:0.027s]\n",
            "INFO:elasticsearch:PUT https://kafka-homework3-5284633582.us-east-1.bonsaisearch.net:443/climatetweets/_doc/1387903367398055936 [status:201 request:0.030s]\n",
            "INFO:elasticsearch:PUT https://kafka-homework3-5284633582.us-east-1.bonsaisearch.net:443/climatetweets/_doc/1387903383626031116 [status:201 request:0.026s]\n",
            "INFO:elasticsearch:PUT https://kafka-homework3-5284633582.us-east-1.bonsaisearch.net:443/climatetweets/_doc/1387903424327471104 [status:201 request:0.027s]\n",
            "INFO:elasticsearch:PUT https://kafka-homework3-5284633582.us-east-1.bonsaisearch.net:443/climatetweets/_doc/1387903431537532932 [status:201 request:0.030s]\n"
          ],
          "name": "stderr"
        },
        {
          "output_type": "stream",
          "text": [
            "459\n",
            "460\n",
            "461\n",
            "462\n",
            "463\n",
            "464\n",
            "465\n"
          ],
          "name": "stdout"
        },
        {
          "output_type": "stream",
          "text": [
            "INFO:elasticsearch:PUT https://kafka-homework3-5284633582.us-east-1.bonsaisearch.net:443/climatetweets/_doc/1387903442300153856 [status:201 request:0.028s]\n",
            "INFO:elasticsearch:PUT https://kafka-homework3-5284633582.us-east-1.bonsaisearch.net:443/climatetweets/_doc/1387903446242652162 [status:201 request:0.026s]\n",
            "INFO:elasticsearch:PUT https://kafka-homework3-5284633582.us-east-1.bonsaisearch.net:443/climatetweets/_doc/1387903461249925120 [status:201 request:0.027s]\n",
            "INFO:elasticsearch:PUT https://kafka-homework3-5284633582.us-east-1.bonsaisearch.net:443/climatetweets/_doc/1387903463187644416 [status:201 request:0.030s]\n",
            "INFO:elasticsearch:PUT https://kafka-homework3-5284633582.us-east-1.bonsaisearch.net:443/climatetweets/_doc/1387903465691783168 [status:201 request:0.028s]\n",
            "INFO:elasticsearch:PUT https://kafka-homework3-5284633582.us-east-1.bonsaisearch.net:443/climatetweets/_doc/1387903469760172037 [status:201 request:0.031s]\n",
            "INFO:elasticsearch:PUT https://kafka-homework3-5284633582.us-east-1.bonsaisearch.net:443/climatetweets/_doc/1387903473195249665 [status:201 request:0.029s]\n"
          ],
          "name": "stderr"
        },
        {
          "output_type": "stream",
          "text": [
            "466\n",
            "467\n",
            "468\n",
            "469\n",
            "470\n",
            "471\n",
            "472\n"
          ],
          "name": "stdout"
        },
        {
          "output_type": "stream",
          "text": [
            "INFO:elasticsearch:PUT https://kafka-homework3-5284633582.us-east-1.bonsaisearch.net:443/climatetweets/_doc/1387903474642325506 [status:201 request:0.028s]\n",
            "INFO:elasticsearch:PUT https://kafka-homework3-5284633582.us-east-1.bonsaisearch.net:443/climatetweets/_doc/1387903486575009792 [status:201 request:0.027s]\n",
            "INFO:elasticsearch:PUT https://kafka-homework3-5284633582.us-east-1.bonsaisearch.net:443/climatetweets/_doc/1387903490987630592 [status:201 request:0.029s]\n",
            "INFO:elasticsearch:PUT https://kafka-homework3-5284633582.us-east-1.bonsaisearch.net:443/climatetweets/_doc/1387903493416136706 [status:201 request:0.027s]\n",
            "INFO:elasticsearch:PUT https://kafka-homework3-5284633582.us-east-1.bonsaisearch.net:443/climatetweets/_doc/1387903496255676421 [status:201 request:0.029s]\n",
            "INFO:elasticsearch:PUT https://kafka-homework3-5284633582.us-east-1.bonsaisearch.net:443/climatetweets/_doc/1387903498344402944 [status:201 request:0.027s]\n",
            "INFO:elasticsearch:PUT https://kafka-homework3-5284633582.us-east-1.bonsaisearch.net:443/climatetweets/_doc/1387903507911561219 [status:201 request:0.028s]\n"
          ],
          "name": "stderr"
        },
        {
          "output_type": "stream",
          "text": [
            "473\n",
            "474\n",
            "475\n",
            "476\n",
            "477\n",
            "478\n",
            "479\n"
          ],
          "name": "stdout"
        },
        {
          "output_type": "stream",
          "text": [
            "INFO:elasticsearch:PUT https://kafka-homework3-5284633582.us-east-1.bonsaisearch.net:443/climatetweets/_doc/1387903516619026435 [status:201 request:0.026s]\n",
            "INFO:elasticsearch:PUT https://kafka-homework3-5284633582.us-east-1.bonsaisearch.net:443/climatetweets/_doc/1387903521295581185 [status:201 request:0.028s]\n",
            "INFO:elasticsearch:PUT https://kafka-homework3-5284633582.us-east-1.bonsaisearch.net:443/climatetweets/_doc/1387903522612580355 [status:201 request:0.028s]\n",
            "INFO:elasticsearch:PUT https://kafka-homework3-5284633582.us-east-1.bonsaisearch.net:443/climatetweets/_doc/1387903525355757569 [status:201 request:0.027s]\n",
            "INFO:elasticsearch:PUT https://kafka-homework3-5284633582.us-east-1.bonsaisearch.net:443/climatetweets/_doc/1387903528782422016 [status:201 request:0.027s]\n",
            "INFO:elasticsearch:PUT https://kafka-homework3-5284633582.us-east-1.bonsaisearch.net:443/climatetweets/_doc/1387903529063383043 [status:201 request:0.029s]\n",
            "INFO:elasticsearch:PUT https://kafka-homework3-5284633582.us-east-1.bonsaisearch.net:443/climatetweets/_doc/1387903540933365764 [status:201 request:0.026s]\n"
          ],
          "name": "stderr"
        },
        {
          "output_type": "stream",
          "text": [
            "480\n",
            "481\n",
            "482\n",
            "483\n",
            "484\n",
            "485\n",
            "486\n"
          ],
          "name": "stdout"
        },
        {
          "output_type": "stream",
          "text": [
            "INFO:elasticsearch:PUT https://kafka-homework3-5284633582.us-east-1.bonsaisearch.net:443/climatetweets/_doc/1387903545983307777 [status:201 request:0.030s]\n",
            "INFO:elasticsearch:PUT https://kafka-homework3-5284633582.us-east-1.bonsaisearch.net:443/climatetweets/_doc/1387903548730613762 [status:201 request:0.029s]\n",
            "INFO:elasticsearch:PUT https://kafka-homework3-5284633582.us-east-1.bonsaisearch.net:443/climatetweets/_doc/1387903551397978112 [status:201 request:0.027s]\n",
            "INFO:elasticsearch:PUT https://kafka-homework3-5284633582.us-east-1.bonsaisearch.net:443/climatetweets/_doc/1387903556162768897 [status:201 request:0.027s]\n",
            "INFO:elasticsearch:PUT https://kafka-homework3-5284633582.us-east-1.bonsaisearch.net:443/climatetweets/_doc/1387903564819968002 [status:201 request:0.031s]\n",
            "INFO:elasticsearch:PUT https://kafka-homework3-5284633582.us-east-1.bonsaisearch.net:443/climatetweets/_doc/1387903579466309633 [status:201 request:0.027s]\n"
          ],
          "name": "stderr"
        },
        {
          "output_type": "stream",
          "text": [
            "487\n",
            "488\n",
            "489\n",
            "490\n",
            "491\n",
            "492\n"
          ],
          "name": "stdout"
        },
        {
          "output_type": "stream",
          "text": [
            "INFO:elasticsearch:PUT https://kafka-homework3-5284633582.us-east-1.bonsaisearch.net:443/climatetweets/_doc/1387903585292152833 [status:201 request:0.029s]\n",
            "INFO:elasticsearch:PUT https://kafka-homework3-5284633582.us-east-1.bonsaisearch.net:443/climatetweets/_doc/1387903588509253634 [status:201 request:0.025s]\n",
            "INFO:elasticsearch:PUT https://kafka-homework3-5284633582.us-east-1.bonsaisearch.net:443/climatetweets/_doc/1387903598990790657 [status:201 request:0.031s]\n",
            "INFO:elasticsearch:PUT https://kafka-homework3-5284633582.us-east-1.bonsaisearch.net:443/climatetweets/_doc/1387903631882551297 [status:201 request:0.027s]\n",
            "INFO:elasticsearch:PUT https://kafka-homework3-5284633582.us-east-1.bonsaisearch.net:443/climatetweets/_doc/1387903632541093891 [status:201 request:0.026s]\n",
            "INFO:elasticsearch:PUT https://kafka-homework3-5284633582.us-east-1.bonsaisearch.net:443/climatetweets/_doc/1387903643282771969 [status:201 request:0.027s]\n",
            "INFO:elasticsearch:PUT https://kafka-homework3-5284633582.us-east-1.bonsaisearch.net:443/climatetweets/_doc/1387903645958746112 [status:201 request:0.026s]\n"
          ],
          "name": "stderr"
        },
        {
          "output_type": "stream",
          "text": [
            "493\n",
            "494\n",
            "495\n",
            "496\n",
            "497\n",
            "498\n",
            "499\n"
          ],
          "name": "stdout"
        },
        {
          "output_type": "stream",
          "text": [
            "INFO:elasticsearch:PUT https://kafka-homework3-5284633582.us-east-1.bonsaisearch.net:443/climatetweets/_doc/1387903647107911680 [status:201 request:0.030s]\n",
            "INFO:elasticsearch:PUT https://kafka-homework3-5284633582.us-east-1.bonsaisearch.net:443/climatetweets/_doc/1387903657954447365 [status:201 request:0.030s]\n",
            "INFO:elasticsearch:PUT https://kafka-homework3-5284633582.us-east-1.bonsaisearch.net:443/climatetweets/_doc/1387903663545495554 [status:201 request:0.026s]\n",
            "INFO:elasticsearch:PUT https://kafka-homework3-5284633582.us-east-1.bonsaisearch.net:443/climatetweets/_doc/1387903671799668743 [status:201 request:0.028s]\n",
            "INFO:elasticsearch:PUT https://kafka-homework3-5284633582.us-east-1.bonsaisearch.net:443/climatetweets/_doc/1387903675897679872 [status:201 request:0.027s]\n",
            "INFO:elasticsearch:PUT https://kafka-homework3-5284633582.us-east-1.bonsaisearch.net:443/climatetweets/_doc/1387903679093690379 [status:201 request:0.031s]\n",
            "INFO:elasticsearch:PUT https://kafka-homework3-5284633582.us-east-1.bonsaisearch.net:443/climatetweets/_doc/1387903707690504192 [status:201 request:0.028s]\n"
          ],
          "name": "stderr"
        },
        {
          "output_type": "stream",
          "text": [
            "500\n",
            "501\n",
            "502\n",
            "503\n",
            "504\n",
            "505\n",
            "506\n"
          ],
          "name": "stdout"
        },
        {
          "output_type": "stream",
          "text": [
            "INFO:elasticsearch:PUT https://kafka-homework3-5284633582.us-east-1.bonsaisearch.net:443/climatetweets/_doc/1387903709628170240 [status:201 request:0.032s]\n",
            "INFO:elasticsearch:PUT https://kafka-homework3-5284633582.us-east-1.bonsaisearch.net:443/climatetweets/_doc/1387903722940993542 [status:201 request:0.032s]\n",
            "INFO:elasticsearch:PUT https://kafka-homework3-5284633582.us-east-1.bonsaisearch.net:443/climatetweets/_doc/1387903723683426305 [status:201 request:0.027s]\n",
            "INFO:elasticsearch:PUT https://kafka-homework3-5284633582.us-east-1.bonsaisearch.net:443/climatetweets/_doc/1387903724908015621 [status:201 request:0.028s]\n",
            "INFO:elasticsearch:PUT https://kafka-homework3-5284633582.us-east-1.bonsaisearch.net:443/climatetweets/_doc/1387903725742690305 [status:201 request:0.027s]\n",
            "INFO:elasticsearch:PUT https://kafka-homework3-5284633582.us-east-1.bonsaisearch.net:443/climatetweets/_doc/1387903733019860993 [status:201 request:0.027s]\n",
            "INFO:elasticsearch:PUT https://kafka-homework3-5284633582.us-east-1.bonsaisearch.net:443/climatetweets/_doc/1387903736769662976 [status:201 request:0.031s]\n"
          ],
          "name": "stderr"
        },
        {
          "output_type": "stream",
          "text": [
            "507\n",
            "508\n",
            "509\n",
            "510\n",
            "511\n",
            "512\n",
            "513\n"
          ],
          "name": "stdout"
        },
        {
          "output_type": "stream",
          "text": [
            "INFO:elasticsearch:PUT https://kafka-homework3-5284633582.us-east-1.bonsaisearch.net:443/climatetweets/_doc/1387903745619595264 [status:201 request:0.028s]\n",
            "INFO:elasticsearch:PUT https://kafka-homework3-5284633582.us-east-1.bonsaisearch.net:443/climatetweets/_doc/1387903749650272256 [status:201 request:0.028s]\n",
            "INFO:elasticsearch:PUT https://kafka-homework3-5284633582.us-east-1.bonsaisearch.net:443/climatetweets/_doc/1387903788401532931 [status:201 request:0.029s]\n",
            "INFO:elasticsearch:PUT https://kafka-homework3-5284633582.us-east-1.bonsaisearch.net:443/climatetweets/_doc/1387903793086484483 [status:201 request:0.029s]\n",
            "INFO:elasticsearch:PUT https://kafka-homework3-5284633582.us-east-1.bonsaisearch.net:443/climatetweets/_doc/1387903802959925253 [status:201 request:0.027s]\n",
            "INFO:elasticsearch:PUT https://kafka-homework3-5284633582.us-east-1.bonsaisearch.net:443/climatetweets/_doc/1387903802976739329 [status:201 request:0.029s]\n",
            "INFO:elasticsearch:PUT https://kafka-homework3-5284633582.us-east-1.bonsaisearch.net:443/climatetweets/_doc/1387903803928694784 [status:201 request:0.028s]\n"
          ],
          "name": "stderr"
        },
        {
          "output_type": "stream",
          "text": [
            "514\n",
            "515\n",
            "516\n",
            "517\n",
            "518\n",
            "519\n",
            "520\n"
          ],
          "name": "stdout"
        },
        {
          "output_type": "stream",
          "text": [
            "INFO:elasticsearch:PUT https://kafka-homework3-5284633582.us-east-1.bonsaisearch.net:443/climatetweets/_doc/1387903805224742913 [status:201 request:0.027s]\n",
            "INFO:elasticsearch:PUT https://kafka-homework3-5284633582.us-east-1.bonsaisearch.net:443/climatetweets/_doc/1387903808202842112 [status:201 request:0.029s]\n",
            "INFO:elasticsearch:PUT https://kafka-homework3-5284633582.us-east-1.bonsaisearch.net:443/climatetweets/_doc/1387903812799717380 [status:201 request:0.029s]\n",
            "INFO:elasticsearch:PUT https://kafka-homework3-5284633582.us-east-1.bonsaisearch.net:443/climatetweets/_doc/1387903813189783557 [status:201 request:0.027s]\n",
            "INFO:elasticsearch:PUT https://kafka-homework3-5284633582.us-east-1.bonsaisearch.net:443/climatetweets/_doc/1387903820861263872 [status:201 request:0.028s]\n",
            "INFO:elasticsearch:PUT https://kafka-homework3-5284633582.us-east-1.bonsaisearch.net:443/climatetweets/_doc/1387903836485005320 [status:201 request:0.027s]\n",
            "INFO:elasticsearch:PUT https://kafka-homework3-5284633582.us-east-1.bonsaisearch.net:443/climatetweets/_doc/1387903851764854784 [status:201 request:0.026s]\n"
          ],
          "name": "stderr"
        },
        {
          "output_type": "stream",
          "text": [
            "521\n",
            "522\n",
            "523\n",
            "524\n",
            "525\n",
            "526\n",
            "527\n"
          ],
          "name": "stdout"
        },
        {
          "output_type": "stream",
          "text": [
            "INFO:elasticsearch:PUT https://kafka-homework3-5284633582.us-east-1.bonsaisearch.net:443/climatetweets/_doc/1387903853652217861 [status:201 request:0.027s]\n",
            "INFO:elasticsearch:PUT https://kafka-homework3-5284633582.us-east-1.bonsaisearch.net:443/climatetweets/_doc/1387903854717640704 [status:201 request:0.028s]\n",
            "INFO:elasticsearch:PUT https://kafka-homework3-5284633582.us-east-1.bonsaisearch.net:443/climatetweets/_doc/1387903854570786824 [status:201 request:0.028s]\n",
            "INFO:elasticsearch:PUT https://kafka-homework3-5284633582.us-east-1.bonsaisearch.net:443/climatetweets/_doc/1387903856370229249 [status:201 request:0.028s]\n",
            "INFO:elasticsearch:PUT https://kafka-homework3-5284633582.us-east-1.bonsaisearch.net:443/climatetweets/_doc/1387903858060365824 [status:201 request:0.028s]\n",
            "INFO:elasticsearch:PUT https://kafka-homework3-5284633582.us-east-1.bonsaisearch.net:443/climatetweets/_doc/1387903866943987716 [status:201 request:0.030s]\n",
            "INFO:elasticsearch:PUT https://kafka-homework3-5284633582.us-east-1.bonsaisearch.net:443/climatetweets/_doc/1387903869519269892 [status:201 request:0.026s]\n"
          ],
          "name": "stderr"
        },
        {
          "output_type": "stream",
          "text": [
            "528\n",
            "529\n",
            "530\n",
            "531\n",
            "532\n",
            "533\n",
            "534\n"
          ],
          "name": "stdout"
        },
        {
          "output_type": "stream",
          "text": [
            "INFO:elasticsearch:PUT https://kafka-homework3-5284633582.us-east-1.bonsaisearch.net:443/climatetweets/_doc/1387903870085435394 [status:201 request:0.027s]\n",
            "INFO:elasticsearch:PUT https://kafka-homework3-5284633582.us-east-1.bonsaisearch.net:443/climatetweets/_doc/1387903871213838337 [status:201 request:0.029s]\n",
            "INFO:elasticsearch:PUT https://kafka-homework3-5284633582.us-east-1.bonsaisearch.net:443/climatetweets/_doc/1387903878423851009 [status:201 request:0.027s]\n",
            "INFO:elasticsearch:PUT https://kafka-homework3-5284633582.us-east-1.bonsaisearch.net:443/climatetweets/_doc/1387903885713371137 [status:201 request:0.028s]\n",
            "INFO:elasticsearch:PUT https://kafka-homework3-5284633582.us-east-1.bonsaisearch.net:443/climatetweets/_doc/1387903887051427842 [status:201 request:0.031s]\n",
            "INFO:elasticsearch:PUT https://kafka-homework3-5284633582.us-east-1.bonsaisearch.net:443/climatetweets/_doc/1387903887890321410 [status:201 request:0.027s]\n",
            "INFO:elasticsearch:PUT https://kafka-homework3-5284633582.us-east-1.bonsaisearch.net:443/climatetweets/_doc/1387903888661958657 [status:201 request:0.027s]\n"
          ],
          "name": "stderr"
        },
        {
          "output_type": "stream",
          "text": [
            "535\n",
            "536\n",
            "537\n",
            "538\n",
            "539\n",
            "540\n",
            "541\n"
          ],
          "name": "stdout"
        },
        {
          "output_type": "stream",
          "text": [
            "INFO:elasticsearch:PUT https://kafka-homework3-5284633582.us-east-1.bonsaisearch.net:443/climatetweets/_doc/1387903903744684035 [status:201 request:0.032s]\n",
            "INFO:elasticsearch:PUT https://kafka-homework3-5284633582.us-east-1.bonsaisearch.net:443/climatetweets/_doc/1387903906248679427 [status:201 request:0.031s]\n",
            "INFO:elasticsearch:PUT https://kafka-homework3-5284633582.us-east-1.bonsaisearch.net:443/climatetweets/_doc/1387903911797792772 [status:201 request:0.028s]\n",
            "INFO:elasticsearch:PUT https://kafka-homework3-5284633582.us-east-1.bonsaisearch.net:443/climatetweets/_doc/1387903915170189318 [status:201 request:0.029s]\n",
            "INFO:elasticsearch:PUT https://kafka-homework3-5284633582.us-east-1.bonsaisearch.net:443/climatetweets/_doc/1387903917468438528 [status:201 request:0.027s]\n",
            "INFO:elasticsearch:PUT https://kafka-homework3-5284633582.us-east-1.bonsaisearch.net:443/climatetweets/_doc/1387903922573090817 [status:201 request:0.027s]\n",
            "INFO:elasticsearch:PUT https://kafka-homework3-5284633582.us-east-1.bonsaisearch.net:443/climatetweets/_doc/1387903923961352193 [status:201 request:0.027s]\n"
          ],
          "name": "stderr"
        },
        {
          "output_type": "stream",
          "text": [
            "542\n",
            "543\n",
            "544\n",
            "545\n",
            "546\n",
            "547\n",
            "548\n"
          ],
          "name": "stdout"
        },
        {
          "output_type": "stream",
          "text": [
            "INFO:elasticsearch:PUT https://kafka-homework3-5284633582.us-east-1.bonsaisearch.net:443/climatetweets/_doc/1387903930282266625 [status:201 request:0.028s]\n",
            "INFO:elasticsearch:PUT https://kafka-homework3-5284633582.us-east-1.bonsaisearch.net:443/climatetweets/_doc/1387903938352066565 [status:201 request:0.034s]\n",
            "INFO:elasticsearch:PUT https://kafka-homework3-5284633582.us-east-1.bonsaisearch.net:443/climatetweets/_doc/1387903944610000900 [status:201 request:0.028s]\n",
            "INFO:elasticsearch:PUT https://kafka-homework3-5284633582.us-east-1.bonsaisearch.net:443/climatetweets/_doc/1387903946396557313 [status:201 request:0.028s]\n",
            "INFO:elasticsearch:PUT https://kafka-homework3-5284633582.us-east-1.bonsaisearch.net:443/climatetweets/_doc/1387903979204628485 [status:201 request:0.031s]\n",
            "INFO:elasticsearch:PUT https://kafka-homework3-5284633582.us-east-1.bonsaisearch.net:443/climatetweets/_doc/1387903982014771200 [status:201 request:0.027s]\n",
            "INFO:elasticsearch:PUT https://kafka-homework3-5284633582.us-east-1.bonsaisearch.net:443/climatetweets/_doc/1387903982618566659 [status:201 request:0.029s]\n"
          ],
          "name": "stderr"
        },
        {
          "output_type": "stream",
          "text": [
            "549\n",
            "550\n",
            "551\n",
            "552\n",
            "553\n",
            "554\n",
            "555\n"
          ],
          "name": "stdout"
        },
        {
          "output_type": "stream",
          "text": [
            "INFO:elasticsearch:PUT https://kafka-homework3-5284633582.us-east-1.bonsaisearch.net:443/climatetweets/_doc/1387903989870649344 [status:201 request:0.027s]\n",
            "INFO:elasticsearch:PUT https://kafka-homework3-5284633582.us-east-1.bonsaisearch.net:443/climatetweets/_doc/1387903995155472388 [status:201 request:0.027s]\n",
            "INFO:elasticsearch:PUT https://kafka-homework3-5284633582.us-east-1.bonsaisearch.net:443/climatetweets/_doc/1387904003560853506 [status:201 request:0.034s]\n",
            "INFO:elasticsearch:PUT https://kafka-homework3-5284633582.us-east-1.bonsaisearch.net:443/climatetweets/_doc/1387904016701698055 [status:201 request:0.029s]\n",
            "INFO:elasticsearch:PUT https://kafka-homework3-5284633582.us-east-1.bonsaisearch.net:443/climatetweets/_doc/1387904018484060160 [status:201 request:0.028s]\n",
            "INFO:elasticsearch:PUT https://kafka-homework3-5284633582.us-east-1.bonsaisearch.net:443/climatetweets/_doc/1387904019562106882 [status:201 request:0.028s]\n",
            "INFO:elasticsearch:PUT https://kafka-homework3-5284633582.us-east-1.bonsaisearch.net:443/climatetweets/_doc/1387904042299428864 [status:201 request:0.027s]\n"
          ],
          "name": "stderr"
        },
        {
          "output_type": "stream",
          "text": [
            "556\n",
            "557\n",
            "558\n",
            "559\n",
            "560\n",
            "561\n",
            "562\n"
          ],
          "name": "stdout"
        },
        {
          "output_type": "stream",
          "text": [
            "INFO:elasticsearch:PUT https://kafka-homework3-5284633582.us-east-1.bonsaisearch.net:443/climatetweets/_doc/1387904053624123397 [status:201 request:0.030s]\n",
            "INFO:elasticsearch:PUT https://kafka-homework3-5284633582.us-east-1.bonsaisearch.net:443/climatetweets/_doc/1387904062969024512 [status:201 request:0.027s]\n",
            "INFO:elasticsearch:PUT https://kafka-homework3-5284633582.us-east-1.bonsaisearch.net:443/climatetweets/_doc/1387904097660112896 [status:201 request:0.028s]\n",
            "INFO:elasticsearch:PUT https://kafka-homework3-5284633582.us-east-1.bonsaisearch.net:443/climatetweets/_doc/1387904099312623616 [status:201 request:0.028s]\n",
            "INFO:elasticsearch:PUT https://kafka-homework3-5284633582.us-east-1.bonsaisearch.net:443/climatetweets/_doc/1387904109244731392 [status:201 request:0.027s]\n",
            "INFO:elasticsearch:PUT https://kafka-homework3-5284633582.us-east-1.bonsaisearch.net:443/climatetweets/_doc/1387904110222090243 [status:201 request:0.031s]\n",
            "INFO:elasticsearch:PUT https://kafka-homework3-5284633582.us-east-1.bonsaisearch.net:443/climatetweets/_doc/1387904112784658433 [status:201 request:0.028s]\n"
          ],
          "name": "stderr"
        },
        {
          "output_type": "stream",
          "text": [
            "563\n",
            "564\n",
            "565\n",
            "566\n",
            "567\n",
            "568\n",
            "569\n"
          ],
          "name": "stdout"
        },
        {
          "output_type": "stream",
          "text": [
            "INFO:elasticsearch:PUT https://kafka-homework3-5284633582.us-east-1.bonsaisearch.net:443/climatetweets/_doc/1387904120674308099 [status:201 request:0.029s]\n",
            "INFO:elasticsearch:PUT https://kafka-homework3-5284633582.us-east-1.bonsaisearch.net:443/climatetweets/_doc/1387904129712984064 [status:201 request:0.028s]\n",
            "INFO:elasticsearch:PUT https://kafka-homework3-5284633582.us-east-1.bonsaisearch.net:443/climatetweets/_doc/1387904159245033476 [status:201 request:0.031s]\n",
            "INFO:elasticsearch:PUT https://kafka-homework3-5284633582.us-east-1.bonsaisearch.net:443/climatetweets/_doc/1387904161925066752 [status:201 request:0.028s]\n",
            "INFO:elasticsearch:PUT https://kafka-homework3-5284633582.us-east-1.bonsaisearch.net:443/climatetweets/_doc/1387904170036977668 [status:201 request:0.030s]\n",
            "INFO:elasticsearch:PUT https://kafka-homework3-5284633582.us-east-1.bonsaisearch.net:443/climatetweets/_doc/1387904176181571585 [status:201 request:0.033s]\n"
          ],
          "name": "stderr"
        },
        {
          "output_type": "stream",
          "text": [
            "570\n",
            "571\n",
            "572\n",
            "573\n",
            "574\n",
            "575\n"
          ],
          "name": "stdout"
        },
        {
          "output_type": "stream",
          "text": [
            "INFO:elasticsearch:PUT https://kafka-homework3-5284633582.us-east-1.bonsaisearch.net:443/climatetweets/_doc/1387904213720739841 [status:201 request:0.040s]\n",
            "INFO:elasticsearch:PUT https://kafka-homework3-5284633582.us-east-1.bonsaisearch.net:443/climatetweets/_doc/1387904214228144129 [status:201 request:0.043s]\n",
            "INFO:elasticsearch:PUT https://kafka-homework3-5284633582.us-east-1.bonsaisearch.net:443/climatetweets/_doc/1387904216551677953 [status:201 request:0.028s]\n",
            "INFO:elasticsearch:PUT https://kafka-homework3-5284633582.us-east-1.bonsaisearch.net:443/climatetweets/_doc/1387904223635906560 [status:201 request:0.027s]\n",
            "INFO:elasticsearch:PUT https://kafka-homework3-5284633582.us-east-1.bonsaisearch.net:443/climatetweets/_doc/1387904254485176328 [status:201 request:0.027s]\n",
            "INFO:elasticsearch:PUT https://kafka-homework3-5284633582.us-east-1.bonsaisearch.net:443/climatetweets/_doc/1387904258155102208 [status:201 request:0.028s]\n",
            "INFO:elasticsearch:PUT https://kafka-homework3-5284633582.us-east-1.bonsaisearch.net:443/climatetweets/_doc/1387904258155155460 [status:201 request:0.029s]\n"
          ],
          "name": "stderr"
        },
        {
          "output_type": "stream",
          "text": [
            "576\n",
            "577\n",
            "578\n",
            "579\n",
            "580\n",
            "581\n",
            "582\n"
          ],
          "name": "stdout"
        },
        {
          "output_type": "stream",
          "text": [
            "INFO:elasticsearch:PUT https://kafka-homework3-5284633582.us-east-1.bonsaisearch.net:443/climatetweets/_doc/1387904263502716929 [status:201 request:0.026s]\n",
            "INFO:elasticsearch:PUT https://kafka-homework3-5284633582.us-east-1.bonsaisearch.net:443/climatetweets/_doc/1387904266451357698 [status:201 request:0.027s]\n",
            "INFO:elasticsearch:PUT https://kafka-homework3-5284633582.us-east-1.bonsaisearch.net:443/climatetweets/_doc/1387904273317519362 [status:201 request:0.027s]\n",
            "INFO:elasticsearch:PUT https://kafka-homework3-5284633582.us-east-1.bonsaisearch.net:443/climatetweets/_doc/1387904276060573699 [status:201 request:0.027s]\n",
            "INFO:elasticsearch:PUT https://kafka-homework3-5284633582.us-east-1.bonsaisearch.net:443/climatetweets/_doc/1387904279139295235 [status:201 request:0.030s]\n",
            "INFO:elasticsearch:PUT https://kafka-homework3-5284633582.us-east-1.bonsaisearch.net:443/climatetweets/_doc/1387904327130439680 [status:201 request:0.027s]\n",
            "INFO:elasticsearch:PUT https://kafka-homework3-5284633582.us-east-1.bonsaisearch.net:443/climatetweets/_doc/1387904335556849665 [status:201 request:0.027s]\n"
          ],
          "name": "stderr"
        },
        {
          "output_type": "stream",
          "text": [
            "583\n",
            "584\n",
            "585\n",
            "586\n",
            "587\n",
            "588\n",
            "589\n"
          ],
          "name": "stdout"
        },
        {
          "output_type": "stream",
          "text": [
            "INFO:elasticsearch:PUT https://kafka-homework3-5284633582.us-east-1.bonsaisearch.net:443/climatetweets/_doc/1387904343215677442 [status:201 request:0.028s]\n",
            "INFO:elasticsearch:PUT https://kafka-homework3-5284633582.us-east-1.bonsaisearch.net:443/climatetweets/_doc/1387904345648209921 [status:201 request:0.027s]\n",
            "INFO:elasticsearch:PUT https://kafka-homework3-5284633582.us-east-1.bonsaisearch.net:443/climatetweets/_doc/1387904348236177411 [status:201 request:0.028s]\n",
            "INFO:elasticsearch:PUT https://kafka-homework3-5284633582.us-east-1.bonsaisearch.net:443/climatetweets/_doc/1387904356750708737 [status:201 request:0.026s]\n",
            "INFO:elasticsearch:PUT https://kafka-homework3-5284633582.us-east-1.bonsaisearch.net:443/climatetweets/_doc/1387904365411844098 [status:201 request:0.027s]\n",
            "INFO:elasticsearch:PUT https://kafka-homework3-5284633582.us-east-1.bonsaisearch.net:443/climatetweets/_doc/1387904368385699842 [status:201 request:0.028s]\n",
            "INFO:elasticsearch:PUT https://kafka-homework3-5284633582.us-east-1.bonsaisearch.net:443/climatetweets/_doc/1387904382696665099 [status:201 request:0.027s]\n"
          ],
          "name": "stderr"
        },
        {
          "output_type": "stream",
          "text": [
            "590\n",
            "591\n",
            "592\n",
            "593\n",
            "594\n",
            "595\n",
            "596\n"
          ],
          "name": "stdout"
        },
        {
          "output_type": "stream",
          "text": [
            "INFO:elasticsearch:PUT https://kafka-homework3-5284633582.us-east-1.bonsaisearch.net:443/climatetweets/_doc/1387904386123321356 [status:201 request:0.027s]\n",
            "INFO:elasticsearch:PUT https://kafka-homework3-5284633582.us-east-1.bonsaisearch.net:443/climatetweets/_doc/1387904386202890247 [status:201 request:0.026s]\n",
            "INFO:elasticsearch:PUT https://kafka-homework3-5284633582.us-east-1.bonsaisearch.net:443/climatetweets/_doc/1387904401260486661 [status:201 request:0.030s]\n",
            "INFO:elasticsearch:PUT https://kafka-homework3-5284633582.us-east-1.bonsaisearch.net:443/climatetweets/_doc/1387904406444642304 [status:201 request:0.027s]\n",
            "INFO:elasticsearch:PUT https://kafka-homework3-5284633582.us-east-1.bonsaisearch.net:443/climatetweets/_doc/1387904415928000515 [status:201 request:0.028s]\n"
          ],
          "name": "stderr"
        },
        {
          "output_type": "stream",
          "text": [
            "597\n",
            "598\n",
            "599\n",
            "600\n",
            "601\n"
          ],
          "name": "stdout"
        },
        {
          "output_type": "stream",
          "text": [
            "INFO:elasticsearch:PUT https://kafka-homework3-5284633582.us-east-1.bonsaisearch.net:443/climatetweets/_doc/1387904417605689344 [status:201 request:0.102s]\n",
            "INFO:elasticsearch:PUT https://kafka-homework3-5284633582.us-east-1.bonsaisearch.net:443/climatetweets/_doc/1387904430956335107 [status:201 request:0.027s]\n",
            "INFO:elasticsearch:PUT https://kafka-homework3-5284633582.us-east-1.bonsaisearch.net:443/climatetweets/_doc/1387904434429124610 [status:201 request:0.027s]\n",
            "INFO:elasticsearch:PUT https://kafka-homework3-5284633582.us-east-1.bonsaisearch.net:443/climatetweets/_doc/1387904435959975941 [status:201 request:0.027s]\n",
            "INFO:elasticsearch:PUT https://kafka-homework3-5284633582.us-east-1.bonsaisearch.net:443/climatetweets/_doc/1387904476917518336 [status:201 request:0.113s]\n"
          ],
          "name": "stderr"
        },
        {
          "output_type": "stream",
          "text": [
            "602\n",
            "603\n",
            "604\n",
            "605\n"
          ],
          "name": "stdout"
        },
        {
          "output_type": "stream",
          "text": [
            "INFO:elasticsearch:PUT https://kafka-homework3-5284633582.us-east-1.bonsaisearch.net:443/climatetweets/_doc/1387904480658792448 [status:201 request:0.029s]\n",
            "INFO:elasticsearch:PUT https://kafka-homework3-5284633582.us-east-1.bonsaisearch.net:443/climatetweets/_doc/1387903556838117385 [status:201 request:0.033s]\n",
            "INFO:elasticsearch:PUT https://kafka-homework3-5284633582.us-east-1.bonsaisearch.net:443/climatetweets/_doc/1387903588442120194 [status:201 request:0.027s]\n",
            "INFO:elasticsearch:PUT https://kafka-homework3-5284633582.us-east-1.bonsaisearch.net:443/climatetweets/_doc/1387903592917577737 [status:201 request:0.027s]\n",
            "INFO:elasticsearch:PUT https://kafka-homework3-5284633582.us-east-1.bonsaisearch.net:443/climatetweets/_doc/1387903636395724802 [status:201 request:0.027s]\n",
            "INFO:elasticsearch:PUT https://kafka-homework3-5284633582.us-east-1.bonsaisearch.net:443/climatetweets/_doc/1387903641852383233 [status:201 request:0.028s]\n",
            "INFO:elasticsearch:PUT https://kafka-homework3-5284633582.us-east-1.bonsaisearch.net:443/climatetweets/_doc/1387903648269623297 [status:201 request:0.034s]\n"
          ],
          "name": "stderr"
        },
        {
          "output_type": "stream",
          "text": [
            "606\n",
            "607\n",
            "608\n",
            "609\n",
            "610\n",
            "611\n",
            "612\n",
            "613\n"
          ],
          "name": "stdout"
        },
        {
          "output_type": "stream",
          "text": [
            "INFO:elasticsearch:PUT https://kafka-homework3-5284633582.us-east-1.bonsaisearch.net:443/climatetweets/_doc/1387903655739682816 [status:201 request:0.029s]\n",
            "INFO:elasticsearch:PUT https://kafka-homework3-5284633582.us-east-1.bonsaisearch.net:443/climatetweets/_doc/1387903668976906242 [status:201 request:0.034s]\n",
            "INFO:elasticsearch:PUT https://kafka-homework3-5284633582.us-east-1.bonsaisearch.net:443/climatetweets/_doc/1387903670101086209 [status:201 request:0.028s]\n",
            "INFO:elasticsearch:PUT https://kafka-homework3-5284633582.us-east-1.bonsaisearch.net:443/climatetweets/_doc/1387903688551845888 [status:201 request:0.028s]\n",
            "INFO:elasticsearch:PUT https://kafka-homework3-5284633582.us-east-1.bonsaisearch.net:443/climatetweets/_doc/1387903688300130304 [status:201 request:0.029s]\n",
            "INFO:elasticsearch:PUT https://kafka-homework3-5284633582.us-east-1.bonsaisearch.net:443/climatetweets/_doc/1387903693345988609 [status:201 request:0.027s]\n",
            "INFO:elasticsearch:PUT https://kafka-homework3-5284633582.us-east-1.bonsaisearch.net:443/climatetweets/_doc/1387903697573670917 [status:201 request:0.029s]\n"
          ],
          "name": "stderr"
        },
        {
          "output_type": "stream",
          "text": [
            "614\n",
            "615\n",
            "616\n",
            "617\n",
            "618\n",
            "619\n",
            "620\n"
          ],
          "name": "stdout"
        },
        {
          "output_type": "stream",
          "text": [
            "INFO:elasticsearch:PUT https://kafka-homework3-5284633582.us-east-1.bonsaisearch.net:443/climatetweets/_doc/1387903741932675072 [status:201 request:0.027s]\n",
            "INFO:elasticsearch:PUT https://kafka-homework3-5284633582.us-east-1.bonsaisearch.net:443/climatetweets/_doc/1387903742918361092 [status:201 request:0.026s]\n",
            "INFO:elasticsearch:PUT https://kafka-homework3-5284633582.us-east-1.bonsaisearch.net:443/climatetweets/_doc/1387903743623041024 [status:201 request:0.083s]\n",
            "INFO:elasticsearch:PUT https://kafka-homework3-5284633582.us-east-1.bonsaisearch.net:443/climatetweets/_doc/1387903752275963904 [status:201 request:0.027s]\n",
            "INFO:elasticsearch:PUT https://kafka-homework3-5284633582.us-east-1.bonsaisearch.net:443/climatetweets/_doc/1387903773394280448 [status:201 request:0.027s]\n"
          ],
          "name": "stderr"
        },
        {
          "output_type": "stream",
          "text": [
            "621\n",
            "622\n",
            "623\n",
            "624\n",
            "625\n"
          ],
          "name": "stdout"
        },
        {
          "output_type": "stream",
          "text": [
            "INFO:elasticsearch:PUT https://kafka-homework3-5284633582.us-east-1.bonsaisearch.net:443/climatetweets/_doc/1387903779278712837 [status:201 request:0.030s]\n",
            "INFO:elasticsearch:PUT https://kafka-homework3-5284633582.us-east-1.bonsaisearch.net:443/climatetweets/_doc/1387903789697429505 [status:201 request:0.030s]\n",
            "INFO:elasticsearch:PUT https://kafka-homework3-5284633582.us-east-1.bonsaisearch.net:443/climatetweets/_doc/1387903790804729858 [status:201 request:0.029s]\n",
            "INFO:elasticsearch:PUT https://kafka-homework3-5284633582.us-east-1.bonsaisearch.net:443/climatetweets/_doc/1387903795732967426 [status:201 request:0.027s]\n",
            "INFO:elasticsearch:PUT https://kafka-homework3-5284633582.us-east-1.bonsaisearch.net:443/climatetweets/_doc/1387903803614187521 [status:201 request:0.026s]\n",
            "INFO:elasticsearch:PUT https://kafka-homework3-5284633582.us-east-1.bonsaisearch.net:443/climatetweets/_doc/1387903809674940418 [status:201 request:0.027s]\n",
            "INFO:elasticsearch:PUT https://kafka-homework3-5284633582.us-east-1.bonsaisearch.net:443/climatetweets/_doc/1387903809683402760 [status:201 request:0.027s]\n"
          ],
          "name": "stderr"
        },
        {
          "output_type": "stream",
          "text": [
            "626\n",
            "627\n",
            "628\n",
            "629\n",
            "630\n",
            "631\n",
            "632\n"
          ],
          "name": "stdout"
        },
        {
          "output_type": "stream",
          "text": [
            "INFO:elasticsearch:PUT https://kafka-homework3-5284633582.us-east-1.bonsaisearch.net:443/climatetweets/_doc/1387903817811841024 [status:201 request:0.029s]\n",
            "INFO:elasticsearch:PUT https://kafka-homework3-5284633582.us-east-1.bonsaisearch.net:443/climatetweets/_doc/1387903837965594624 [status:201 request:0.028s]\n",
            "INFO:elasticsearch:PUT https://kafka-homework3-5284633582.us-east-1.bonsaisearch.net:443/climatetweets/_doc/1387903856173109251 [status:201 request:0.034s]\n",
            "INFO:elasticsearch:PUT https://kafka-homework3-5284633582.us-east-1.bonsaisearch.net:443/climatetweets/_doc/1387903868114251781 [status:201 request:0.027s]\n",
            "INFO:elasticsearch:PUT https://kafka-homework3-5284633582.us-east-1.bonsaisearch.net:443/climatetweets/_doc/1387903871930953728 [status:201 request:0.028s]\n",
            "INFO:elasticsearch:PUT https://kafka-homework3-5284633582.us-east-1.bonsaisearch.net:443/climatetweets/_doc/1387903892353134594 [status:201 request:0.027s]\n",
            "INFO:elasticsearch:PUT https://kafka-homework3-5284633582.us-east-1.bonsaisearch.net:443/climatetweets/_doc/1387903896803319824 [status:201 request:0.028s]\n"
          ],
          "name": "stderr"
        },
        {
          "output_type": "stream",
          "text": [
            "633\n",
            "634\n",
            "635\n",
            "636\n",
            "637\n",
            "638\n",
            "639\n"
          ],
          "name": "stdout"
        },
        {
          "output_type": "stream",
          "text": [
            "INFO:elasticsearch:PUT https://kafka-homework3-5284633582.us-east-1.bonsaisearch.net:443/climatetweets/_doc/1387903916562542593 [status:201 request:0.027s]\n",
            "INFO:elasticsearch:PUT https://kafka-homework3-5284633582.us-east-1.bonsaisearch.net:443/climatetweets/_doc/1387903935130832899 [status:201 request:0.028s]\n",
            "INFO:elasticsearch:PUT https://kafka-homework3-5284633582.us-east-1.bonsaisearch.net:443/climatetweets/_doc/1387903942902824968 [status:201 request:0.027s]\n",
            "INFO:elasticsearch:PUT https://kafka-homework3-5284633582.us-east-1.bonsaisearch.net:443/climatetweets/_doc/1387903960158285824 [status:201 request:0.030s]\n",
            "INFO:elasticsearch:PUT https://kafka-homework3-5284633582.us-east-1.bonsaisearch.net:443/climatetweets/_doc/1387903975266025473 [status:201 request:0.027s]\n",
            "INFO:elasticsearch:PUT https://kafka-homework3-5284633582.us-east-1.bonsaisearch.net:443/climatetweets/_doc/1387903976901861382 [status:201 request:0.027s]\n",
            "INFO:elasticsearch:PUT https://kafka-homework3-5284633582.us-east-1.bonsaisearch.net:443/climatetweets/_doc/1387903977560412162 [status:201 request:0.029s]\n"
          ],
          "name": "stderr"
        },
        {
          "output_type": "stream",
          "text": [
            "640\n",
            "641\n",
            "642\n",
            "643\n",
            "644\n",
            "645\n",
            "646\n"
          ],
          "name": "stdout"
        },
        {
          "output_type": "stream",
          "text": [
            "INFO:elasticsearch:PUT https://kafka-homework3-5284633582.us-east-1.bonsaisearch.net:443/climatetweets/_doc/1387903980215341056 [status:201 request:0.032s]\n",
            "INFO:elasticsearch:PUT https://kafka-homework3-5284633582.us-east-1.bonsaisearch.net:443/climatetweets/_doc/1387904011299287041 [status:201 request:0.029s]\n",
            "INFO:elasticsearch:PUT https://kafka-homework3-5284633582.us-east-1.bonsaisearch.net:443/climatetweets/_doc/1387904012175904769 [status:201 request:0.028s]\n",
            "INFO:elasticsearch:PUT https://kafka-homework3-5284633582.us-east-1.bonsaisearch.net:443/climatetweets/_doc/1387904013451120649 [status:201 request:0.027s]\n",
            "INFO:elasticsearch:PUT https://kafka-homework3-5284633582.us-east-1.bonsaisearch.net:443/climatetweets/_doc/1387904023714541568 [status:201 request:0.030s]\n",
            "INFO:elasticsearch:PUT https://kafka-homework3-5284633582.us-east-1.bonsaisearch.net:443/climatetweets/_doc/1387904026486919169 [status:201 request:0.028s]\n",
            "INFO:elasticsearch:PUT https://kafka-homework3-5284633582.us-east-1.bonsaisearch.net:443/climatetweets/_doc/1387904032706949121 [status:201 request:0.029s]\n"
          ],
          "name": "stderr"
        },
        {
          "output_type": "stream",
          "text": [
            "647\n",
            "648\n",
            "649\n",
            "650\n",
            "651\n",
            "652\n",
            "653\n"
          ],
          "name": "stdout"
        },
        {
          "output_type": "stream",
          "text": [
            "INFO:elasticsearch:PUT https://kafka-homework3-5284633582.us-east-1.bonsaisearch.net:443/climatetweets/_doc/1387904066374803458 [status:201 request:0.027s]\n",
            "INFO:elasticsearch:PUT https://kafka-homework3-5284633582.us-east-1.bonsaisearch.net:443/climatetweets/_doc/1387904068140470277 [status:201 request:0.028s]\n",
            "INFO:elasticsearch:PUT https://kafka-homework3-5284633582.us-east-1.bonsaisearch.net:443/climatetweets/_doc/1387904078924107778 [status:201 request:0.028s]\n",
            "INFO:elasticsearch:PUT https://kafka-homework3-5284633582.us-east-1.bonsaisearch.net:443/climatetweets/_doc/1387904082015363072 [status:201 request:0.029s]\n",
            "INFO:elasticsearch:PUT https://kafka-homework3-5284633582.us-east-1.bonsaisearch.net:443/climatetweets/_doc/1387904083076554758 [status:201 request:0.034s]\n",
            "INFO:elasticsearch:PUT https://kafka-homework3-5284633582.us-east-1.bonsaisearch.net:443/climatetweets/_doc/1387904101665681415 [status:201 request:0.028s]\n",
            "INFO:elasticsearch:PUT https://kafka-homework3-5284633582.us-east-1.bonsaisearch.net:443/climatetweets/_doc/1387904132544176131 [status:201 request:0.027s]\n"
          ],
          "name": "stderr"
        },
        {
          "output_type": "stream",
          "text": [
            "654\n",
            "655\n",
            "656\n",
            "657\n",
            "658\n",
            "659\n",
            "660\n"
          ],
          "name": "stdout"
        },
        {
          "output_type": "stream",
          "text": [
            "INFO:elasticsearch:PUT https://kafka-homework3-5284633582.us-east-1.bonsaisearch.net:443/climatetweets/_doc/1387904139506638857 [status:201 request:0.027s]\n",
            "INFO:elasticsearch:PUT https://kafka-homework3-5284633582.us-east-1.bonsaisearch.net:443/climatetweets/_doc/1387904154643976196 [status:201 request:0.031s]\n",
            "INFO:elasticsearch:PUT https://kafka-homework3-5284633582.us-east-1.bonsaisearch.net:443/climatetweets/_doc/1387904172838703109 [status:201 request:0.028s]\n",
            "INFO:elasticsearch:PUT https://kafka-homework3-5284633582.us-east-1.bonsaisearch.net:443/climatetweets/_doc/1387904188051599374 [status:201 request:0.029s]\n",
            "INFO:elasticsearch:PUT https://kafka-homework3-5284633582.us-east-1.bonsaisearch.net:443/climatetweets/_doc/1387904200907141126 [status:201 request:0.032s]\n",
            "INFO:elasticsearch:PUT https://kafka-homework3-5284633582.us-east-1.bonsaisearch.net:443/climatetweets/_doc/1387904207508983809 [status:201 request:0.029s]\n"
          ],
          "name": "stderr"
        },
        {
          "output_type": "stream",
          "text": [
            "661\n",
            "662\n",
            "663\n",
            "664\n",
            "665\n",
            "666\n"
          ],
          "name": "stdout"
        },
        {
          "output_type": "stream",
          "text": [
            "INFO:elasticsearch:PUT https://kafka-homework3-5284633582.us-east-1.bonsaisearch.net:443/climatetweets/_doc/1387904224562974723 [status:201 request:0.112s]\n",
            "INFO:elasticsearch:PUT https://kafka-homework3-5284633582.us-east-1.bonsaisearch.net:443/climatetweets/_doc/1387904227465306112 [status:201 request:0.030s]\n",
            "INFO:elasticsearch:PUT https://kafka-homework3-5284633582.us-east-1.bonsaisearch.net:443/climatetweets/_doc/1387904230791385089 [status:201 request:0.028s]\n",
            "INFO:elasticsearch:PUT https://kafka-homework3-5284633582.us-east-1.bonsaisearch.net:443/climatetweets/_doc/1387904231529611266 [status:201 request:0.029s]\n",
            "INFO:elasticsearch:PUT https://kafka-homework3-5284633582.us-east-1.bonsaisearch.net:443/climatetweets/_doc/1387904240178237443 [status:201 request:0.028s]\n",
            "INFO:elasticsearch:PUT https://kafka-homework3-5284633582.us-east-1.bonsaisearch.net:443/climatetweets/_doc/1387904240413253642 [status:201 request:0.028s]\n"
          ],
          "name": "stderr"
        },
        {
          "output_type": "stream",
          "text": [
            "667\n",
            "668\n",
            "669\n",
            "670\n",
            "671\n",
            "672\n"
          ],
          "name": "stdout"
        },
        {
          "output_type": "stream",
          "text": [
            "INFO:elasticsearch:PUT https://kafka-homework3-5284633582.us-east-1.bonsaisearch.net:443/climatetweets/_doc/1387904254841655302 [status:201 request:0.044s]\n",
            "INFO:elasticsearch:PUT https://kafka-homework3-5284633582.us-east-1.bonsaisearch.net:443/climatetweets/_doc/1387904268288593923 [status:201 request:0.030s]\n",
            "INFO:elasticsearch:PUT https://kafka-homework3-5284633582.us-east-1.bonsaisearch.net:443/climatetweets/_doc/1387904278124236803 [status:201 request:0.027s]\n",
            "INFO:elasticsearch:PUT https://kafka-homework3-5284633582.us-east-1.bonsaisearch.net:443/climatetweets/_doc/1387904278560485384 [status:201 request:0.037s]\n",
            "INFO:elasticsearch:PUT https://kafka-homework3-5284633582.us-east-1.bonsaisearch.net:443/climatetweets/_doc/1387904281752129538 [status:201 request:0.029s]\n",
            "INFO:elasticsearch:PUT https://kafka-homework3-5284633582.us-east-1.bonsaisearch.net:443/climatetweets/_doc/1387904282767339523 [status:201 request:0.027s]\n",
            "INFO:elasticsearch:PUT https://kafka-homework3-5284633582.us-east-1.bonsaisearch.net:443/climatetweets/_doc/1387904290321281028 [status:201 request:0.028s]\n"
          ],
          "name": "stderr"
        },
        {
          "output_type": "stream",
          "text": [
            "673\n",
            "674\n",
            "675\n",
            "676\n",
            "677\n",
            "678\n"
          ],
          "name": "stdout"
        },
        {
          "output_type": "stream",
          "text": [
            "INFO:elasticsearch:PUT https://kafka-homework3-5284633582.us-east-1.bonsaisearch.net:443/climatetweets/_doc/1387904295174017024 [status:201 request:0.028s]\n",
            "INFO:elasticsearch:PUT https://kafka-homework3-5284633582.us-east-1.bonsaisearch.net:443/climatetweets/_doc/1387904356834594818 [status:201 request:0.031s]\n",
            "INFO:elasticsearch:PUT https://kafka-homework3-5284633582.us-east-1.bonsaisearch.net:443/climatetweets/_doc/1387904365978177540 [status:201 request:0.027s]\n",
            "INFO:elasticsearch:PUT https://kafka-homework3-5284633582.us-east-1.bonsaisearch.net:443/climatetweets/_doc/1387904380859412480 [status:201 request:0.033s]\n",
            "INFO:elasticsearch:PUT https://kafka-homework3-5284633582.us-east-1.bonsaisearch.net:443/climatetweets/_doc/1387904391370452992 [status:201 request:0.028s]\n",
            "INFO:elasticsearch:PUT https://kafka-homework3-5284633582.us-east-1.bonsaisearch.net:443/climatetweets/_doc/1387904391588421635 [status:201 request:0.032s]\n"
          ],
          "name": "stderr"
        },
        {
          "output_type": "stream",
          "text": [
            "679\n",
            "680\n",
            "681\n",
            "682\n",
            "683\n",
            "684\n",
            "685\n"
          ],
          "name": "stdout"
        },
        {
          "output_type": "stream",
          "text": [
            "INFO:elasticsearch:PUT https://kafka-homework3-5284633582.us-east-1.bonsaisearch.net:443/climatetweets/_doc/1387904397728903173 [status:201 request:0.027s]\n",
            "INFO:elasticsearch:PUT https://kafka-homework3-5284633582.us-east-1.bonsaisearch.net:443/climatetweets/_doc/1387904401675853827 [status:201 request:0.029s]\n",
            "INFO:elasticsearch:PUT https://kafka-homework3-5284633582.us-east-1.bonsaisearch.net:443/climatetweets/_doc/1387904405022855171 [status:201 request:0.029s]\n",
            "INFO:elasticsearch:PUT https://kafka-homework3-5284633582.us-east-1.bonsaisearch.net:443/climatetweets/_doc/1387904411574341644 [status:201 request:0.027s]\n",
            "INFO:elasticsearch:PUT https://kafka-homework3-5284633582.us-east-1.bonsaisearch.net:443/climatetweets/_doc/1387904436941508616 [status:201 request:0.030s]\n",
            "INFO:elasticsearch:PUT https://kafka-homework3-5284633582.us-east-1.bonsaisearch.net:443/climatetweets/_doc/1387904452519239686 [status:201 request:0.028s]\n",
            "INFO:elasticsearch:PUT https://kafka-homework3-5284633582.us-east-1.bonsaisearch.net:443/climatetweets/_doc/1387904458525274112 [status:201 request:0.032s]\n"
          ],
          "name": "stderr"
        },
        {
          "output_type": "stream",
          "text": [
            "686\n",
            "687\n",
            "688\n",
            "689\n",
            "690\n",
            "691\n",
            "692\n"
          ],
          "name": "stdout"
        },
        {
          "output_type": "stream",
          "text": [
            "INFO:elasticsearch:PUT https://kafka-homework3-5284633582.us-east-1.bonsaisearch.net:443/climatetweets/_doc/1387904459792125952 [status:201 request:0.032s]\n",
            "INFO:elasticsearch:PUT https://kafka-homework3-5284633582.us-east-1.bonsaisearch.net:443/climatetweets/_doc/1387904464355479552 [status:201 request:0.028s]\n",
            "INFO:elasticsearch:PUT https://kafka-homework3-5284633582.us-east-1.bonsaisearch.net:443/climatetweets/_doc/1387904466569994241 [status:201 request:0.035s]\n",
            "INFO:elasticsearch:PUT https://kafka-homework3-5284633582.us-east-1.bonsaisearch.net:443/climatetweets/_doc/1387904474002300929 [status:201 request:0.027s]\n",
            "INFO:elasticsearch:PUT https://kafka-homework3-5284633582.us-east-1.bonsaisearch.net:443/climatetweets/_doc/1387904478339162112 [status:201 request:0.028s]\n",
            "INFO:elasticsearch:PUT https://kafka-homework3-5284633582.us-east-1.bonsaisearch.net:443/climatetweets/_doc/1387903518124646400 [status:201 request:0.029s]\n",
            "INFO:elasticsearch:PUT https://kafka-homework3-5284633582.us-east-1.bonsaisearch.net:443/climatetweets/_doc/1387903521832439808 [status:201 request:0.027s]\n"
          ],
          "name": "stderr"
        },
        {
          "output_type": "stream",
          "text": [
            "693\n",
            "694\n",
            "695\n",
            "696\n",
            "697\n",
            "698\n",
            "699\n"
          ],
          "name": "stdout"
        },
        {
          "output_type": "stream",
          "text": [
            "INFO:elasticsearch:PUT https://kafka-homework3-5284633582.us-east-1.bonsaisearch.net:443/climatetweets/_doc/1387903526685315079 [status:201 request:0.029s]\n",
            "INFO:elasticsearch:PUT https://kafka-homework3-5284633582.us-east-1.bonsaisearch.net:443/climatetweets/_doc/1387903545660293120 [status:201 request:0.028s]\n",
            "INFO:elasticsearch:PUT https://kafka-homework3-5284633582.us-east-1.bonsaisearch.net:443/climatetweets/_doc/1387903550127108096 [status:201 request:0.028s]\n",
            "INFO:elasticsearch:PUT https://kafka-homework3-5284633582.us-east-1.bonsaisearch.net:443/climatetweets/_doc/1387903551788232705 [status:201 request:0.028s]\n",
            "INFO:elasticsearch:PUT https://kafka-homework3-5284633582.us-east-1.bonsaisearch.net:443/climatetweets/_doc/1387903558511644673 [status:201 request:0.032s]\n",
            "INFO:elasticsearch:PUT https://kafka-homework3-5284633582.us-east-1.bonsaisearch.net:443/climatetweets/_doc/1387903560315129859 [status:201 request:0.028s]\n",
            "INFO:elasticsearch:PUT https://kafka-homework3-5284633582.us-east-1.bonsaisearch.net:443/climatetweets/_doc/1387903569563684866 [status:201 request:0.027s]\n"
          ],
          "name": "stderr"
        },
        {
          "output_type": "stream",
          "text": [
            "700\n",
            "701\n",
            "702\n",
            "703\n",
            "704\n",
            "705\n",
            "706\n"
          ],
          "name": "stdout"
        },
        {
          "output_type": "stream",
          "text": [
            "INFO:elasticsearch:PUT https://kafka-homework3-5284633582.us-east-1.bonsaisearch.net:443/climatetweets/_doc/1387903570096402432 [status:201 request:0.028s]\n",
            "INFO:elasticsearch:PUT https://kafka-homework3-5284633582.us-east-1.bonsaisearch.net:443/climatetweets/_doc/1387903572034134021 [status:201 request:0.028s]\n",
            "INFO:elasticsearch:PUT https://kafka-homework3-5284633582.us-east-1.bonsaisearch.net:443/climatetweets/_doc/1387903575104401414 [status:201 request:0.028s]\n",
            "INFO:elasticsearch:PUT https://kafka-homework3-5284633582.us-east-1.bonsaisearch.net:443/climatetweets/_doc/1387903584851963904 [status:201 request:0.028s]\n",
            "INFO:elasticsearch:PUT https://kafka-homework3-5284633582.us-east-1.bonsaisearch.net:443/climatetweets/_doc/1387903586147856384 [status:201 request:0.029s]\n",
            "INFO:elasticsearch:PUT https://kafka-homework3-5284633582.us-east-1.bonsaisearch.net:443/climatetweets/_doc/1387903590165975040 [status:201 request:0.028s]\n",
            "INFO:elasticsearch:PUT https://kafka-homework3-5284633582.us-east-1.bonsaisearch.net:443/climatetweets/_doc/1387903590707118082 [status:201 request:0.030s]\n"
          ],
          "name": "stderr"
        },
        {
          "output_type": "stream",
          "text": [
            "707\n",
            "708\n",
            "709\n",
            "710\n",
            "711\n",
            "712\n",
            "713\n"
          ],
          "name": "stdout"
        },
        {
          "output_type": "stream",
          "text": [
            "INFO:elasticsearch:PUT https://kafka-homework3-5284633582.us-east-1.bonsaisearch.net:443/climatetweets/_doc/1387903598051303425 [status:201 request:0.027s]\n",
            "INFO:elasticsearch:PUT https://kafka-homework3-5284633582.us-east-1.bonsaisearch.net:443/climatetweets/_doc/1387903613192781832 [status:201 request:0.027s]\n",
            "INFO:elasticsearch:PUT https://kafka-homework3-5284633582.us-east-1.bonsaisearch.net:443/climatetweets/_doc/1387903617542377475 [status:201 request:0.027s]\n",
            "INFO:elasticsearch:PUT https://kafka-homework3-5284633582.us-east-1.bonsaisearch.net:443/climatetweets/_doc/1387903623321907204 [status:201 request:0.032s]\n",
            "INFO:elasticsearch:PUT https://kafka-homework3-5284633582.us-east-1.bonsaisearch.net:443/climatetweets/_doc/1387903629009461250 [status:201 request:0.029s]\n",
            "INFO:elasticsearch:PUT https://kafka-homework3-5284633582.us-east-1.bonsaisearch.net:443/climatetweets/_doc/1387903630032863232 [status:201 request:0.035s]\n"
          ],
          "name": "stderr"
        },
        {
          "output_type": "stream",
          "text": [
            "714\n",
            "715\n",
            "716\n",
            "717\n",
            "718\n",
            "719\n"
          ],
          "name": "stdout"
        },
        {
          "output_type": "stream",
          "text": [
            "INFO:elasticsearch:PUT https://kafka-homework3-5284633582.us-east-1.bonsaisearch.net:443/climatetweets/_doc/1387903637439934465 [status:201 request:0.106s]\n",
            "INFO:elasticsearch:PUT https://kafka-homework3-5284633582.us-east-1.bonsaisearch.net:443/climatetweets/_doc/1387903638060814336 [status:201 request:0.030s]\n",
            "INFO:elasticsearch:PUT https://kafka-homework3-5284633582.us-east-1.bonsaisearch.net:443/climatetweets/_doc/1387903649242779654 [status:201 request:0.027s]\n",
            "INFO:elasticsearch:PUT https://kafka-homework3-5284633582.us-east-1.bonsaisearch.net:443/climatetweets/_doc/1387903686500814848 [status:201 request:0.027s]\n",
            "INFO:elasticsearch:PUT https://kafka-homework3-5284633582.us-east-1.bonsaisearch.net:443/climatetweets/_doc/1387903690883936263 [status:201 request:0.029s]\n",
            "INFO:elasticsearch:PUT https://kafka-homework3-5284633582.us-east-1.bonsaisearch.net:443/climatetweets/_doc/1387903692981035008 [status:201 request:0.028s]\n",
            "INFO:elasticsearch:PUT https://kafka-homework3-5284633582.us-east-1.bonsaisearch.net:443/climatetweets/_doc/1387903709133164546 [status:201 request:0.029s]\n"
          ],
          "name": "stderr"
        },
        {
          "output_type": "stream",
          "text": [
            "720\n",
            "721\n",
            "722\n",
            "723\n",
            "724\n",
            "725\n",
            "726\n"
          ],
          "name": "stdout"
        },
        {
          "output_type": "stream",
          "text": [
            "INFO:elasticsearch:PUT https://kafka-homework3-5284633582.us-east-1.bonsaisearch.net:443/climatetweets/_doc/1387903711679238149 [status:201 request:0.028s]\n",
            "INFO:elasticsearch:PUT https://kafka-homework3-5284633582.us-east-1.bonsaisearch.net:443/climatetweets/_doc/1387903715810578432 [status:201 request:0.029s]\n",
            "INFO:elasticsearch:PUT https://kafka-homework3-5284633582.us-east-1.bonsaisearch.net:443/climatetweets/_doc/1387903732252303377 [status:201 request:0.030s]\n",
            "INFO:elasticsearch:PUT https://kafka-homework3-5284633582.us-east-1.bonsaisearch.net:443/climatetweets/_doc/1387903740099837953 [status:201 request:0.027s]\n",
            "INFO:elasticsearch:PUT https://kafka-homework3-5284633582.us-east-1.bonsaisearch.net:443/climatetweets/_doc/1387903741018484736 [status:201 request:0.027s]\n",
            "INFO:elasticsearch:PUT https://kafka-homework3-5284633582.us-east-1.bonsaisearch.net:443/climatetweets/_doc/1387903745778929673 [status:201 request:0.028s]\n",
            "INFO:elasticsearch:PUT https://kafka-homework3-5284633582.us-east-1.bonsaisearch.net:443/climatetweets/_doc/1387903767614574592 [status:201 request:0.029s]\n"
          ],
          "name": "stderr"
        },
        {
          "output_type": "stream",
          "text": [
            "727\n",
            "728\n",
            "729\n",
            "730\n",
            "731\n",
            "732\n",
            "733\n"
          ],
          "name": "stdout"
        },
        {
          "output_type": "stream",
          "text": [
            "INFO:elasticsearch:PUT https://kafka-homework3-5284633582.us-east-1.bonsaisearch.net:443/climatetweets/_doc/1387903782072242176 [status:201 request:0.028s]\n",
            "INFO:elasticsearch:PUT https://kafka-homework3-5284633582.us-east-1.bonsaisearch.net:443/climatetweets/_doc/1387903783112429571 [status:201 request:0.028s]\n",
            "INFO:elasticsearch:PUT https://kafka-homework3-5284633582.us-east-1.bonsaisearch.net:443/climatetweets/_doc/1387903785134080008 [status:201 request:0.029s]\n",
            "INFO:elasticsearch:PUT https://kafka-homework3-5284633582.us-east-1.bonsaisearch.net:443/climatetweets/_doc/1387903790460801026 [status:201 request:0.028s]\n",
            "INFO:elasticsearch:PUT https://kafka-homework3-5284633582.us-east-1.bonsaisearch.net:443/climatetweets/_doc/1387903793459646465 [status:201 request:0.030s]\n",
            "INFO:elasticsearch:PUT https://kafka-homework3-5284633582.us-east-1.bonsaisearch.net:443/climatetweets/_doc/1387903807842144258 [status:201 request:0.029s]\n",
            "INFO:elasticsearch:PUT https://kafka-homework3-5284633582.us-east-1.bonsaisearch.net:443/climatetweets/_doc/1387903813982597124 [status:201 request:0.027s]\n"
          ],
          "name": "stderr"
        },
        {
          "output_type": "stream",
          "text": [
            "734\n",
            "735\n",
            "736\n",
            "737\n",
            "738\n",
            "739\n",
            "740\n"
          ],
          "name": "stdout"
        },
        {
          "output_type": "stream",
          "text": [
            "INFO:elasticsearch:PUT https://kafka-homework3-5284633582.us-east-1.bonsaisearch.net:443/climatetweets/_doc/1387903832244592642 [status:201 request:0.028s]\n",
            "INFO:elasticsearch:PUT https://kafka-homework3-5284633582.us-east-1.bonsaisearch.net:443/climatetweets/_doc/1387903833691541509 [status:201 request:0.029s]\n",
            "INFO:elasticsearch:PUT https://kafka-homework3-5284633582.us-east-1.bonsaisearch.net:443/climatetweets/_doc/1387903856294522885 [status:201 request:0.028s]\n",
            "INFO:elasticsearch:PUT https://kafka-homework3-5284633582.us-east-1.bonsaisearch.net:443/climatetweets/_doc/1387903874883756034 [status:201 request:0.026s]\n",
            "INFO:elasticsearch:PUT https://kafka-homework3-5284633582.us-east-1.bonsaisearch.net:443/climatetweets/_doc/1387903875932381184 [status:201 request:0.028s]\n",
            "INFO:elasticsearch:PUT https://kafka-homework3-5284633582.us-east-1.bonsaisearch.net:443/climatetweets/_doc/1387903879191347203 [status:201 request:0.028s]\n",
            "INFO:elasticsearch:PUT https://kafka-homework3-5284633582.us-east-1.bonsaisearch.net:443/climatetweets/_doc/1387903882202865670 [status:201 request:0.028s]\n"
          ],
          "name": "stderr"
        },
        {
          "output_type": "stream",
          "text": [
            "741\n",
            "742\n",
            "743\n",
            "744\n",
            "745\n",
            "746\n",
            "747\n"
          ],
          "name": "stdout"
        },
        {
          "output_type": "stream",
          "text": [
            "INFO:elasticsearch:PUT https://kafka-homework3-5284633582.us-east-1.bonsaisearch.net:443/climatetweets/_doc/1387903882748117000 [status:201 request:0.032s]\n",
            "INFO:elasticsearch:PUT https://kafka-homework3-5284633582.us-east-1.bonsaisearch.net:443/climatetweets/_doc/1387903909172113410 [status:201 request:0.029s]\n",
            "INFO:elasticsearch:PUT https://kafka-homework3-5284633582.us-east-1.bonsaisearch.net:443/climatetweets/_doc/1387903959990427651 [status:201 request:0.029s]\n",
            "INFO:elasticsearch:PUT https://kafka-homework3-5284633582.us-east-1.bonsaisearch.net:443/climatetweets/_doc/1387904003762237442 [status:201 request:0.033s]\n",
            "INFO:elasticsearch:PUT https://kafka-homework3-5284633582.us-east-1.bonsaisearch.net:443/climatetweets/_doc/1387904004538126339 [status:201 request:0.029s]\n",
            "INFO:elasticsearch:PUT https://kafka-homework3-5284633582.us-east-1.bonsaisearch.net:443/climatetweets/_doc/1387904012784123905 [status:201 request:0.033s]\n",
            "INFO:elasticsearch:PUT https://kafka-homework3-5284633582.us-east-1.bonsaisearch.net:443/climatetweets/_doc/1387904014730268675 [status:201 request:0.027s]\n"
          ],
          "name": "stderr"
        },
        {
          "output_type": "stream",
          "text": [
            "748\n",
            "749\n",
            "750\n",
            "751\n",
            "752\n",
            "753\n",
            "754\n"
          ],
          "name": "stdout"
        },
        {
          "output_type": "stream",
          "text": [
            "INFO:elasticsearch:PUT https://kafka-homework3-5284633582.us-east-1.bonsaisearch.net:443/climatetweets/_doc/1387904016106016769 [status:201 request:0.027s]\n",
            "INFO:elasticsearch:PUT https://kafka-homework3-5284633582.us-east-1.bonsaisearch.net:443/climatetweets/_doc/1387904021818707968 [status:201 request:0.029s]\n",
            "INFO:elasticsearch:PUT https://kafka-homework3-5284633582.us-east-1.bonsaisearch.net:443/climatetweets/_doc/1387904040839884803 [status:201 request:0.028s]\n",
            "INFO:elasticsearch:PUT https://kafka-homework3-5284633582.us-east-1.bonsaisearch.net:443/climatetweets/_doc/1387904041984794630 [status:201 request:0.028s]\n",
            "INFO:elasticsearch:PUT https://kafka-homework3-5284633582.us-east-1.bonsaisearch.net:443/climatetweets/_doc/1387904042358112260 [status:201 request:0.028s]\n",
            "INFO:elasticsearch:PUT https://kafka-homework3-5284633582.us-east-1.bonsaisearch.net:443/climatetweets/_doc/1387904042773405696 [status:201 request:0.032s]\n",
            "INFO:elasticsearch:PUT https://kafka-homework3-5284633582.us-east-1.bonsaisearch.net:443/climatetweets/_doc/1387904047034912768 [status:201 request:0.029s]\n"
          ],
          "name": "stderr"
        },
        {
          "output_type": "stream",
          "text": [
            "755\n",
            "756\n",
            "757\n",
            "758\n",
            "759\n",
            "760\n",
            "761\n"
          ],
          "name": "stdout"
        },
        {
          "output_type": "stream",
          "text": [
            "INFO:elasticsearch:PUT https://kafka-homework3-5284633582.us-east-1.bonsaisearch.net:443/climatetweets/_doc/1387904049069105156 [status:201 request:0.028s]\n",
            "INFO:elasticsearch:PUT https://kafka-homework3-5284633582.us-east-1.bonsaisearch.net:443/climatetweets/_doc/1387904054475444226 [status:201 request:0.028s]\n",
            "INFO:elasticsearch:PUT https://kafka-homework3-5284633582.us-east-1.bonsaisearch.net:443/climatetweets/_doc/1387904070514446338 [status:201 request:0.028s]\n",
            "INFO:elasticsearch:PUT https://kafka-homework3-5284633582.us-east-1.bonsaisearch.net:443/climatetweets/_doc/1387904079024828419 [status:201 request:0.028s]\n",
            "INFO:elasticsearch:PUT https://kafka-homework3-5284633582.us-east-1.bonsaisearch.net:443/climatetweets/_doc/1387904100885467138 [status:201 request:0.026s]\n",
            "INFO:elasticsearch:PUT https://kafka-homework3-5284633582.us-east-1.bonsaisearch.net:443/climatetweets/_doc/1387904121542430723 [status:201 request:0.028s]\n",
            "INFO:elasticsearch:PUT https://kafka-homework3-5284633582.us-east-1.bonsaisearch.net:443/climatetweets/_doc/1387904142547501058 [status:201 request:0.029s]\n"
          ],
          "name": "stderr"
        },
        {
          "output_type": "stream",
          "text": [
            "762\n",
            "763\n",
            "764\n",
            "765\n",
            "766\n",
            "767\n",
            "768\n"
          ],
          "name": "stdout"
        },
        {
          "output_type": "stream",
          "text": [
            "INFO:elasticsearch:PUT https://kafka-homework3-5284633582.us-east-1.bonsaisearch.net:443/climatetweets/_doc/1387904153788112898 [status:201 request:0.027s]\n",
            "INFO:elasticsearch:PUT https://kafka-homework3-5284633582.us-east-1.bonsaisearch.net:443/climatetweets/_doc/1387904164617801728 [status:201 request:0.028s]\n",
            "INFO:elasticsearch:PUT https://kafka-homework3-5284633582.us-east-1.bonsaisearch.net:443/climatetweets/_doc/1387904168333959169 [status:201 request:0.029s]\n",
            "INFO:elasticsearch:PUT https://kafka-homework3-5284633582.us-east-1.bonsaisearch.net:443/climatetweets/_doc/1387904184054386690 [status:201 request:0.028s]\n",
            "INFO:elasticsearch:PUT https://kafka-homework3-5284633582.us-east-1.bonsaisearch.net:443/climatetweets/_doc/1387904187451592704 [status:201 request:0.027s]\n",
            "INFO:elasticsearch:PUT https://kafka-homework3-5284633582.us-east-1.bonsaisearch.net:443/climatetweets/_doc/1387904192241668104 [status:201 request:0.032s]\n",
            "INFO:elasticsearch:PUT https://kafka-homework3-5284633582.us-east-1.bonsaisearch.net:443/climatetweets/_doc/1387904198394531841 [status:201 request:0.030s]\n"
          ],
          "name": "stderr"
        },
        {
          "output_type": "stream",
          "text": [
            "769\n",
            "770\n",
            "771\n",
            "772\n",
            "773\n",
            "774\n",
            "775\n"
          ],
          "name": "stdout"
        },
        {
          "output_type": "stream",
          "text": [
            "INFO:elasticsearch:PUT https://kafka-homework3-5284633582.us-east-1.bonsaisearch.net:443/climatetweets/_doc/1387904204673622016 [status:201 request:0.030s]\n",
            "INFO:elasticsearch:PUT https://kafka-homework3-5284633582.us-east-1.bonsaisearch.net:443/climatetweets/_doc/1387904205751521281 [status:201 request:0.028s]\n",
            "INFO:elasticsearch:PUT https://kafka-homework3-5284633582.us-east-1.bonsaisearch.net:443/climatetweets/_doc/1387904209312526336 [status:201 request:0.029s]\n",
            "INFO:elasticsearch:PUT https://kafka-homework3-5284633582.us-east-1.bonsaisearch.net:443/climatetweets/_doc/1387904229755572228 [status:201 request:0.027s]\n",
            "INFO:elasticsearch:PUT https://kafka-homework3-5284633582.us-east-1.bonsaisearch.net:443/climatetweets/_doc/1387904242309009415 [status:201 request:0.030s]\n",
            "INFO:elasticsearch:PUT https://kafka-homework3-5284633582.us-east-1.bonsaisearch.net:443/climatetweets/_doc/1387904255747661828 [status:201 request:0.030s]\n",
            "INFO:elasticsearch:PUT https://kafka-homework3-5284633582.us-east-1.bonsaisearch.net:443/climatetweets/_doc/1387904256867438601 [status:201 request:0.035s]\n"
          ],
          "name": "stderr"
        },
        {
          "output_type": "stream",
          "text": [
            "776\n",
            "777\n",
            "778\n",
            "779\n",
            "780\n",
            "781\n",
            "782\n"
          ],
          "name": "stdout"
        },
        {
          "output_type": "stream",
          "text": [
            "INFO:elasticsearch:PUT https://kafka-homework3-5284633582.us-east-1.bonsaisearch.net:443/climatetweets/_doc/1387904273682518016 [status:201 request:0.028s]\n",
            "INFO:elasticsearch:PUT https://kafka-homework3-5284633582.us-east-1.bonsaisearch.net:443/climatetweets/_doc/1387904278694608902 [status:201 request:0.028s]\n",
            "INFO:elasticsearch:PUT https://kafka-homework3-5284633582.us-east-1.bonsaisearch.net:443/climatetweets/_doc/1387904283941744643 [status:201 request:0.028s]\n",
            "INFO:elasticsearch:PUT https://kafka-homework3-5284633582.us-east-1.bonsaisearch.net:443/climatetweets/_doc/1387904300324556801 [status:201 request:0.029s]\n",
            "INFO:elasticsearch:PUT https://kafka-homework3-5284633582.us-east-1.bonsaisearch.net:443/climatetweets/_doc/1387904307320741891 [status:201 request:0.027s]\n",
            "INFO:elasticsearch:PUT https://kafka-homework3-5284633582.us-east-1.bonsaisearch.net:443/climatetweets/_doc/1387904321069666309 [status:201 request:0.027s]\n",
            "INFO:elasticsearch:PUT https://kafka-homework3-5284633582.us-east-1.bonsaisearch.net:443/climatetweets/_doc/1387904334805929985 [status:201 request:0.030s]\n"
          ],
          "name": "stderr"
        },
        {
          "output_type": "stream",
          "text": [
            "783\n",
            "784\n",
            "785\n",
            "786\n",
            "787\n",
            "788\n",
            "789\n"
          ],
          "name": "stdout"
        },
        {
          "output_type": "stream",
          "text": [
            "INFO:elasticsearch:PUT https://kafka-homework3-5284633582.us-east-1.bonsaisearch.net:443/climatetweets/_doc/1387904349393719299 [status:201 request:0.028s]\n",
            "INFO:elasticsearch:PUT https://kafka-homework3-5284633582.us-east-1.bonsaisearch.net:443/climatetweets/_doc/1387904371036413953 [status:201 request:0.031s]\n",
            "INFO:elasticsearch:PUT https://kafka-homework3-5284633582.us-east-1.bonsaisearch.net:443/climatetweets/_doc/1387904380762955776 [status:201 request:0.028s]\n",
            "INFO:elasticsearch:PUT https://kafka-homework3-5284633582.us-east-1.bonsaisearch.net:443/climatetweets/_doc/1387904386165219330 [status:201 request:0.027s]\n",
            "INFO:elasticsearch:PUT https://kafka-homework3-5284633582.us-east-1.bonsaisearch.net:443/climatetweets/_doc/1387904391127121921 [status:201 request:0.029s]\n",
            "INFO:elasticsearch:PUT https://kafka-homework3-5284633582.us-east-1.bonsaisearch.net:443/climatetweets/_doc/1387904391362060288 [status:201 request:0.029s]\n"
          ],
          "name": "stderr"
        },
        {
          "output_type": "stream",
          "text": [
            "790\n",
            "791\n",
            "792\n",
            "793\n",
            "794\n",
            "795\n"
          ],
          "name": "stdout"
        },
        {
          "output_type": "stream",
          "text": [
            "INFO:elasticsearch:PUT https://kafka-homework3-5284633582.us-east-1.bonsaisearch.net:443/climatetweets/_doc/1387904392750411781 [status:201 request:0.027s]\n",
            "INFO:elasticsearch:PUT https://kafka-homework3-5284633582.us-east-1.bonsaisearch.net:443/climatetweets/_doc/1387904408654991361 [status:201 request:0.030s]\n",
            "INFO:elasticsearch:PUT https://kafka-homework3-5284633582.us-east-1.bonsaisearch.net:443/climatetweets/_doc/1387904418591526912 [status:201 request:0.031s]\n",
            "INFO:elasticsearch:PUT https://kafka-homework3-5284633582.us-east-1.bonsaisearch.net:443/climatetweets/_doc/1387904474501378050 [status:201 request:0.028s]\n",
            "INFO:elasticsearch:PUT https://kafka-homework3-5284633582.us-east-1.bonsaisearch.net:443/climatetweets/_doc/1387904476904927233 [status:201 request:0.028s]\n",
            "INFO:elasticsearch:PUT https://kafka-homework3-5284633582.us-east-1.bonsaisearch.net:443/climatetweets/_doc/1387904477437612035 [status:201 request:0.028s]\n",
            "INFO:elasticsearch:PUT https://kafka-homework3-5284633582.us-east-1.bonsaisearch.net:443/climatetweets/_doc/1387904488309067780 [status:201 request:0.029s]\n"
          ],
          "name": "stderr"
        },
        {
          "output_type": "stream",
          "text": [
            "796\n",
            "797\n",
            "798\n",
            "799\n",
            "800\n",
            "801\n"
          ],
          "name": "stdout"
        },
        {
          "output_type": "error",
          "ename": "KeyboardInterrupt",
          "evalue": "ignored",
          "traceback": [
            "\u001b[0;31m---------------------------------------------------------------------------\u001b[0m",
            "\u001b[0;31mKeyboardInterrupt\u001b[0m                         Traceback (most recent call last)",
            "\u001b[0;32m<ipython-input-198-a6349e81112c>\u001b[0m in \u001b[0;36m<module>\u001b[0;34m()\u001b[0m\n\u001b[1;32m     28\u001b[0m \u001b[0;34m\u001b[0m\u001b[0m\n\u001b[1;32m     29\u001b[0m \u001b[0;32mif\u001b[0m \u001b[0m__name__\u001b[0m \u001b[0;34m==\u001b[0m \u001b[0;34m'__main__'\u001b[0m\u001b[0;34m:\u001b[0m\u001b[0;34m\u001b[0m\u001b[0;34m\u001b[0m\u001b[0m\n\u001b[0;32m---> 30\u001b[0;31m     \u001b[0melasticsearch_consumer_main\u001b[0m\u001b[0;34m(\u001b[0m\u001b[0;34m'climatetweets'\u001b[0m\u001b[0;34m)\u001b[0m\u001b[0;34m\u001b[0m\u001b[0;34m\u001b[0m\u001b[0m\n\u001b[0m",
            "\u001b[0;32m<ipython-input-198-a6349e81112c>\u001b[0m in \u001b[0;36melasticsearch_consumer_main\u001b[0;34m(topicname)\u001b[0m\n\u001b[1;32m     11\u001b[0m \u001b[0;34m\u001b[0m\u001b[0m\n\u001b[1;32m     12\u001b[0m     \u001b[0;32mglobal\u001b[0m \u001b[0mcount1\u001b[0m\u001b[0;34m\u001b[0m\u001b[0;34m\u001b[0m\u001b[0m\n\u001b[0;32m---> 13\u001b[0;31m     \u001b[0;32mfor\u001b[0m \u001b[0mmessage\u001b[0m \u001b[0;32min\u001b[0m \u001b[0mconsumer\u001b[0m\u001b[0;34m:\u001b[0m\u001b[0;34m\u001b[0m\u001b[0;34m\u001b[0m\u001b[0m\n\u001b[0m\u001b[1;32m     14\u001b[0m         \u001b[0;31m#time.sleep(1)\u001b[0m\u001b[0;34m\u001b[0m\u001b[0;34m\u001b[0m\u001b[0;34m\u001b[0m\u001b[0m\n\u001b[1;32m     15\u001b[0m         \u001b[0;31m#print(\"next\")\u001b[0m\u001b[0;34m\u001b[0m\u001b[0;34m\u001b[0m\u001b[0;34m\u001b[0m\u001b[0m\n",
            "\u001b[0;32m/usr/local/lib/python3.7/dist-packages/kafka/consumer/group.py\u001b[0m in \u001b[0;36m__next__\u001b[0;34m(self)\u001b[0m\n\u001b[1;32m   1191\u001b[0m             \u001b[0;32mreturn\u001b[0m \u001b[0mself\u001b[0m\u001b[0;34m.\u001b[0m\u001b[0mnext_v1\u001b[0m\u001b[0;34m(\u001b[0m\u001b[0;34m)\u001b[0m\u001b[0;34m\u001b[0m\u001b[0;34m\u001b[0m\u001b[0m\n\u001b[1;32m   1192\u001b[0m         \u001b[0;32melse\u001b[0m\u001b[0;34m:\u001b[0m\u001b[0;34m\u001b[0m\u001b[0;34m\u001b[0m\u001b[0m\n\u001b[0;32m-> 1193\u001b[0;31m             \u001b[0;32mreturn\u001b[0m \u001b[0mself\u001b[0m\u001b[0;34m.\u001b[0m\u001b[0mnext_v2\u001b[0m\u001b[0;34m(\u001b[0m\u001b[0;34m)\u001b[0m\u001b[0;34m\u001b[0m\u001b[0;34m\u001b[0m\u001b[0m\n\u001b[0m\u001b[1;32m   1194\u001b[0m \u001b[0;34m\u001b[0m\u001b[0m\n\u001b[1;32m   1195\u001b[0m     \u001b[0;32mdef\u001b[0m \u001b[0mnext_v2\u001b[0m\u001b[0;34m(\u001b[0m\u001b[0mself\u001b[0m\u001b[0;34m)\u001b[0m\u001b[0;34m:\u001b[0m\u001b[0;34m\u001b[0m\u001b[0;34m\u001b[0m\u001b[0m\n",
            "\u001b[0;32m/usr/local/lib/python3.7/dist-packages/kafka/consumer/group.py\u001b[0m in \u001b[0;36mnext_v2\u001b[0;34m(self)\u001b[0m\n\u001b[1;32m   1199\u001b[0m                 \u001b[0mself\u001b[0m\u001b[0;34m.\u001b[0m\u001b[0m_iterator\u001b[0m \u001b[0;34m=\u001b[0m \u001b[0mself\u001b[0m\u001b[0;34m.\u001b[0m\u001b[0m_message_generator_v2\u001b[0m\u001b[0;34m(\u001b[0m\u001b[0;34m)\u001b[0m\u001b[0;34m\u001b[0m\u001b[0;34m\u001b[0m\u001b[0m\n\u001b[1;32m   1200\u001b[0m             \u001b[0;32mtry\u001b[0m\u001b[0;34m:\u001b[0m\u001b[0;34m\u001b[0m\u001b[0;34m\u001b[0m\u001b[0m\n\u001b[0;32m-> 1201\u001b[0;31m                 \u001b[0;32mreturn\u001b[0m \u001b[0mnext\u001b[0m\u001b[0;34m(\u001b[0m\u001b[0mself\u001b[0m\u001b[0;34m.\u001b[0m\u001b[0m_iterator\u001b[0m\u001b[0;34m)\u001b[0m\u001b[0;34m\u001b[0m\u001b[0;34m\u001b[0m\u001b[0m\n\u001b[0m\u001b[1;32m   1202\u001b[0m             \u001b[0;32mexcept\u001b[0m \u001b[0mStopIteration\u001b[0m\u001b[0;34m:\u001b[0m\u001b[0;34m\u001b[0m\u001b[0;34m\u001b[0m\u001b[0m\n\u001b[1;32m   1203\u001b[0m                 \u001b[0mself\u001b[0m\u001b[0;34m.\u001b[0m\u001b[0m_iterator\u001b[0m \u001b[0;34m=\u001b[0m \u001b[0;32mNone\u001b[0m\u001b[0;34m\u001b[0m\u001b[0;34m\u001b[0m\u001b[0m\n",
            "\u001b[0;32m/usr/local/lib/python3.7/dist-packages/kafka/consumer/group.py\u001b[0m in \u001b[0;36m_message_generator_v2\u001b[0;34m(self)\u001b[0m\n\u001b[1;32m   1114\u001b[0m     \u001b[0;32mdef\u001b[0m \u001b[0m_message_generator_v2\u001b[0m\u001b[0;34m(\u001b[0m\u001b[0mself\u001b[0m\u001b[0;34m)\u001b[0m\u001b[0;34m:\u001b[0m\u001b[0;34m\u001b[0m\u001b[0;34m\u001b[0m\u001b[0m\n\u001b[1;32m   1115\u001b[0m         \u001b[0mtimeout_ms\u001b[0m \u001b[0;34m=\u001b[0m \u001b[0;36m1000\u001b[0m \u001b[0;34m*\u001b[0m \u001b[0;34m(\u001b[0m\u001b[0mself\u001b[0m\u001b[0;34m.\u001b[0m\u001b[0m_consumer_timeout\u001b[0m \u001b[0;34m-\u001b[0m \u001b[0mtime\u001b[0m\u001b[0;34m.\u001b[0m\u001b[0mtime\u001b[0m\u001b[0;34m(\u001b[0m\u001b[0;34m)\u001b[0m\u001b[0;34m)\u001b[0m\u001b[0;34m\u001b[0m\u001b[0;34m\u001b[0m\u001b[0m\n\u001b[0;32m-> 1116\u001b[0;31m         \u001b[0mrecord_map\u001b[0m \u001b[0;34m=\u001b[0m \u001b[0mself\u001b[0m\u001b[0;34m.\u001b[0m\u001b[0mpoll\u001b[0m\u001b[0;34m(\u001b[0m\u001b[0mtimeout_ms\u001b[0m\u001b[0;34m=\u001b[0m\u001b[0mtimeout_ms\u001b[0m\u001b[0;34m,\u001b[0m \u001b[0mupdate_offsets\u001b[0m\u001b[0;34m=\u001b[0m\u001b[0;32mFalse\u001b[0m\u001b[0;34m)\u001b[0m\u001b[0;34m\u001b[0m\u001b[0;34m\u001b[0m\u001b[0m\n\u001b[0m\u001b[1;32m   1117\u001b[0m         \u001b[0;32mfor\u001b[0m \u001b[0mtp\u001b[0m\u001b[0;34m,\u001b[0m \u001b[0mrecords\u001b[0m \u001b[0;32min\u001b[0m \u001b[0msix\u001b[0m\u001b[0;34m.\u001b[0m\u001b[0miteritems\u001b[0m\u001b[0;34m(\u001b[0m\u001b[0mrecord_map\u001b[0m\u001b[0;34m)\u001b[0m\u001b[0;34m:\u001b[0m\u001b[0;34m\u001b[0m\u001b[0;34m\u001b[0m\u001b[0m\n\u001b[1;32m   1118\u001b[0m             \u001b[0;31m# Generators are stateful, and it is possible that the tp / records\u001b[0m\u001b[0;34m\u001b[0m\u001b[0;34m\u001b[0m\u001b[0;34m\u001b[0m\u001b[0m\n",
            "\u001b[0;32m/usr/local/lib/python3.7/dist-packages/kafka/consumer/group.py\u001b[0m in \u001b[0;36mpoll\u001b[0;34m(self, timeout_ms, max_records, update_offsets)\u001b[0m\n\u001b[1;32m    653\u001b[0m         \u001b[0mremaining\u001b[0m \u001b[0;34m=\u001b[0m \u001b[0mtimeout_ms\u001b[0m\u001b[0;34m\u001b[0m\u001b[0;34m\u001b[0m\u001b[0m\n\u001b[1;32m    654\u001b[0m         \u001b[0;32mwhile\u001b[0m \u001b[0;32mTrue\u001b[0m\u001b[0;34m:\u001b[0m\u001b[0;34m\u001b[0m\u001b[0;34m\u001b[0m\u001b[0m\n\u001b[0;32m--> 655\u001b[0;31m             \u001b[0mrecords\u001b[0m \u001b[0;34m=\u001b[0m \u001b[0mself\u001b[0m\u001b[0;34m.\u001b[0m\u001b[0m_poll_once\u001b[0m\u001b[0;34m(\u001b[0m\u001b[0mremaining\u001b[0m\u001b[0;34m,\u001b[0m \u001b[0mmax_records\u001b[0m\u001b[0;34m,\u001b[0m \u001b[0mupdate_offsets\u001b[0m\u001b[0;34m=\u001b[0m\u001b[0mupdate_offsets\u001b[0m\u001b[0;34m)\u001b[0m\u001b[0;34m\u001b[0m\u001b[0;34m\u001b[0m\u001b[0m\n\u001b[0m\u001b[1;32m    656\u001b[0m             \u001b[0;32mif\u001b[0m \u001b[0mrecords\u001b[0m\u001b[0;34m:\u001b[0m\u001b[0;34m\u001b[0m\u001b[0;34m\u001b[0m\u001b[0m\n\u001b[1;32m    657\u001b[0m                 \u001b[0;32mreturn\u001b[0m \u001b[0mrecords\u001b[0m\u001b[0;34m\u001b[0m\u001b[0;34m\u001b[0m\u001b[0m\n",
            "\u001b[0;32m/usr/local/lib/python3.7/dist-packages/kafka/consumer/group.py\u001b[0m in \u001b[0;36m_poll_once\u001b[0;34m(self, timeout_ms, max_records, update_offsets)\u001b[0m\n\u001b[1;32m    700\u001b[0m \u001b[0;34m\u001b[0m\u001b[0m\n\u001b[1;32m    701\u001b[0m         \u001b[0mtimeout_ms\u001b[0m \u001b[0;34m=\u001b[0m \u001b[0mmin\u001b[0m\u001b[0;34m(\u001b[0m\u001b[0mtimeout_ms\u001b[0m\u001b[0;34m,\u001b[0m \u001b[0mself\u001b[0m\u001b[0;34m.\u001b[0m\u001b[0m_coordinator\u001b[0m\u001b[0;34m.\u001b[0m\u001b[0mtime_to_next_poll\u001b[0m\u001b[0;34m(\u001b[0m\u001b[0;34m)\u001b[0m \u001b[0;34m*\u001b[0m \u001b[0;36m1000\u001b[0m\u001b[0;34m)\u001b[0m\u001b[0;34m\u001b[0m\u001b[0;34m\u001b[0m\u001b[0m\n\u001b[0;32m--> 702\u001b[0;31m         \u001b[0mself\u001b[0m\u001b[0;34m.\u001b[0m\u001b[0m_client\u001b[0m\u001b[0;34m.\u001b[0m\u001b[0mpoll\u001b[0m\u001b[0;34m(\u001b[0m\u001b[0mtimeout_ms\u001b[0m\u001b[0;34m=\u001b[0m\u001b[0mtimeout_ms\u001b[0m\u001b[0;34m)\u001b[0m\u001b[0;34m\u001b[0m\u001b[0;34m\u001b[0m\u001b[0m\n\u001b[0m\u001b[1;32m    703\u001b[0m         \u001b[0;31m# after the long poll, we should check whether the group needs to rebalance\u001b[0m\u001b[0;34m\u001b[0m\u001b[0;34m\u001b[0m\u001b[0;34m\u001b[0m\u001b[0m\n\u001b[1;32m    704\u001b[0m         \u001b[0;31m# prior to returning data so that the group can stabilize faster\u001b[0m\u001b[0;34m\u001b[0m\u001b[0;34m\u001b[0m\u001b[0;34m\u001b[0m\u001b[0m\n",
            "\u001b[0;32m/usr/local/lib/python3.7/dist-packages/kafka/client_async.py\u001b[0m in \u001b[0;36mpoll\u001b[0;34m(self, timeout_ms, future)\u001b[0m\n\u001b[1;32m    600\u001b[0m                     \u001b[0mtimeout\u001b[0m \u001b[0;34m=\u001b[0m \u001b[0mmax\u001b[0m\u001b[0;34m(\u001b[0m\u001b[0;36m0\u001b[0m\u001b[0;34m,\u001b[0m \u001b[0mtimeout\u001b[0m\u001b[0;34m)\u001b[0m  \u001b[0;31m# avoid negative timeouts\u001b[0m\u001b[0;34m\u001b[0m\u001b[0;34m\u001b[0m\u001b[0m\n\u001b[1;32m    601\u001b[0m \u001b[0;34m\u001b[0m\u001b[0m\n\u001b[0;32m--> 602\u001b[0;31m                 \u001b[0mself\u001b[0m\u001b[0;34m.\u001b[0m\u001b[0m_poll\u001b[0m\u001b[0;34m(\u001b[0m\u001b[0mtimeout\u001b[0m \u001b[0;34m/\u001b[0m \u001b[0;36m1000\u001b[0m\u001b[0;34m)\u001b[0m\u001b[0;34m\u001b[0m\u001b[0;34m\u001b[0m\u001b[0m\n\u001b[0m\u001b[1;32m    603\u001b[0m \u001b[0;34m\u001b[0m\u001b[0m\n\u001b[1;32m    604\u001b[0m             \u001b[0;31m# called without the lock to avoid deadlock potential\u001b[0m\u001b[0;34m\u001b[0m\u001b[0;34m\u001b[0m\u001b[0;34m\u001b[0m\u001b[0m\n",
            "\u001b[0;32m/usr/local/lib/python3.7/dist-packages/kafka/client_async.py\u001b[0m in \u001b[0;36m_poll\u001b[0;34m(self, timeout)\u001b[0m\n\u001b[1;32m    632\u001b[0m \u001b[0;34m\u001b[0m\u001b[0m\n\u001b[1;32m    633\u001b[0m         \u001b[0mstart_select\u001b[0m \u001b[0;34m=\u001b[0m \u001b[0mtime\u001b[0m\u001b[0;34m.\u001b[0m\u001b[0mtime\u001b[0m\u001b[0;34m(\u001b[0m\u001b[0;34m)\u001b[0m\u001b[0;34m\u001b[0m\u001b[0;34m\u001b[0m\u001b[0m\n\u001b[0;32m--> 634\u001b[0;31m         \u001b[0mready\u001b[0m \u001b[0;34m=\u001b[0m \u001b[0mself\u001b[0m\u001b[0;34m.\u001b[0m\u001b[0m_selector\u001b[0m\u001b[0;34m.\u001b[0m\u001b[0mselect\u001b[0m\u001b[0;34m(\u001b[0m\u001b[0mtimeout\u001b[0m\u001b[0;34m)\u001b[0m\u001b[0;34m\u001b[0m\u001b[0;34m\u001b[0m\u001b[0m\n\u001b[0m\u001b[1;32m    635\u001b[0m         \u001b[0mend_select\u001b[0m \u001b[0;34m=\u001b[0m \u001b[0mtime\u001b[0m\u001b[0;34m.\u001b[0m\u001b[0mtime\u001b[0m\u001b[0;34m(\u001b[0m\u001b[0;34m)\u001b[0m\u001b[0;34m\u001b[0m\u001b[0;34m\u001b[0m\u001b[0m\n\u001b[1;32m    636\u001b[0m         \u001b[0;32mif\u001b[0m \u001b[0mself\u001b[0m\u001b[0;34m.\u001b[0m\u001b[0m_sensors\u001b[0m\u001b[0;34m:\u001b[0m\u001b[0;34m\u001b[0m\u001b[0;34m\u001b[0m\u001b[0m\n",
            "\u001b[0;32m/usr/lib/python3.7/selectors.py\u001b[0m in \u001b[0;36mselect\u001b[0;34m(self, timeout)\u001b[0m\n\u001b[1;32m    466\u001b[0m             \u001b[0mready\u001b[0m \u001b[0;34m=\u001b[0m \u001b[0;34m[\u001b[0m\u001b[0;34m]\u001b[0m\u001b[0;34m\u001b[0m\u001b[0;34m\u001b[0m\u001b[0m\n\u001b[1;32m    467\u001b[0m             \u001b[0;32mtry\u001b[0m\u001b[0;34m:\u001b[0m\u001b[0;34m\u001b[0m\u001b[0;34m\u001b[0m\u001b[0m\n\u001b[0;32m--> 468\u001b[0;31m                 \u001b[0mfd_event_list\u001b[0m \u001b[0;34m=\u001b[0m \u001b[0mself\u001b[0m\u001b[0;34m.\u001b[0m\u001b[0m_selector\u001b[0m\u001b[0;34m.\u001b[0m\u001b[0mpoll\u001b[0m\u001b[0;34m(\u001b[0m\u001b[0mtimeout\u001b[0m\u001b[0;34m,\u001b[0m \u001b[0mmax_ev\u001b[0m\u001b[0;34m)\u001b[0m\u001b[0;34m\u001b[0m\u001b[0;34m\u001b[0m\u001b[0m\n\u001b[0m\u001b[1;32m    469\u001b[0m             \u001b[0;32mexcept\u001b[0m \u001b[0mInterruptedError\u001b[0m\u001b[0;34m:\u001b[0m\u001b[0;34m\u001b[0m\u001b[0;34m\u001b[0m\u001b[0m\n\u001b[1;32m    470\u001b[0m                 \u001b[0;32mreturn\u001b[0m \u001b[0mready\u001b[0m\u001b[0;34m\u001b[0m\u001b[0;34m\u001b[0m\u001b[0m\n",
            "\u001b[0;31mKeyboardInterrupt\u001b[0m: "
          ]
        }
      ]
    },
    {
      "cell_type": "markdown",
      "metadata": {
        "id": "C8Oki-Dj1THe"
      },
      "source": [
        "### Vaccinations to Bonsai"
      ]
    },
    {
      "cell_type": "code",
      "metadata": {
        "colab": {
          "base_uri": "https://localhost:8080/",
          "height": 1000
        },
        "id": "8MO0mu7Nzmdy",
        "outputId": "f66f204f-d991-4d24-83c3-df91fa72afb4"
      },
      "source": [
        "count1 = 0\n",
        "def elasticsearch_consumer_main(topicname):\n",
        "    es = elasticsearch_connect()\n",
        "    #To Consume Messages\n",
        "    consumer = KafkaConsumer(topicname, \n",
        "                            auto_commit_interval_ms = 30 *1000,\n",
        "                            auto_offset_reset = 'earliest', \n",
        "                            bootstrap_servers=['localhost:9092'])\n",
        "    #esid = 1\n",
        "    \n",
        "    \n",
        "    global count1\n",
        "    for message in consumer: \n",
        "        #time.sleep(1)\n",
        "        #print(\"next\")\n",
        "        #esid +=1\n",
        "        #if esid % 1000 == 0:\n",
        "            #print(esid)\n",
        "            #res_create = es.create(index=\"tweets\", doc_type= topicname, id=1, body={})\n",
        "        count1 = count1 + 1\n",
        "        msg = json.loads(message.value)\n",
        "        \n",
        "        msg_id = msg['id']\n",
        "        #print(msg)\n",
        "        print(count1)\n",
        "        res = es.index(index = topicname, id = msg_id, body = msg)\n",
        "        \n",
        "\n",
        "if __name__ == '__main__':\n",
        "    elasticsearch_consumer_main('vaccinationstweets')"
      ],
      "execution_count": null,
      "outputs": [
        {
          "output_type": "stream",
          "text": [
            "INFO:elasticsearch:HEAD https://kafka-homework3-5284633582.us-east-1.bonsaisearch.net:443/ [status:200 request:0.081s]\n",
            "INFO:kafka.conn:<BrokerConnection node_id=bootstrap-0 host=localhost:9092 <connecting> [IPv4 ('127.0.0.1', 9092)]>: connecting to localhost:9092 [('127.0.0.1', 9092) IPv4]\n",
            "INFO:kafka.conn:Probing node bootstrap-0 broker version\n",
            "INFO:kafka.conn:<BrokerConnection node_id=bootstrap-0 host=localhost:9092 <connecting> [IPv4 ('127.0.0.1', 9092)]>: Connection complete.\n",
            "INFO:kafka.conn:Broker version identified as 2.5.0\n",
            "INFO:kafka.conn:Set configuration api_version=(2, 5, 0) to skip auto check_version requests on startup\n",
            "WARNING:kafka.coordinator.consumer:group_id is None: disabling auto-commit.\n",
            "INFO:kafka.consumer.subscription_state:Updating subscribed topics to: ('vaccinationstweets',)\n",
            "INFO:kafka.consumer.subscription_state:Updated partition assignment: [TopicPartition(topic='vaccinationstweets', partition=0), TopicPartition(topic='vaccinationstweets', partition=1), TopicPartition(topic='vaccinationstweets', partition=2)]\n",
            "INFO:kafka.conn:<BrokerConnection node_id=0 host=c8d5f846f074:9092 <connecting> [IPv4 ('172.28.0.2', 9092)]>: connecting to c8d5f846f074:9092 [('172.28.0.2', 9092) IPv4]\n",
            "INFO:kafka.conn:<BrokerConnection node_id=0 host=c8d5f846f074:9092 <connecting> [IPv4 ('172.28.0.2', 9092)]>: Connection complete.\n",
            "INFO:kafka.conn:<BrokerConnection node_id=bootstrap-0 host=localhost:9092 <connected> [IPv4 ('127.0.0.1', 9092)]>: Closing connection. \n",
            "INFO:elasticsearch:PUT https://kafka-homework3-5284633582.us-east-1.bonsaisearch.net:443/vaccinationstweets/_doc/1387904495074611203 [status:201 request:0.059s]\n",
            "INFO:elasticsearch:PUT https://kafka-homework3-5284633582.us-east-1.bonsaisearch.net:443/vaccinationstweets/_doc/1387904505866559490 [status:201 request:0.051s]\n",
            "INFO:elasticsearch:PUT https://kafka-homework3-5284633582.us-east-1.bonsaisearch.net:443/vaccinationstweets/_doc/1387904506948685830 [status:201 request:0.063s]\n"
          ],
          "name": "stderr"
        },
        {
          "output_type": "stream",
          "text": [
            "1\n",
            "2\n",
            "3\n",
            "4\n"
          ],
          "name": "stdout"
        },
        {
          "output_type": "stream",
          "text": [
            "INFO:elasticsearch:PUT https://kafka-homework3-5284633582.us-east-1.bonsaisearch.net:443/vaccinationstweets/_doc/1387904509234581515 [status:201 request:0.066s]\n",
            "INFO:elasticsearch:PUT https://kafka-homework3-5284633582.us-east-1.bonsaisearch.net:443/vaccinationstweets/_doc/1387904509637169155 [status:201 request:0.070s]\n",
            "INFO:elasticsearch:PUT https://kafka-homework3-5284633582.us-east-1.bonsaisearch.net:443/vaccinationstweets/_doc/1387904516113190918 [status:201 request:0.021s]\n",
            "INFO:elasticsearch:PUT https://kafka-homework3-5284633582.us-east-1.bonsaisearch.net:443/vaccinationstweets/_doc/1387904521871892482 [status:201 request:0.075s]\n",
            "INFO:elasticsearch:PUT https://kafka-homework3-5284633582.us-east-1.bonsaisearch.net:443/vaccinationstweets/_doc/1387904525885837312 [status:201 request:0.020s]\n"
          ],
          "name": "stderr"
        },
        {
          "output_type": "stream",
          "text": [
            "5\n",
            "6\n",
            "7\n",
            "8\n",
            "9\n"
          ],
          "name": "stdout"
        },
        {
          "output_type": "stream",
          "text": [
            "INFO:elasticsearch:PUT https://kafka-homework3-5284633582.us-east-1.bonsaisearch.net:443/vaccinationstweets/_doc/1387904528767389698 [status:201 request:0.021s]\n",
            "INFO:elasticsearch:PUT https://kafka-homework3-5284633582.us-east-1.bonsaisearch.net:443/vaccinationstweets/_doc/1387904529195167750 [status:201 request:0.023s]\n",
            "INFO:elasticsearch:PUT https://kafka-homework3-5284633582.us-east-1.bonsaisearch.net:443/vaccinationstweets/_doc/1387904529144983554 [status:201 request:0.056s]\n",
            "INFO:elasticsearch:PUT https://kafka-homework3-5284633582.us-east-1.bonsaisearch.net:443/vaccinationstweets/_doc/1387904530197749760 [status:201 request:0.055s]\n",
            "INFO:elasticsearch:PUT https://kafka-homework3-5284633582.us-east-1.bonsaisearch.net:443/vaccinationstweets/_doc/1387904531246243842 [status:201 request:0.021s]\n"
          ],
          "name": "stderr"
        },
        {
          "output_type": "stream",
          "text": [
            "10\n",
            "11\n",
            "12\n",
            "13\n",
            "14\n"
          ],
          "name": "stdout"
        },
        {
          "output_type": "stream",
          "text": [
            "INFO:elasticsearch:PUT https://kafka-homework3-5284633582.us-east-1.bonsaisearch.net:443/vaccinationstweets/_doc/1387904531665768454 [status:201 request:0.058s]\n",
            "INFO:elasticsearch:PUT https://kafka-homework3-5284633582.us-east-1.bonsaisearch.net:443/vaccinationstweets/_doc/1387904532760317952 [status:201 request:0.018s]\n",
            "INFO:elasticsearch:PUT https://kafka-homework3-5284633582.us-east-1.bonsaisearch.net:443/vaccinationstweets/_doc/1387904535776071686 [status:201 request:0.020s]\n",
            "INFO:elasticsearch:PUT https://kafka-homework3-5284633582.us-east-1.bonsaisearch.net:443/vaccinationstweets/_doc/1387904540381417472 [status:201 request:0.021s]\n",
            "INFO:elasticsearch:PUT https://kafka-homework3-5284633582.us-east-1.bonsaisearch.net:443/vaccinationstweets/_doc/1387904542218588164 [status:201 request:0.019s]\n",
            "INFO:elasticsearch:PUT https://kafka-homework3-5284633582.us-east-1.bonsaisearch.net:443/vaccinationstweets/_doc/1387904542520471552 [status:201 request:0.019s]\n",
            "INFO:elasticsearch:PUT https://kafka-homework3-5284633582.us-east-1.bonsaisearch.net:443/vaccinationstweets/_doc/1387904543200059400 [status:201 request:0.019s]\n",
            "INFO:elasticsearch:PUT https://kafka-homework3-5284633582.us-east-1.bonsaisearch.net:443/vaccinationstweets/_doc/1387904543741161475 [status:201 request:0.019s]\n"
          ],
          "name": "stderr"
        },
        {
          "output_type": "stream",
          "text": [
            "15\n",
            "16\n",
            "17\n",
            "18\n",
            "19\n",
            "20\n",
            "21\n",
            "22\n"
          ],
          "name": "stdout"
        },
        {
          "output_type": "stream",
          "text": [
            "INFO:elasticsearch:PUT https://kafka-homework3-5284633582.us-east-1.bonsaisearch.net:443/vaccinationstweets/_doc/1387904547427913732 [status:201 request:0.071s]\n",
            "INFO:elasticsearch:PUT https://kafka-homework3-5284633582.us-east-1.bonsaisearch.net:443/vaccinationstweets/_doc/1387904548920983553 [status:201 request:0.061s]\n",
            "INFO:elasticsearch:PUT https://kafka-homework3-5284633582.us-east-1.bonsaisearch.net:443/vaccinationstweets/_doc/1387904553354420224 [status:201 request:0.021s]\n",
            "INFO:elasticsearch:PUT https://kafka-homework3-5284633582.us-east-1.bonsaisearch.net:443/vaccinationstweets/_doc/1387904553698332673 [status:201 request:0.019s]\n",
            "INFO:elasticsearch:PUT https://kafka-homework3-5284633582.us-east-1.bonsaisearch.net:443/vaccinationstweets/_doc/1387904559444414464 [status:201 request:0.021s]\n",
            "INFO:elasticsearch:PUT https://kafka-homework3-5284633582.us-east-1.bonsaisearch.net:443/vaccinationstweets/_doc/1387904560300281857 [status:201 request:0.020s]\n",
            "INFO:elasticsearch:PUT https://kafka-homework3-5284633582.us-east-1.bonsaisearch.net:443/vaccinationstweets/_doc/1387904562368061443 [status:201 request:0.020s]\n",
            "INFO:elasticsearch:PUT https://kafka-homework3-5284633582.us-east-1.bonsaisearch.net:443/vaccinationstweets/_doc/1387904566524514304 [status:201 request:0.018s]\n"
          ],
          "name": "stderr"
        },
        {
          "output_type": "stream",
          "text": [
            "23\n",
            "24\n",
            "25\n",
            "26\n",
            "27\n",
            "28\n",
            "29\n",
            "30\n"
          ],
          "name": "stdout"
        },
        {
          "output_type": "stream",
          "text": [
            "INFO:elasticsearch:PUT https://kafka-homework3-5284633582.us-east-1.bonsaisearch.net:443/vaccinationstweets/_doc/1387904567044710410 [status:201 request:0.020s]\n",
            "INFO:elasticsearch:PUT https://kafka-homework3-5284633582.us-east-1.bonsaisearch.net:443/vaccinationstweets/_doc/1387904568516698112 [status:201 request:0.063s]\n",
            "INFO:elasticsearch:PUT https://kafka-homework3-5284633582.us-east-1.bonsaisearch.net:443/vaccinationstweets/_doc/1387904569900998658 [status:201 request:0.063s]\n",
            "INFO:elasticsearch:PUT https://kafka-homework3-5284633582.us-east-1.bonsaisearch.net:443/vaccinationstweets/_doc/1387904572241362944 [status:201 request:0.018s]\n",
            "INFO:elasticsearch:PUT https://kafka-homework3-5284633582.us-east-1.bonsaisearch.net:443/vaccinationstweets/_doc/1387904573931544578 [status:201 request:0.021s]\n",
            "INFO:elasticsearch:PUT https://kafka-homework3-5284633582.us-east-1.bonsaisearch.net:443/vaccinationstweets/_doc/1387904574871248897 [status:201 request:0.019s]\n"
          ],
          "name": "stderr"
        },
        {
          "output_type": "stream",
          "text": [
            "31\n",
            "32\n",
            "33\n",
            "34\n",
            "35\n",
            "36\n"
          ],
          "name": "stdout"
        },
        {
          "output_type": "stream",
          "text": [
            "INFO:elasticsearch:PUT https://kafka-homework3-5284633582.us-east-1.bonsaisearch.net:443/vaccinationstweets/_doc/1387904577400451072 [status:201 request:0.066s]\n",
            "INFO:elasticsearch:PUT https://kafka-homework3-5284633582.us-east-1.bonsaisearch.net:443/vaccinationstweets/_doc/1387904578851676164 [status:201 request:0.019s]\n",
            "INFO:elasticsearch:PUT https://kafka-homework3-5284633582.us-east-1.bonsaisearch.net:443/vaccinationstweets/_doc/1387904580646850560 [status:201 request:0.077s]\n",
            "INFO:elasticsearch:PUT https://kafka-homework3-5284633582.us-east-1.bonsaisearch.net:443/vaccinationstweets/_doc/1387904580889939969 [status:201 request:0.020s]\n",
            "INFO:elasticsearch:PUT https://kafka-homework3-5284633582.us-east-1.bonsaisearch.net:443/vaccinationstweets/_doc/1387904585071661056 [status:201 request:0.018s]\n",
            "INFO:elasticsearch:PUT https://kafka-homework3-5284633582.us-east-1.bonsaisearch.net:443/vaccinationstweets/_doc/1387904586892120066 [status:201 request:0.022s]\n",
            "INFO:elasticsearch:PUT https://kafka-homework3-5284633582.us-east-1.bonsaisearch.net:443/vaccinationstweets/_doc/1387904587139588106 [status:201 request:0.019s]\n"
          ],
          "name": "stderr"
        },
        {
          "output_type": "stream",
          "text": [
            "37\n",
            "38\n",
            "39\n",
            "40\n",
            "41\n",
            "42\n",
            "43\n"
          ],
          "name": "stdout"
        },
        {
          "output_type": "stream",
          "text": [
            "INFO:elasticsearch:PUT https://kafka-homework3-5284633582.us-east-1.bonsaisearch.net:443/vaccinationstweets/_doc/1387904596161531907 [status:201 request:0.019s]\n",
            "INFO:elasticsearch:PUT https://kafka-homework3-5284633582.us-east-1.bonsaisearch.net:443/vaccinationstweets/_doc/1387904597923176449 [status:201 request:0.018s]\n",
            "INFO:elasticsearch:PUT https://kafka-homework3-5284633582.us-east-1.bonsaisearch.net:443/vaccinationstweets/_doc/1387904598254387200 [status:201 request:0.021s]\n",
            "INFO:elasticsearch:PUT https://kafka-homework3-5284633582.us-east-1.bonsaisearch.net:443/vaccinationstweets/_doc/1387904598761955329 [status:201 request:0.019s]\n",
            "INFO:elasticsearch:PUT https://kafka-homework3-5284633582.us-east-1.bonsaisearch.net:443/vaccinationstweets/_doc/1387904608320688134 [status:201 request:0.018s]\n",
            "INFO:elasticsearch:PUT https://kafka-homework3-5284633582.us-east-1.bonsaisearch.net:443/vaccinationstweets/_doc/1387904611734917127 [status:201 request:0.019s]\n",
            "INFO:elasticsearch:PUT https://kafka-homework3-5284633582.us-east-1.bonsaisearch.net:443/vaccinationstweets/_doc/1387904619288965124 [status:201 request:0.021s]\n",
            "INFO:elasticsearch:PUT https://kafka-homework3-5284633582.us-east-1.bonsaisearch.net:443/vaccinationstweets/_doc/1387904620786114566 [status:201 request:0.021s]\n"
          ],
          "name": "stderr"
        },
        {
          "output_type": "stream",
          "text": [
            "44\n",
            "45\n",
            "46\n",
            "47\n",
            "48\n",
            "49\n",
            "50\n",
            "51\n"
          ],
          "name": "stdout"
        },
        {
          "output_type": "stream",
          "text": [
            "INFO:elasticsearch:PUT https://kafka-homework3-5284633582.us-east-1.bonsaisearch.net:443/vaccinationstweets/_doc/1387904642034589696 [status:201 request:0.072s]\n",
            "INFO:elasticsearch:PUT https://kafka-homework3-5284633582.us-east-1.bonsaisearch.net:443/vaccinationstweets/_doc/1387904645935386642 [status:201 request:0.019s]\n",
            "INFO:elasticsearch:PUT https://kafka-homework3-5284633582.us-east-1.bonsaisearch.net:443/vaccinationstweets/_doc/1387904654529515522 [status:201 request:0.018s]\n",
            "INFO:elasticsearch:PUT https://kafka-homework3-5284633582.us-east-1.bonsaisearch.net:443/vaccinationstweets/_doc/1387904656857251840 [status:201 request:0.024s]\n",
            "INFO:elasticsearch:PUT https://kafka-homework3-5284633582.us-east-1.bonsaisearch.net:443/vaccinationstweets/_doc/1387904657478111233 [status:201 request:0.020s]\n",
            "INFO:elasticsearch:PUT https://kafka-homework3-5284633582.us-east-1.bonsaisearch.net:443/vaccinationstweets/_doc/1387904657431871491 [status:201 request:0.019s]\n",
            "INFO:elasticsearch:PUT https://kafka-homework3-5284633582.us-east-1.bonsaisearch.net:443/vaccinationstweets/_doc/1387904668383121408 [status:201 request:0.019s]\n",
            "INFO:elasticsearch:PUT https://kafka-homework3-5284633582.us-east-1.bonsaisearch.net:443/vaccinationstweets/_doc/1387904670346194949 [status:201 request:0.020s]\n",
            "INFO:elasticsearch:PUT https://kafka-homework3-5284633582.us-east-1.bonsaisearch.net:443/vaccinationstweets/_doc/1387904670950100995 [status:201 request:0.020s]\n"
          ],
          "name": "stderr"
        },
        {
          "output_type": "stream",
          "text": [
            "52\n",
            "53\n",
            "54\n",
            "55\n",
            "56\n",
            "57\n",
            "58\n",
            "59\n",
            "60\n"
          ],
          "name": "stdout"
        },
        {
          "output_type": "stream",
          "text": [
            "INFO:elasticsearch:PUT https://kafka-homework3-5284633582.us-east-1.bonsaisearch.net:443/vaccinationstweets/_doc/1387904672334295040 [status:201 request:0.020s]\n",
            "INFO:elasticsearch:PUT https://kafka-homework3-5284633582.us-east-1.bonsaisearch.net:443/vaccinationstweets/_doc/1387904673261236232 [status:201 request:0.019s]\n",
            "INFO:elasticsearch:PUT https://kafka-homework3-5284633582.us-east-1.bonsaisearch.net:443/vaccinationstweets/_doc/1387904681188462594 [status:201 request:0.019s]\n",
            "INFO:elasticsearch:PUT https://kafka-homework3-5284633582.us-east-1.bonsaisearch.net:443/vaccinationstweets/_doc/1387904695973421059 [status:201 request:0.020s]\n",
            "INFO:elasticsearch:PUT https://kafka-homework3-5284633582.us-east-1.bonsaisearch.net:443/vaccinationstweets/_doc/1387904701920915460 [status:201 request:0.023s]\n",
            "INFO:elasticsearch:PUT https://kafka-homework3-5284633582.us-east-1.bonsaisearch.net:443/vaccinationstweets/_doc/1387904706211577857 [status:201 request:0.020s]\n",
            "INFO:elasticsearch:PUT https://kafka-homework3-5284633582.us-east-1.bonsaisearch.net:443/vaccinationstweets/_doc/1387904706291245056 [status:201 request:0.025s]\n",
            "INFO:elasticsearch:PUT https://kafka-homework3-5284633582.us-east-1.bonsaisearch.net:443/vaccinationstweets/_doc/1387904710628175874 [status:201 request:0.019s]\n",
            "INFO:elasticsearch:PUT https://kafka-homework3-5284633582.us-east-1.bonsaisearch.net:443/vaccinationstweets/_doc/1387904717221736456 [status:201 request:0.018s]\n"
          ],
          "name": "stderr"
        },
        {
          "output_type": "stream",
          "text": [
            "61\n",
            "62\n",
            "63\n",
            "64\n",
            "65\n",
            "66\n",
            "67\n",
            "68\n",
            "69\n"
          ],
          "name": "stdout"
        },
        {
          "output_type": "stream",
          "text": [
            "INFO:elasticsearch:PUT https://kafka-homework3-5284633582.us-east-1.bonsaisearch.net:443/vaccinationstweets/_doc/1387904726008844288 [status:201 request:0.019s]\n",
            "INFO:elasticsearch:PUT https://kafka-homework3-5284633582.us-east-1.bonsaisearch.net:443/vaccinationstweets/_doc/1387904733327810564 [status:201 request:0.021s]\n",
            "INFO:elasticsearch:PUT https://kafka-homework3-5284633582.us-east-1.bonsaisearch.net:443/vaccinationstweets/_doc/1387904733508259848 [status:201 request:0.019s]\n",
            "INFO:elasticsearch:PUT https://kafka-homework3-5284633582.us-east-1.bonsaisearch.net:443/vaccinationstweets/_doc/1387904733801758720 [status:201 request:0.018s]\n",
            "INFO:elasticsearch:PUT https://kafka-homework3-5284633582.us-east-1.bonsaisearch.net:443/vaccinationstweets/_doc/1387904734971957256 [status:201 request:0.019s]\n",
            "INFO:elasticsearch:PUT https://kafka-homework3-5284633582.us-east-1.bonsaisearch.net:443/vaccinationstweets/_doc/1387904738021101568 [status:201 request:0.069s]\n",
            "INFO:elasticsearch:PUT https://kafka-homework3-5284633582.us-east-1.bonsaisearch.net:443/vaccinationstweets/_doc/1387904741519278080 [status:201 request:0.022s]\n"
          ],
          "name": "stderr"
        },
        {
          "output_type": "stream",
          "text": [
            "70\n",
            "71\n",
            "72\n",
            "73\n",
            "74\n",
            "75\n",
            "76\n"
          ],
          "name": "stdout"
        },
        {
          "output_type": "stream",
          "text": [
            "INFO:elasticsearch:PUT https://kafka-homework3-5284633582.us-east-1.bonsaisearch.net:443/vaccinationstweets/_doc/1387904743025037316 [status:201 request:0.019s]\n",
            "INFO:elasticsearch:PUT https://kafka-homework3-5284633582.us-east-1.bonsaisearch.net:443/vaccinationstweets/_doc/1387904743335473158 [status:201 request:0.023s]\n",
            "INFO:elasticsearch:PUT https://kafka-homework3-5284633582.us-east-1.bonsaisearch.net:443/vaccinationstweets/_doc/1387904743809355781 [status:201 request:0.021s]\n",
            "INFO:elasticsearch:PUT https://kafka-homework3-5284633582.us-east-1.bonsaisearch.net:443/vaccinationstweets/_doc/1387904744795037697 [status:201 request:0.020s]\n",
            "INFO:elasticsearch:PUT https://kafka-homework3-5284633582.us-east-1.bonsaisearch.net:443/vaccinationstweets/_doc/1387904747689050115 [status:201 request:0.079s]\n",
            "INFO:elasticsearch:PUT https://kafka-homework3-5284633582.us-east-1.bonsaisearch.net:443/vaccinationstweets/_doc/1387904748628504577 [status:201 request:0.019s]\n",
            "INFO:elasticsearch:PUT https://kafka-homework3-5284633582.us-east-1.bonsaisearch.net:443/vaccinationstweets/_doc/1387904752705368066 [status:201 request:0.020s]\n"
          ],
          "name": "stderr"
        },
        {
          "output_type": "stream",
          "text": [
            "77\n",
            "78\n",
            "79\n",
            "80\n",
            "81\n",
            "82\n",
            "83\n"
          ],
          "name": "stdout"
        },
        {
          "output_type": "stream",
          "text": [
            "INFO:elasticsearch:PUT https://kafka-homework3-5284633582.us-east-1.bonsaisearch.net:443/vaccinationstweets/_doc/1387904755180187650 [status:201 request:0.020s]\n",
            "INFO:elasticsearch:PUT https://kafka-homework3-5284633582.us-east-1.bonsaisearch.net:443/vaccinationstweets/_doc/1387904760146284549 [status:201 request:0.020s]\n",
            "INFO:elasticsearch:PUT https://kafka-homework3-5284633582.us-east-1.bonsaisearch.net:443/vaccinationstweets/_doc/1387904762322898944 [status:201 request:0.020s]\n",
            "INFO:elasticsearch:PUT https://kafka-homework3-5284633582.us-east-1.bonsaisearch.net:443/vaccinationstweets/_doc/1387904764646772737 [status:201 request:0.072s]\n",
            "INFO:elasticsearch:PUT https://kafka-homework3-5284633582.us-east-1.bonsaisearch.net:443/vaccinationstweets/_doc/1387904765523230723 [status:201 request:0.020s]\n",
            "INFO:elasticsearch:PUT https://kafka-homework3-5284633582.us-east-1.bonsaisearch.net:443/vaccinationstweets/_doc/1387904768111218697 [status:201 request:0.020s]\n"
          ],
          "name": "stderr"
        },
        {
          "output_type": "stream",
          "text": [
            "84\n",
            "85\n",
            "86\n",
            "87\n",
            "88\n",
            "89\n"
          ],
          "name": "stdout"
        },
        {
          "output_type": "stream",
          "text": [
            "INFO:elasticsearch:PUT https://kafka-homework3-5284633582.us-east-1.bonsaisearch.net:443/vaccinationstweets/_doc/1387904772074876932 [status:201 request:0.071s]\n",
            "INFO:elasticsearch:PUT https://kafka-homework3-5284633582.us-east-1.bonsaisearch.net:443/vaccinationstweets/_doc/1387904774549344256 [status:201 request:0.019s]\n",
            "INFO:elasticsearch:PUT https://kafka-homework3-5284633582.us-east-1.bonsaisearch.net:443/vaccinationstweets/_doc/1387904776617086977 [status:201 request:0.019s]\n",
            "INFO:elasticsearch:PUT https://kafka-homework3-5284633582.us-east-1.bonsaisearch.net:443/vaccinationstweets/_doc/1387904785316257792 [status:201 request:0.018s]\n",
            "INFO:elasticsearch:PUT https://kafka-homework3-5284633582.us-east-1.bonsaisearch.net:443/vaccinationstweets/_doc/1387904787031658498 [status:201 request:0.017s]\n",
            "INFO:elasticsearch:PUT https://kafka-homework3-5284633582.us-east-1.bonsaisearch.net:443/vaccinationstweets/_doc/1387904800004579332 [status:201 request:0.021s]\n",
            "INFO:elasticsearch:PUT https://kafka-homework3-5284633582.us-east-1.bonsaisearch.net:443/vaccinationstweets/_doc/1387904800004743171 [status:201 request:0.020s]\n",
            "INFO:elasticsearch:PUT https://kafka-homework3-5284633582.us-east-1.bonsaisearch.net:443/vaccinationstweets/_doc/1387904800294068230 [status:201 request:0.019s]\n",
            "INFO:elasticsearch:PUT https://kafka-homework3-5284633582.us-east-1.bonsaisearch.net:443/vaccinationstweets/_doc/1387904816307916807 [status:201 request:0.020s]\n",
            "INFO:elasticsearch:PUT https://kafka-homework3-5284633582.us-east-1.bonsaisearch.net:443/vaccinationstweets/_doc/1387904823501070336 [status:201 request:0.020s]\n"
          ],
          "name": "stderr"
        },
        {
          "output_type": "stream",
          "text": [
            "90\n",
            "91\n",
            "92\n",
            "93\n",
            "94\n",
            "95\n",
            "96\n",
            "97\n",
            "98\n"
          ],
          "name": "stdout"
        },
        {
          "output_type": "stream",
          "text": [
            "INFO:elasticsearch:PUT https://kafka-homework3-5284633582.us-east-1.bonsaisearch.net:443/vaccinationstweets/_doc/1387904826688917513 [status:201 request:0.083s]\n",
            "INFO:elasticsearch:PUT https://kafka-homework3-5284633582.us-east-1.bonsaisearch.net:443/vaccinationstweets/_doc/1387904846884388872 [status:201 request:0.020s]\n",
            "INFO:elasticsearch:PUT https://kafka-homework3-5284633582.us-east-1.bonsaisearch.net:443/vaccinationstweets/_doc/1387904853217734658 [status:201 request:0.019s]\n",
            "INFO:elasticsearch:PUT https://kafka-homework3-5284633582.us-east-1.bonsaisearch.net:443/vaccinationstweets/_doc/1387904858460721158 [status:201 request:0.020s]\n",
            "INFO:elasticsearch:PUT https://kafka-homework3-5284633582.us-east-1.bonsaisearch.net:443/vaccinationstweets/_doc/1387904860037779460 [status:201 request:0.020s]\n",
            "INFO:elasticsearch:PUT https://kafka-homework3-5284633582.us-east-1.bonsaisearch.net:443/vaccinationstweets/_doc/1387904864345329665 [status:201 request:0.019s]\n"
          ],
          "name": "stderr"
        },
        {
          "output_type": "stream",
          "text": [
            "99\n",
            "100\n",
            "101\n",
            "102\n",
            "103\n",
            "104\n",
            "105\n"
          ],
          "name": "stdout"
        },
        {
          "output_type": "stream",
          "text": [
            "INFO:elasticsearch:PUT https://kafka-homework3-5284633582.us-east-1.bonsaisearch.net:443/vaccinationstweets/_doc/1387904868237684739 [status:201 request:0.020s]\n",
            "INFO:elasticsearch:PUT https://kafka-homework3-5284633582.us-east-1.bonsaisearch.net:443/vaccinationstweets/_doc/1387904872935211009 [status:201 request:0.020s]\n",
            "INFO:elasticsearch:PUT https://kafka-homework3-5284633582.us-east-1.bonsaisearch.net:443/vaccinationstweets/_doc/1387904875585998849 [status:201 request:0.020s]\n",
            "INFO:elasticsearch:PUT https://kafka-homework3-5284633582.us-east-1.bonsaisearch.net:443/vaccinationstweets/_doc/1387904880195653637 [status:201 request:0.022s]\n",
            "INFO:elasticsearch:PUT https://kafka-homework3-5284633582.us-east-1.bonsaisearch.net:443/vaccinationstweets/_doc/1387904884775833600 [status:201 request:0.081s]\n"
          ],
          "name": "stderr"
        },
        {
          "output_type": "stream",
          "text": [
            "106\n",
            "107\n",
            "108\n",
            "109\n",
            "110\n"
          ],
          "name": "stdout"
        },
        {
          "output_type": "stream",
          "text": [
            "INFO:elasticsearch:PUT https://kafka-homework3-5284633582.us-east-1.bonsaisearch.net:443/vaccinationstweets/_doc/1387904887665545219 [status:201 request:0.052s]\n",
            "INFO:elasticsearch:PUT https://kafka-homework3-5284633582.us-east-1.bonsaisearch.net:443/vaccinationstweets/_doc/1387904890853150720 [status:201 request:0.020s]\n",
            "INFO:elasticsearch:PUT https://kafka-homework3-5284633582.us-east-1.bonsaisearch.net:443/vaccinationstweets/_doc/1387904892187168771 [status:201 request:0.114s]\n",
            "INFO:elasticsearch:PUT https://kafka-homework3-5284633582.us-east-1.bonsaisearch.net:443/vaccinationstweets/_doc/1387904900567273472 [status:201 request:0.019s]\n"
          ],
          "name": "stderr"
        },
        {
          "output_type": "stream",
          "text": [
            "111\n",
            "112\n",
            "113\n",
            "114\n"
          ],
          "name": "stdout"
        },
        {
          "output_type": "stream",
          "text": [
            "INFO:elasticsearch:PUT https://kafka-homework3-5284633582.us-east-1.bonsaisearch.net:443/vaccinationstweets/_doc/1387904906070216705 [status:201 request:0.317s]\n",
            "INFO:elasticsearch:PUT https://kafka-homework3-5284633582.us-east-1.bonsaisearch.net:443/vaccinationstweets/_doc/1387904908460953601 [status:201 request:0.020s]\n",
            "INFO:elasticsearch:PUT https://kafka-homework3-5284633582.us-east-1.bonsaisearch.net:443/vaccinationstweets/_doc/1387904912109883392 [status:201 request:0.019s]\n",
            "INFO:elasticsearch:PUT https://kafka-homework3-5284633582.us-east-1.bonsaisearch.net:443/vaccinationstweets/_doc/1387904913888395264 [status:201 request:0.020s]\n",
            "INFO:elasticsearch:PUT https://kafka-homework3-5284633582.us-east-1.bonsaisearch.net:443/vaccinationstweets/_doc/1387904915192705025 [status:201 request:0.019s]\n",
            "INFO:elasticsearch:PUT https://kafka-homework3-5284633582.us-east-1.bonsaisearch.net:443/vaccinationstweets/_doc/1387904915574595587 [status:201 request:0.021s]\n",
            "INFO:elasticsearch:PUT https://kafka-homework3-5284633582.us-east-1.bonsaisearch.net:443/vaccinationstweets/_doc/1387904921694089224 [status:201 request:0.021s]\n",
            "INFO:elasticsearch:PUT https://kafka-homework3-5284633582.us-east-1.bonsaisearch.net:443/vaccinationstweets/_doc/1387904927645667328 [status:201 request:0.021s]\n",
            "INFO:elasticsearch:PUT https://kafka-homework3-5284633582.us-east-1.bonsaisearch.net:443/vaccinationstweets/_doc/1387904933823975425 [status:201 request:0.019s]\n"
          ],
          "name": "stderr"
        },
        {
          "output_type": "stream",
          "text": [
            "115\n",
            "116\n",
            "117\n",
            "118\n",
            "119\n",
            "120\n",
            "121\n",
            "122\n",
            "123\n"
          ],
          "name": "stdout"
        },
        {
          "output_type": "stream",
          "text": [
            "INFO:elasticsearch:PUT https://kafka-homework3-5284633582.us-east-1.bonsaisearch.net:443/vaccinationstweets/_doc/1387904935946178564 [status:201 request:0.021s]\n",
            "INFO:elasticsearch:PUT https://kafka-homework3-5284633582.us-east-1.bonsaisearch.net:443/vaccinationstweets/_doc/1387904937393262594 [status:201 request:0.021s]\n",
            "INFO:elasticsearch:PUT https://kafka-homework3-5284633582.us-east-1.bonsaisearch.net:443/vaccinationstweets/_doc/1387904937611436033 [status:201 request:0.021s]\n",
            "INFO:elasticsearch:PUT https://kafka-homework3-5284633582.us-east-1.bonsaisearch.net:443/vaccinationstweets/_doc/1387904938219499520 [status:201 request:0.020s]\n",
            "INFO:elasticsearch:PUT https://kafka-homework3-5284633582.us-east-1.bonsaisearch.net:443/vaccinationstweets/_doc/1387904943458328603 [status:201 request:0.020s]\n",
            "INFO:elasticsearch:PUT https://kafka-homework3-5284633582.us-east-1.bonsaisearch.net:443/vaccinationstweets/_doc/1387904944267612160 [status:201 request:0.019s]\n",
            "INFO:elasticsearch:PUT https://kafka-homework3-5284633582.us-east-1.bonsaisearch.net:443/vaccinationstweets/_doc/1387904946524368899 [status:201 request:0.027s]\n",
            "INFO:elasticsearch:PUT https://kafka-homework3-5284633582.us-east-1.bonsaisearch.net:443/vaccinationstweets/_doc/1387904949422477314 [status:201 request:0.029s]\n",
            "INFO:elasticsearch:PUT https://kafka-homework3-5284633582.us-east-1.bonsaisearch.net:443/vaccinationstweets/_doc/1387904949556637696 [status:201 request:0.022s]\n"
          ],
          "name": "stderr"
        },
        {
          "output_type": "stream",
          "text": [
            "124\n",
            "125\n",
            "126\n",
            "127\n",
            "128\n",
            "129\n",
            "130\n",
            "131\n",
            "132\n"
          ],
          "name": "stdout"
        },
        {
          "output_type": "stream",
          "text": [
            "INFO:elasticsearch:PUT https://kafka-homework3-5284633582.us-east-1.bonsaisearch.net:443/vaccinationstweets/_doc/1387904955407736834 [status:201 request:0.020s]\n",
            "INFO:elasticsearch:PUT https://kafka-homework3-5284633582.us-east-1.bonsaisearch.net:443/vaccinationstweets/_doc/1387904959484735491 [status:201 request:0.022s]\n",
            "INFO:elasticsearch:PUT https://kafka-homework3-5284633582.us-east-1.bonsaisearch.net:443/vaccinationstweets/_doc/1387904963355963395 [status:201 request:0.020s]\n",
            "INFO:elasticsearch:PUT https://kafka-homework3-5284633582.us-east-1.bonsaisearch.net:443/vaccinationstweets/_doc/1387904963968262144 [status:201 request:0.021s]\n",
            "INFO:elasticsearch:PUT https://kafka-homework3-5284633582.us-east-1.bonsaisearch.net:443/vaccinationstweets/_doc/1387904967604903938 [status:201 request:0.020s]\n",
            "INFO:elasticsearch:PUT https://kafka-homework3-5284633582.us-east-1.bonsaisearch.net:443/vaccinationstweets/_doc/1387904976622702594 [status:201 request:0.020s]\n",
            "INFO:elasticsearch:PUT https://kafka-homework3-5284633582.us-east-1.bonsaisearch.net:443/vaccinationstweets/_doc/1387904975897075715 [status:201 request:0.020s]\n",
            "INFO:elasticsearch:PUT https://kafka-homework3-5284633582.us-east-1.bonsaisearch.net:443/vaccinationstweets/_doc/1387904978325368836 [status:201 request:0.022s]\n",
            "INFO:elasticsearch:PUT https://kafka-homework3-5284633582.us-east-1.bonsaisearch.net:443/vaccinationstweets/_doc/1387904980800086022 [status:201 request:0.021s]\n"
          ],
          "name": "stderr"
        },
        {
          "output_type": "stream",
          "text": [
            "133\n",
            "134\n",
            "135\n",
            "136\n",
            "137\n",
            "138\n",
            "139\n",
            "140\n",
            "141\n"
          ],
          "name": "stdout"
        },
        {
          "output_type": "stream",
          "text": [
            "INFO:elasticsearch:PUT https://kafka-homework3-5284633582.us-east-1.bonsaisearch.net:443/vaccinationstweets/_doc/1387904981198585856 [status:201 request:0.023s]\n",
            "INFO:elasticsearch:PUT https://kafka-homework3-5284633582.us-east-1.bonsaisearch.net:443/vaccinationstweets/_doc/1387904981290950656 [status:201 request:0.020s]\n",
            "INFO:elasticsearch:PUT https://kafka-homework3-5284633582.us-east-1.bonsaisearch.net:443/vaccinationstweets/_doc/1387904984847638528 [status:201 request:0.024s]\n",
            "INFO:elasticsearch:PUT https://kafka-homework3-5284633582.us-east-1.bonsaisearch.net:443/vaccinationstweets/_doc/1387904985954979841 [status:201 request:0.022s]\n",
            "INFO:elasticsearch:PUT https://kafka-homework3-5284633582.us-east-1.bonsaisearch.net:443/vaccinationstweets/_doc/1387904989587144706 [status:201 request:0.022s]\n",
            "INFO:elasticsearch:PUT https://kafka-homework3-5284633582.us-east-1.bonsaisearch.net:443/vaccinationstweets/_doc/1387904992200196097 [status:201 request:0.079s]\n"
          ],
          "name": "stderr"
        },
        {
          "output_type": "stream",
          "text": [
            "142\n",
            "143\n",
            "144\n",
            "145\n",
            "146\n",
            "147\n"
          ],
          "name": "stdout"
        },
        {
          "output_type": "stream",
          "text": [
            "INFO:elasticsearch:PUT https://kafka-homework3-5284633582.us-east-1.bonsaisearch.net:443/vaccinationstweets/_doc/1387905000916008963 [status:201 request:0.021s]\n",
            "INFO:elasticsearch:PUT https://kafka-homework3-5284633582.us-east-1.bonsaisearch.net:443/vaccinationstweets/_doc/1387905002593718275 [status:201 request:0.023s]\n",
            "INFO:elasticsearch:PUT https://kafka-homework3-5284633582.us-east-1.bonsaisearch.net:443/vaccinationstweets/_doc/1387905004183322627 [status:201 request:0.021s]\n",
            "INFO:elasticsearch:PUT https://kafka-homework3-5284633582.us-east-1.bonsaisearch.net:443/vaccinationstweets/_doc/1387905005957566464 [status:201 request:0.019s]\n",
            "INFO:elasticsearch:PUT https://kafka-homework3-5284633582.us-east-1.bonsaisearch.net:443/vaccinationstweets/_doc/1387905011284275201 [status:201 request:0.020s]\n",
            "INFO:elasticsearch:PUT https://kafka-homework3-5284633582.us-east-1.bonsaisearch.net:443/vaccinationstweets/_doc/1387905012408356866 [status:201 request:0.021s]\n",
            "INFO:elasticsearch:PUT https://kafka-homework3-5284633582.us-east-1.bonsaisearch.net:443/vaccinationstweets/_doc/1387905014828466177 [status:201 request:0.021s]\n",
            "INFO:elasticsearch:PUT https://kafka-homework3-5284633582.us-east-1.bonsaisearch.net:443/vaccinationstweets/_doc/1387905020541145089 [status:201 request:0.020s]\n",
            "INFO:elasticsearch:PUT https://kafka-homework3-5284633582.us-east-1.bonsaisearch.net:443/vaccinationstweets/_doc/1387905022369746946 [status:201 request:0.022s]\n"
          ],
          "name": "stderr"
        },
        {
          "output_type": "stream",
          "text": [
            "148\n",
            "149\n",
            "150\n",
            "151\n",
            "152\n",
            "153\n",
            "154\n",
            "155\n",
            "156\n"
          ],
          "name": "stdout"
        },
        {
          "output_type": "stream",
          "text": [
            "INFO:elasticsearch:PUT https://kafka-homework3-5284633582.us-east-1.bonsaisearch.net:443/vaccinationstweets/_doc/1387905027499446272 [status:201 request:0.078s]\n",
            "INFO:elasticsearch:PUT https://kafka-homework3-5284633582.us-east-1.bonsaisearch.net:443/vaccinationstweets/_doc/1387905030993367041 [status:201 request:0.020s]\n",
            "INFO:elasticsearch:PUT https://kafka-homework3-5284633582.us-east-1.bonsaisearch.net:443/vaccinationstweets/_doc/1387905032352272387 [status:201 request:0.024s]\n",
            "INFO:elasticsearch:PUT https://kafka-homework3-5284633582.us-east-1.bonsaisearch.net:443/vaccinationstweets/_doc/1387905031995854848 [status:201 request:0.021s]\n",
            "INFO:elasticsearch:PUT https://kafka-homework3-5284633582.us-east-1.bonsaisearch.net:443/vaccinationstweets/_doc/1387905032864116740 [status:201 request:0.019s]\n",
            "INFO:elasticsearch:PUT https://kafka-homework3-5284633582.us-east-1.bonsaisearch.net:443/vaccinationstweets/_doc/1387905039059066880 [status:201 request:0.021s]\n",
            "INFO:elasticsearch:PUT https://kafka-homework3-5284633582.us-east-1.bonsaisearch.net:443/vaccinationstweets/_doc/1387905041550434308 [status:201 request:0.021s]\n",
            "INFO:elasticsearch:PUT https://kafka-homework3-5284633582.us-east-1.bonsaisearch.net:443/vaccinationstweets/_doc/1387905045157584899 [status:201 request:0.020s]\n",
            "INFO:elasticsearch:PUT https://kafka-homework3-5284633582.us-east-1.bonsaisearch.net:443/vaccinationstweets/_doc/1387905047283920897 [status:201 request:0.023s]\n"
          ],
          "name": "stderr"
        },
        {
          "output_type": "stream",
          "text": [
            "157\n",
            "158\n",
            "159\n",
            "160\n",
            "161\n",
            "162\n",
            "163\n",
            "164\n",
            "165\n"
          ],
          "name": "stdout"
        },
        {
          "output_type": "stream",
          "text": [
            "INFO:elasticsearch:PUT https://kafka-homework3-5284633582.us-east-1.bonsaisearch.net:443/vaccinationstweets/_doc/1387905047627923456 [status:201 request:0.019s]\n",
            "INFO:elasticsearch:PUT https://kafka-homework3-5284633582.us-east-1.bonsaisearch.net:443/vaccinationstweets/_doc/1387905050178097152 [status:201 request:0.019s]\n",
            "INFO:elasticsearch:PUT https://kafka-homework3-5284633582.us-east-1.bonsaisearch.net:443/vaccinationstweets/_doc/1387905054179532808 [status:201 request:0.023s]\n",
            "INFO:elasticsearch:PUT https://kafka-homework3-5284633582.us-east-1.bonsaisearch.net:443/vaccinationstweets/_doc/1387905058721865728 [status:201 request:0.020s]\n",
            "INFO:elasticsearch:PUT https://kafka-homework3-5284633582.us-east-1.bonsaisearch.net:443/vaccinationstweets/_doc/1387905058998730752 [status:201 request:0.021s]\n",
            "INFO:elasticsearch:PUT https://kafka-homework3-5284633582.us-east-1.bonsaisearch.net:443/vaccinationstweets/_doc/1387905066720546816 [status:201 request:0.021s]\n",
            "INFO:elasticsearch:PUT https://kafka-homework3-5284633582.us-east-1.bonsaisearch.net:443/vaccinationstweets/_doc/1387905067575955456 [status:201 request:0.020s]\n",
            "INFO:elasticsearch:PUT https://kafka-homework3-5284633582.us-east-1.bonsaisearch.net:443/vaccinationstweets/_doc/1387905069576773635 [status:201 request:0.019s]\n",
            "INFO:elasticsearch:PUT https://kafka-homework3-5284633582.us-east-1.bonsaisearch.net:443/vaccinationstweets/_doc/1387905075998302211 [status:201 request:0.020s]\n"
          ],
          "name": "stderr"
        },
        {
          "output_type": "stream",
          "text": [
            "166\n",
            "167\n",
            "168\n",
            "169\n",
            "170\n",
            "171\n",
            "172\n",
            "173\n",
            "174\n"
          ],
          "name": "stdout"
        },
        {
          "output_type": "stream",
          "text": [
            "INFO:elasticsearch:PUT https://kafka-homework3-5284633582.us-east-1.bonsaisearch.net:443/vaccinationstweets/_doc/1387905080892956672 [status:201 request:0.021s]\n",
            "INFO:elasticsearch:PUT https://kafka-homework3-5284633582.us-east-1.bonsaisearch.net:443/vaccinationstweets/_doc/1387905083527020545 [status:201 request:0.023s]\n",
            "INFO:elasticsearch:PUT https://kafka-homework3-5284633582.us-east-1.bonsaisearch.net:443/vaccinationstweets/_doc/1387905089935921152 [status:201 request:0.021s]\n",
            "INFO:elasticsearch:PUT https://kafka-homework3-5284633582.us-east-1.bonsaisearch.net:443/vaccinationstweets/_doc/1387905090107883523 [status:201 request:0.083s]\n",
            "INFO:elasticsearch:PUT https://kafka-homework3-5284633582.us-east-1.bonsaisearch.net:443/vaccinationstweets/_doc/1387905097233887235 [status:201 request:0.021s]\n",
            "INFO:elasticsearch:PUT https://kafka-homework3-5284633582.us-east-1.bonsaisearch.net:443/vaccinationstweets/_doc/1387905101839405058 [status:201 request:0.019s]\n"
          ],
          "name": "stderr"
        },
        {
          "output_type": "stream",
          "text": [
            "175\n",
            "176\n",
            "177\n",
            "178\n",
            "179\n",
            "180\n"
          ],
          "name": "stdout"
        },
        {
          "output_type": "stream",
          "text": [
            "INFO:elasticsearch:PUT https://kafka-homework3-5284633582.us-east-1.bonsaisearch.net:443/vaccinationstweets/_doc/1387904493837160449 [status:201 request:0.020s]\n",
            "INFO:elasticsearch:PUT https://kafka-homework3-5284633582.us-east-1.bonsaisearch.net:443/vaccinationstweets/_doc/1387904498396499971 [status:201 request:0.020s]\n",
            "INFO:elasticsearch:PUT https://kafka-homework3-5284633582.us-east-1.bonsaisearch.net:443/vaccinationstweets/_doc/1387904501332512778 [status:201 request:0.020s]\n",
            "INFO:elasticsearch:PUT https://kafka-homework3-5284633582.us-east-1.bonsaisearch.net:443/vaccinationstweets/_doc/1387904502255308801 [status:201 request:0.022s]\n",
            "INFO:elasticsearch:PUT https://kafka-homework3-5284633582.us-east-1.bonsaisearch.net:443/vaccinationstweets/_doc/1387904505245802496 [status:201 request:0.021s]\n",
            "INFO:elasticsearch:PUT https://kafka-homework3-5284633582.us-east-1.bonsaisearch.net:443/vaccinationstweets/_doc/1387904509595242497 [status:201 request:0.020s]\n",
            "INFO:elasticsearch:PUT https://kafka-homework3-5284633582.us-east-1.bonsaisearch.net:443/vaccinationstweets/_doc/1387904510807265281 [status:201 request:0.020s]\n",
            "INFO:elasticsearch:PUT https://kafka-homework3-5284633582.us-east-1.bonsaisearch.net:443/vaccinationstweets/_doc/1387904514817200133 [status:201 request:0.021s]\n",
            "INFO:elasticsearch:PUT https://kafka-homework3-5284633582.us-east-1.bonsaisearch.net:443/vaccinationstweets/_doc/1387904515077201923 [status:201 request:0.020s]\n"
          ],
          "name": "stderr"
        },
        {
          "output_type": "stream",
          "text": [
            "181\n",
            "182\n",
            "183\n",
            "184\n",
            "185\n",
            "186\n",
            "187\n",
            "188\n",
            "189\n"
          ],
          "name": "stdout"
        },
        {
          "output_type": "stream",
          "text": [
            "INFO:elasticsearch:PUT https://kafka-homework3-5284633582.us-east-1.bonsaisearch.net:443/vaccinationstweets/_doc/1387904527924441092 [status:201 request:0.021s]\n",
            "INFO:elasticsearch:PUT https://kafka-homework3-5284633582.us-east-1.bonsaisearch.net:443/vaccinationstweets/_doc/1387904528406745088 [status:201 request:0.019s]\n",
            "INFO:elasticsearch:PUT https://kafka-homework3-5284633582.us-east-1.bonsaisearch.net:443/vaccinationstweets/_doc/1387904531262959616 [status:201 request:0.019s]\n",
            "INFO:elasticsearch:PUT https://kafka-homework3-5284633582.us-east-1.bonsaisearch.net:443/vaccinationstweets/_doc/1387904531820863492 [status:201 request:0.019s]\n",
            "INFO:elasticsearch:PUT https://kafka-homework3-5284633582.us-east-1.bonsaisearch.net:443/vaccinationstweets/_doc/1387904532445896704 [status:201 request:0.020s]\n",
            "INFO:elasticsearch:PUT https://kafka-homework3-5284633582.us-east-1.bonsaisearch.net:443/vaccinationstweets/_doc/1387904533410377730 [status:201 request:0.020s]\n",
            "INFO:elasticsearch:PUT https://kafka-homework3-5284633582.us-east-1.bonsaisearch.net:443/vaccinationstweets/_doc/1387904535591636993 [status:201 request:0.023s]\n",
            "INFO:elasticsearch:PUT https://kafka-homework3-5284633582.us-east-1.bonsaisearch.net:443/vaccinationstweets/_doc/1387904539853041667 [status:201 request:0.021s]\n",
            "INFO:elasticsearch:PUT https://kafka-homework3-5284633582.us-east-1.bonsaisearch.net:443/vaccinationstweets/_doc/1387904541379764228 [status:201 request:0.021s]\n"
          ],
          "name": "stderr"
        },
        {
          "output_type": "stream",
          "text": [
            "190\n",
            "191\n",
            "192\n",
            "193\n",
            "194\n",
            "195\n",
            "196\n",
            "197\n",
            "198\n"
          ],
          "name": "stdout"
        },
        {
          "output_type": "stream",
          "text": [
            "INFO:elasticsearch:PUT https://kafka-homework3-5284633582.us-east-1.bonsaisearch.net:443/vaccinationstweets/_doc/1387904541325103104 [status:201 request:0.020s]\n",
            "INFO:elasticsearch:PUT https://kafka-homework3-5284633582.us-east-1.bonsaisearch.net:443/vaccinationstweets/_doc/1387904541895667715 [status:201 request:0.020s]\n",
            "INFO:elasticsearch:PUT https://kafka-homework3-5284633582.us-east-1.bonsaisearch.net:443/vaccinationstweets/_doc/1387904543174836225 [status:201 request:0.021s]\n",
            "INFO:elasticsearch:PUT https://kafka-homework3-5284633582.us-east-1.bonsaisearch.net:443/vaccinationstweets/_doc/1387904544290398212 [status:201 request:0.019s]\n",
            "INFO:elasticsearch:PUT https://kafka-homework3-5284633582.us-east-1.bonsaisearch.net:443/vaccinationstweets/_doc/1387904550007365632 [status:201 request:0.022s]\n",
            "INFO:elasticsearch:PUT https://kafka-homework3-5284633582.us-east-1.bonsaisearch.net:443/vaccinationstweets/_doc/1387904552477810689 [status:201 request:0.020s]\n",
            "INFO:elasticsearch:PUT https://kafka-homework3-5284633582.us-east-1.bonsaisearch.net:443/vaccinationstweets/_doc/1387904553970896898 [status:201 request:0.025s]\n",
            "INFO:elasticsearch:PUT https://kafka-homework3-5284633582.us-east-1.bonsaisearch.net:443/vaccinationstweets/_doc/1387904555891892228 [status:201 request:0.024s]\n",
            "INFO:elasticsearch:PUT https://kafka-homework3-5284633582.us-east-1.bonsaisearch.net:443/vaccinationstweets/_doc/1387904558177800192 [status:201 request:0.025s]\n"
          ],
          "name": "stderr"
        },
        {
          "output_type": "stream",
          "text": [
            "199\n",
            "200\n",
            "201\n",
            "202\n",
            "203\n",
            "204\n",
            "205\n",
            "206\n",
            "207\n"
          ],
          "name": "stdout"
        },
        {
          "output_type": "stream",
          "text": [
            "INFO:elasticsearch:PUT https://kafka-homework3-5284633582.us-east-1.bonsaisearch.net:443/vaccinationstweets/_doc/1387904567304654849 [status:201 request:0.019s]\n",
            "INFO:elasticsearch:PUT https://kafka-homework3-5284633582.us-east-1.bonsaisearch.net:443/vaccinationstweets/_doc/1387904567640272900 [status:201 request:0.019s]\n",
            "INFO:elasticsearch:PUT https://kafka-homework3-5284633582.us-east-1.bonsaisearch.net:443/vaccinationstweets/_doc/1387904571209523203 [status:201 request:0.021s]\n",
            "INFO:elasticsearch:PUT https://kafka-homework3-5284633582.us-east-1.bonsaisearch.net:443/vaccinationstweets/_doc/1387904571553587204 [status:201 request:0.019s]\n",
            "INFO:elasticsearch:PUT https://kafka-homework3-5284633582.us-east-1.bonsaisearch.net:443/vaccinationstweets/_doc/1387904580604813314 [status:201 request:0.022s]\n",
            "INFO:elasticsearch:PUT https://kafka-homework3-5284633582.us-east-1.bonsaisearch.net:443/vaccinationstweets/_doc/1387904595649777664 [status:201 request:0.020s]\n",
            "INFO:elasticsearch:PUT https://kafka-homework3-5284633582.us-east-1.bonsaisearch.net:443/vaccinationstweets/_doc/1387904595804962816 [status:201 request:0.020s]\n",
            "INFO:elasticsearch:PUT https://kafka-homework3-5284633582.us-east-1.bonsaisearch.net:443/vaccinationstweets/_doc/1387904604306767878 [status:201 request:0.020s]\n",
            "INFO:elasticsearch:PUT https://kafka-homework3-5284633582.us-east-1.bonsaisearch.net:443/vaccinationstweets/_doc/1387904608224219136 [status:201 request:0.021s]\n"
          ],
          "name": "stderr"
        },
        {
          "output_type": "stream",
          "text": [
            "208\n",
            "209\n",
            "210\n",
            "211\n",
            "212\n",
            "213\n",
            "214\n",
            "215\n",
            "216\n"
          ],
          "name": "stdout"
        },
        {
          "output_type": "stream",
          "text": [
            "INFO:elasticsearch:PUT https://kafka-homework3-5284633582.us-east-1.bonsaisearch.net:443/vaccinationstweets/_doc/1387904613169438725 [status:201 request:0.020s]\n",
            "INFO:elasticsearch:PUT https://kafka-homework3-5284633582.us-east-1.bonsaisearch.net:443/vaccinationstweets/_doc/1387904620509515779 [status:201 request:0.020s]\n",
            "INFO:elasticsearch:PUT https://kafka-homework3-5284633582.us-east-1.bonsaisearch.net:443/vaccinationstweets/_doc/1387904636338663427 [status:201 request:0.020s]\n",
            "INFO:elasticsearch:PUT https://kafka-homework3-5284633582.us-east-1.bonsaisearch.net:443/vaccinationstweets/_doc/1387904641464143881 [status:201 request:0.021s]\n",
            "INFO:elasticsearch:PUT https://kafka-homework3-5284633582.us-east-1.bonsaisearch.net:443/vaccinationstweets/_doc/1387904646891593728 [status:201 request:0.019s]\n",
            "INFO:elasticsearch:PUT https://kafka-homework3-5284633582.us-east-1.bonsaisearch.net:443/vaccinationstweets/_doc/1387904647260774402 [status:201 request:0.020s]\n",
            "INFO:elasticsearch:PUT https://kafka-homework3-5284633582.us-east-1.bonsaisearch.net:443/vaccinationstweets/_doc/1387904654395285508 [status:201 request:0.019s]\n"
          ],
          "name": "stderr"
        },
        {
          "output_type": "stream",
          "text": [
            "217\n",
            "218\n",
            "219\n",
            "220\n",
            "221\n",
            "222\n",
            "223\n"
          ],
          "name": "stdout"
        },
        {
          "output_type": "stream",
          "text": [
            "INFO:elasticsearch:PUT https://kafka-homework3-5284633582.us-east-1.bonsaisearch.net:443/vaccinationstweets/_doc/1387904670828539904 [status:201 request:0.083s]\n",
            "INFO:elasticsearch:PUT https://kafka-homework3-5284633582.us-east-1.bonsaisearch.net:443/vaccinationstweets/_doc/1387904696623542277 [status:201 request:0.023s]\n",
            "INFO:elasticsearch:PUT https://kafka-homework3-5284633582.us-east-1.bonsaisearch.net:443/vaccinationstweets/_doc/1387904698020159488 [status:201 request:0.026s]\n",
            "INFO:elasticsearch:PUT https://kafka-homework3-5284633582.us-east-1.bonsaisearch.net:443/vaccinationstweets/_doc/1387904698544394242 [status:201 request:0.020s]\n",
            "INFO:elasticsearch:PUT https://kafka-homework3-5284633582.us-east-1.bonsaisearch.net:443/vaccinationstweets/_doc/1387904698976456710 [status:201 request:0.020s]\n",
            "INFO:elasticsearch:PUT https://kafka-homework3-5284633582.us-east-1.bonsaisearch.net:443/vaccinationstweets/_doc/1387904703787192323 [status:201 request:0.021s]\n",
            "INFO:elasticsearch:PUT https://kafka-homework3-5284633582.us-east-1.bonsaisearch.net:443/vaccinationstweets/_doc/1387904707578978307 [status:201 request:0.020s]\n",
            "INFO:elasticsearch:PUT https://kafka-homework3-5284633582.us-east-1.bonsaisearch.net:443/vaccinationstweets/_doc/1387904713241153541 [status:201 request:0.021s]\n",
            "INFO:elasticsearch:PUT https://kafka-homework3-5284633582.us-east-1.bonsaisearch.net:443/vaccinationstweets/_doc/1387904715346698240 [status:201 request:0.021s]\n"
          ],
          "name": "stderr"
        },
        {
          "output_type": "stream",
          "text": [
            "224\n",
            "225\n",
            "226\n",
            "227\n",
            "228\n",
            "229\n",
            "230\n",
            "231\n"
          ],
          "name": "stdout"
        },
        {
          "output_type": "stream",
          "text": [
            "INFO:elasticsearch:PUT https://kafka-homework3-5284633582.us-east-1.bonsaisearch.net:443/vaccinationstweets/_doc/1387904727086739458 [status:201 request:0.079s]\n",
            "INFO:elasticsearch:PUT https://kafka-homework3-5284633582.us-east-1.bonsaisearch.net:443/vaccinationstweets/_doc/1387904730903494657 [status:201 request:0.020s]\n",
            "INFO:elasticsearch:PUT https://kafka-homework3-5284633582.us-east-1.bonsaisearch.net:443/vaccinationstweets/_doc/1387904742693777413 [status:201 request:0.021s]\n",
            "INFO:elasticsearch:PUT https://kafka-homework3-5284633582.us-east-1.bonsaisearch.net:443/vaccinationstweets/_doc/1387904743771545601 [status:201 request:0.024s]\n"
          ],
          "name": "stderr"
        },
        {
          "output_type": "stream",
          "text": [
            "232\n",
            "233\n",
            "234\n",
            "235\n",
            "236\n"
          ],
          "name": "stdout"
        },
        {
          "output_type": "stream",
          "text": [
            "INFO:elasticsearch:PUT https://kafka-homework3-5284633582.us-east-1.bonsaisearch.net:443/vaccinationstweets/_doc/1387904744400855041 [status:201 request:0.116s]\n",
            "INFO:elasticsearch:PUT https://kafka-homework3-5284633582.us-east-1.bonsaisearch.net:443/vaccinationstweets/_doc/1387904754219618304 [status:201 request:0.022s]\n",
            "INFO:elasticsearch:PUT https://kafka-homework3-5284633582.us-east-1.bonsaisearch.net:443/vaccinationstweets/_doc/1387904760972517379 [status:201 request:0.085s]\n",
            "INFO:elasticsearch:PUT https://kafka-homework3-5284633582.us-east-1.bonsaisearch.net:443/vaccinationstweets/_doc/1387904765061959680 [status:201 request:0.023s]\n",
            "INFO:elasticsearch:PUT https://kafka-homework3-5284633582.us-east-1.bonsaisearch.net:443/vaccinationstweets/_doc/1387904767016439808 [status:201 request:0.021s]\n",
            "INFO:elasticsearch:PUT https://kafka-homework3-5284633582.us-east-1.bonsaisearch.net:443/vaccinationstweets/_doc/1387904767196909577 [status:201 request:0.019s]\n"
          ],
          "name": "stderr"
        },
        {
          "output_type": "stream",
          "text": [
            "237\n",
            "238\n",
            "239\n",
            "240\n",
            "241\n",
            "242\n"
          ],
          "name": "stdout"
        },
        {
          "output_type": "stream",
          "text": [
            "INFO:elasticsearch:PUT https://kafka-homework3-5284633582.us-east-1.bonsaisearch.net:443/vaccinationstweets/_doc/1387904771152023553 [status:201 request:0.021s]\n",
            "INFO:elasticsearch:PUT https://kafka-homework3-5284633582.us-east-1.bonsaisearch.net:443/vaccinationstweets/_doc/1387904772028739587 [status:201 request:0.021s]\n",
            "INFO:elasticsearch:PUT https://kafka-homework3-5284633582.us-east-1.bonsaisearch.net:443/vaccinationstweets/_doc/1387904780211687424 [status:201 request:0.021s]\n",
            "INFO:elasticsearch:PUT https://kafka-homework3-5284633582.us-east-1.bonsaisearch.net:443/vaccinationstweets/_doc/1387904791611850755 [status:201 request:0.019s]\n",
            "INFO:elasticsearch:PUT https://kafka-homework3-5284633582.us-east-1.bonsaisearch.net:443/vaccinationstweets/_doc/1387904792421351440 [status:201 request:0.074s]\n"
          ],
          "name": "stderr"
        },
        {
          "output_type": "stream",
          "text": [
            "243\n",
            "244\n",
            "245\n",
            "246\n",
            "247\n"
          ],
          "name": "stdout"
        },
        {
          "output_type": "stream",
          "text": [
            "INFO:elasticsearch:PUT https://kafka-homework3-5284633582.us-east-1.bonsaisearch.net:443/vaccinationstweets/_doc/1387904792656285705 [status:201 request:0.069s]\n",
            "INFO:elasticsearch:PUT https://kafka-homework3-5284633582.us-east-1.bonsaisearch.net:443/vaccinationstweets/_doc/1387904799795040258 [status:201 request:0.078s]\n",
            "INFO:elasticsearch:PUT https://kafka-homework3-5284633582.us-east-1.bonsaisearch.net:443/vaccinationstweets/_doc/1387904801221103617 [status:201 request:0.020s]\n",
            "INFO:elasticsearch:PUT https://kafka-homework3-5284633582.us-east-1.bonsaisearch.net:443/vaccinationstweets/_doc/1387904801472618497 [status:201 request:0.021s]\n",
            "INFO:elasticsearch:PUT https://kafka-homework3-5284633582.us-east-1.bonsaisearch.net:443/vaccinationstweets/_doc/1387904805402783745 [status:201 request:0.021s]\n",
            "INFO:elasticsearch:PUT https://kafka-homework3-5284633582.us-east-1.bonsaisearch.net:443/vaccinationstweets/_doc/1387904810150547456 [status:201 request:0.020s]\n",
            "INFO:elasticsearch:PUT https://kafka-homework3-5284633582.us-east-1.bonsaisearch.net:443/vaccinationstweets/_doc/1387904810737930243 [status:201 request:0.022s]\n"
          ],
          "name": "stderr"
        },
        {
          "output_type": "stream",
          "text": [
            "248\n",
            "249\n",
            "250\n",
            "251\n",
            "252\n",
            "253\n"
          ],
          "name": "stdout"
        },
        {
          "output_type": "stream",
          "text": [
            "INFO:elasticsearch:PUT https://kafka-homework3-5284633582.us-east-1.bonsaisearch.net:443/vaccinationstweets/_doc/1387904818140749828 [status:201 request:0.021s]\n",
            "INFO:elasticsearch:PUT https://kafka-homework3-5284633582.us-east-1.bonsaisearch.net:443/vaccinationstweets/_doc/1387904823241084934 [status:201 request:0.020s]\n",
            "INFO:elasticsearch:PUT https://kafka-homework3-5284633582.us-east-1.bonsaisearch.net:443/vaccinationstweets/_doc/1387904826584047616 [status:201 request:0.020s]\n",
            "INFO:elasticsearch:PUT https://kafka-homework3-5284633582.us-east-1.bonsaisearch.net:443/vaccinationstweets/_doc/1387904834788020233 [status:201 request:0.021s]\n",
            "INFO:elasticsearch:PUT https://kafka-homework3-5284633582.us-east-1.bonsaisearch.net:443/vaccinationstweets/_doc/1387904836537040897 [status:201 request:0.020s]\n",
            "INFO:elasticsearch:PUT https://kafka-homework3-5284633582.us-east-1.bonsaisearch.net:443/vaccinationstweets/_doc/1387904842069282816 [status:201 request:0.024s]\n",
            "INFO:elasticsearch:PUT https://kafka-homework3-5284633582.us-east-1.bonsaisearch.net:443/vaccinationstweets/_doc/1387904843742842880 [status:201 request:0.020s]\n",
            "INFO:elasticsearch:PUT https://kafka-homework3-5284633582.us-east-1.bonsaisearch.net:443/vaccinationstweets/_doc/1387904845198372865 [status:201 request:0.020s]\n"
          ],
          "name": "stderr"
        },
        {
          "output_type": "stream",
          "text": [
            "254\n",
            "255\n",
            "256\n",
            "257\n",
            "258\n",
            "259\n",
            "260\n",
            "261\n",
            "262\n"
          ],
          "name": "stdout"
        },
        {
          "output_type": "stream",
          "text": [
            "INFO:elasticsearch:PUT https://kafka-homework3-5284633582.us-east-1.bonsaisearch.net:443/vaccinationstweets/_doc/1387904844711800833 [status:201 request:0.022s]\n",
            "INFO:elasticsearch:PUT https://kafka-homework3-5284633582.us-east-1.bonsaisearch.net:443/vaccinationstweets/_doc/1387904847240843265 [status:201 request:0.022s]\n",
            "INFO:elasticsearch:PUT https://kafka-homework3-5284633582.us-east-1.bonsaisearch.net:443/vaccinationstweets/_doc/1387904861715402753 [status:201 request:0.025s]\n",
            "INFO:elasticsearch:PUT https://kafka-homework3-5284633582.us-east-1.bonsaisearch.net:443/vaccinationstweets/_doc/1387904862256615431 [status:201 request:0.022s]\n",
            "INFO:elasticsearch:PUT https://kafka-homework3-5284633582.us-east-1.bonsaisearch.net:443/vaccinationstweets/_doc/1387904863103852546 [status:201 request:0.021s]\n",
            "INFO:elasticsearch:PUT https://kafka-homework3-5284633582.us-east-1.bonsaisearch.net:443/vaccinationstweets/_doc/1387904868745048070 [status:201 request:0.021s]\n",
            "INFO:elasticsearch:PUT https://kafka-homework3-5284633582.us-east-1.bonsaisearch.net:443/vaccinationstweets/_doc/1387904876877856768 [status:201 request:0.021s]\n",
            "INFO:elasticsearch:PUT https://kafka-homework3-5284633582.us-east-1.bonsaisearch.net:443/vaccinationstweets/_doc/1387904882921857031 [status:201 request:0.021s]\n",
            "INFO:elasticsearch:PUT https://kafka-homework3-5284633582.us-east-1.bonsaisearch.net:443/vaccinationstweets/_doc/1387904890337325057 [status:201 request:0.020s]\n"
          ],
          "name": "stderr"
        },
        {
          "output_type": "stream",
          "text": [
            "263\n",
            "264\n",
            "265\n",
            "266\n",
            "267\n",
            "268\n",
            "269\n",
            "270\n",
            "271\n"
          ],
          "name": "stdout"
        },
        {
          "output_type": "stream",
          "text": [
            "INFO:elasticsearch:PUT https://kafka-homework3-5284633582.us-east-1.bonsaisearch.net:443/vaccinationstweets/_doc/1387904891041959938 [status:201 request:0.024s]\n",
            "INFO:elasticsearch:PUT https://kafka-homework3-5284633582.us-east-1.bonsaisearch.net:443/vaccinationstweets/_doc/1387904897241202694 [status:201 request:0.021s]\n",
            "INFO:elasticsearch:PUT https://kafka-homework3-5284633582.us-east-1.bonsaisearch.net:443/vaccinationstweets/_doc/1387904900013645827 [status:201 request:0.018s]\n",
            "INFO:elasticsearch:PUT https://kafka-homework3-5284633582.us-east-1.bonsaisearch.net:443/vaccinationstweets/_doc/1387904903436115974 [status:201 request:0.020s]\n",
            "INFO:elasticsearch:PUT https://kafka-homework3-5284633582.us-east-1.bonsaisearch.net:443/vaccinationstweets/_doc/1387904910251991048 [status:201 request:0.021s]\n",
            "INFO:elasticsearch:PUT https://kafka-homework3-5284633582.us-east-1.bonsaisearch.net:443/vaccinationstweets/_doc/1387904911271243783 [status:201 request:0.022s]\n",
            "INFO:elasticsearch:PUT https://kafka-homework3-5284633582.us-east-1.bonsaisearch.net:443/vaccinationstweets/_doc/1387904914660155393 [status:201 request:0.028s]\n",
            "INFO:elasticsearch:PUT https://kafka-homework3-5284633582.us-east-1.bonsaisearch.net:443/vaccinationstweets/_doc/1387904919634464771 [status:201 request:0.019s]\n",
            "INFO:elasticsearch:PUT https://kafka-homework3-5284633582.us-east-1.bonsaisearch.net:443/vaccinationstweets/_doc/1387904932079185920 [status:201 request:0.020s]\n"
          ],
          "name": "stderr"
        },
        {
          "output_type": "stream",
          "text": [
            "272\n",
            "273\n",
            "274\n",
            "275\n",
            "276\n",
            "277\n",
            "278\n",
            "279\n"
          ],
          "name": "stdout"
        },
        {
          "output_type": "stream",
          "text": [
            "INFO:elasticsearch:PUT https://kafka-homework3-5284633582.us-east-1.bonsaisearch.net:443/vaccinationstweets/_doc/1387904942355226627 [status:201 request:0.020s]\n",
            "INFO:elasticsearch:PUT https://kafka-homework3-5284633582.us-east-1.bonsaisearch.net:443/vaccinationstweets/_doc/1387904951473434624 [status:201 request:0.024s]\n",
            "INFO:elasticsearch:PUT https://kafka-homework3-5284633582.us-east-1.bonsaisearch.net:443/vaccinationstweets/_doc/1387904952924790792 [status:201 request:0.020s]\n",
            "INFO:elasticsearch:PUT https://kafka-homework3-5284633582.us-east-1.bonsaisearch.net:443/vaccinationstweets/_doc/1387904954938105856 [status:201 request:0.020s]\n",
            "INFO:elasticsearch:PUT https://kafka-homework3-5284633582.us-east-1.bonsaisearch.net:443/vaccinationstweets/_doc/1387904955227549701 [status:201 request:0.020s]\n",
            "INFO:elasticsearch:PUT https://kafka-homework3-5284633582.us-east-1.bonsaisearch.net:443/vaccinationstweets/_doc/1387904961003073536 [status:201 request:0.021s]\n",
            "INFO:elasticsearch:PUT https://kafka-homework3-5284633582.us-east-1.bonsaisearch.net:443/vaccinationstweets/_doc/1387904974206668801 [status:201 request:0.020s]\n",
            "INFO:elasticsearch:PUT https://kafka-homework3-5284633582.us-east-1.bonsaisearch.net:443/vaccinationstweets/_doc/1387904984461692928 [status:201 request:0.021s]\n"
          ],
          "name": "stderr"
        },
        {
          "output_type": "stream",
          "text": [
            "280\n",
            "281\n",
            "282\n",
            "283\n",
            "284\n",
            "285\n",
            "286\n",
            "287\n",
            "288\n"
          ],
          "name": "stdout"
        },
        {
          "output_type": "stream",
          "text": [
            "INFO:elasticsearch:PUT https://kafka-homework3-5284633582.us-east-1.bonsaisearch.net:443/vaccinationstweets/_doc/1387904985082519552 [status:201 request:0.022s]\n",
            "INFO:elasticsearch:PUT https://kafka-homework3-5284633582.us-east-1.bonsaisearch.net:443/vaccinationstweets/_doc/1387904986751717379 [status:201 request:0.026s]\n",
            "INFO:elasticsearch:PUT https://kafka-homework3-5284633582.us-east-1.bonsaisearch.net:443/vaccinationstweets/_doc/1387904987565420545 [status:201 request:0.032s]\n",
            "INFO:elasticsearch:PUT https://kafka-homework3-5284633582.us-east-1.bonsaisearch.net:443/vaccinationstweets/_doc/1387904994473648128 [status:201 request:0.021s]\n",
            "INFO:elasticsearch:PUT https://kafka-homework3-5284633582.us-east-1.bonsaisearch.net:443/vaccinationstweets/_doc/1387905006133731330 [status:201 request:0.022s]\n",
            "INFO:elasticsearch:PUT https://kafka-homework3-5284633582.us-east-1.bonsaisearch.net:443/vaccinationstweets/_doc/1387905007849254913 [status:201 request:0.021s]\n",
            "INFO:elasticsearch:PUT https://kafka-homework3-5284633582.us-east-1.bonsaisearch.net:443/vaccinationstweets/_doc/1387905010835591168 [status:201 request:0.020s]\n",
            "INFO:elasticsearch:PUT https://kafka-homework3-5284633582.us-east-1.bonsaisearch.net:443/vaccinationstweets/_doc/1387905012853006337 [status:201 request:0.020s]\n"
          ],
          "name": "stderr"
        },
        {
          "output_type": "stream",
          "text": [
            "289\n",
            "290\n",
            "291\n",
            "292\n",
            "293\n",
            "294\n",
            "295\n",
            "296\n"
          ],
          "name": "stdout"
        },
        {
          "output_type": "stream",
          "text": [
            "INFO:elasticsearch:PUT https://kafka-homework3-5284633582.us-east-1.bonsaisearch.net:443/vaccinationstweets/_doc/1387905013544939520 [status:201 request:0.021s]\n",
            "INFO:elasticsearch:PUT https://kafka-homework3-5284633582.us-east-1.bonsaisearch.net:443/vaccinationstweets/_doc/1387905014992195585 [status:201 request:0.019s]\n",
            "INFO:elasticsearch:PUT https://kafka-homework3-5284633582.us-east-1.bonsaisearch.net:443/vaccinationstweets/_doc/1387905015910645762 [status:201 request:0.023s]\n",
            "INFO:elasticsearch:PUT https://kafka-homework3-5284633582.us-east-1.bonsaisearch.net:443/vaccinationstweets/_doc/1387905019496783872 [status:201 request:0.020s]\n",
            "INFO:elasticsearch:PUT https://kafka-homework3-5284633582.us-east-1.bonsaisearch.net:443/vaccinationstweets/_doc/1387905020088160262 [status:201 request:0.022s]\n",
            "INFO:elasticsearch:PUT https://kafka-homework3-5284633582.us-east-1.bonsaisearch.net:443/vaccinationstweets/_doc/1387905027885486081 [status:201 request:0.021s]\n",
            "INFO:elasticsearch:PUT https://kafka-homework3-5284633582.us-east-1.bonsaisearch.net:443/vaccinationstweets/_doc/1387905028426403840 [status:201 request:0.024s]\n",
            "INFO:elasticsearch:PUT https://kafka-homework3-5284633582.us-east-1.bonsaisearch.net:443/vaccinationstweets/_doc/1387905039906136067 [status:201 request:0.022s]\n"
          ],
          "name": "stderr"
        },
        {
          "output_type": "stream",
          "text": [
            "297\n",
            "298\n",
            "299\n",
            "300\n",
            "301\n",
            "302\n",
            "303\n",
            "304\n"
          ],
          "name": "stdout"
        },
        {
          "output_type": "stream",
          "text": [
            "INFO:elasticsearch:PUT https://kafka-homework3-5284633582.us-east-1.bonsaisearch.net:443/vaccinationstweets/_doc/1387905044486320128 [status:201 request:0.020s]\n",
            "INFO:elasticsearch:PUT https://kafka-homework3-5284633582.us-east-1.bonsaisearch.net:443/vaccinationstweets/_doc/1387905044964536323 [status:201 request:0.022s]\n",
            "INFO:elasticsearch:PUT https://kafka-homework3-5284633582.us-east-1.bonsaisearch.net:443/vaccinationstweets/_doc/1387905045258190854 [status:201 request:0.021s]\n",
            "INFO:elasticsearch:PUT https://kafka-homework3-5284633582.us-east-1.bonsaisearch.net:443/vaccinationstweets/_doc/1387905045186990083 [status:201 request:0.025s]\n",
            "INFO:elasticsearch:PUT https://kafka-homework3-5284633582.us-east-1.bonsaisearch.net:443/vaccinationstweets/_doc/1387905054053740546 [status:201 request:0.022s]\n",
            "INFO:elasticsearch:PUT https://kafka-homework3-5284633582.us-east-1.bonsaisearch.net:443/vaccinationstweets/_doc/1387905061351788547 [status:201 request:0.023s]\n",
            "INFO:elasticsearch:PUT https://kafka-homework3-5284633582.us-east-1.bonsaisearch.net:443/vaccinationstweets/_doc/1387905064132612105 [status:201 request:0.020s]\n",
            "INFO:elasticsearch:PUT https://kafka-homework3-5284633582.us-east-1.bonsaisearch.net:443/vaccinationstweets/_doc/1387905065604714496 [status:201 request:0.019s]\n"
          ],
          "name": "stderr"
        },
        {
          "output_type": "stream",
          "text": [
            "305\n",
            "306\n",
            "307\n",
            "308\n",
            "309\n",
            "310\n",
            "311\n",
            "312\n"
          ],
          "name": "stdout"
        },
        {
          "output_type": "stream",
          "text": [
            "INFO:elasticsearch:PUT https://kafka-homework3-5284633582.us-east-1.bonsaisearch.net:443/vaccinationstweets/_doc/1387905080381280259 [status:201 request:0.019s]\n",
            "INFO:elasticsearch:PUT https://kafka-homework3-5284633582.us-east-1.bonsaisearch.net:443/vaccinationstweets/_doc/1387905084135284738 [status:201 request:0.019s]\n",
            "INFO:elasticsearch:PUT https://kafka-homework3-5284633582.us-east-1.bonsaisearch.net:443/vaccinationstweets/_doc/1387905086895104000 [status:201 request:0.019s]\n",
            "INFO:elasticsearch:PUT https://kafka-homework3-5284633582.us-east-1.bonsaisearch.net:443/vaccinationstweets/_doc/1387905087218110482 [status:201 request:0.019s]\n",
            "INFO:elasticsearch:PUT https://kafka-homework3-5284633582.us-east-1.bonsaisearch.net:443/vaccinationstweets/_doc/1387905092700053508 [status:201 request:0.020s]\n",
            "INFO:elasticsearch:PUT https://kafka-homework3-5284633582.us-east-1.bonsaisearch.net:443/vaccinationstweets/_doc/1387905094109257728 [status:201 request:0.019s]\n",
            "INFO:elasticsearch:PUT https://kafka-homework3-5284633582.us-east-1.bonsaisearch.net:443/vaccinationstweets/_doc/1387905096407781384 [status:201 request:0.020s]\n",
            "INFO:elasticsearch:PUT https://kafka-homework3-5284633582.us-east-1.bonsaisearch.net:443/vaccinationstweets/_doc/1387905097015963648 [status:201 request:0.020s]\n",
            "INFO:elasticsearch:PUT https://kafka-homework3-5284633582.us-east-1.bonsaisearch.net:443/vaccinationstweets/_doc/1387905105559687171 [status:201 request:0.023s]\n",
            "INFO:elasticsearch:PUT https://kafka-homework3-5284633582.us-east-1.bonsaisearch.net:443/vaccinationstweets/_doc/1387905115437293570 [status:201 request:0.020s]\n"
          ],
          "name": "stderr"
        },
        {
          "output_type": "stream",
          "text": [
            "313\n",
            "314\n",
            "315\n",
            "316\n",
            "317\n",
            "318\n",
            "319\n",
            "320\n",
            "321\n"
          ],
          "name": "stdout"
        },
        {
          "output_type": "stream",
          "text": [
            "INFO:elasticsearch:PUT https://kafka-homework3-5284633582.us-east-1.bonsaisearch.net:443/vaccinationstweets/_doc/1387905116410425345 [status:201 request:0.024s]\n",
            "INFO:elasticsearch:PUT https://kafka-homework3-5284633582.us-east-1.bonsaisearch.net:443/vaccinationstweets/_doc/1387905125033906179 [status:201 request:0.022s]\n",
            "INFO:elasticsearch:PUT https://kafka-homework3-5284633582.us-east-1.bonsaisearch.net:443/vaccinationstweets/_doc/1387905131572719616 [status:201 request:0.024s]\n",
            "INFO:elasticsearch:PUT https://kafka-homework3-5284633582.us-east-1.bonsaisearch.net:443/vaccinationstweets/_doc/1387905146416373762 [status:201 request:0.020s]\n",
            "INFO:elasticsearch:PUT https://kafka-homework3-5284633582.us-east-1.bonsaisearch.net:443/vaccinationstweets/_doc/1387905149679685634 [status:201 request:0.021s]\n",
            "INFO:elasticsearch:PUT https://kafka-homework3-5284633582.us-east-1.bonsaisearch.net:443/vaccinationstweets/_doc/1387905150061318145 [status:201 request:0.020s]\n",
            "INFO:elasticsearch:PUT https://kafka-homework3-5284633582.us-east-1.bonsaisearch.net:443/vaccinationstweets/_doc/1387905153383079938 [status:201 request:0.021s]\n",
            "INFO:elasticsearch:PUT https://kafka-homework3-5284633582.us-east-1.bonsaisearch.net:443/vaccinationstweets/_doc/1387905153915830272 [status:201 request:0.021s]\n"
          ],
          "name": "stderr"
        },
        {
          "output_type": "stream",
          "text": [
            "322\n",
            "323\n",
            "324\n",
            "325\n",
            "326\n",
            "327\n",
            "328\n",
            "329\n",
            "330\n"
          ],
          "name": "stdout"
        },
        {
          "output_type": "stream",
          "text": [
            "INFO:elasticsearch:PUT https://kafka-homework3-5284633582.us-east-1.bonsaisearch.net:443/vaccinationstweets/_doc/1387905154494734336 [status:201 request:0.020s]\n",
            "INFO:elasticsearch:PUT https://kafka-homework3-5284633582.us-east-1.bonsaisearch.net:443/vaccinationstweets/_doc/1387905154683375621 [status:201 request:0.021s]\n",
            "INFO:elasticsearch:PUT https://kafka-homework3-5284633582.us-east-1.bonsaisearch.net:443/vaccinationstweets/_doc/1387905155170021379 [status:201 request:0.020s]\n",
            "INFO:elasticsearch:PUT https://kafka-homework3-5284633582.us-east-1.bonsaisearch.net:443/vaccinationstweets/_doc/1387905159720747008 [status:201 request:0.020s]\n",
            "INFO:elasticsearch:PUT https://kafka-homework3-5284633582.us-east-1.bonsaisearch.net:443/vaccinationstweets/_doc/1387905161725497344 [status:201 request:0.021s]\n",
            "INFO:elasticsearch:PUT https://kafka-homework3-5284633582.us-east-1.bonsaisearch.net:443/vaccinationstweets/_doc/1387905161889263616 [status:201 request:0.022s]\n",
            "INFO:elasticsearch:PUT https://kafka-homework3-5284633582.us-east-1.bonsaisearch.net:443/vaccinationstweets/_doc/1387905170940514306 [status:201 request:0.021s]\n",
            "INFO:elasticsearch:PUT https://kafka-homework3-5284633582.us-east-1.bonsaisearch.net:443/vaccinationstweets/_doc/1387905174048440323 [status:201 request:0.021s]\n",
            "INFO:elasticsearch:PUT https://kafka-homework3-5284633582.us-east-1.bonsaisearch.net:443/vaccinationstweets/_doc/1387905174627180546 [status:201 request:0.020s]\n"
          ],
          "name": "stderr"
        },
        {
          "output_type": "stream",
          "text": [
            "331\n",
            "332\n",
            "333\n",
            "334\n",
            "335\n",
            "336\n",
            "337\n",
            "338\n",
            "339\n"
          ],
          "name": "stdout"
        },
        {
          "output_type": "stream",
          "text": [
            "INFO:elasticsearch:PUT https://kafka-homework3-5284633582.us-east-1.bonsaisearch.net:443/vaccinationstweets/_doc/1387905182181249025 [status:201 request:0.031s]\n",
            "INFO:elasticsearch:PUT https://kafka-homework3-5284633582.us-east-1.bonsaisearch.net:443/vaccinationstweets/_doc/1387905185700253696 [status:201 request:0.021s]\n",
            "INFO:elasticsearch:PUT https://kafka-homework3-5284633582.us-east-1.bonsaisearch.net:443/vaccinationstweets/_doc/1387905188544106497 [status:201 request:0.022s]\n",
            "INFO:elasticsearch:PUT https://kafka-homework3-5284633582.us-east-1.bonsaisearch.net:443/vaccinationstweets/_doc/1387905192776065024 [status:201 request:0.022s]\n",
            "INFO:elasticsearch:PUT https://kafka-homework3-5284633582.us-east-1.bonsaisearch.net:443/vaccinationstweets/_doc/1387905199117848581 [status:201 request:0.021s]\n",
            "INFO:elasticsearch:PUT https://kafka-homework3-5284633582.us-east-1.bonsaisearch.net:443/vaccinationstweets/_doc/1387905202041368588 [status:201 request:0.022s]\n",
            "INFO:elasticsearch:PUT https://kafka-homework3-5284633582.us-east-1.bonsaisearch.net:443/vaccinationstweets/_doc/1387905220710125574 [status:201 request:0.022s]\n",
            "INFO:elasticsearch:PUT https://kafka-homework3-5284633582.us-east-1.bonsaisearch.net:443/vaccinationstweets/_doc/1387905221611896834 [status:201 request:0.020s]\n",
            "INFO:elasticsearch:PUT https://kafka-homework3-5284633582.us-east-1.bonsaisearch.net:443/vaccinationstweets/_doc/1387905226968023043 [status:201 request:0.020s]\n"
          ],
          "name": "stderr"
        },
        {
          "output_type": "stream",
          "text": [
            "340\n",
            "341\n",
            "342\n",
            "343\n",
            "344\n",
            "345\n",
            "346\n",
            "347\n",
            "348\n"
          ],
          "name": "stdout"
        },
        {
          "output_type": "stream",
          "text": [
            "INFO:elasticsearch:PUT https://kafka-homework3-5284633582.us-east-1.bonsaisearch.net:443/vaccinationstweets/_doc/1387905235457396737 [status:201 request:0.021s]\n",
            "INFO:elasticsearch:PUT https://kafka-homework3-5284633582.us-east-1.bonsaisearch.net:443/vaccinationstweets/_doc/1387905237340545025 [status:201 request:0.021s]\n",
            "INFO:elasticsearch:PUT https://kafka-homework3-5284633582.us-east-1.bonsaisearch.net:443/vaccinationstweets/_doc/1387905243556372481 [status:201 request:0.020s]\n",
            "INFO:elasticsearch:PUT https://kafka-homework3-5284633582.us-east-1.bonsaisearch.net:443/vaccinationstweets/_doc/1387905244290600964 [status:201 request:0.019s]\n",
            "INFO:elasticsearch:PUT https://kafka-homework3-5284633582.us-east-1.bonsaisearch.net:443/vaccinationstweets/_doc/1387905250636570628 [status:201 request:0.024s]\n",
            "INFO:elasticsearch:PUT https://kafka-homework3-5284633582.us-east-1.bonsaisearch.net:443/vaccinationstweets/_doc/1387905251261521923 [status:201 request:0.021s]\n",
            "INFO:elasticsearch:PUT https://kafka-homework3-5284633582.us-east-1.bonsaisearch.net:443/vaccinationstweets/_doc/1387905252159102977 [status:201 request:0.019s]\n",
            "INFO:elasticsearch:PUT https://kafka-homework3-5284633582.us-east-1.bonsaisearch.net:443/vaccinationstweets/_doc/1387905253694066689 [status:201 request:0.021s]\n",
            "INFO:elasticsearch:PUT https://kafka-homework3-5284633582.us-east-1.bonsaisearch.net:443/vaccinationstweets/_doc/1387904499973513220 [status:201 request:0.022s]\n"
          ],
          "name": "stderr"
        },
        {
          "output_type": "stream",
          "text": [
            "349\n",
            "350\n",
            "351\n",
            "352\n",
            "353\n",
            "354\n",
            "355\n",
            "356\n",
            "357\n"
          ],
          "name": "stdout"
        },
        {
          "output_type": "stream",
          "text": [
            "INFO:elasticsearch:PUT https://kafka-homework3-5284633582.us-east-1.bonsaisearch.net:443/vaccinationstweets/_doc/1387904500254584842 [status:201 request:0.019s]\n",
            "INFO:elasticsearch:PUT https://kafka-homework3-5284633582.us-east-1.bonsaisearch.net:443/vaccinationstweets/_doc/1387904500837478400 [status:201 request:0.019s]\n",
            "INFO:elasticsearch:PUT https://kafka-homework3-5284633582.us-east-1.bonsaisearch.net:443/vaccinationstweets/_doc/1387904516188561409 [status:201 request:0.019s]\n",
            "INFO:elasticsearch:PUT https://kafka-homework3-5284633582.us-east-1.bonsaisearch.net:443/vaccinationstweets/_doc/1387904519351246853 [status:201 request:0.020s]\n",
            "INFO:elasticsearch:PUT https://kafka-homework3-5284633582.us-east-1.bonsaisearch.net:443/vaccinationstweets/_doc/1387904529165922309 [status:201 request:0.023s]\n",
            "INFO:elasticsearch:PUT https://kafka-homework3-5284633582.us-east-1.bonsaisearch.net:443/vaccinationstweets/_doc/1387904531002974208 [status:201 request:0.020s]\n",
            "INFO:elasticsearch:PUT https://kafka-homework3-5284633582.us-east-1.bonsaisearch.net:443/vaccinationstweets/_doc/1387904537361534978 [status:201 request:0.019s]\n",
            "INFO:elasticsearch:PUT https://kafka-homework3-5284633582.us-east-1.bonsaisearch.net:443/vaccinationstweets/_doc/1387904537193746434 [status:201 request:0.021s]\n",
            "INFO:elasticsearch:PUT https://kafka-homework3-5284633582.us-east-1.bonsaisearch.net:443/vaccinationstweets/_doc/1387904537940332546 [status:201 request:0.019s]\n"
          ],
          "name": "stderr"
        },
        {
          "output_type": "stream",
          "text": [
            "358\n",
            "359\n",
            "360\n",
            "361\n",
            "362\n",
            "363\n",
            "364\n",
            "365\n",
            "366\n"
          ],
          "name": "stdout"
        },
        {
          "output_type": "stream",
          "text": [
            "INFO:elasticsearch:PUT https://kafka-homework3-5284633582.us-east-1.bonsaisearch.net:443/vaccinationstweets/_doc/1387904539483856898 [status:201 request:0.020s]\n",
            "INFO:elasticsearch:PUT https://kafka-homework3-5284633582.us-east-1.bonsaisearch.net:443/vaccinationstweets/_doc/1387904541383856135 [status:201 request:0.022s]\n",
            "INFO:elasticsearch:PUT https://kafka-homework3-5284633582.us-east-1.bonsaisearch.net:443/vaccinationstweets/_doc/1387904546224148484 [status:201 request:0.020s]\n",
            "INFO:elasticsearch:PUT https://kafka-homework3-5284633582.us-east-1.bonsaisearch.net:443/vaccinationstweets/_doc/1387904550775005186 [status:201 request:0.020s]\n",
            "INFO:elasticsearch:PUT https://kafka-homework3-5284633582.us-east-1.bonsaisearch.net:443/vaccinationstweets/_doc/1387904551957647360 [status:201 request:0.020s]\n",
            "INFO:elasticsearch:PUT https://kafka-homework3-5284633582.us-east-1.bonsaisearch.net:443/vaccinationstweets/_doc/1387904555564912642 [status:201 request:0.020s]\n",
            "INFO:elasticsearch:PUT https://kafka-homework3-5284633582.us-east-1.bonsaisearch.net:443/vaccinationstweets/_doc/1387904556210741251 [status:201 request:0.019s]\n",
            "INFO:elasticsearch:PUT https://kafka-homework3-5284633582.us-east-1.bonsaisearch.net:443/vaccinationstweets/_doc/1387904557200642056 [status:201 request:0.021s]\n",
            "INFO:elasticsearch:PUT https://kafka-homework3-5284633582.us-east-1.bonsaisearch.net:443/vaccinationstweets/_doc/1387904560367292417 [status:201 request:0.020s]\n"
          ],
          "name": "stderr"
        },
        {
          "output_type": "stream",
          "text": [
            "367\n",
            "368\n",
            "369\n",
            "370\n",
            "371\n",
            "372\n",
            "373\n",
            "374\n",
            "375\n"
          ],
          "name": "stdout"
        },
        {
          "output_type": "stream",
          "text": [
            "INFO:elasticsearch:PUT https://kafka-homework3-5284633582.us-east-1.bonsaisearch.net:443/vaccinationstweets/_doc/1387904560514142210 [status:201 request:0.023s]\n",
            "INFO:elasticsearch:PUT https://kafka-homework3-5284633582.us-east-1.bonsaisearch.net:443/vaccinationstweets/_doc/1387904562590322690 [status:201 request:0.029s]\n",
            "INFO:elasticsearch:PUT https://kafka-homework3-5284633582.us-east-1.bonsaisearch.net:443/vaccinationstweets/_doc/1387904573113724930 [status:201 request:0.028s]\n",
            "INFO:elasticsearch:PUT https://kafka-homework3-5284633582.us-east-1.bonsaisearch.net:443/vaccinationstweets/_doc/1387904583410667522 [status:201 request:0.020s]\n",
            "INFO:elasticsearch:PUT https://kafka-homework3-5284633582.us-east-1.bonsaisearch.net:443/vaccinationstweets/_doc/1387904588251025412 [status:201 request:0.021s]\n",
            "INFO:elasticsearch:PUT https://kafka-homework3-5284633582.us-east-1.bonsaisearch.net:443/vaccinationstweets/_doc/1387904588880166916 [status:201 request:0.020s]\n",
            "INFO:elasticsearch:PUT https://kafka-homework3-5284633582.us-east-1.bonsaisearch.net:443/vaccinationstweets/_doc/1387904591719698432 [status:201 request:0.020s]\n",
            "INFO:elasticsearch:PUT https://kafka-homework3-5284633582.us-east-1.bonsaisearch.net:443/vaccinationstweets/_doc/1387904594416701448 [status:201 request:0.021s]\n",
            "INFO:elasticsearch:PUT https://kafka-homework3-5284633582.us-east-1.bonsaisearch.net:443/vaccinationstweets/_doc/1387904594731282432 [status:201 request:0.021s]\n"
          ],
          "name": "stderr"
        },
        {
          "output_type": "stream",
          "text": [
            "376\n",
            "377\n",
            "378\n",
            "379\n",
            "380\n",
            "381\n",
            "382\n",
            "383\n"
          ],
          "name": "stdout"
        },
        {
          "output_type": "stream",
          "text": [
            "INFO:elasticsearch:PUT https://kafka-homework3-5284633582.us-east-1.bonsaisearch.net:443/vaccinationstweets/_doc/1387904597214248966 [status:201 request:0.021s]\n",
            "INFO:elasticsearch:PUT https://kafka-homework3-5284633582.us-east-1.bonsaisearch.net:443/vaccinationstweets/_doc/1387904598254538752 [status:201 request:0.020s]\n",
            "INFO:elasticsearch:PUT https://kafka-homework3-5284633582.us-east-1.bonsaisearch.net:443/vaccinationstweets/_doc/1387904599286325249 [status:201 request:0.024s]\n",
            "INFO:elasticsearch:PUT https://kafka-homework3-5284633582.us-east-1.bonsaisearch.net:443/vaccinationstweets/_doc/1387904603694436356 [status:201 request:0.019s]\n",
            "INFO:elasticsearch:PUT https://kafka-homework3-5284633582.us-east-1.bonsaisearch.net:443/vaccinationstweets/_doc/1387904605770579971 [status:201 request:0.019s]\n",
            "INFO:elasticsearch:PUT https://kafka-homework3-5284633582.us-east-1.bonsaisearch.net:443/vaccinationstweets/_doc/1387904614067023879 [status:201 request:0.021s]\n",
            "INFO:elasticsearch:PUT https://kafka-homework3-5284633582.us-east-1.bonsaisearch.net:443/vaccinationstweets/_doc/1387904614767513603 [status:201 request:0.020s]\n",
            "INFO:elasticsearch:PUT https://kafka-homework3-5284633582.us-east-1.bonsaisearch.net:443/vaccinationstweets/_doc/1387904619163045890 [status:201 request:0.020s]\n"
          ],
          "name": "stderr"
        },
        {
          "output_type": "stream",
          "text": [
            "384\n",
            "385\n",
            "386\n",
            "387\n",
            "388\n",
            "389\n",
            "390\n",
            "391\n",
            "392\n"
          ],
          "name": "stdout"
        },
        {
          "output_type": "stream",
          "text": [
            "INFO:elasticsearch:PUT https://kafka-homework3-5284633582.us-east-1.bonsaisearch.net:443/vaccinationstweets/_doc/1387904619456643073 [status:201 request:0.021s]\n",
            "INFO:elasticsearch:PUT https://kafka-homework3-5284633582.us-east-1.bonsaisearch.net:443/vaccinationstweets/_doc/1387904620169682944 [status:201 request:0.021s]\n",
            "INFO:elasticsearch:PUT https://kafka-homework3-5284633582.us-east-1.bonsaisearch.net:443/vaccinationstweets/_doc/1387904620861607939 [status:201 request:0.022s]\n",
            "INFO:elasticsearch:PUT https://kafka-homework3-5284633582.us-east-1.bonsaisearch.net:443/vaccinationstweets/_doc/1387904623491616775 [status:201 request:0.020s]\n",
            "INFO:elasticsearch:PUT https://kafka-homework3-5284633582.us-east-1.bonsaisearch.net:443/vaccinationstweets/_doc/1387904625265692674 [status:201 request:0.022s]\n",
            "INFO:elasticsearch:PUT https://kafka-homework3-5284633582.us-east-1.bonsaisearch.net:443/vaccinationstweets/_doc/1387904625584529408 [status:201 request:0.021s]\n",
            "INFO:elasticsearch:PUT https://kafka-homework3-5284633582.us-east-1.bonsaisearch.net:443/vaccinationstweets/_doc/1387904632207282178 [status:201 request:0.020s]\n",
            "INFO:elasticsearch:PUT https://kafka-homework3-5284633582.us-east-1.bonsaisearch.net:443/vaccinationstweets/_doc/1387904632987340802 [status:201 request:0.021s]\n",
            "INFO:elasticsearch:PUT https://kafka-homework3-5284633582.us-east-1.bonsaisearch.net:443/vaccinationstweets/_doc/1387904634153472001 [status:201 request:0.025s]\n"
          ],
          "name": "stderr"
        },
        {
          "output_type": "stream",
          "text": [
            "393\n",
            "394\n",
            "395\n",
            "396\n",
            "397\n",
            "398\n",
            "399\n",
            "400\n"
          ],
          "name": "stdout"
        },
        {
          "output_type": "stream",
          "text": [
            "INFO:elasticsearch:PUT https://kafka-homework3-5284633582.us-east-1.bonsaisearch.net:443/vaccinationstweets/_doc/1387904641535561732 [status:201 request:0.022s]\n",
            "INFO:elasticsearch:PUT https://kafka-homework3-5284633582.us-east-1.bonsaisearch.net:443/vaccinationstweets/_doc/1387904641791365124 [status:201 request:0.022s]\n",
            "INFO:elasticsearch:PUT https://kafka-homework3-5284633582.us-east-1.bonsaisearch.net:443/vaccinationstweets/_doc/1387904644832182278 [status:201 request:0.020s]\n",
            "INFO:elasticsearch:PUT https://kafka-homework3-5284633582.us-east-1.bonsaisearch.net:443/vaccinationstweets/_doc/1387904645390024705 [status:201 request:0.021s]\n",
            "INFO:elasticsearch:PUT https://kafka-homework3-5284633582.us-east-1.bonsaisearch.net:443/vaccinationstweets/_doc/1387904647625646086 [status:201 request:0.020s]\n",
            "INFO:elasticsearch:PUT https://kafka-homework3-5284633582.us-east-1.bonsaisearch.net:443/vaccinationstweets/_doc/1387904649752162306 [status:201 request:0.019s]\n",
            "INFO:elasticsearch:PUT https://kafka-homework3-5284633582.us-east-1.bonsaisearch.net:443/vaccinationstweets/_doc/1387904650066767884 [status:201 request:0.021s]\n",
            "INFO:elasticsearch:PUT https://kafka-homework3-5284633582.us-east-1.bonsaisearch.net:443/vaccinationstweets/_doc/1387904654411960325 [status:201 request:0.020s]\n"
          ],
          "name": "stderr"
        },
        {
          "output_type": "stream",
          "text": [
            "401\n",
            "402\n",
            "403\n",
            "404\n",
            "405\n",
            "406\n",
            "407\n",
            "408\n",
            "409\n"
          ],
          "name": "stdout"
        },
        {
          "output_type": "stream",
          "text": [
            "INFO:elasticsearch:PUT https://kafka-homework3-5284633582.us-east-1.bonsaisearch.net:443/vaccinationstweets/_doc/1387904655892656128 [status:201 request:0.021s]\n",
            "INFO:elasticsearch:PUT https://kafka-homework3-5284633582.us-east-1.bonsaisearch.net:443/vaccinationstweets/_doc/1387904656249065475 [status:201 request:0.024s]\n",
            "INFO:elasticsearch:PUT https://kafka-homework3-5284633582.us-east-1.bonsaisearch.net:443/vaccinationstweets/_doc/1387904658220408840 [status:201 request:0.020s]\n",
            "INFO:elasticsearch:PUT https://kafka-homework3-5284633582.us-east-1.bonsaisearch.net:443/vaccinationstweets/_doc/1387904660388855809 [status:201 request:0.019s]\n",
            "INFO:elasticsearch:PUT https://kafka-homework3-5284633582.us-east-1.bonsaisearch.net:443/vaccinationstweets/_doc/1387904661114560513 [status:201 request:0.019s]\n",
            "INFO:elasticsearch:PUT https://kafka-homework3-5284633582.us-east-1.bonsaisearch.net:443/vaccinationstweets/_doc/1387904662498537474 [status:201 request:0.019s]\n",
            "INFO:elasticsearch:PUT https://kafka-homework3-5284633582.us-east-1.bonsaisearch.net:443/vaccinationstweets/_doc/1387904668039368709 [status:201 request:0.021s]\n",
            "INFO:elasticsearch:PUT https://kafka-homework3-5284633582.us-east-1.bonsaisearch.net:443/vaccinationstweets/_doc/1387904669477965824 [status:201 request:0.020s]\n",
            "INFO:elasticsearch:PUT https://kafka-homework3-5284633582.us-east-1.bonsaisearch.net:443/vaccinationstweets/_doc/1387904671864565761 [status:201 request:0.021s]\n",
            "INFO:elasticsearch:PUT https://kafka-homework3-5284633582.us-east-1.bonsaisearch.net:443/vaccinationstweets/_doc/1387904673466785796 [status:201 request:0.019s]\n"
          ],
          "name": "stderr"
        },
        {
          "output_type": "stream",
          "text": [
            "410\n",
            "411\n",
            "412\n",
            "413\n",
            "414\n",
            "415\n",
            "416\n",
            "417\n",
            "418\n",
            "419\n"
          ],
          "name": "stdout"
        },
        {
          "output_type": "stream",
          "text": [
            "INFO:elasticsearch:PUT https://kafka-homework3-5284633582.us-east-1.bonsaisearch.net:443/vaccinationstweets/_doc/1387904677354688512 [status:201 request:0.021s]\n",
            "INFO:elasticsearch:PUT https://kafka-homework3-5284633582.us-east-1.bonsaisearch.net:443/vaccinationstweets/_doc/1387904680416751622 [status:201 request:0.021s]\n",
            "INFO:elasticsearch:PUT https://kafka-homework3-5284633582.us-east-1.bonsaisearch.net:443/vaccinationstweets/_doc/1387904688889245700 [status:201 request:0.021s]\n",
            "INFO:elasticsearch:PUT https://kafka-homework3-5284633582.us-east-1.bonsaisearch.net:443/vaccinationstweets/_doc/1387904691493801992 [status:201 request:0.081s]\n",
            "INFO:elasticsearch:PUT https://kafka-homework3-5284633582.us-east-1.bonsaisearch.net:443/vaccinationstweets/_doc/1387904709239971845 [status:201 request:0.020s]\n",
            "INFO:elasticsearch:PUT https://kafka-homework3-5284633582.us-east-1.bonsaisearch.net:443/vaccinationstweets/_doc/1387904714738601984 [status:201 request:0.024s]\n"
          ],
          "name": "stderr"
        },
        {
          "output_type": "stream",
          "text": [
            "420\n",
            "421\n",
            "422\n",
            "423\n",
            "424\n",
            "425\n"
          ],
          "name": "stdout"
        },
        {
          "output_type": "stream",
          "text": [
            "INFO:elasticsearch:PUT https://kafka-homework3-5284633582.us-east-1.bonsaisearch.net:443/vaccinationstweets/_doc/1387904718521999361 [status:201 request:0.021s]\n",
            "INFO:elasticsearch:PUT https://kafka-homework3-5284633582.us-east-1.bonsaisearch.net:443/vaccinationstweets/_doc/1387904719746654210 [status:201 request:0.020s]\n",
            "INFO:elasticsearch:PUT https://kafka-homework3-5284633582.us-east-1.bonsaisearch.net:443/vaccinationstweets/_doc/1387904733340438529 [status:201 request:0.023s]\n",
            "INFO:elasticsearch:PUT https://kafka-homework3-5284633582.us-east-1.bonsaisearch.net:443/vaccinationstweets/_doc/1387904738205786115 [status:201 request:0.020s]\n",
            "INFO:elasticsearch:PUT https://kafka-homework3-5284633582.us-east-1.bonsaisearch.net:443/vaccinationstweets/_doc/1387904740827176963 [status:201 request:0.019s]\n",
            "INFO:elasticsearch:PUT https://kafka-homework3-5284633582.us-east-1.bonsaisearch.net:443/vaccinationstweets/_doc/1387904749081595908 [status:201 request:0.023s]\n",
            "INFO:elasticsearch:PUT https://kafka-homework3-5284633582.us-east-1.bonsaisearch.net:443/vaccinationstweets/_doc/1387904751325487105 [status:201 request:0.020s]\n",
            "INFO:elasticsearch:PUT https://kafka-homework3-5284633582.us-east-1.bonsaisearch.net:443/vaccinationstweets/_doc/1387904758803959808 [status:201 request:0.020s]\n",
            "INFO:elasticsearch:PUT https://kafka-homework3-5284633582.us-east-1.bonsaisearch.net:443/vaccinationstweets/_doc/1387904762725732355 [status:201 request:0.021s]\n"
          ],
          "name": "stderr"
        },
        {
          "output_type": "stream",
          "text": [
            "426\n",
            "427\n",
            "428\n",
            "429\n",
            "430\n",
            "431\n",
            "432\n",
            "433\n",
            "434\n"
          ],
          "name": "stdout"
        },
        {
          "output_type": "stream",
          "text": [
            "INFO:elasticsearch:PUT https://kafka-homework3-5284633582.us-east-1.bonsaisearch.net:443/vaccinationstweets/_doc/1387904763866480641 [status:201 request:0.021s]\n",
            "INFO:elasticsearch:PUT https://kafka-homework3-5284633582.us-east-1.bonsaisearch.net:443/vaccinationstweets/_doc/1387904769193357314 [status:201 request:0.023s]\n",
            "INFO:elasticsearch:PUT https://kafka-homework3-5284633582.us-east-1.bonsaisearch.net:443/vaccinationstweets/_doc/1387904771999289355 [status:201 request:0.020s]\n",
            "INFO:elasticsearch:PUT https://kafka-homework3-5284633582.us-east-1.bonsaisearch.net:443/vaccinationstweets/_doc/1387904774259961857 [status:201 request:0.020s]\n",
            "INFO:elasticsearch:PUT https://kafka-homework3-5284633582.us-east-1.bonsaisearch.net:443/vaccinationstweets/_doc/1387904781398646785 [status:201 request:0.022s]\n",
            "INFO:elasticsearch:PUT https://kafka-homework3-5284633582.us-east-1.bonsaisearch.net:443/vaccinationstweets/_doc/1387904786197008387 [status:201 request:0.021s]\n",
            "INFO:elasticsearch:PUT https://kafka-homework3-5284633582.us-east-1.bonsaisearch.net:443/vaccinationstweets/_doc/1387904787916730373 [status:201 request:0.020s]\n"
          ],
          "name": "stderr"
        },
        {
          "output_type": "stream",
          "text": [
            "435\n",
            "436\n",
            "437\n",
            "438\n",
            "439\n",
            "440\n",
            "441\n"
          ],
          "name": "stdout"
        },
        {
          "output_type": "stream",
          "text": [
            "INFO:elasticsearch:PUT https://kafka-homework3-5284633582.us-east-1.bonsaisearch.net:443/vaccinationstweets/_doc/1387904788088582144 [status:201 request:0.085s]\n",
            "INFO:elasticsearch:PUT https://kafka-homework3-5284633582.us-east-1.bonsaisearch.net:443/vaccinationstweets/_doc/1387904788222734340 [status:201 request:0.023s]\n",
            "INFO:elasticsearch:PUT https://kafka-homework3-5284633582.us-east-1.bonsaisearch.net:443/vaccinationstweets/_doc/1387904792316583944 [status:201 request:0.020s]\n",
            "INFO:elasticsearch:PUT https://kafka-homework3-5284633582.us-east-1.bonsaisearch.net:443/vaccinationstweets/_doc/1387904792442273793 [status:201 request:0.022s]\n",
            "INFO:elasticsearch:PUT https://kafka-homework3-5284633582.us-east-1.bonsaisearch.net:443/vaccinationstweets/_doc/1387904796498268170 [status:201 request:0.020s]\n",
            "INFO:elasticsearch:PUT https://kafka-homework3-5284633582.us-east-1.bonsaisearch.net:443/vaccinationstweets/_doc/1387904798935093251 [status:201 request:0.019s]\n",
            "INFO:elasticsearch:PUT https://kafka-homework3-5284633582.us-east-1.bonsaisearch.net:443/vaccinationstweets/_doc/1387904802374488074 [status:201 request:0.020s]\n",
            "INFO:elasticsearch:PUT https://kafka-homework3-5284633582.us-east-1.bonsaisearch.net:443/vaccinationstweets/_doc/1387904808875708416 [status:201 request:0.020s]\n",
            "INFO:elasticsearch:PUT https://kafka-homework3-5284633582.us-east-1.bonsaisearch.net:443/vaccinationstweets/_doc/1387904812965109767 [status:201 request:0.020s]\n"
          ],
          "name": "stderr"
        },
        {
          "output_type": "stream",
          "text": [
            "442\n",
            "443\n",
            "444\n",
            "445\n",
            "446\n",
            "447\n",
            "448\n",
            "449\n",
            "450\n"
          ],
          "name": "stdout"
        },
        {
          "output_type": "stream",
          "text": [
            "INFO:elasticsearch:PUT https://kafka-homework3-5284633582.us-east-1.bonsaisearch.net:443/vaccinationstweets/_doc/1387904825728258050 [status:201 request:0.021s]\n",
            "INFO:elasticsearch:PUT https://kafka-homework3-5284633582.us-east-1.bonsaisearch.net:443/vaccinationstweets/_doc/1387904834507059201 [status:201 request:0.022s]\n",
            "INFO:elasticsearch:PUT https://kafka-homework3-5284633582.us-east-1.bonsaisearch.net:443/vaccinationstweets/_doc/1387904859425357832 [status:201 request:0.019s]\n",
            "INFO:elasticsearch:PUT https://kafka-homework3-5284633582.us-east-1.bonsaisearch.net:443/vaccinationstweets/_doc/1387904865607716865 [status:201 request:0.021s]\n",
            "INFO:elasticsearch:PUT https://kafka-homework3-5284633582.us-east-1.bonsaisearch.net:443/vaccinationstweets/_doc/1387904866455101441 [status:201 request:0.019s]\n",
            "INFO:elasticsearch:PUT https://kafka-homework3-5284633582.us-east-1.bonsaisearch.net:443/vaccinationstweets/_doc/1387904868829089797 [status:201 request:0.020s]\n",
            "INFO:elasticsearch:PUT https://kafka-homework3-5284633582.us-east-1.bonsaisearch.net:443/vaccinationstweets/_doc/1387904875862761474 [status:201 request:0.019s]\n",
            "INFO:elasticsearch:PUT https://kafka-homework3-5284633582.us-east-1.bonsaisearch.net:443/vaccinationstweets/_doc/1387904876311728131 [status:201 request:0.020s]\n",
            "INFO:elasticsearch:PUT https://kafka-homework3-5284633582.us-east-1.bonsaisearch.net:443/vaccinationstweets/_doc/1387904880350740484 [status:201 request:0.022s]\n"
          ],
          "name": "stderr"
        },
        {
          "output_type": "stream",
          "text": [
            "451\n",
            "452\n",
            "453\n",
            "454\n",
            "455\n",
            "456\n",
            "457\n",
            "458\n",
            "459\n"
          ],
          "name": "stdout"
        },
        {
          "output_type": "stream",
          "text": [
            "INFO:elasticsearch:PUT https://kafka-homework3-5284633582.us-east-1.bonsaisearch.net:443/vaccinationstweets/_doc/1387904880858353667 [status:201 request:0.022s]\n",
            "INFO:elasticsearch:PUT https://kafka-homework3-5284633582.us-east-1.bonsaisearch.net:443/vaccinationstweets/_doc/1387904881042722816 [status:201 request:0.020s]\n",
            "INFO:elasticsearch:PUT https://kafka-homework3-5284633582.us-east-1.bonsaisearch.net:443/vaccinationstweets/_doc/1387904888043184130 [status:201 request:0.021s]\n",
            "INFO:elasticsearch:PUT https://kafka-homework3-5284633582.us-east-1.bonsaisearch.net:443/vaccinationstweets/_doc/1387904890588995587 [status:201 request:0.020s]\n",
            "INFO:elasticsearch:PUT https://kafka-homework3-5284633582.us-east-1.bonsaisearch.net:443/vaccinationstweets/_doc/1387904891176116226 [status:201 request:0.020s]\n",
            "INFO:elasticsearch:PUT https://kafka-homework3-5284633582.us-east-1.bonsaisearch.net:443/vaccinationstweets/_doc/1387904900001001472 [status:201 request:0.021s]\n",
            "INFO:elasticsearch:PUT https://kafka-homework3-5284633582.us-east-1.bonsaisearch.net:443/vaccinationstweets/_doc/1387904901984841730 [status:201 request:0.021s]\n",
            "INFO:elasticsearch:PUT https://kafka-homework3-5284633582.us-east-1.bonsaisearch.net:443/vaccinationstweets/_doc/1387904903033540620 [status:201 request:0.021s]\n",
            "INFO:elasticsearch:PUT https://kafka-homework3-5284633582.us-east-1.bonsaisearch.net:443/vaccinationstweets/_doc/1387904907139760131 [status:201 request:0.022s]\n"
          ],
          "name": "stderr"
        },
        {
          "output_type": "stream",
          "text": [
            "460\n",
            "461\n",
            "462\n",
            "463\n",
            "464\n",
            "465\n",
            "466\n",
            "467\n"
          ],
          "name": "stdout"
        },
        {
          "output_type": "stream",
          "text": [
            "INFO:elasticsearch:PUT https://kafka-homework3-5284633582.us-east-1.bonsaisearch.net:443/vaccinationstweets/_doc/1387904914077200386 [status:201 request:0.019s]\n",
            "INFO:elasticsearch:PUT https://kafka-homework3-5284633582.us-east-1.bonsaisearch.net:443/vaccinationstweets/_doc/1387904915503157249 [status:201 request:0.019s]\n",
            "INFO:elasticsearch:PUT https://kafka-homework3-5284633582.us-east-1.bonsaisearch.net:443/vaccinationstweets/_doc/1387904916241461250 [status:201 request:0.018s]\n",
            "INFO:elasticsearch:PUT https://kafka-homework3-5284633582.us-east-1.bonsaisearch.net:443/vaccinationstweets/_doc/1387904919026425859 [status:201 request:0.020s]\n",
            "INFO:elasticsearch:PUT https://kafka-homework3-5284633582.us-east-1.bonsaisearch.net:443/vaccinationstweets/_doc/1387904933895319578 [status:201 request:0.020s]\n",
            "INFO:elasticsearch:PUT https://kafka-homework3-5284633582.us-east-1.bonsaisearch.net:443/vaccinationstweets/_doc/1387904942732726278 [status:201 request:0.022s]\n",
            "INFO:elasticsearch:PUT https://kafka-homework3-5284633582.us-east-1.bonsaisearch.net:443/vaccinationstweets/_doc/1387904944016134147 [status:201 request:0.023s]\n",
            "INFO:elasticsearch:PUT https://kafka-homework3-5284633582.us-east-1.bonsaisearch.net:443/vaccinationstweets/_doc/1387904944959893508 [status:201 request:0.020s]\n",
            "INFO:elasticsearch:PUT https://kafka-homework3-5284633582.us-east-1.bonsaisearch.net:443/vaccinationstweets/_doc/1387904945232416771 [status:201 request:0.018s]\n"
          ],
          "name": "stderr"
        },
        {
          "output_type": "stream",
          "text": [
            "468\n",
            "469\n",
            "470\n",
            "471\n",
            "472\n",
            "473\n",
            "474\n",
            "475\n",
            "476\n",
            "477\n"
          ],
          "name": "stdout"
        },
        {
          "output_type": "stream",
          "text": [
            "INFO:elasticsearch:PUT https://kafka-homework3-5284633582.us-east-1.bonsaisearch.net:443/vaccinationstweets/_doc/1387904958557609986 [status:201 request:0.020s]\n",
            "INFO:elasticsearch:PUT https://kafka-homework3-5284633582.us-east-1.bonsaisearch.net:443/vaccinationstweets/_doc/1387904959635595266 [status:201 request:0.021s]\n",
            "INFO:elasticsearch:PUT https://kafka-homework3-5284633582.us-east-1.bonsaisearch.net:443/vaccinationstweets/_doc/1387904961544081412 [status:201 request:0.019s]\n",
            "INFO:elasticsearch:PUT https://kafka-homework3-5284633582.us-east-1.bonsaisearch.net:443/vaccinationstweets/_doc/1387904968594624512 [status:201 request:0.019s]\n",
            "INFO:elasticsearch:PUT https://kafka-homework3-5284633582.us-east-1.bonsaisearch.net:443/vaccinationstweets/_doc/1387904978929557505 [status:201 request:0.021s]\n",
            "INFO:elasticsearch:PUT https://kafka-homework3-5284633582.us-east-1.bonsaisearch.net:443/vaccinationstweets/_doc/1387904982272315393 [status:201 request:0.021s]\n",
            "INFO:elasticsearch:PUT https://kafka-homework3-5284633582.us-east-1.bonsaisearch.net:443/vaccinationstweets/_doc/1387904982515544064 [status:201 request:0.021s]\n",
            "INFO:elasticsearch:PUT https://kafka-homework3-5284633582.us-east-1.bonsaisearch.net:443/vaccinationstweets/_doc/1387905011833720832 [status:201 request:0.019s]\n"
          ],
          "name": "stderr"
        },
        {
          "output_type": "stream",
          "text": [
            "478\n",
            "479\n",
            "480\n",
            "481\n",
            "482\n",
            "483\n",
            "484\n",
            "485\n"
          ],
          "name": "stdout"
        },
        {
          "output_type": "stream",
          "text": [
            "INFO:elasticsearch:PUT https://kafka-homework3-5284633582.us-east-1.bonsaisearch.net:443/vaccinationstweets/_doc/1387905018033025031 [status:201 request:0.160s]\n",
            "INFO:elasticsearch:PUT https://kafka-homework3-5284633582.us-east-1.bonsaisearch.net:443/vaccinationstweets/_doc/1387905024626462723 [status:201 request:0.020s]\n",
            "INFO:elasticsearch:PUT https://kafka-homework3-5284633582.us-east-1.bonsaisearch.net:443/vaccinationstweets/_doc/1387905036076847106 [status:201 request:0.025s]\n",
            "INFO:elasticsearch:PUT https://kafka-homework3-5284633582.us-east-1.bonsaisearch.net:443/vaccinationstweets/_doc/1387905046814281730 [status:201 request:0.021s]\n",
            "INFO:elasticsearch:PUT https://kafka-homework3-5284633582.us-east-1.bonsaisearch.net:443/vaccinationstweets/_doc/1387905047715999744 [status:201 request:0.023s]\n",
            "INFO:elasticsearch:PUT https://kafka-homework3-5284633582.us-east-1.bonsaisearch.net:443/vaccinationstweets/_doc/1387905047833370625 [status:201 request:0.021s]\n",
            "INFO:elasticsearch:PUT https://kafka-homework3-5284633582.us-east-1.bonsaisearch.net:443/vaccinationstweets/_doc/1387905050413043716 [status:201 request:0.019s]\n",
            "INFO:elasticsearch:PUT https://kafka-homework3-5284633582.us-east-1.bonsaisearch.net:443/vaccinationstweets/_doc/1387905052170407939 [status:201 request:0.020s]\n"
          ],
          "name": "stderr"
        },
        {
          "output_type": "stream",
          "text": [
            "486\n",
            "487\n",
            "488\n",
            "489\n",
            "490\n",
            "491\n",
            "492\n",
            "493\n"
          ],
          "name": "stdout"
        },
        {
          "output_type": "stream",
          "text": [
            "INFO:elasticsearch:PUT https://kafka-homework3-5284633582.us-east-1.bonsaisearch.net:443/vaccinationstweets/_doc/1387905053923577856 [status:201 request:0.020s]\n",
            "INFO:elasticsearch:PUT https://kafka-homework3-5284633582.us-east-1.bonsaisearch.net:443/vaccinationstweets/_doc/1387905066498236421 [status:201 request:0.021s]\n",
            "INFO:elasticsearch:PUT https://kafka-homework3-5284633582.us-east-1.bonsaisearch.net:443/vaccinationstweets/_doc/1387905072609341441 [status:201 request:0.020s]\n",
            "INFO:elasticsearch:PUT https://kafka-homework3-5284633582.us-east-1.bonsaisearch.net:443/vaccinationstweets/_doc/1387905078602969088 [status:201 request:0.021s]\n",
            "INFO:elasticsearch:PUT https://kafka-homework3-5284633582.us-east-1.bonsaisearch.net:443/vaccinationstweets/_doc/1387905080565944330 [status:201 request:0.024s]\n",
            "INFO:elasticsearch:PUT https://kafka-homework3-5284633582.us-east-1.bonsaisearch.net:443/vaccinationstweets/_doc/1387905082616856577 [status:201 request:0.022s]\n",
            "INFO:elasticsearch:PUT https://kafka-homework3-5284633582.us-east-1.bonsaisearch.net:443/vaccinationstweets/_doc/1387905083820544002 [status:201 request:0.023s]\n",
            "INFO:elasticsearch:PUT https://kafka-homework3-5284633582.us-east-1.bonsaisearch.net:443/vaccinationstweets/_doc/1387905092205129730 [status:201 request:0.022s]\n"
          ],
          "name": "stderr"
        },
        {
          "output_type": "stream",
          "text": [
            "494\n",
            "495\n",
            "496\n",
            "497\n",
            "498\n",
            "499\n",
            "500\n",
            "501\n"
          ],
          "name": "stdout"
        },
        {
          "output_type": "stream",
          "text": [
            "INFO:elasticsearch:PUT https://kafka-homework3-5284633582.us-east-1.bonsaisearch.net:443/vaccinationstweets/_doc/1387905099972841475 [status:201 request:0.022s]\n",
            "INFO:elasticsearch:PUT https://kafka-homework3-5284633582.us-east-1.bonsaisearch.net:443/vaccinationstweets/_doc/1387905109850566657 [status:201 request:0.021s]\n",
            "INFO:elasticsearch:PUT https://kafka-homework3-5284633582.us-east-1.bonsaisearch.net:443/vaccinationstweets/_doc/1387905110760644621 [status:201 request:0.021s]\n",
            "INFO:elasticsearch:PUT https://kafka-homework3-5284633582.us-east-1.bonsaisearch.net:443/vaccinationstweets/_doc/1387905113289723904 [status:201 request:0.024s]\n",
            "INFO:elasticsearch:PUT https://kafka-homework3-5284633582.us-east-1.bonsaisearch.net:443/vaccinationstweets/_doc/1387905117362479106 [status:201 request:0.020s]\n",
            "INFO:elasticsearch:PUT https://kafka-homework3-5284633582.us-east-1.bonsaisearch.net:443/vaccinationstweets/_doc/1387905118570303488 [status:201 request:0.024s]\n",
            "INFO:elasticsearch:PUT https://kafka-homework3-5284633582.us-east-1.bonsaisearch.net:443/vaccinationstweets/_doc/1387905119673470976 [status:201 request:0.020s]\n",
            "INFO:elasticsearch:PUT https://kafka-homework3-5284633582.us-east-1.bonsaisearch.net:443/vaccinationstweets/_doc/1387905121305219073 [status:201 request:0.020s]\n"
          ],
          "name": "stderr"
        },
        {
          "output_type": "stream",
          "text": [
            "502\n",
            "503\n",
            "504\n",
            "505\n",
            "506\n",
            "507\n",
            "508\n",
            "509\n"
          ],
          "name": "stdout"
        },
        {
          "output_type": "stream",
          "text": [
            "INFO:elasticsearch:PUT https://kafka-homework3-5284633582.us-east-1.bonsaisearch.net:443/vaccinationstweets/_doc/1387905124379602950 [status:201 request:0.021s]\n",
            "INFO:elasticsearch:PUT https://kafka-homework3-5284633582.us-east-1.bonsaisearch.net:443/vaccinationstweets/_doc/1387905135851016195 [status:201 request:0.020s]\n",
            "INFO:elasticsearch:PUT https://kafka-homework3-5284633582.us-east-1.bonsaisearch.net:443/vaccinationstweets/_doc/1387905139286200324 [status:201 request:0.021s]\n",
            "INFO:elasticsearch:PUT https://kafka-homework3-5284633582.us-east-1.bonsaisearch.net:443/vaccinationstweets/_doc/1387905143937519616 [status:201 request:0.021s]\n",
            "INFO:elasticsearch:PUT https://kafka-homework3-5284633582.us-east-1.bonsaisearch.net:443/vaccinationstweets/_doc/1387905148400320515 [status:201 request:0.020s]\n",
            "INFO:elasticsearch:PUT https://kafka-homework3-5284633582.us-east-1.bonsaisearch.net:443/vaccinationstweets/_doc/1387905150606397444 [status:201 request:0.078s]\n",
            "INFO:elasticsearch:PUT https://kafka-homework3-5284633582.us-east-1.bonsaisearch.net:443/vaccinationstweets/_doc/1387905152024145924 [status:201 request:0.021s]\n"
          ],
          "name": "stderr"
        },
        {
          "output_type": "stream",
          "text": [
            "510\n",
            "511\n",
            "512\n",
            "513\n",
            "514\n",
            "515\n",
            "516\n"
          ],
          "name": "stdout"
        },
        {
          "output_type": "stream",
          "text": [
            "INFO:elasticsearch:PUT https://kafka-homework3-5284633582.us-east-1.bonsaisearch.net:443/vaccinationstweets/_doc/1387905157283917834 [status:201 request:0.020s]\n",
            "INFO:elasticsearch:PUT https://kafka-homework3-5284633582.us-east-1.bonsaisearch.net:443/vaccinationstweets/_doc/1387905158605021184 [status:201 request:0.021s]\n",
            "INFO:elasticsearch:PUT https://kafka-homework3-5284633582.us-east-1.bonsaisearch.net:443/vaccinationstweets/_doc/1387905171720577024 [status:201 request:0.022s]\n",
            "INFO:elasticsearch:PUT https://kafka-homework3-5284633582.us-east-1.bonsaisearch.net:443/vaccinationstweets/_doc/1387905173419446281 [status:201 request:0.020s]\n",
            "INFO:elasticsearch:PUT https://kafka-homework3-5284633582.us-east-1.bonsaisearch.net:443/vaccinationstweets/_doc/1387905186866339847 [status:201 request:0.020s]\n",
            "INFO:elasticsearch:PUT https://kafka-homework3-5284633582.us-east-1.bonsaisearch.net:443/vaccinationstweets/_doc/1387905187864580098 [status:201 request:0.020s]\n",
            "INFO:elasticsearch:PUT https://kafka-homework3-5284633582.us-east-1.bonsaisearch.net:443/vaccinationstweets/_doc/1387905194487435267 [status:201 request:0.020s]\n",
            "INFO:elasticsearch:PUT https://kafka-homework3-5284633582.us-east-1.bonsaisearch.net:443/vaccinationstweets/_doc/1387905196869701634 [status:201 request:0.020s]\n",
            "INFO:elasticsearch:PUT https://kafka-homework3-5284633582.us-east-1.bonsaisearch.net:443/vaccinationstweets/_doc/1387905197687586819 [status:201 request:0.019s]\n"
          ],
          "name": "stderr"
        },
        {
          "output_type": "stream",
          "text": [
            "517\n",
            "518\n",
            "519\n",
            "520\n",
            "521\n",
            "522\n",
            "523\n",
            "524\n",
            "525\n"
          ],
          "name": "stdout"
        },
        {
          "output_type": "stream",
          "text": [
            "INFO:elasticsearch:PUT https://kafka-homework3-5284633582.us-east-1.bonsaisearch.net:443/vaccinationstweets/_doc/1387905211126194176 [status:201 request:0.021s]\n",
            "INFO:elasticsearch:PUT https://kafka-homework3-5284633582.us-east-1.bonsaisearch.net:443/vaccinationstweets/_doc/1387905211348443139 [status:201 request:0.020s]\n",
            "INFO:elasticsearch:PUT https://kafka-homework3-5284633582.us-east-1.bonsaisearch.net:443/vaccinationstweets/_doc/1387905221142142981 [status:201 request:0.021s]\n",
            "INFO:elasticsearch:PUT https://kafka-homework3-5284633582.us-east-1.bonsaisearch.net:443/vaccinationstweets/_doc/1387905225286160392 [status:201 request:0.019s]\n",
            "INFO:elasticsearch:PUT https://kafka-homework3-5284633582.us-east-1.bonsaisearch.net:443/vaccinationstweets/_doc/1387905226720661507 [status:201 request:0.020s]\n",
            "INFO:elasticsearch:PUT https://kafka-homework3-5284633582.us-east-1.bonsaisearch.net:443/vaccinationstweets/_doc/1387905226745819145 [status:201 request:0.019s]\n",
            "INFO:elasticsearch:PUT https://kafka-homework3-5284633582.us-east-1.bonsaisearch.net:443/vaccinationstweets/_doc/1387905227307642881 [status:201 request:0.026s]\n",
            "INFO:elasticsearch:PUT https://kafka-homework3-5284633582.us-east-1.bonsaisearch.net:443/vaccinationstweets/_doc/1387905228477980675 [status:201 request:0.021s]\n",
            "INFO:elasticsearch:PUT https://kafka-homework3-5284633582.us-east-1.bonsaisearch.net:443/vaccinationstweets/_doc/1387905229883125761 [status:201 request:0.023s]\n"
          ],
          "name": "stderr"
        },
        {
          "output_type": "stream",
          "text": [
            "526\n",
            "527\n",
            "528\n",
            "529\n",
            "530\n",
            "531\n",
            "532\n",
            "533\n",
            "534\n"
          ],
          "name": "stdout"
        },
        {
          "output_type": "stream",
          "text": [
            "INFO:elasticsearch:PUT https://kafka-homework3-5284633582.us-east-1.bonsaisearch.net:443/vaccinationstweets/_doc/1387905232261234691 [status:201 request:0.021s]\n",
            "INFO:elasticsearch:PUT https://kafka-homework3-5284633582.us-east-1.bonsaisearch.net:443/vaccinationstweets/_doc/1387905264280432642 [status:201 request:0.023s]\n",
            "INFO:elasticsearch:PUT https://kafka-homework3-5284633582.us-east-1.bonsaisearch.net:443/vaccinationstweets/_doc/1387905267132600320 [status:201 request:0.020s]\n",
            "INFO:elasticsearch:PUT https://kafka-homework3-5284633582.us-east-1.bonsaisearch.net:443/vaccinationstweets/_doc/1387905276825673728 [status:201 request:0.020s]\n",
            "INFO:elasticsearch:PUT https://kafka-homework3-5284633582.us-east-1.bonsaisearch.net:443/vaccinationstweets/_doc/1387905277895356417 [status:201 request:0.021s]\n",
            "INFO:elasticsearch:PUT https://kafka-homework3-5284633582.us-east-1.bonsaisearch.net:443/vaccinationstweets/_doc/1387905278033727493 [status:201 request:0.021s]\n",
            "INFO:elasticsearch:PUT https://kafka-homework3-5284633582.us-east-1.bonsaisearch.net:443/vaccinationstweets/_doc/1387905280386772994 [status:201 request:0.026s]\n",
            "INFO:elasticsearch:PUT https://kafka-homework3-5284633582.us-east-1.bonsaisearch.net:443/vaccinationstweets/_doc/1387905282131468288 [status:201 request:0.021s]\n"
          ],
          "name": "stderr"
        },
        {
          "output_type": "stream",
          "text": [
            "535\n",
            "536\n",
            "537\n",
            "538\n",
            "539\n",
            "540\n",
            "541\n",
            "542\n"
          ],
          "name": "stdout"
        },
        {
          "output_type": "stream",
          "text": [
            "INFO:elasticsearch:PUT https://kafka-homework3-5284633582.us-east-1.bonsaisearch.net:443/vaccinationstweets/_doc/1387905282320343042 [status:201 request:0.023s]\n",
            "INFO:elasticsearch:PUT https://kafka-homework3-5284633582.us-east-1.bonsaisearch.net:443/vaccinationstweets/_doc/1387905283582832642 [status:201 request:0.020s]\n",
            "INFO:elasticsearch:PUT https://kafka-homework3-5284633582.us-east-1.bonsaisearch.net:443/vaccinationstweets/_doc/1387905289614241793 [status:201 request:0.020s]\n",
            "INFO:elasticsearch:PUT https://kafka-homework3-5284633582.us-east-1.bonsaisearch.net:443/vaccinationstweets/_doc/1387905301073043456 [status:201 request:0.019s]\n",
            "INFO:elasticsearch:PUT https://kafka-homework3-5284633582.us-east-1.bonsaisearch.net:443/vaccinationstweets/_doc/1387905305963552768 [status:201 request:0.021s]\n",
            "INFO:elasticsearch:PUT https://kafka-homework3-5284633582.us-east-1.bonsaisearch.net:443/vaccinationstweets/_doc/1387905309260267524 [status:201 request:0.021s]\n",
            "INFO:elasticsearch:PUT https://kafka-homework3-5284633582.us-east-1.bonsaisearch.net:443/vaccinationstweets/_doc/1387905318475247618 [status:201 request:0.022s]\n",
            "INFO:elasticsearch:PUT https://kafka-homework3-5284633582.us-east-1.bonsaisearch.net:443/vaccinationstweets/_doc/1387905320744198147 [status:201 request:0.021s]\n",
            "INFO:elasticsearch:PUT https://kafka-homework3-5284633582.us-east-1.bonsaisearch.net:443/vaccinationstweets/_doc/1387905321583083521 [status:201 request:0.019s]\n"
          ],
          "name": "stderr"
        },
        {
          "output_type": "stream",
          "text": [
            "543\n",
            "544\n",
            "545\n",
            "546\n",
            "547\n",
            "548\n",
            "549\n",
            "550\n",
            "551\n"
          ],
          "name": "stdout"
        },
        {
          "output_type": "stream",
          "text": [
            "INFO:elasticsearch:PUT https://kafka-homework3-5284633582.us-east-1.bonsaisearch.net:443/vaccinationstweets/_doc/1387905327811661827 [status:201 request:0.020s]\n",
            "INFO:elasticsearch:PUT https://kafka-homework3-5284633582.us-east-1.bonsaisearch.net:443/vaccinationstweets/_doc/1387905331368501249 [status:201 request:0.019s]\n",
            "INFO:elasticsearch:PUT https://kafka-homework3-5284633582.us-east-1.bonsaisearch.net:443/vaccinationstweets/_doc/1387905333561946113 [status:201 request:0.024s]\n",
            "INFO:elasticsearch:PUT https://kafka-homework3-5284633582.us-east-1.bonsaisearch.net:443/vaccinationstweets/_doc/1387905333859950593 [status:201 request:0.019s]\n",
            "INFO:elasticsearch:PUT https://kafka-homework3-5284633582.us-east-1.bonsaisearch.net:443/vaccinationstweets/_doc/1387905343259176961 [status:201 request:0.021s]\n",
            "INFO:elasticsearch:PUT https://kafka-homework3-5284633582.us-east-1.bonsaisearch.net:443/vaccinationstweets/_doc/1387905345708871680 [status:201 request:0.021s]\n",
            "INFO:elasticsearch:PUT https://kafka-homework3-5284633582.us-east-1.bonsaisearch.net:443/vaccinationstweets/_doc/1387905349085184001 [status:201 request:0.025s]\n",
            "INFO:elasticsearch:PUT https://kafka-homework3-5284633582.us-east-1.bonsaisearch.net:443/vaccinationstweets/_doc/1387905351425552385 [status:201 request:0.019s]\n",
            "INFO:elasticsearch:PUT https://kafka-homework3-5284633582.us-east-1.bonsaisearch.net:443/vaccinationstweets/_doc/1387905354202288132 [status:201 request:0.024s]\n"
          ],
          "name": "stderr"
        },
        {
          "output_type": "stream",
          "text": [
            "552\n",
            "553\n",
            "554\n",
            "555\n",
            "556\n",
            "557\n",
            "558\n",
            "559\n",
            "560\n"
          ],
          "name": "stdout"
        },
        {
          "output_type": "stream",
          "text": [
            "INFO:elasticsearch:PUT https://kafka-homework3-5284633582.us-east-1.bonsaisearch.net:443/vaccinationstweets/_doc/1387905362234335234 [status:201 request:0.020s]\n",
            "INFO:elasticsearch:PUT https://kafka-homework3-5284633582.us-east-1.bonsaisearch.net:443/vaccinationstweets/_doc/1387905368064512001 [status:201 request:0.030s]\n",
            "INFO:elasticsearch:PUT https://kafka-homework3-5284633582.us-east-1.bonsaisearch.net:443/vaccinationstweets/_doc/1387905374137851907 [status:201 request:0.021s]\n",
            "INFO:elasticsearch:PUT https://kafka-homework3-5284633582.us-east-1.bonsaisearch.net:443/vaccinationstweets/_doc/1387905374850752512 [status:201 request:0.021s]\n",
            "INFO:elasticsearch:PUT https://kafka-homework3-5284633582.us-east-1.bonsaisearch.net:443/vaccinationstweets/_doc/1387905385982353408 [status:201 request:0.021s]\n",
            "INFO:elasticsearch:PUT https://kafka-homework3-5284633582.us-east-1.bonsaisearch.net:443/vaccinationstweets/_doc/1387905396514381827 [status:201 request:0.023s]\n",
            "INFO:elasticsearch:PUT https://kafka-homework3-5284633582.us-east-1.bonsaisearch.net:443/vaccinationstweets/_doc/1387905402910568449 [status:201 request:0.022s]\n",
            "INFO:elasticsearch:PUT https://kafka-homework3-5284633582.us-east-1.bonsaisearch.net:443/vaccinationstweets/_doc/1387905404915503105 [status:201 request:0.021s]\n"
          ],
          "name": "stderr"
        },
        {
          "output_type": "stream",
          "text": [
            "561\n",
            "562\n",
            "563\n",
            "564\n",
            "565\n",
            "566\n",
            "567\n",
            "568\n"
          ],
          "name": "stdout"
        },
        {
          "output_type": "stream",
          "text": [
            "INFO:elasticsearch:PUT https://kafka-homework3-5284633582.us-east-1.bonsaisearch.net:443/vaccinationstweets/_doc/1387905406530318337 [status:201 request:0.020s]\n",
            "INFO:elasticsearch:PUT https://kafka-homework3-5284633582.us-east-1.bonsaisearch.net:443/vaccinationstweets/_doc/1387905409353142278 [status:201 request:0.021s]\n",
            "INFO:elasticsearch:PUT https://kafka-homework3-5284633582.us-east-1.bonsaisearch.net:443/vaccinationstweets/_doc/1387905409470578690 [status:201 request:0.020s]\n",
            "INFO:elasticsearch:PUT https://kafka-homework3-5284633582.us-east-1.bonsaisearch.net:443/vaccinationstweets/_doc/1387905409575526404 [status:201 request:0.024s]\n",
            "INFO:elasticsearch:PUT https://kafka-homework3-5284633582.us-east-1.bonsaisearch.net:443/vaccinationstweets/_doc/1387905409625858052 [status:201 request:0.022s]\n",
            "INFO:elasticsearch:PUT https://kafka-homework3-5284633582.us-east-1.bonsaisearch.net:443/vaccinationstweets/_doc/1387905410003259393 [status:201 request:0.022s]\n",
            "INFO:elasticsearch:PUT https://kafka-homework3-5284633582.us-east-1.bonsaisearch.net:443/vaccinationstweets/_doc/1387905411802705930 [status:201 request:0.021s]\n",
            "INFO:elasticsearch:PUT https://kafka-homework3-5284633582.us-east-1.bonsaisearch.net:443/vaccinationstweets/_doc/1387905414088495106 [status:201 request:0.024s]\n"
          ],
          "name": "stderr"
        },
        {
          "output_type": "stream",
          "text": [
            "569\n",
            "570\n",
            "571\n",
            "572\n",
            "573\n",
            "574\n",
            "575\n",
            "576\n"
          ],
          "name": "stdout"
        },
        {
          "output_type": "stream",
          "text": [
            "INFO:elasticsearch:PUT https://kafka-homework3-5284633582.us-east-1.bonsaisearch.net:443/vaccinationstweets/_doc/1387905417674563584 [status:201 request:0.021s]\n",
            "INFO:elasticsearch:PUT https://kafka-homework3-5284633582.us-east-1.bonsaisearch.net:443/vaccinationstweets/_doc/1387905420921090048 [status:201 request:0.021s]\n",
            "INFO:elasticsearch:PUT https://kafka-homework3-5284633582.us-east-1.bonsaisearch.net:443/vaccinationstweets/_doc/1387905421093048322 [status:201 request:0.023s]\n",
            "INFO:elasticsearch:PUT https://kafka-homework3-5284633582.us-east-1.bonsaisearch.net:443/vaccinationstweets/_doc/1387905423852793858 [status:201 request:0.020s]\n",
            "INFO:elasticsearch:PUT https://kafka-homework3-5284633582.us-east-1.bonsaisearch.net:443/vaccinationstweets/_doc/1387905425102757889 [status:201 request:0.021s]\n",
            "INFO:elasticsearch:PUT https://kafka-homework3-5284633582.us-east-1.bonsaisearch.net:443/vaccinationstweets/_doc/1387905425731833867 [status:201 request:0.021s]\n",
            "INFO:elasticsearch:PUT https://kafka-homework3-5284633582.us-east-1.bonsaisearch.net:443/vaccinationstweets/_doc/1387905426830761984 [status:201 request:0.022s]\n",
            "INFO:elasticsearch:PUT https://kafka-homework3-5284633582.us-east-1.bonsaisearch.net:443/vaccinationstweets/_doc/1387905427011166211 [status:201 request:0.020s]\n"
          ],
          "name": "stderr"
        },
        {
          "output_type": "stream",
          "text": [
            "577\n",
            "578\n",
            "579\n",
            "580\n",
            "581\n",
            "582\n",
            "583\n",
            "584\n"
          ],
          "name": "stdout"
        },
        {
          "output_type": "stream",
          "text": [
            "INFO:elasticsearch:PUT https://kafka-homework3-5284633582.us-east-1.bonsaisearch.net:443/vaccinationstweets/_doc/1387905447399763977 [status:201 request:0.021s]\n",
            "INFO:elasticsearch:PUT https://kafka-homework3-5284633582.us-east-1.bonsaisearch.net:443/vaccinationstweets/_doc/1387905450851590145 [status:201 request:0.020s]\n",
            "INFO:elasticsearch:PUT https://kafka-homework3-5284633582.us-east-1.bonsaisearch.net:443/vaccinationstweets/_doc/1387905451061305345 [status:201 request:0.021s]\n",
            "INFO:elasticsearch:PUT https://kafka-homework3-5284633582.us-east-1.bonsaisearch.net:443/vaccinationstweets/_doc/1387905456673214465 [status:201 request:0.082s]\n",
            "INFO:elasticsearch:PUT https://kafka-homework3-5284633582.us-east-1.bonsaisearch.net:443/vaccinationstweets/_doc/1387905458153918464 [status:201 request:0.019s]\n",
            "INFO:elasticsearch:PUT https://kafka-homework3-5284633582.us-east-1.bonsaisearch.net:443/vaccinationstweets/_doc/1387905460506877955 [status:201 request:0.020s]\n",
            "INFO:elasticsearch:PUT https://kafka-homework3-5284633582.us-east-1.bonsaisearch.net:443/vaccinationstweets/_doc/1387905460951465985 [status:201 request:0.021s]\n"
          ],
          "name": "stderr"
        },
        {
          "output_type": "stream",
          "text": [
            "585\n",
            "586\n",
            "587\n",
            "588\n",
            "589\n",
            "590\n",
            "591\n"
          ],
          "name": "stdout"
        },
        {
          "output_type": "stream",
          "text": [
            "INFO:elasticsearch:PUT https://kafka-homework3-5284633582.us-east-1.bonsaisearch.net:443/vaccinationstweets/_doc/1387905462083874817 [status:201 request:0.021s]\n",
            "INFO:elasticsearch:PUT https://kafka-homework3-5284633582.us-east-1.bonsaisearch.net:443/vaccinationstweets/_doc/1387905462599921665 [status:201 request:0.020s]\n",
            "INFO:elasticsearch:PUT https://kafka-homework3-5284633582.us-east-1.bonsaisearch.net:443/vaccinationstweets/_doc/1387905465871384576 [status:201 request:0.020s]\n",
            "INFO:elasticsearch:PUT https://kafka-homework3-5284633582.us-east-1.bonsaisearch.net:443/vaccinationstweets/_doc/1387905470267002886 [status:201 request:0.019s]\n",
            "INFO:elasticsearch:PUT https://kafka-homework3-5284633582.us-east-1.bonsaisearch.net:443/vaccinationstweets/_doc/1387905470359347208 [status:201 request:0.021s]\n",
            "INFO:elasticsearch:PUT https://kafka-homework3-5284633582.us-east-1.bonsaisearch.net:443/vaccinationstweets/_doc/1387905471814774793 [status:201 request:0.022s]\n",
            "INFO:elasticsearch:PUT https://kafka-homework3-5284633582.us-east-1.bonsaisearch.net:443/vaccinationstweets/_doc/1387905475853889539 [status:201 request:0.022s]\n",
            "INFO:elasticsearch:PUT https://kafka-homework3-5284633582.us-east-1.bonsaisearch.net:443/vaccinationstweets/_doc/1387905478852694017 [status:201 request:0.021s]\n",
            "INFO:elasticsearch:PUT https://kafka-homework3-5284633582.us-east-1.bonsaisearch.net:443/vaccinationstweets/_doc/1387905487786713091 [status:201 request:0.020s]\n"
          ],
          "name": "stderr"
        },
        {
          "output_type": "stream",
          "text": [
            "592\n",
            "593\n",
            "594\n",
            "595\n",
            "596\n",
            "597\n",
            "598\n",
            "599\n",
            "600\n"
          ],
          "name": "stdout"
        },
        {
          "output_type": "stream",
          "text": [
            "INFO:elasticsearch:PUT https://kafka-homework3-5284633582.us-east-1.bonsaisearch.net:443/vaccinationstweets/_doc/1387905489791508483 [status:201 request:0.020s]\n",
            "INFO:elasticsearch:PUT https://kafka-homework3-5284633582.us-east-1.bonsaisearch.net:443/vaccinationstweets/_doc/1387905495000813568 [status:201 request:0.019s]\n",
            "INFO:elasticsearch:PUT https://kafka-homework3-5284633582.us-east-1.bonsaisearch.net:443/vaccinationstweets/_doc/1387905498473803776 [status:201 request:0.021s]\n",
            "INFO:elasticsearch:PUT https://kafka-homework3-5284633582.us-east-1.bonsaisearch.net:443/vaccinationstweets/_doc/1387905506031767552 [status:201 request:0.020s]\n",
            "INFO:elasticsearch:PUT https://kafka-homework3-5284633582.us-east-1.bonsaisearch.net:443/vaccinationstweets/_doc/1387905509022392323 [status:201 request:0.019s]\n",
            "INFO:elasticsearch:PUT https://kafka-homework3-5284633582.us-east-1.bonsaisearch.net:443/vaccinationstweets/_doc/1387905512033775617 [status:201 request:0.020s]\n",
            "INFO:elasticsearch:PUT https://kafka-homework3-5284633582.us-east-1.bonsaisearch.net:443/vaccinationstweets/_doc/1387905512344334341 [status:201 request:0.021s]\n",
            "INFO:elasticsearch:PUT https://kafka-homework3-5284633582.us-east-1.bonsaisearch.net:443/vaccinationstweets/_doc/1387905101893885958 [status:201 request:0.020s]\n",
            "INFO:elasticsearch:PUT https://kafka-homework3-5284633582.us-east-1.bonsaisearch.net:443/vaccinationstweets/_doc/1387905108311216136 [status:201 request:0.019s]\n"
          ],
          "name": "stderr"
        },
        {
          "output_type": "stream",
          "text": [
            "601\n",
            "602\n",
            "603\n",
            "604\n",
            "605\n",
            "606\n",
            "607\n",
            "608\n",
            "609\n"
          ],
          "name": "stdout"
        },
        {
          "output_type": "stream",
          "text": [
            "INFO:elasticsearch:PUT https://kafka-homework3-5284633582.us-east-1.bonsaisearch.net:443/vaccinationstweets/_doc/1387905111171559425 [status:201 request:0.022s]\n",
            "INFO:elasticsearch:PUT https://kafka-homework3-5284633582.us-east-1.bonsaisearch.net:443/vaccinationstweets/_doc/1387905111163240450 [status:201 request:0.020s]\n",
            "INFO:elasticsearch:PUT https://kafka-homework3-5284633582.us-east-1.bonsaisearch.net:443/vaccinationstweets/_doc/1387905118704656385 [status:201 request:0.020s]\n",
            "INFO:elasticsearch:PUT https://kafka-homework3-5284633582.us-east-1.bonsaisearch.net:443/vaccinationstweets/_doc/1387905122282266624 [status:201 request:0.022s]\n",
            "INFO:elasticsearch:PUT https://kafka-homework3-5284633582.us-east-1.bonsaisearch.net:443/vaccinationstweets/_doc/1387905134219472901 [status:201 request:0.019s]\n",
            "INFO:elasticsearch:PUT https://kafka-homework3-5284633582.us-east-1.bonsaisearch.net:443/vaccinationstweets/_doc/1387905137432309761 [status:201 request:0.020s]\n",
            "INFO:elasticsearch:PUT https://kafka-homework3-5284633582.us-east-1.bonsaisearch.net:443/vaccinationstweets/_doc/1387905140355604482 [status:201 request:0.020s]\n",
            "INFO:elasticsearch:PUT https://kafka-homework3-5284633582.us-east-1.bonsaisearch.net:443/vaccinationstweets/_doc/1387905144797401091 [status:201 request:0.019s]\n",
            "INFO:elasticsearch:PUT https://kafka-homework3-5284633582.us-east-1.bonsaisearch.net:443/vaccinationstweets/_doc/1387905145078489093 [status:201 request:0.021s]\n"
          ],
          "name": "stderr"
        },
        {
          "output_type": "stream",
          "text": [
            "610\n",
            "611\n",
            "612\n",
            "613\n",
            "614\n",
            "615\n",
            "616\n",
            "617\n",
            "618\n"
          ],
          "name": "stdout"
        },
        {
          "output_type": "stream",
          "text": [
            "INFO:elasticsearch:PUT https://kafka-homework3-5284633582.us-east-1.bonsaisearch.net:443/vaccinationstweets/_doc/1387905153898934272 [status:201 request:0.022s]\n",
            "INFO:elasticsearch:PUT https://kafka-homework3-5284633582.us-east-1.bonsaisearch.net:443/vaccinationstweets/_doc/1387905157489303553 [status:201 request:0.021s]\n",
            "INFO:elasticsearch:PUT https://kafka-homework3-5284633582.us-east-1.bonsaisearch.net:443/vaccinationstweets/_doc/1387905163541639168 [status:201 request:0.021s]\n",
            "INFO:elasticsearch:PUT https://kafka-homework3-5284633582.us-east-1.bonsaisearch.net:443/vaccinationstweets/_doc/1387905163797598214 [status:201 request:0.019s]\n",
            "INFO:elasticsearch:PUT https://kafka-homework3-5284633582.us-east-1.bonsaisearch.net:443/vaccinationstweets/_doc/1387905164237967362 [status:201 request:0.019s]\n",
            "INFO:elasticsearch:PUT https://kafka-homework3-5284633582.us-east-1.bonsaisearch.net:443/vaccinationstweets/_doc/1387905168260440064 [status:201 request:0.019s]\n",
            "INFO:elasticsearch:PUT https://kafka-homework3-5284633582.us-east-1.bonsaisearch.net:443/vaccinationstweets/_doc/1387905169615167488 [status:201 request:0.020s]\n",
            "INFO:elasticsearch:PUT https://kafka-homework3-5284633582.us-east-1.bonsaisearch.net:443/vaccinationstweets/_doc/1387905174409293824 [status:201 request:0.019s]\n",
            "INFO:elasticsearch:PUT https://kafka-homework3-5284633582.us-east-1.bonsaisearch.net:443/vaccinationstweets/_doc/1387905174979612677 [status:201 request:0.021s]\n"
          ],
          "name": "stderr"
        },
        {
          "output_type": "stream",
          "text": [
            "619\n",
            "620\n",
            "621\n",
            "622\n",
            "623\n",
            "624\n",
            "625\n",
            "626\n",
            "627\n"
          ],
          "name": "stdout"
        },
        {
          "output_type": "stream",
          "text": [
            "INFO:elasticsearch:PUT https://kafka-homework3-5284633582.us-east-1.bonsaisearch.net:443/vaccinationstweets/_doc/1387905176699297797 [status:201 request:0.025s]\n",
            "INFO:elasticsearch:PUT https://kafka-homework3-5284633582.us-east-1.bonsaisearch.net:443/vaccinationstweets/_doc/1387905177915559938 [status:201 request:0.021s]\n",
            "INFO:elasticsearch:PUT https://kafka-homework3-5284633582.us-east-1.bonsaisearch.net:443/vaccinationstweets/_doc/1387905180180664320 [status:201 request:0.020s]\n",
            "INFO:elasticsearch:PUT https://kafka-homework3-5284633582.us-east-1.bonsaisearch.net:443/vaccinationstweets/_doc/1387905184508960768 [status:201 request:0.021s]\n",
            "INFO:elasticsearch:PUT https://kafka-homework3-5284633582.us-east-1.bonsaisearch.net:443/vaccinationstweets/_doc/1387905187688419328 [status:201 request:0.024s]\n",
            "INFO:elasticsearch:PUT https://kafka-homework3-5284633582.us-east-1.bonsaisearch.net:443/vaccinationstweets/_doc/1387905188053151745 [status:201 request:0.023s]\n",
            "INFO:elasticsearch:PUT https://kafka-homework3-5284633582.us-east-1.bonsaisearch.net:443/vaccinationstweets/_doc/1387905189445836800 [status:201 request:0.025s]\n",
            "INFO:elasticsearch:PUT https://kafka-homework3-5284633582.us-east-1.bonsaisearch.net:443/vaccinationstweets/_doc/1387905192704741386 [status:201 request:0.020s]\n",
            "INFO:elasticsearch:PUT https://kafka-homework3-5284633582.us-east-1.bonsaisearch.net:443/vaccinationstweets/_doc/1387905194013364232 [status:201 request:0.022s]\n"
          ],
          "name": "stderr"
        },
        {
          "output_type": "stream",
          "text": [
            "628\n",
            "629\n",
            "630\n",
            "631\n",
            "632\n",
            "633\n",
            "634\n",
            "635\n",
            "636"
          ],
          "name": "stdout"
        },
        {
          "output_type": "stream",
          "text": [
            "INFO:elasticsearch:PUT https://kafka-homework3-5284633582.us-east-1.bonsaisearch.net:443/vaccinationstweets/_doc/1387905205782581249 [status:201 request:0.021s]\n",
            "INFO:elasticsearch:PUT https://kafka-homework3-5284633582.us-east-1.bonsaisearch.net:443/vaccinationstweets/_doc/1387905206281715712 [status:201 request:0.022s]\n",
            "INFO:elasticsearch:PUT https://kafka-homework3-5284633582.us-east-1.bonsaisearch.net:443/vaccinationstweets/_doc/1387905222094245888 [status:201 request:0.021s]\n",
            "INFO:elasticsearch:PUT https://kafka-homework3-5284633582.us-east-1.bonsaisearch.net:443/vaccinationstweets/_doc/1387905228658388994 [status:201 request:0.021s]\n",
            "INFO:elasticsearch:PUT https://kafka-homework3-5284633582.us-east-1.bonsaisearch.net:443/vaccinationstweets/_doc/1387905229455302659 [status:201 request:0.021s]\n",
            "INFO:elasticsearch:PUT https://kafka-homework3-5284633582.us-east-1.bonsaisearch.net:443/vaccinationstweets/_doc/1387905234782068738 [status:201 request:0.020s]\n",
            "INFO:elasticsearch:PUT https://kafka-homework3-5284633582.us-east-1.bonsaisearch.net:443/vaccinationstweets/_doc/1387905238045106176 [status:201 request:0.020s]\n"
          ],
          "name": "stderr"
        },
        {
          "output_type": "stream",
          "text": [
            "\n",
            "637\n",
            "638\n",
            "639\n",
            "640\n",
            "641\n",
            "642\n",
            "643\n"
          ],
          "name": "stdout"
        },
        {
          "output_type": "stream",
          "text": [
            "INFO:elasticsearch:PUT https://kafka-homework3-5284633582.us-east-1.bonsaisearch.net:443/vaccinationstweets/_doc/1387905246828060672 [status:201 request:0.025s]\n",
            "INFO:elasticsearch:PUT https://kafka-homework3-5284633582.us-east-1.bonsaisearch.net:443/vaccinationstweets/_doc/1387905252448366592 [status:201 request:0.025s]\n",
            "INFO:elasticsearch:PUT https://kafka-homework3-5284633582.us-east-1.bonsaisearch.net:443/vaccinationstweets/_doc/1387905253215928322 [status:201 request:0.020s]\n",
            "INFO:elasticsearch:PUT https://kafka-homework3-5284633582.us-east-1.bonsaisearch.net:443/vaccinationstweets/_doc/1387905256378429443 [status:201 request:0.023s]\n",
            "INFO:elasticsearch:PUT https://kafka-homework3-5284633582.us-east-1.bonsaisearch.net:443/vaccinationstweets/_doc/1387905256525205504 [status:201 request:0.025s]\n",
            "INFO:elasticsearch:PUT https://kafka-homework3-5284633582.us-east-1.bonsaisearch.net:443/vaccinationstweets/_doc/1387905265211781120 [status:201 request:0.020s]\n",
            "INFO:elasticsearch:PUT https://kafka-homework3-5284633582.us-east-1.bonsaisearch.net:443/vaccinationstweets/_doc/1387905266901979136 [status:201 request:0.020s]\n",
            "INFO:elasticsearch:PUT https://kafka-homework3-5284633582.us-east-1.bonsaisearch.net:443/vaccinationstweets/_doc/1387905267237588992 [status:201 request:0.021s]\n",
            "INFO:elasticsearch:PUT https://kafka-homework3-5284633582.us-east-1.bonsaisearch.net:443/vaccinationstweets/_doc/1387905271696142342 [status:201 request:0.021s]\n"
          ],
          "name": "stderr"
        },
        {
          "output_type": "stream",
          "text": [
            "644\n",
            "645\n",
            "646\n",
            "647\n",
            "648\n",
            "649\n",
            "650\n",
            "651\n"
          ],
          "name": "stdout"
        },
        {
          "output_type": "stream",
          "text": [
            "INFO:elasticsearch:PUT https://kafka-homework3-5284633582.us-east-1.bonsaisearch.net:443/vaccinationstweets/_doc/1387905275064061955 [status:201 request:0.020s]\n",
            "INFO:elasticsearch:PUT https://kafka-homework3-5284633582.us-east-1.bonsaisearch.net:443/vaccinationstweets/_doc/1387905282135764995 [status:201 request:0.094s]\n",
            "INFO:elasticsearch:PUT https://kafka-homework3-5284633582.us-east-1.bonsaisearch.net:443/vaccinationstweets/_doc/1387905283826016258 [status:201 request:0.019s]\n",
            "INFO:elasticsearch:PUT https://kafka-homework3-5284633582.us-east-1.bonsaisearch.net:443/vaccinationstweets/_doc/1387905285709303809 [status:201 request:0.020s]\n",
            "INFO:elasticsearch:PUT https://kafka-homework3-5284633582.us-east-1.bonsaisearch.net:443/vaccinationstweets/_doc/1387905295771447297 [status:201 request:0.021s]\n"
          ],
          "name": "stderr"
        },
        {
          "output_type": "stream",
          "text": [
            "652\n",
            "653\n",
            "654\n",
            "655\n",
            "656\n",
            "657\n"
          ],
          "name": "stdout"
        },
        {
          "output_type": "stream",
          "text": [
            "INFO:elasticsearch:PUT https://kafka-homework3-5284633582.us-east-1.bonsaisearch.net:443/vaccinationstweets/_doc/1387905295972720641 [status:201 request:0.020s]\n",
            "INFO:elasticsearch:PUT https://kafka-homework3-5284633582.us-east-1.bonsaisearch.net:443/vaccinationstweets/_doc/1387905302956187648 [status:201 request:0.022s]\n",
            "INFO:elasticsearch:PUT https://kafka-homework3-5284633582.us-east-1.bonsaisearch.net:443/vaccinationstweets/_doc/1387905307586842633 [status:201 request:0.020s]\n",
            "INFO:elasticsearch:PUT https://kafka-homework3-5284633582.us-east-1.bonsaisearch.net:443/vaccinationstweets/_doc/1387905310824681474 [status:201 request:0.020s]\n",
            "INFO:elasticsearch:PUT https://kafka-homework3-5284633582.us-east-1.bonsaisearch.net:443/vaccinationstweets/_doc/1387905317275643904 [status:201 request:0.020s]\n",
            "INFO:elasticsearch:PUT https://kafka-homework3-5284633582.us-east-1.bonsaisearch.net:443/vaccinationstweets/_doc/1387905322380050434 [status:201 request:0.030s]\n",
            "INFO:elasticsearch:PUT https://kafka-homework3-5284633582.us-east-1.bonsaisearch.net:443/vaccinationstweets/_doc/1387905323025973256 [status:201 request:0.020s]\n",
            "INFO:elasticsearch:PUT https://kafka-homework3-5284633582.us-east-1.bonsaisearch.net:443/vaccinationstweets/_doc/1387905327941754884 [status:201 request:0.020s]\n",
            "INFO:elasticsearch:PUT https://kafka-homework3-5284633582.us-east-1.bonsaisearch.net:443/vaccinationstweets/_doc/1387905329296560131 [status:201 request:0.022s]\n"
          ],
          "name": "stderr"
        },
        {
          "output_type": "stream",
          "text": [
            "658\n",
            "659\n",
            "660\n",
            "661\n",
            "662\n",
            "663\n",
            "664\n",
            "665\n"
          ],
          "name": "stdout"
        },
        {
          "output_type": "stream",
          "text": [
            "INFO:elasticsearch:PUT https://kafka-homework3-5284633582.us-east-1.bonsaisearch.net:443/vaccinationstweets/_doc/1387905334849818626 [status:201 request:0.020s]\n",
            "INFO:elasticsearch:PUT https://kafka-homework3-5284633582.us-east-1.bonsaisearch.net:443/vaccinationstweets/_doc/1387905335210528774 [status:201 request:0.019s]\n",
            "INFO:elasticsearch:PUT https://kafka-homework3-5284633582.us-east-1.bonsaisearch.net:443/vaccinationstweets/_doc/1387905336057778183 [status:201 request:0.020s]\n",
            "INFO:elasticsearch:PUT https://kafka-homework3-5284633582.us-east-1.bonsaisearch.net:443/vaccinationstweets/_doc/1387905336523300864 [status:201 request:0.024s]\n",
            "INFO:elasticsearch:PUT https://kafka-homework3-5284633582.us-east-1.bonsaisearch.net:443/vaccinationstweets/_doc/1387905338423250948 [status:201 request:0.020s]\n",
            "INFO:elasticsearch:PUT https://kafka-homework3-5284633582.us-east-1.bonsaisearch.net:443/vaccinationstweets/_doc/1387905341388636163 [status:201 request:0.022s]\n",
            "INFO:elasticsearch:PUT https://kafka-homework3-5284633582.us-east-1.bonsaisearch.net:443/vaccinationstweets/_doc/1387905356215508992 [status:201 request:0.021s]\n",
            "INFO:elasticsearch:PUT https://kafka-homework3-5284633582.us-east-1.bonsaisearch.net:443/vaccinationstweets/_doc/1387905360736964614 [status:201 request:0.021s]\n"
          ],
          "name": "stderr"
        },
        {
          "output_type": "stream",
          "text": [
            "666\n",
            "667\n",
            "668\n",
            "669\n",
            "670\n",
            "671\n",
            "672\n",
            "673\n",
            "674\n"
          ],
          "name": "stdout"
        },
        {
          "output_type": "stream",
          "text": [
            "INFO:elasticsearch:PUT https://kafka-homework3-5284633582.us-east-1.bonsaisearch.net:443/vaccinationstweets/_doc/1387905362968424448 [status:201 request:0.019s]\n",
            "INFO:elasticsearch:PUT https://kafka-homework3-5284633582.us-east-1.bonsaisearch.net:443/vaccinationstweets/_doc/1387905363849224198 [status:201 request:0.020s]\n",
            "INFO:elasticsearch:PUT https://kafka-homework3-5284633582.us-east-1.bonsaisearch.net:443/vaccinationstweets/_doc/1387905370895572992 [status:201 request:0.019s]\n",
            "INFO:elasticsearch:PUT https://kafka-homework3-5284633582.us-east-1.bonsaisearch.net:443/vaccinationstweets/_doc/1387905370979409920 [status:201 request:0.021s]\n",
            "INFO:elasticsearch:PUT https://kafka-homework3-5284633582.us-east-1.bonsaisearch.net:443/vaccinationstweets/_doc/1387905371063345159 [status:201 request:0.019s]\n",
            "INFO:elasticsearch:PUT https://kafka-homework3-5284633582.us-east-1.bonsaisearch.net:443/vaccinationstweets/_doc/1387905376348213250 [status:201 request:0.020s]\n",
            "INFO:elasticsearch:PUT https://kafka-homework3-5284633582.us-east-1.bonsaisearch.net:443/vaccinationstweets/_doc/1387905379158351873 [status:201 request:0.023s]\n",
            "INFO:elasticsearch:PUT https://kafka-homework3-5284633582.us-east-1.bonsaisearch.net:443/vaccinationstweets/_doc/1387905379745607685 [status:201 request:0.021s]\n",
            "INFO:elasticsearch:PUT https://kafka-homework3-5284633582.us-east-1.bonsaisearch.net:443/vaccinationstweets/_doc/1387905382283087875 [status:201 request:0.023s]\n"
          ],
          "name": "stderr"
        },
        {
          "output_type": "stream",
          "text": [
            "675\n",
            "676\n",
            "677\n",
            "678\n",
            "679\n",
            "680\n",
            "681\n",
            "682\n",
            "683\n"
          ],
          "name": "stdout"
        },
        {
          "output_type": "stream",
          "text": [
            "INFO:elasticsearch:PUT https://kafka-homework3-5284633582.us-east-1.bonsaisearch.net:443/vaccinationstweets/_doc/1387905386771062785 [status:201 request:0.021s]\n",
            "INFO:elasticsearch:PUT https://kafka-homework3-5284633582.us-east-1.bonsaisearch.net:443/vaccinationstweets/_doc/1387905387106471939 [status:201 request:0.019s]\n",
            "INFO:elasticsearch:PUT https://kafka-homework3-5284633582.us-east-1.bonsaisearch.net:443/vaccinationstweets/_doc/1387905394517946372 [status:201 request:0.019s]\n",
            "INFO:elasticsearch:PUT https://kafka-homework3-5284633582.us-east-1.bonsaisearch.net:443/vaccinationstweets/_doc/1387905394853351426 [status:201 request:0.020s]\n",
            "INFO:elasticsearch:PUT https://kafka-homework3-5284633582.us-east-1.bonsaisearch.net:443/vaccinationstweets/_doc/1387905395046371332 [status:201 request:0.020s]\n",
            "INFO:elasticsearch:PUT https://kafka-homework3-5284633582.us-east-1.bonsaisearch.net:443/vaccinationstweets/_doc/1387905399630667776 [status:201 request:0.022s]\n",
            "INFO:elasticsearch:PUT https://kafka-homework3-5284633582.us-east-1.bonsaisearch.net:443/vaccinationstweets/_doc/1387905402898026496 [status:201 request:0.020s]\n",
            "INFO:elasticsearch:PUT https://kafka-homework3-5284633582.us-east-1.bonsaisearch.net:443/vaccinationstweets/_doc/1387905412754780160 [status:201 request:0.021s]\n",
            "INFO:elasticsearch:PUT https://kafka-homework3-5284633582.us-east-1.bonsaisearch.net:443/vaccinationstweets/_doc/1387905413476147201 [status:201 request:0.019s]\n"
          ],
          "name": "stderr"
        },
        {
          "output_type": "stream",
          "text": [
            "684\n",
            "685\n",
            "686\n",
            "687\n",
            "688\n",
            "689\n",
            "690\n",
            "691\n",
            "692\n"
          ],
          "name": "stdout"
        },
        {
          "output_type": "stream",
          "text": [
            "INFO:elasticsearch:PUT https://kafka-homework3-5284633582.us-east-1.bonsaisearch.net:443/vaccinationstweets/_doc/1387905416038961157 [status:201 request:0.020s]\n",
            "INFO:elasticsearch:PUT https://kafka-homework3-5284633582.us-east-1.bonsaisearch.net:443/vaccinationstweets/_doc/1387905417792131074 [status:201 request:0.019s]\n",
            "INFO:elasticsearch:PUT https://kafka-homework3-5284633582.us-east-1.bonsaisearch.net:443/vaccinationstweets/_doc/1387905418232532992 [status:201 request:0.021s]\n",
            "INFO:elasticsearch:PUT https://kafka-homework3-5284633582.us-east-1.bonsaisearch.net:443/vaccinationstweets/_doc/1387905431830294528 [status:201 request:0.102s]\n",
            "INFO:elasticsearch:PUT https://kafka-homework3-5284633582.us-east-1.bonsaisearch.net:443/vaccinationstweets/_doc/1387905432086269960 [status:201 request:0.020s]\n",
            "INFO:elasticsearch:PUT https://kafka-homework3-5284633582.us-east-1.bonsaisearch.net:443/vaccinationstweets/_doc/1387905433889918978 [status:201 request:0.020s]\n"
          ],
          "name": "stderr"
        },
        {
          "output_type": "stream",
          "text": [
            "693\n",
            "694\n",
            "695\n",
            "696\n",
            "697\n",
            "698\n"
          ],
          "name": "stdout"
        },
        {
          "output_type": "stream",
          "text": [
            "INFO:elasticsearch:PUT https://kafka-homework3-5284633582.us-east-1.bonsaisearch.net:443/vaccinationstweets/_doc/1387905436062519299 [status:201 request:0.021s]\n",
            "INFO:elasticsearch:PUT https://kafka-homework3-5284633582.us-east-1.bonsaisearch.net:443/vaccinationstweets/_doc/1387905444321107970 [status:201 request:0.022s]\n",
            "INFO:elasticsearch:PUT https://kafka-homework3-5284633582.us-east-1.bonsaisearch.net:443/vaccinationstweets/_doc/1387905445050732546 [status:201 request:0.020s]\n",
            "INFO:elasticsearch:PUT https://kafka-homework3-5284633582.us-east-1.bonsaisearch.net:443/vaccinationstweets/_doc/1387905453791715328 [status:201 request:0.023s]\n",
            "INFO:elasticsearch:PUT https://kafka-homework3-5284633582.us-east-1.bonsaisearch.net:443/vaccinationstweets/_doc/1387905455750455296 [status:201 request:0.020s]\n",
            "INFO:elasticsearch:PUT https://kafka-homework3-5284633582.us-east-1.bonsaisearch.net:443/vaccinationstweets/_doc/1387905456148910083 [status:201 request:0.019s]\n",
            "INFO:elasticsearch:PUT https://kafka-homework3-5284633582.us-east-1.bonsaisearch.net:443/vaccinationstweets/_doc/1387905456899825672 [status:201 request:0.022s]\n",
            "INFO:elasticsearch:PUT https://kafka-homework3-5284633582.us-east-1.bonsaisearch.net:443/vaccinationstweets/_doc/1387905462100705280 [status:201 request:0.021s]\n",
            "INFO:elasticsearch:PUT https://kafka-homework3-5284633582.us-east-1.bonsaisearch.net:443/vaccinationstweets/_doc/1387905462981513216 [status:201 request:0.021s]\n"
          ],
          "name": "stderr"
        },
        {
          "output_type": "stream",
          "text": [
            "699\n",
            "700\n",
            "701\n",
            "702\n",
            "703\n",
            "704\n",
            "705\n",
            "706\n",
            "707\n"
          ],
          "name": "stdout"
        },
        {
          "output_type": "stream",
          "text": [
            "INFO:elasticsearch:PUT https://kafka-homework3-5284633582.us-east-1.bonsaisearch.net:443/vaccinationstweets/_doc/1387905462998290433 [status:201 request:0.022s]\n",
            "INFO:elasticsearch:PUT https://kafka-homework3-5284633582.us-east-1.bonsaisearch.net:443/vaccinationstweets/_doc/1387905464969564162 [status:201 request:0.022s]\n",
            "INFO:elasticsearch:PUT https://kafka-homework3-5284633582.us-east-1.bonsaisearch.net:443/vaccinationstweets/_doc/1387905467431620608 [status:201 request:0.020s]\n",
            "INFO:elasticsearch:PUT https://kafka-homework3-5284633582.us-east-1.bonsaisearch.net:443/vaccinationstweets/_doc/1387905468341886978 [status:201 request:0.020s]\n",
            "INFO:elasticsearch:PUT https://kafka-homework3-5284633582.us-east-1.bonsaisearch.net:443/vaccinationstweets/_doc/1387905471282139139 [status:201 request:0.022s]\n",
            "INFO:elasticsearch:PUT https://kafka-homework3-5284633582.us-east-1.bonsaisearch.net:443/vaccinationstweets/_doc/1387905477531643904 [status:201 request:0.020s]\n",
            "INFO:elasticsearch:PUT https://kafka-homework3-5284633582.us-east-1.bonsaisearch.net:443/vaccinationstweets/_doc/1387905478118625285 [status:201 request:0.021s]\n",
            "INFO:elasticsearch:PUT https://kafka-homework3-5284633582.us-east-1.bonsaisearch.net:443/vaccinationstweets/_doc/1387905478202638338 [status:201 request:0.021s]\n",
            "INFO:elasticsearch:PUT https://kafka-homework3-5284633582.us-east-1.bonsaisearch.net:443/vaccinationstweets/_doc/1387905481792921600 [status:201 request:0.023s]\n"
          ],
          "name": "stderr"
        },
        {
          "output_type": "stream",
          "text": [
            "708\n",
            "709\n",
            "710\n",
            "711\n",
            "712\n",
            "713\n",
            "714\n",
            "715\n",
            "716\n"
          ],
          "name": "stdout"
        },
        {
          "output_type": "stream",
          "text": [
            "INFO:elasticsearch:PUT https://kafka-homework3-5284633582.us-east-1.bonsaisearch.net:443/vaccinationstweets/_doc/1387905488642134017 [status:201 request:0.021s]\n",
            "INFO:elasticsearch:PUT https://kafka-homework3-5284633582.us-east-1.bonsaisearch.net:443/vaccinationstweets/_doc/1387905492798689284 [status:201 request:0.022s]\n",
            "INFO:elasticsearch:PUT https://kafka-homework3-5284633582.us-east-1.bonsaisearch.net:443/vaccinationstweets/_doc/1387905494766039040 [status:201 request:0.019s]\n",
            "INFO:elasticsearch:PUT https://kafka-homework3-5284633582.us-east-1.bonsaisearch.net:443/vaccinationstweets/_doc/1387905498452840449 [status:201 request:0.022s]\n",
            "INFO:elasticsearch:PUT https://kafka-homework3-5284633582.us-east-1.bonsaisearch.net:443/vaccinationstweets/_doc/1387905501103411201 [status:201 request:0.020s]\n",
            "INFO:elasticsearch:PUT https://kafka-homework3-5284633582.us-east-1.bonsaisearch.net:443/vaccinationstweets/_doc/1387905511085981696 [status:201 request:0.020s]\n",
            "INFO:elasticsearch:PUT https://kafka-homework3-5284633582.us-east-1.bonsaisearch.net:443/vaccinationstweets/_doc/1387905233796440066 [status:201 request:0.020s]\n",
            "INFO:elasticsearch:PUT https://kafka-homework3-5284633582.us-east-1.bonsaisearch.net:443/vaccinationstweets/_doc/1387905234261864451 [status:201 request:0.021s]\n",
            "INFO:elasticsearch:PUT https://kafka-homework3-5284633582.us-east-1.bonsaisearch.net:443/vaccinationstweets/_doc/1387905237495734276 [status:201 request:0.022s]\n"
          ],
          "name": "stderr"
        },
        {
          "output_type": "stream",
          "text": [
            "717\n",
            "718\n",
            "719\n",
            "720\n",
            "721\n",
            "722\n",
            "723\n",
            "724\n",
            "725\n"
          ],
          "name": "stdout"
        },
        {
          "output_type": "stream",
          "text": [
            "INFO:elasticsearch:PUT https://kafka-homework3-5284633582.us-east-1.bonsaisearch.net:443/vaccinationstweets/_doc/1387905240788193283 [status:201 request:0.023s]\n",
            "INFO:elasticsearch:PUT https://kafka-homework3-5284633582.us-east-1.bonsaisearch.net:443/vaccinationstweets/_doc/1387905241761280000 [status:201 request:0.021s]\n",
            "INFO:elasticsearch:PUT https://kafka-homework3-5284633582.us-east-1.bonsaisearch.net:443/vaccinationstweets/_doc/1387905244323979264 [status:201 request:0.024s]\n",
            "INFO:elasticsearch:PUT https://kafka-homework3-5284633582.us-east-1.bonsaisearch.net:443/vaccinationstweets/_doc/1387905244777041924 [status:201 request:0.021s]\n",
            "INFO:elasticsearch:PUT https://kafka-homework3-5284633582.us-east-1.bonsaisearch.net:443/vaccinationstweets/_doc/1387905247964712963 [status:201 request:0.034s]\n",
            "INFO:elasticsearch:PUT https://kafka-homework3-5284633582.us-east-1.bonsaisearch.net:443/vaccinationstweets/_doc/1387905252066832384 [status:201 request:0.023s]\n",
            "INFO:elasticsearch:PUT https://kafka-homework3-5284633582.us-east-1.bonsaisearch.net:443/vaccinationstweets/_doc/1387905253186605067 [status:201 request:0.023s]\n",
            "INFO:elasticsearch:PUT https://kafka-homework3-5284633582.us-east-1.bonsaisearch.net:443/vaccinationstweets/_doc/1387905254520508416 [status:201 request:0.020s]\n"
          ],
          "name": "stderr"
        },
        {
          "output_type": "stream",
          "text": [
            "726\n",
            "727\n",
            "728\n",
            "729\n",
            "730\n",
            "731\n",
            "732\n",
            "733\n"
          ],
          "name": "stdout"
        },
        {
          "output_type": "stream",
          "text": [
            "INFO:elasticsearch:PUT https://kafka-homework3-5284633582.us-east-1.bonsaisearch.net:443/vaccinationstweets/_doc/1387905264788013057 [status:201 request:0.021s]\n",
            "INFO:elasticsearch:PUT https://kafka-homework3-5284633582.us-east-1.bonsaisearch.net:443/vaccinationstweets/_doc/1387905264901230592 [status:201 request:0.022s]\n",
            "INFO:elasticsearch:PUT https://kafka-homework3-5284633582.us-east-1.bonsaisearch.net:443/vaccinationstweets/_doc/1387905268307087363 [status:201 request:0.020s]\n",
            "INFO:elasticsearch:PUT https://kafka-homework3-5284633582.us-east-1.bonsaisearch.net:443/vaccinationstweets/_doc/1387905269993254918 [status:201 request:0.025s]\n",
            "INFO:elasticsearch:PUT https://kafka-homework3-5284633582.us-east-1.bonsaisearch.net:443/vaccinationstweets/_doc/1387905270420959233 [status:201 request:0.020s]\n",
            "INFO:elasticsearch:PUT https://kafka-homework3-5284633582.us-east-1.bonsaisearch.net:443/vaccinationstweets/_doc/1387905271423455238 [status:201 request:0.023s]\n",
            "INFO:elasticsearch:PUT https://kafka-homework3-5284633582.us-east-1.bonsaisearch.net:443/vaccinationstweets/_doc/1387905279153426434 [status:201 request:0.022s]\n",
            "INFO:elasticsearch:PUT https://kafka-homework3-5284633582.us-east-1.bonsaisearch.net:443/vaccinationstweets/_doc/1387905279686234122 [status:201 request:0.020s]\n",
            "INFO:elasticsearch:PUT https://kafka-homework3-5284633582.us-east-1.bonsaisearch.net:443/vaccinationstweets/_doc/1387905286254510083 [status:201 request:0.020s]\n"
          ],
          "name": "stderr"
        },
        {
          "output_type": "stream",
          "text": [
            "734\n",
            "735\n",
            "736\n",
            "737\n",
            "738\n",
            "739\n",
            "740\n",
            "741\n",
            "742\n"
          ],
          "name": "stdout"
        },
        {
          "output_type": "stream",
          "text": [
            "INFO:elasticsearch:PUT https://kafka-homework3-5284633582.us-east-1.bonsaisearch.net:443/vaccinationstweets/_doc/1387905295754567680 [status:201 request:0.020s]\n",
            "INFO:elasticsearch:PUT https://kafka-homework3-5284633582.us-east-1.bonsaisearch.net:443/vaccinationstweets/_doc/1387905300510830594 [status:201 request:0.025s]\n",
            "INFO:elasticsearch:PUT https://kafka-homework3-5284633582.us-east-1.bonsaisearch.net:443/vaccinationstweets/_doc/1387905300372545536 [status:201 request:0.020s]\n",
            "INFO:elasticsearch:PUT https://kafka-homework3-5284633582.us-east-1.bonsaisearch.net:443/vaccinationstweets/_doc/1387905304747077632 [status:201 request:0.027s]\n",
            "INFO:elasticsearch:PUT https://kafka-homework3-5284633582.us-east-1.bonsaisearch.net:443/vaccinationstweets/_doc/1387905308081655809 [status:201 request:0.021s]\n",
            "INFO:elasticsearch:PUT https://kafka-homework3-5284633582.us-east-1.bonsaisearch.net:443/vaccinationstweets/_doc/1387905309998522374 [status:201 request:0.021s]\n",
            "INFO:elasticsearch:PUT https://kafka-homework3-5284633582.us-east-1.bonsaisearch.net:443/vaccinationstweets/_doc/1387905310363422720 [status:201 request:0.020s]\n",
            "INFO:elasticsearch:PUT https://kafka-homework3-5284633582.us-east-1.bonsaisearch.net:443/vaccinationstweets/_doc/1387905314620514304 [status:201 request:0.023s]\n",
            "INFO:elasticsearch:PUT https://kafka-homework3-5284633582.us-east-1.bonsaisearch.net:443/vaccinationstweets/_doc/1387905318051516417 [status:201 request:0.019s]\n"
          ],
          "name": "stderr"
        },
        {
          "output_type": "stream",
          "text": [
            "743\n",
            "744\n",
            "745\n",
            "746\n",
            "747\n",
            "748\n",
            "749\n",
            "750\n",
            "751\n"
          ],
          "name": "stdout"
        },
        {
          "output_type": "stream",
          "text": [
            "INFO:elasticsearch:PUT https://kafka-homework3-5284633582.us-east-1.bonsaisearch.net:443/vaccinationstweets/_doc/1387905318118727681 [status:201 request:0.022s]\n",
            "INFO:elasticsearch:PUT https://kafka-homework3-5284633582.us-east-1.bonsaisearch.net:443/vaccinationstweets/_doc/1387905319683166212 [status:201 request:0.019s]\n",
            "INFO:elasticsearch:PUT https://kafka-homework3-5284633582.us-east-1.bonsaisearch.net:443/vaccinationstweets/_doc/1387905322157752322 [status:201 request:0.021s]\n",
            "INFO:elasticsearch:PUT https://kafka-homework3-5284633582.us-east-1.bonsaisearch.net:443/vaccinationstweets/_doc/1387905322111541248 [status:201 request:0.020s]\n",
            "INFO:elasticsearch:PUT https://kafka-homework3-5284633582.us-east-1.bonsaisearch.net:443/vaccinationstweets/_doc/1387905324900921350 [status:201 request:0.020s]\n",
            "INFO:elasticsearch:PUT https://kafka-homework3-5284633582.us-east-1.bonsaisearch.net:443/vaccinationstweets/_doc/1387905331192336391 [status:201 request:0.020s]\n",
            "INFO:elasticsearch:PUT https://kafka-homework3-5284633582.us-east-1.bonsaisearch.net:443/vaccinationstweets/_doc/1387905335483043843 [status:201 request:0.022s]\n",
            "INFO:elasticsearch:PUT https://kafka-homework3-5284633582.us-east-1.bonsaisearch.net:443/vaccinationstweets/_doc/1387905335856304129 [status:201 request:0.022s]\n",
            "INFO:elasticsearch:PUT https://kafka-homework3-5284633582.us-east-1.bonsaisearch.net:443/vaccinationstweets/_doc/1387905344517586949 [status:201 request:0.021s]\n"
          ],
          "name": "stderr"
        },
        {
          "output_type": "stream",
          "text": [
            "752\n",
            "753\n",
            "754\n",
            "755\n",
            "756\n",
            "757\n",
            "758\n",
            "759\n",
            "760\n"
          ],
          "name": "stdout"
        },
        {
          "output_type": "stream",
          "text": [
            "INFO:elasticsearch:PUT https://kafka-homework3-5284633582.us-east-1.bonsaisearch.net:443/vaccinationstweets/_doc/1387905347239792650 [status:201 request:0.020s]\n",
            "INFO:elasticsearch:PUT https://kafka-homework3-5284633582.us-east-1.bonsaisearch.net:443/vaccinationstweets/_doc/1387905351035494401 [status:201 request:0.021s]\n",
            "INFO:elasticsearch:PUT https://kafka-homework3-5284633582.us-east-1.bonsaisearch.net:443/vaccinationstweets/_doc/1387905354005049347 [status:201 request:0.020s]\n",
            "INFO:elasticsearch:PUT https://kafka-homework3-5284633582.us-east-1.bonsaisearch.net:443/vaccinationstweets/_doc/1387905356144078848 [status:201 request:0.020s]\n",
            "INFO:elasticsearch:PUT https://kafka-homework3-5284633582.us-east-1.bonsaisearch.net:443/vaccinationstweets/_doc/1387905356236566528 [status:201 request:0.020s]\n",
            "INFO:elasticsearch:PUT https://kafka-homework3-5284633582.us-east-1.bonsaisearch.net:443/vaccinationstweets/_doc/1387905365019435015 [status:201 request:0.020s]\n",
            "INFO:elasticsearch:PUT https://kafka-homework3-5284633582.us-east-1.bonsaisearch.net:443/vaccinationstweets/_doc/1387905372019597314 [status:201 request:0.021s]\n",
            "INFO:elasticsearch:PUT https://kafka-homework3-5284633582.us-east-1.bonsaisearch.net:443/vaccinationstweets/_doc/1387905376436166656 [status:201 request:0.020s]\n",
            "INFO:elasticsearch:PUT https://kafka-homework3-5284633582.us-east-1.bonsaisearch.net:443/vaccinationstweets/_doc/1387905377761517570 [status:201 request:0.021s]\n"
          ],
          "name": "stderr"
        },
        {
          "output_type": "stream",
          "text": [
            "761\n",
            "762\n",
            "763\n",
            "764\n",
            "765\n",
            "766\n",
            "767\n",
            "768\n",
            "769\n"
          ],
          "name": "stdout"
        },
        {
          "output_type": "stream",
          "text": [
            "INFO:elasticsearch:PUT https://kafka-homework3-5284633582.us-east-1.bonsaisearch.net:443/vaccinationstweets/_doc/1387905382945894408 [status:201 request:0.021s]\n",
            "INFO:elasticsearch:PUT https://kafka-homework3-5284633582.us-east-1.bonsaisearch.net:443/vaccinationstweets/_doc/1387905385823047681 [status:201 request:0.022s]\n",
            "INFO:elasticsearch:PUT https://kafka-homework3-5284633582.us-east-1.bonsaisearch.net:443/vaccinationstweets/_doc/1387905387605610496 [status:201 request:0.022s]\n",
            "INFO:elasticsearch:PUT https://kafka-homework3-5284633582.us-east-1.bonsaisearch.net:443/vaccinationstweets/_doc/1387905398309523457 [status:201 request:0.020s]\n",
            "INFO:elasticsearch:PUT https://kafka-homework3-5284633582.us-east-1.bonsaisearch.net:443/vaccinationstweets/_doc/1387905402864431105 [status:201 request:0.021s]\n",
            "INFO:elasticsearch:PUT https://kafka-homework3-5284633582.us-east-1.bonsaisearch.net:443/vaccinationstweets/_doc/1387905408556097536 [status:201 request:0.022s]\n",
            "INFO:elasticsearch:PUT https://kafka-homework3-5284633582.us-east-1.bonsaisearch.net:443/vaccinationstweets/_doc/1387905407738204168 [status:201 request:0.021s]\n",
            "INFO:elasticsearch:PUT https://kafka-homework3-5284633582.us-east-1.bonsaisearch.net:443/vaccinationstweets/_doc/1387905411232239617 [status:201 request:0.021s]\n",
            "INFO:elasticsearch:PUT https://kafka-homework3-5284633582.us-east-1.bonsaisearch.net:443/vaccinationstweets/_doc/1387905412435951617 [status:201 request:0.023s]\n"
          ],
          "name": "stderr"
        },
        {
          "output_type": "stream",
          "text": [
            "770\n",
            "771\n",
            "772\n",
            "773\n",
            "774\n",
            "775\n",
            "776\n",
            "777\n",
            "778\n"
          ],
          "name": "stdout"
        },
        {
          "output_type": "stream",
          "text": [
            "INFO:elasticsearch:PUT https://kafka-homework3-5284633582.us-east-1.bonsaisearch.net:443/vaccinationstweets/_doc/1387905415334309895 [status:201 request:0.022s]\n",
            "INFO:elasticsearch:PUT https://kafka-homework3-5284633582.us-east-1.bonsaisearch.net:443/vaccinationstweets/_doc/1387905416747700224 [status:201 request:0.019s]\n",
            "INFO:elasticsearch:PUT https://kafka-homework3-5284633582.us-east-1.bonsaisearch.net:443/vaccinationstweets/_doc/1387905418240790528 [status:201 request:0.020s]\n",
            "INFO:elasticsearch:PUT https://kafka-homework3-5284633582.us-east-1.bonsaisearch.net:443/vaccinationstweets/_doc/1387905425295646721 [status:201 request:0.021s]\n",
            "INFO:elasticsearch:PUT https://kafka-homework3-5284633582.us-east-1.bonsaisearch.net:443/vaccinationstweets/_doc/1387905426231025669 [status:201 request:0.021s]\n",
            "INFO:elasticsearch:PUT https://kafka-homework3-5284633582.us-east-1.bonsaisearch.net:443/vaccinationstweets/_doc/1387905428340805645 [status:201 request:0.020s]\n",
            "INFO:elasticsearch:PUT https://kafka-homework3-5284633582.us-east-1.bonsaisearch.net:443/vaccinationstweets/_doc/1387905429485748224 [status:201 request:0.022s]\n",
            "INFO:elasticsearch:PUT https://kafka-homework3-5284633582.us-east-1.bonsaisearch.net:443/vaccinationstweets/_doc/1387905433373925376 [status:201 request:0.027s]\n",
            "INFO:elasticsearch:PUT https://kafka-homework3-5284633582.us-east-1.bonsaisearch.net:443/vaccinationstweets/_doc/1387905433386455040 [status:201 request:0.021s]\n"
          ],
          "name": "stderr"
        },
        {
          "output_type": "stream",
          "text": [
            "779\n",
            "780\n",
            "781\n",
            "782\n",
            "783\n",
            "784\n",
            "785\n",
            "786\n",
            "787\n"
          ],
          "name": "stdout"
        },
        {
          "output_type": "stream",
          "text": [
            "INFO:elasticsearch:PUT https://kafka-homework3-5284633582.us-east-1.bonsaisearch.net:443/vaccinationstweets/_doc/1387905438549790722 [status:201 request:0.022s]\n",
            "INFO:elasticsearch:PUT https://kafka-homework3-5284633582.us-east-1.bonsaisearch.net:443/vaccinationstweets/_doc/1387905441468882944 [status:201 request:0.020s]\n",
            "INFO:elasticsearch:PUT https://kafka-homework3-5284633582.us-east-1.bonsaisearch.net:443/vaccinationstweets/_doc/1387905446120361988 [status:201 request:0.020s]\n",
            "INFO:elasticsearch:PUT https://kafka-homework3-5284633582.us-east-1.bonsaisearch.net:443/vaccinationstweets/_doc/1387905458472587268 [status:201 request:0.019s]\n",
            "INFO:elasticsearch:PUT https://kafka-homework3-5284633582.us-east-1.bonsaisearch.net:443/vaccinationstweets/_doc/1387905463241543680 [status:201 request:0.021s]\n",
            "INFO:elasticsearch:PUT https://kafka-homework3-5284633582.us-east-1.bonsaisearch.net:443/vaccinationstweets/_doc/1387905466840227842 [status:201 request:0.021s]\n",
            "INFO:elasticsearch:PUT https://kafka-homework3-5284633582.us-east-1.bonsaisearch.net:443/vaccinationstweets/_doc/1387905484037005312 [status:201 request:0.022s]\n",
            "INFO:elasticsearch:PUT https://kafka-homework3-5284633582.us-east-1.bonsaisearch.net:443/vaccinationstweets/_doc/1387905489271345155 [status:201 request:0.021s]\n",
            "INFO:elasticsearch:PUT https://kafka-homework3-5284633582.us-east-1.bonsaisearch.net:443/vaccinationstweets/_doc/1387905492513542145 [status:201 request:0.022s]\n"
          ],
          "name": "stderr"
        },
        {
          "output_type": "stream",
          "text": [
            "788\n",
            "789\n",
            "790\n",
            "791\n",
            "792\n",
            "793\n",
            "794\n",
            "795\n",
            "796\n"
          ],
          "name": "stdout"
        },
        {
          "output_type": "stream",
          "text": [
            "INFO:elasticsearch:PUT https://kafka-homework3-5284633582.us-east-1.bonsaisearch.net:443/vaccinationstweets/_doc/1387905494925275136 [status:201 request:0.022s]\n",
            "INFO:elasticsearch:PUT https://kafka-homework3-5284633582.us-east-1.bonsaisearch.net:443/vaccinationstweets/_doc/1387905507948744706 [status:201 request:0.022s]\n",
            "INFO:elasticsearch:PUT https://kafka-homework3-5284633582.us-east-1.bonsaisearch.net:443/vaccinationstweets/_doc/1387905509261561857 [status:201 request:0.020s]\n",
            "INFO:elasticsearch:PUT https://kafka-homework3-5284633582.us-east-1.bonsaisearch.net:443/vaccinationstweets/_doc/1387905510683205632 [status:201 request:0.019s]\n",
            "INFO:elasticsearch:PUT https://kafka-homework3-5284633582.us-east-1.bonsaisearch.net:443/vaccinationstweets/_doc/1387905510909775872 [status:201 request:0.021s]\n",
            "INFO:elasticsearch:PUT https://kafka-homework3-5284633582.us-east-1.bonsaisearch.net:443/vaccinationstweets/_doc/1387905512050626560 [status:201 request:0.020s]\n"
          ],
          "name": "stderr"
        },
        {
          "output_type": "stream",
          "text": [
            "797\n",
            "798\n",
            "799\n",
            "800\n",
            "801\n"
          ],
          "name": "stdout"
        },
        {
          "output_type": "error",
          "ename": "KeyboardInterrupt",
          "evalue": "ignored",
          "traceback": [
            "\u001b[0;31m---------------------------------------------------------------------------\u001b[0m",
            "\u001b[0;31mKeyboardInterrupt\u001b[0m                         Traceback (most recent call last)",
            "\u001b[0;32m<ipython-input-200-63cec8fd25b3>\u001b[0m in \u001b[0;36m<module>\u001b[0;34m()\u001b[0m\n\u001b[1;32m     28\u001b[0m \u001b[0;34m\u001b[0m\u001b[0m\n\u001b[1;32m     29\u001b[0m \u001b[0;32mif\u001b[0m \u001b[0m__name__\u001b[0m \u001b[0;34m==\u001b[0m \u001b[0;34m'__main__'\u001b[0m\u001b[0;34m:\u001b[0m\u001b[0;34m\u001b[0m\u001b[0;34m\u001b[0m\u001b[0m\n\u001b[0;32m---> 30\u001b[0;31m     \u001b[0melasticsearch_consumer_main\u001b[0m\u001b[0;34m(\u001b[0m\u001b[0;34m'vaccinationstweets'\u001b[0m\u001b[0;34m)\u001b[0m\u001b[0;34m\u001b[0m\u001b[0;34m\u001b[0m\u001b[0m\n\u001b[0m",
            "\u001b[0;32m<ipython-input-200-63cec8fd25b3>\u001b[0m in \u001b[0;36melasticsearch_consumer_main\u001b[0;34m(topicname)\u001b[0m\n\u001b[1;32m     11\u001b[0m \u001b[0;34m\u001b[0m\u001b[0m\n\u001b[1;32m     12\u001b[0m     \u001b[0;32mglobal\u001b[0m \u001b[0mcount1\u001b[0m\u001b[0;34m\u001b[0m\u001b[0;34m\u001b[0m\u001b[0m\n\u001b[0;32m---> 13\u001b[0;31m     \u001b[0;32mfor\u001b[0m \u001b[0mmessage\u001b[0m \u001b[0;32min\u001b[0m \u001b[0mconsumer\u001b[0m\u001b[0;34m:\u001b[0m\u001b[0;34m\u001b[0m\u001b[0;34m\u001b[0m\u001b[0m\n\u001b[0m\u001b[1;32m     14\u001b[0m         \u001b[0;31m#time.sleep(1)\u001b[0m\u001b[0;34m\u001b[0m\u001b[0;34m\u001b[0m\u001b[0;34m\u001b[0m\u001b[0m\n\u001b[1;32m     15\u001b[0m         \u001b[0;31m#print(\"next\")\u001b[0m\u001b[0;34m\u001b[0m\u001b[0;34m\u001b[0m\u001b[0;34m\u001b[0m\u001b[0m\n",
            "\u001b[0;32m/usr/local/lib/python3.7/dist-packages/kafka/consumer/group.py\u001b[0m in \u001b[0;36m__next__\u001b[0;34m(self)\u001b[0m\n\u001b[1;32m   1191\u001b[0m             \u001b[0;32mreturn\u001b[0m \u001b[0mself\u001b[0m\u001b[0;34m.\u001b[0m\u001b[0mnext_v1\u001b[0m\u001b[0;34m(\u001b[0m\u001b[0;34m)\u001b[0m\u001b[0;34m\u001b[0m\u001b[0;34m\u001b[0m\u001b[0m\n\u001b[1;32m   1192\u001b[0m         \u001b[0;32melse\u001b[0m\u001b[0;34m:\u001b[0m\u001b[0;34m\u001b[0m\u001b[0;34m\u001b[0m\u001b[0m\n\u001b[0;32m-> 1193\u001b[0;31m             \u001b[0;32mreturn\u001b[0m \u001b[0mself\u001b[0m\u001b[0;34m.\u001b[0m\u001b[0mnext_v2\u001b[0m\u001b[0;34m(\u001b[0m\u001b[0;34m)\u001b[0m\u001b[0;34m\u001b[0m\u001b[0;34m\u001b[0m\u001b[0m\n\u001b[0m\u001b[1;32m   1194\u001b[0m \u001b[0;34m\u001b[0m\u001b[0m\n\u001b[1;32m   1195\u001b[0m     \u001b[0;32mdef\u001b[0m \u001b[0mnext_v2\u001b[0m\u001b[0;34m(\u001b[0m\u001b[0mself\u001b[0m\u001b[0;34m)\u001b[0m\u001b[0;34m:\u001b[0m\u001b[0;34m\u001b[0m\u001b[0;34m\u001b[0m\u001b[0m\n",
            "\u001b[0;32m/usr/local/lib/python3.7/dist-packages/kafka/consumer/group.py\u001b[0m in \u001b[0;36mnext_v2\u001b[0;34m(self)\u001b[0m\n\u001b[1;32m   1199\u001b[0m                 \u001b[0mself\u001b[0m\u001b[0;34m.\u001b[0m\u001b[0m_iterator\u001b[0m \u001b[0;34m=\u001b[0m \u001b[0mself\u001b[0m\u001b[0;34m.\u001b[0m\u001b[0m_message_generator_v2\u001b[0m\u001b[0;34m(\u001b[0m\u001b[0;34m)\u001b[0m\u001b[0;34m\u001b[0m\u001b[0;34m\u001b[0m\u001b[0m\n\u001b[1;32m   1200\u001b[0m             \u001b[0;32mtry\u001b[0m\u001b[0;34m:\u001b[0m\u001b[0;34m\u001b[0m\u001b[0;34m\u001b[0m\u001b[0m\n\u001b[0;32m-> 1201\u001b[0;31m                 \u001b[0;32mreturn\u001b[0m \u001b[0mnext\u001b[0m\u001b[0;34m(\u001b[0m\u001b[0mself\u001b[0m\u001b[0;34m.\u001b[0m\u001b[0m_iterator\u001b[0m\u001b[0;34m)\u001b[0m\u001b[0;34m\u001b[0m\u001b[0;34m\u001b[0m\u001b[0m\n\u001b[0m\u001b[1;32m   1202\u001b[0m             \u001b[0;32mexcept\u001b[0m \u001b[0mStopIteration\u001b[0m\u001b[0;34m:\u001b[0m\u001b[0;34m\u001b[0m\u001b[0;34m\u001b[0m\u001b[0m\n\u001b[1;32m   1203\u001b[0m                 \u001b[0mself\u001b[0m\u001b[0;34m.\u001b[0m\u001b[0m_iterator\u001b[0m \u001b[0;34m=\u001b[0m \u001b[0;32mNone\u001b[0m\u001b[0;34m\u001b[0m\u001b[0;34m\u001b[0m\u001b[0m\n",
            "\u001b[0;32m/usr/local/lib/python3.7/dist-packages/kafka/consumer/group.py\u001b[0m in \u001b[0;36m_message_generator_v2\u001b[0;34m(self)\u001b[0m\n\u001b[1;32m   1114\u001b[0m     \u001b[0;32mdef\u001b[0m \u001b[0m_message_generator_v2\u001b[0m\u001b[0;34m(\u001b[0m\u001b[0mself\u001b[0m\u001b[0;34m)\u001b[0m\u001b[0;34m:\u001b[0m\u001b[0;34m\u001b[0m\u001b[0;34m\u001b[0m\u001b[0m\n\u001b[1;32m   1115\u001b[0m         \u001b[0mtimeout_ms\u001b[0m \u001b[0;34m=\u001b[0m \u001b[0;36m1000\u001b[0m \u001b[0;34m*\u001b[0m \u001b[0;34m(\u001b[0m\u001b[0mself\u001b[0m\u001b[0;34m.\u001b[0m\u001b[0m_consumer_timeout\u001b[0m \u001b[0;34m-\u001b[0m \u001b[0mtime\u001b[0m\u001b[0;34m.\u001b[0m\u001b[0mtime\u001b[0m\u001b[0;34m(\u001b[0m\u001b[0;34m)\u001b[0m\u001b[0;34m)\u001b[0m\u001b[0;34m\u001b[0m\u001b[0;34m\u001b[0m\u001b[0m\n\u001b[0;32m-> 1116\u001b[0;31m         \u001b[0mrecord_map\u001b[0m \u001b[0;34m=\u001b[0m \u001b[0mself\u001b[0m\u001b[0;34m.\u001b[0m\u001b[0mpoll\u001b[0m\u001b[0;34m(\u001b[0m\u001b[0mtimeout_ms\u001b[0m\u001b[0;34m=\u001b[0m\u001b[0mtimeout_ms\u001b[0m\u001b[0;34m,\u001b[0m \u001b[0mupdate_offsets\u001b[0m\u001b[0;34m=\u001b[0m\u001b[0;32mFalse\u001b[0m\u001b[0;34m)\u001b[0m\u001b[0;34m\u001b[0m\u001b[0;34m\u001b[0m\u001b[0m\n\u001b[0m\u001b[1;32m   1117\u001b[0m         \u001b[0;32mfor\u001b[0m \u001b[0mtp\u001b[0m\u001b[0;34m,\u001b[0m \u001b[0mrecords\u001b[0m \u001b[0;32min\u001b[0m \u001b[0msix\u001b[0m\u001b[0;34m.\u001b[0m\u001b[0miteritems\u001b[0m\u001b[0;34m(\u001b[0m\u001b[0mrecord_map\u001b[0m\u001b[0;34m)\u001b[0m\u001b[0;34m:\u001b[0m\u001b[0;34m\u001b[0m\u001b[0;34m\u001b[0m\u001b[0m\n\u001b[1;32m   1118\u001b[0m             \u001b[0;31m# Generators are stateful, and it is possible that the tp / records\u001b[0m\u001b[0;34m\u001b[0m\u001b[0;34m\u001b[0m\u001b[0;34m\u001b[0m\u001b[0m\n",
            "\u001b[0;32m/usr/local/lib/python3.7/dist-packages/kafka/consumer/group.py\u001b[0m in \u001b[0;36mpoll\u001b[0;34m(self, timeout_ms, max_records, update_offsets)\u001b[0m\n\u001b[1;32m    653\u001b[0m         \u001b[0mremaining\u001b[0m \u001b[0;34m=\u001b[0m \u001b[0mtimeout_ms\u001b[0m\u001b[0;34m\u001b[0m\u001b[0;34m\u001b[0m\u001b[0m\n\u001b[1;32m    654\u001b[0m         \u001b[0;32mwhile\u001b[0m \u001b[0;32mTrue\u001b[0m\u001b[0;34m:\u001b[0m\u001b[0;34m\u001b[0m\u001b[0;34m\u001b[0m\u001b[0m\n\u001b[0;32m--> 655\u001b[0;31m             \u001b[0mrecords\u001b[0m \u001b[0;34m=\u001b[0m \u001b[0mself\u001b[0m\u001b[0;34m.\u001b[0m\u001b[0m_poll_once\u001b[0m\u001b[0;34m(\u001b[0m\u001b[0mremaining\u001b[0m\u001b[0;34m,\u001b[0m \u001b[0mmax_records\u001b[0m\u001b[0;34m,\u001b[0m \u001b[0mupdate_offsets\u001b[0m\u001b[0;34m=\u001b[0m\u001b[0mupdate_offsets\u001b[0m\u001b[0;34m)\u001b[0m\u001b[0;34m\u001b[0m\u001b[0;34m\u001b[0m\u001b[0m\n\u001b[0m\u001b[1;32m    656\u001b[0m             \u001b[0;32mif\u001b[0m \u001b[0mrecords\u001b[0m\u001b[0;34m:\u001b[0m\u001b[0;34m\u001b[0m\u001b[0;34m\u001b[0m\u001b[0m\n\u001b[1;32m    657\u001b[0m                 \u001b[0;32mreturn\u001b[0m \u001b[0mrecords\u001b[0m\u001b[0;34m\u001b[0m\u001b[0;34m\u001b[0m\u001b[0m\n",
            "\u001b[0;32m/usr/local/lib/python3.7/dist-packages/kafka/consumer/group.py\u001b[0m in \u001b[0;36m_poll_once\u001b[0;34m(self, timeout_ms, max_records, update_offsets)\u001b[0m\n\u001b[1;32m    700\u001b[0m \u001b[0;34m\u001b[0m\u001b[0m\n\u001b[1;32m    701\u001b[0m         \u001b[0mtimeout_ms\u001b[0m \u001b[0;34m=\u001b[0m \u001b[0mmin\u001b[0m\u001b[0;34m(\u001b[0m\u001b[0mtimeout_ms\u001b[0m\u001b[0;34m,\u001b[0m \u001b[0mself\u001b[0m\u001b[0;34m.\u001b[0m\u001b[0m_coordinator\u001b[0m\u001b[0;34m.\u001b[0m\u001b[0mtime_to_next_poll\u001b[0m\u001b[0;34m(\u001b[0m\u001b[0;34m)\u001b[0m \u001b[0;34m*\u001b[0m \u001b[0;36m1000\u001b[0m\u001b[0;34m)\u001b[0m\u001b[0;34m\u001b[0m\u001b[0;34m\u001b[0m\u001b[0m\n\u001b[0;32m--> 702\u001b[0;31m         \u001b[0mself\u001b[0m\u001b[0;34m.\u001b[0m\u001b[0m_client\u001b[0m\u001b[0;34m.\u001b[0m\u001b[0mpoll\u001b[0m\u001b[0;34m(\u001b[0m\u001b[0mtimeout_ms\u001b[0m\u001b[0;34m=\u001b[0m\u001b[0mtimeout_ms\u001b[0m\u001b[0;34m)\u001b[0m\u001b[0;34m\u001b[0m\u001b[0;34m\u001b[0m\u001b[0m\n\u001b[0m\u001b[1;32m    703\u001b[0m         \u001b[0;31m# after the long poll, we should check whether the group needs to rebalance\u001b[0m\u001b[0;34m\u001b[0m\u001b[0;34m\u001b[0m\u001b[0;34m\u001b[0m\u001b[0m\n\u001b[1;32m    704\u001b[0m         \u001b[0;31m# prior to returning data so that the group can stabilize faster\u001b[0m\u001b[0;34m\u001b[0m\u001b[0;34m\u001b[0m\u001b[0;34m\u001b[0m\u001b[0m\n",
            "\u001b[0;32m/usr/local/lib/python3.7/dist-packages/kafka/client_async.py\u001b[0m in \u001b[0;36mpoll\u001b[0;34m(self, timeout_ms, future)\u001b[0m\n\u001b[1;32m    600\u001b[0m                     \u001b[0mtimeout\u001b[0m \u001b[0;34m=\u001b[0m \u001b[0mmax\u001b[0m\u001b[0;34m(\u001b[0m\u001b[0;36m0\u001b[0m\u001b[0;34m,\u001b[0m \u001b[0mtimeout\u001b[0m\u001b[0;34m)\u001b[0m  \u001b[0;31m# avoid negative timeouts\u001b[0m\u001b[0;34m\u001b[0m\u001b[0;34m\u001b[0m\u001b[0m\n\u001b[1;32m    601\u001b[0m \u001b[0;34m\u001b[0m\u001b[0m\n\u001b[0;32m--> 602\u001b[0;31m                 \u001b[0mself\u001b[0m\u001b[0;34m.\u001b[0m\u001b[0m_poll\u001b[0m\u001b[0;34m(\u001b[0m\u001b[0mtimeout\u001b[0m \u001b[0;34m/\u001b[0m \u001b[0;36m1000\u001b[0m\u001b[0;34m)\u001b[0m\u001b[0;34m\u001b[0m\u001b[0;34m\u001b[0m\u001b[0m\n\u001b[0m\u001b[1;32m    603\u001b[0m \u001b[0;34m\u001b[0m\u001b[0m\n\u001b[1;32m    604\u001b[0m             \u001b[0;31m# called without the lock to avoid deadlock potential\u001b[0m\u001b[0;34m\u001b[0m\u001b[0;34m\u001b[0m\u001b[0;34m\u001b[0m\u001b[0m\n",
            "\u001b[0;32m/usr/local/lib/python3.7/dist-packages/kafka/client_async.py\u001b[0m in \u001b[0;36m_poll\u001b[0;34m(self, timeout)\u001b[0m\n\u001b[1;32m    632\u001b[0m \u001b[0;34m\u001b[0m\u001b[0m\n\u001b[1;32m    633\u001b[0m         \u001b[0mstart_select\u001b[0m \u001b[0;34m=\u001b[0m \u001b[0mtime\u001b[0m\u001b[0;34m.\u001b[0m\u001b[0mtime\u001b[0m\u001b[0;34m(\u001b[0m\u001b[0;34m)\u001b[0m\u001b[0;34m\u001b[0m\u001b[0;34m\u001b[0m\u001b[0m\n\u001b[0;32m--> 634\u001b[0;31m         \u001b[0mready\u001b[0m \u001b[0;34m=\u001b[0m \u001b[0mself\u001b[0m\u001b[0;34m.\u001b[0m\u001b[0m_selector\u001b[0m\u001b[0;34m.\u001b[0m\u001b[0mselect\u001b[0m\u001b[0;34m(\u001b[0m\u001b[0mtimeout\u001b[0m\u001b[0;34m)\u001b[0m\u001b[0;34m\u001b[0m\u001b[0;34m\u001b[0m\u001b[0m\n\u001b[0m\u001b[1;32m    635\u001b[0m         \u001b[0mend_select\u001b[0m \u001b[0;34m=\u001b[0m \u001b[0mtime\u001b[0m\u001b[0;34m.\u001b[0m\u001b[0mtime\u001b[0m\u001b[0;34m(\u001b[0m\u001b[0;34m)\u001b[0m\u001b[0;34m\u001b[0m\u001b[0;34m\u001b[0m\u001b[0m\n\u001b[1;32m    636\u001b[0m         \u001b[0;32mif\u001b[0m \u001b[0mself\u001b[0m\u001b[0;34m.\u001b[0m\u001b[0m_sensors\u001b[0m\u001b[0;34m:\u001b[0m\u001b[0;34m\u001b[0m\u001b[0;34m\u001b[0m\u001b[0m\n",
            "\u001b[0;32m/usr/lib/python3.7/selectors.py\u001b[0m in \u001b[0;36mselect\u001b[0;34m(self, timeout)\u001b[0m\n\u001b[1;32m    466\u001b[0m             \u001b[0mready\u001b[0m \u001b[0;34m=\u001b[0m \u001b[0;34m[\u001b[0m\u001b[0;34m]\u001b[0m\u001b[0;34m\u001b[0m\u001b[0;34m\u001b[0m\u001b[0m\n\u001b[1;32m    467\u001b[0m             \u001b[0;32mtry\u001b[0m\u001b[0;34m:\u001b[0m\u001b[0;34m\u001b[0m\u001b[0;34m\u001b[0m\u001b[0m\n\u001b[0;32m--> 468\u001b[0;31m                 \u001b[0mfd_event_list\u001b[0m \u001b[0;34m=\u001b[0m \u001b[0mself\u001b[0m\u001b[0;34m.\u001b[0m\u001b[0m_selector\u001b[0m\u001b[0;34m.\u001b[0m\u001b[0mpoll\u001b[0m\u001b[0;34m(\u001b[0m\u001b[0mtimeout\u001b[0m\u001b[0;34m,\u001b[0m \u001b[0mmax_ev\u001b[0m\u001b[0;34m)\u001b[0m\u001b[0;34m\u001b[0m\u001b[0;34m\u001b[0m\u001b[0m\n\u001b[0m\u001b[1;32m    469\u001b[0m             \u001b[0;32mexcept\u001b[0m \u001b[0mInterruptedError\u001b[0m\u001b[0;34m:\u001b[0m\u001b[0;34m\u001b[0m\u001b[0;34m\u001b[0m\u001b[0m\n\u001b[1;32m    470\u001b[0m                 \u001b[0;32mreturn\u001b[0m \u001b[0mready\u001b[0m\u001b[0;34m\u001b[0m\u001b[0;34m\u001b[0m\u001b[0m\n",
            "\u001b[0;31mKeyboardInterrupt\u001b[0m: "
          ]
        }
      ]
    },
    {
      "cell_type": "markdown",
      "metadata": {
        "id": "OE5V3gMX1VCr"
      },
      "source": [
        "### COVID to Bonsai"
      ]
    },
    {
      "cell_type": "code",
      "metadata": {
        "colab": {
          "base_uri": "https://localhost:8080/",
          "height": 1000
        },
        "id": "Myz81KTYzmmv",
        "outputId": "d1a0a949-372a-4cc8-a235-d124d1c2a580"
      },
      "source": [
        "count1 = 0\n",
        "def elasticsearch_consumer_main(topicname):\n",
        "    es = elasticsearch_connect()\n",
        "    #To Consume Messages\n",
        "    consumer = KafkaConsumer(topicname, \n",
        "                            auto_commit_interval_ms = 30 *1000,\n",
        "                            auto_offset_reset = 'earliest', \n",
        "                            bootstrap_servers=['localhost:9092'])\n",
        "    #esid = 1\n",
        "    \n",
        "    \n",
        "    global count1\n",
        "    for message in consumer: \n",
        "        #time.sleep(1)\n",
        "        #print(\"next\")\n",
        "        #esid +=1\n",
        "        #if esid % 1000 == 0:\n",
        "            #print(esid)\n",
        "            #res_create = es.create(index=\"tweets\", doc_type= topicname, id=1, body={})\n",
        "        count1 = count1 + 1\n",
        "        msg = json.loads(message.value)\n",
        "        \n",
        "        msg_id = msg['id']\n",
        "        #print(msg)\n",
        "        print(count1)\n",
        "        res = es.index(index = topicname, id = msg_id, body = msg)\n",
        "        \n",
        "\n",
        "if __name__ == '__main__':\n",
        "    elasticsearch_consumer_main('covidtweets')"
      ],
      "execution_count": null,
      "outputs": [
        {
          "output_type": "stream",
          "text": [
            "INFO:elasticsearch:HEAD https://kafka-homework3-5284633582.us-east-1.bonsaisearch.net:443/ [status:200 request:0.109s]\n",
            "INFO:kafka.conn:<BrokerConnection node_id=bootstrap-0 host=localhost:9092 <connecting> [IPv4 ('127.0.0.1', 9092)]>: connecting to localhost:9092 [('127.0.0.1', 9092) IPv4]\n",
            "INFO:kafka.conn:Probing node bootstrap-0 broker version\n",
            "INFO:kafka.conn:<BrokerConnection node_id=bootstrap-0 host=localhost:9092 <connecting> [IPv4 ('127.0.0.1', 9092)]>: Connection complete.\n",
            "INFO:kafka.conn:Broker version identified as 2.5.0\n",
            "INFO:kafka.conn:Set configuration api_version=(2, 5, 0) to skip auto check_version requests on startup\n",
            "WARNING:kafka.coordinator.consumer:group_id is None: disabling auto-commit.\n",
            "INFO:kafka.consumer.subscription_state:Updating subscribed topics to: ('covidtweets',)\n",
            "INFO:kafka.consumer.subscription_state:Updated partition assignment: [TopicPartition(topic='covidtweets', partition=0), TopicPartition(topic='covidtweets', partition=1), TopicPartition(topic='covidtweets', partition=2)]\n",
            "INFO:kafka.conn:<BrokerConnection node_id=0 host=c8d5f846f074:9092 <connecting> [IPv4 ('172.28.0.2', 9092)]>: connecting to c8d5f846f074:9092 [('172.28.0.2', 9092) IPv4]\n",
            "INFO:kafka.conn:<BrokerConnection node_id=0 host=c8d5f846f074:9092 <connecting> [IPv4 ('172.28.0.2', 9092)]>: Connection complete.\n",
            "INFO:kafka.conn:<BrokerConnection node_id=bootstrap-0 host=localhost:9092 <connected> [IPv4 ('127.0.0.1', 9092)]>: Closing connection. \n",
            "INFO:elasticsearch:PUT https://kafka-homework3-5284633582.us-east-1.bonsaisearch.net:443/covidtweets/_doc/1387905513510244356 [status:201 request:0.076s]\n",
            "INFO:elasticsearch:PUT https://kafka-homework3-5284633582.us-east-1.bonsaisearch.net:443/covidtweets/_doc/1387905520288157704 [status:201 request:0.078s]\n"
          ],
          "name": "stderr"
        },
        {
          "output_type": "stream",
          "text": [
            "1\n",
            "2\n",
            "3\n"
          ],
          "name": "stdout"
        },
        {
          "output_type": "stream",
          "text": [
            "INFO:elasticsearch:PUT https://kafka-homework3-5284633582.us-east-1.bonsaisearch.net:443/covidtweets/_doc/1387905521194192896 [status:201 request:0.073s]\n",
            "INFO:elasticsearch:PUT https://kafka-homework3-5284633582.us-east-1.bonsaisearch.net:443/covidtweets/_doc/1387905524117606402 [status:201 request:0.083s]\n",
            "INFO:elasticsearch:PUT https://kafka-homework3-5284633582.us-east-1.bonsaisearch.net:443/covidtweets/_doc/1387905524423868416 [status:201 request:0.082s]\n",
            "INFO:elasticsearch:PUT https://kafka-homework3-5284633582.us-east-1.bonsaisearch.net:443/covidtweets/_doc/1387905525401235456 [status:201 request:0.026s]\n"
          ],
          "name": "stderr"
        },
        {
          "output_type": "stream",
          "text": [
            "4\n",
            "5\n",
            "6\n",
            "7\n"
          ],
          "name": "stdout"
        },
        {
          "output_type": "stream",
          "text": [
            "INFO:elasticsearch:PUT https://kafka-homework3-5284633582.us-east-1.bonsaisearch.net:443/covidtweets/_doc/1387905529490640896 [status:201 request:0.079s]\n",
            "INFO:elasticsearch:PUT https://kafka-homework3-5284633582.us-east-1.bonsaisearch.net:443/covidtweets/_doc/1387905530635583488 [status:201 request:0.027s]\n",
            "INFO:elasticsearch:PUT https://kafka-homework3-5284633582.us-east-1.bonsaisearch.net:443/covidtweets/_doc/1387905531495522306 [status:201 request:0.093s]\n",
            "INFO:elasticsearch:PUT https://kafka-homework3-5284633582.us-east-1.bonsaisearch.net:443/covidtweets/_doc/1387905531998703617 [status:201 request:0.026s]\n"
          ],
          "name": "stderr"
        },
        {
          "output_type": "stream",
          "text": [
            "8\n",
            "9\n",
            "10\n",
            "11\n"
          ],
          "name": "stdout"
        },
        {
          "output_type": "stream",
          "text": [
            "INFO:elasticsearch:PUT https://kafka-homework3-5284633582.us-east-1.bonsaisearch.net:443/covidtweets/_doc/1387905535492644864 [status:201 request:0.087s]\n",
            "INFO:elasticsearch:PUT https://kafka-homework3-5284633582.us-east-1.bonsaisearch.net:443/covidtweets/_doc/1387905536042151937 [status:201 request:0.027s]\n",
            "INFO:elasticsearch:PUT https://kafka-homework3-5284633582.us-east-1.bonsaisearch.net:443/covidtweets/_doc/1387905540395782144 [status:201 request:0.028s]\n",
            "INFO:elasticsearch:PUT https://kafka-homework3-5284633582.us-east-1.bonsaisearch.net:443/covidtweets/_doc/1387905548708892672 [status:201 request:0.026s]\n",
            "INFO:elasticsearch:PUT https://kafka-homework3-5284633582.us-east-1.bonsaisearch.net:443/covidtweets/_doc/1387905552592867330 [status:201 request:0.085s]\n"
          ],
          "name": "stderr"
        },
        {
          "output_type": "stream",
          "text": [
            "12\n",
            "13\n",
            "14\n",
            "15\n",
            "16\n"
          ],
          "name": "stdout"
        },
        {
          "output_type": "stream",
          "text": [
            "INFO:elasticsearch:PUT https://kafka-homework3-5284633582.us-east-1.bonsaisearch.net:443/covidtweets/_doc/1387905553125412864 [status:201 request:0.086s]\n",
            "INFO:elasticsearch:PUT https://kafka-homework3-5284633582.us-east-1.bonsaisearch.net:443/covidtweets/_doc/1387905556611018752 [status:201 request:0.025s]\n",
            "INFO:elasticsearch:PUT https://kafka-homework3-5284633582.us-east-1.bonsaisearch.net:443/covidtweets/_doc/1387905557802201088 [status:201 request:0.025s]\n",
            "INFO:elasticsearch:PUT https://kafka-homework3-5284633582.us-east-1.bonsaisearch.net:443/covidtweets/_doc/1387905560532692995 [status:201 request:0.025s]\n",
            "INFO:elasticsearch:PUT https://kafka-homework3-5284633582.us-east-1.bonsaisearch.net:443/covidtweets/_doc/1387905567298031617 [status:201 request:0.087s]\n",
            "INFO:elasticsearch:PUT https://kafka-homework3-5284633582.us-east-1.bonsaisearch.net:443/covidtweets/_doc/1387905571941228546 [status:201 request:0.026s]\n"
          ],
          "name": "stderr"
        },
        {
          "output_type": "stream",
          "text": [
            "17\n",
            "18\n",
            "19\n",
            "20\n",
            "21\n",
            "22\n"
          ],
          "name": "stdout"
        },
        {
          "output_type": "stream",
          "text": [
            "INFO:elasticsearch:PUT https://kafka-homework3-5284633582.us-east-1.bonsaisearch.net:443/covidtweets/_doc/1387905572243075078 [status:201 request:0.087s]\n",
            "INFO:elasticsearch:PUT https://kafka-homework3-5284633582.us-east-1.bonsaisearch.net:443/covidtweets/_doc/1387905579147010050 [status:201 request:0.027s]\n",
            "INFO:elasticsearch:PUT https://kafka-homework3-5284633582.us-east-1.bonsaisearch.net:443/covidtweets/_doc/1387905581688791041 [status:201 request:0.026s]\n",
            "INFO:elasticsearch:PUT https://kafka-homework3-5284633582.us-east-1.bonsaisearch.net:443/covidtweets/_doc/1387905582674464771 [status:201 request:0.085s]\n"
          ],
          "name": "stderr"
        },
        {
          "output_type": "stream",
          "text": [
            "23\n",
            "24\n",
            "25\n",
            "26\n"
          ],
          "name": "stdout"
        },
        {
          "output_type": "stream",
          "text": [
            "INFO:elasticsearch:PUT https://kafka-homework3-5284633582.us-east-1.bonsaisearch.net:443/covidtweets/_doc/1387905583899156485 [status:201 request:0.092s]\n",
            "INFO:elasticsearch:PUT https://kafka-homework3-5284633582.us-east-1.bonsaisearch.net:443/covidtweets/_doc/1387905584922517505 [status:201 request:0.089s]\n",
            "INFO:elasticsearch:PUT https://kafka-homework3-5284633582.us-east-1.bonsaisearch.net:443/covidtweets/_doc/1387905587774693378 [status:201 request:0.026s]\n",
            "INFO:elasticsearch:PUT https://kafka-homework3-5284633582.us-east-1.bonsaisearch.net:443/covidtweets/_doc/1387905590299668481 [status:201 request:0.027s]\n",
            "INFO:elasticsearch:PUT https://kafka-homework3-5284633582.us-east-1.bonsaisearch.net:443/covidtweets/_doc/1387905591138471943 [status:201 request:0.027s]\n"
          ],
          "name": "stderr"
        },
        {
          "output_type": "stream",
          "text": [
            "27\n",
            "28\n",
            "29\n",
            "30\n",
            "31\n"
          ],
          "name": "stdout"
        },
        {
          "output_type": "stream",
          "text": [
            "INFO:elasticsearch:PUT https://kafka-homework3-5284633582.us-east-1.bonsaisearch.net:443/covidtweets/_doc/1387905597446574083 [status:201 request:0.027s]\n",
            "INFO:elasticsearch:PUT https://kafka-homework3-5284633582.us-east-1.bonsaisearch.net:443/covidtweets/_doc/1387905598235181057 [status:201 request:0.138s]\n"
          ],
          "name": "stderr"
        },
        {
          "output_type": "stream",
          "text": [
            "32\n",
            "33\n"
          ],
          "name": "stdout"
        },
        {
          "output_type": "stream",
          "text": [
            "INFO:elasticsearch:PUT https://kafka-homework3-5284633582.us-east-1.bonsaisearch.net:443/covidtweets/_doc/1387905598809907206 [status:201 request:0.154s]\n",
            "INFO:elasticsearch:PUT https://kafka-homework3-5284633582.us-east-1.bonsaisearch.net:443/covidtweets/_doc/1387905602005962758 [status:201 request:0.035s]\n",
            "INFO:elasticsearch:PUT https://kafka-homework3-5284633582.us-east-1.bonsaisearch.net:443/covidtweets/_doc/1387905607118712833 [status:201 request:0.028s]\n",
            "INFO:elasticsearch:PUT https://kafka-homework3-5284633582.us-east-1.bonsaisearch.net:443/covidtweets/_doc/1387905608037376000 [status:201 request:0.027s]\n",
            "INFO:elasticsearch:PUT https://kafka-homework3-5284633582.us-east-1.bonsaisearch.net:443/covidtweets/_doc/1387905611434766344 [status:201 request:0.027s]\n",
            "INFO:elasticsearch:PUT https://kafka-homework3-5284633582.us-east-1.bonsaisearch.net:443/covidtweets/_doc/1387905611858382856 [status:201 request:0.026s]\n",
            "INFO:elasticsearch:PUT https://kafka-homework3-5284633582.us-east-1.bonsaisearch.net:443/covidtweets/_doc/1387905612462313477 [status:201 request:0.027s]\n"
          ],
          "name": "stderr"
        },
        {
          "output_type": "stream",
          "text": [
            "34\n",
            "35\n",
            "36\n",
            "37\n",
            "38\n",
            "39\n",
            "40\n"
          ],
          "name": "stdout"
        },
        {
          "output_type": "stream",
          "text": [
            "INFO:elasticsearch:PUT https://kafka-homework3-5284633582.us-east-1.bonsaisearch.net:443/covidtweets/_doc/1387905613825519616 [status:201 request:0.026s]\n",
            "INFO:elasticsearch:PUT https://kafka-homework3-5284633582.us-east-1.bonsaisearch.net:443/covidtweets/_doc/1387905614022651904 [status:201 request:0.027s]\n",
            "INFO:elasticsearch:PUT https://kafka-homework3-5284633582.us-east-1.bonsaisearch.net:443/covidtweets/_doc/1387905614546972674 [status:201 request:0.027s]\n",
            "INFO:elasticsearch:PUT https://kafka-homework3-5284633582.us-east-1.bonsaisearch.net:443/covidtweets/_doc/1387905617721954305 [status:201 request:0.032s]\n",
            "INFO:elasticsearch:PUT https://kafka-homework3-5284633582.us-east-1.bonsaisearch.net:443/covidtweets/_doc/1387905618472747009 [status:201 request:0.026s]\n",
            "INFO:elasticsearch:PUT https://kafka-homework3-5284633582.us-east-1.bonsaisearch.net:443/covidtweets/_doc/1387905620372688898 [status:201 request:0.027s]\n",
            "INFO:elasticsearch:PUT https://kafka-homework3-5284633582.us-east-1.bonsaisearch.net:443/covidtweets/_doc/1387905621140377601 [status:201 request:0.026s]\n"
          ],
          "name": "stderr"
        },
        {
          "output_type": "stream",
          "text": [
            "41\n",
            "42\n",
            "43\n",
            "44\n",
            "45\n",
            "46\n",
            "47\n"
          ],
          "name": "stdout"
        },
        {
          "output_type": "stream",
          "text": [
            "INFO:elasticsearch:PUT https://kafka-homework3-5284633582.us-east-1.bonsaisearch.net:443/covidtweets/_doc/1387905622490845184 [status:201 request:0.026s]\n",
            "INFO:elasticsearch:PUT https://kafka-homework3-5284633582.us-east-1.bonsaisearch.net:443/covidtweets/_doc/1387905625900949509 [status:201 request:0.027s]\n",
            "INFO:elasticsearch:PUT https://kafka-homework3-5284633582.us-east-1.bonsaisearch.net:443/covidtweets/_doc/1387905626626396163 [status:201 request:0.026s]\n",
            "INFO:elasticsearch:PUT https://kafka-homework3-5284633582.us-east-1.bonsaisearch.net:443/covidtweets/_doc/1387905628631339009 [status:201 request:0.026s]\n",
            "INFO:elasticsearch:PUT https://kafka-homework3-5284633582.us-east-1.bonsaisearch.net:443/covidtweets/_doc/1387905631613427713 [status:201 request:0.028s]\n",
            "INFO:elasticsearch:PUT https://kafka-homework3-5284633582.us-east-1.bonsaisearch.net:443/covidtweets/_doc/1387905634100645888 [status:201 request:0.028s]\n",
            "INFO:elasticsearch:PUT https://kafka-homework3-5284633582.us-east-1.bonsaisearch.net:443/covidtweets/_doc/1387905634293723139 [status:201 request:0.026s]\n"
          ],
          "name": "stderr"
        },
        {
          "output_type": "stream",
          "text": [
            "48\n",
            "49\n",
            "50\n",
            "51\n",
            "52\n",
            "53\n",
            "54\n"
          ],
          "name": "stdout"
        },
        {
          "output_type": "stream",
          "text": [
            "INFO:elasticsearch:PUT https://kafka-homework3-5284633582.us-east-1.bonsaisearch.net:443/covidtweets/_doc/1387905634759237644 [status:201 request:0.027s]\n",
            "INFO:elasticsearch:PUT https://kafka-homework3-5284633582.us-east-1.bonsaisearch.net:443/covidtweets/_doc/1387905638991343625 [status:201 request:0.029s]\n",
            "INFO:elasticsearch:PUT https://kafka-homework3-5284633582.us-east-1.bonsaisearch.net:443/covidtweets/_doc/1387905639612141568 [status:201 request:0.025s]\n",
            "INFO:elasticsearch:PUT https://kafka-homework3-5284633582.us-east-1.bonsaisearch.net:443/covidtweets/_doc/1387905643470737411 [status:201 request:0.027s]\n",
            "INFO:elasticsearch:PUT https://kafka-homework3-5284633582.us-east-1.bonsaisearch.net:443/covidtweets/_doc/1387905645685493760 [status:201 request:0.026s]\n",
            "INFO:elasticsearch:PUT https://kafka-homework3-5284633582.us-east-1.bonsaisearch.net:443/covidtweets/_doc/1387905648923402244 [status:201 request:0.032s]\n",
            "INFO:elasticsearch:PUT https://kafka-homework3-5284633582.us-east-1.bonsaisearch.net:443/covidtweets/_doc/1387905650160635906 [status:201 request:0.027s]\n"
          ],
          "name": "stderr"
        },
        {
          "output_type": "stream",
          "text": [
            "55\n",
            "56\n",
            "57\n",
            "58\n",
            "59\n",
            "60\n",
            "61\n"
          ],
          "name": "stdout"
        },
        {
          "output_type": "stream",
          "text": [
            "INFO:elasticsearch:PUT https://kafka-homework3-5284633582.us-east-1.bonsaisearch.net:443/covidtweets/_doc/1387905657999855619 [status:201 request:0.027s]\n",
            "INFO:elasticsearch:PUT https://kafka-homework3-5284633582.us-east-1.bonsaisearch.net:443/covidtweets/_doc/1387905660843610115 [status:201 request:0.029s]\n",
            "INFO:elasticsearch:PUT https://kafka-homework3-5284633582.us-east-1.bonsaisearch.net:443/covidtweets/_doc/1387905662248624128 [status:201 request:0.027s]\n",
            "INFO:elasticsearch:PUT https://kafka-homework3-5284633582.us-east-1.bonsaisearch.net:443/covidtweets/_doc/1387905663804784644 [status:201 request:0.025s]\n",
            "INFO:elasticsearch:PUT https://kafka-homework3-5284633582.us-east-1.bonsaisearch.net:443/covidtweets/_doc/1387905665738416129 [status:201 request:0.027s]\n"
          ],
          "name": "stderr"
        },
        {
          "output_type": "stream",
          "text": [
            "62\n",
            "63\n",
            "64\n",
            "65\n",
            "66\n"
          ],
          "name": "stdout"
        },
        {
          "output_type": "stream",
          "text": [
            "INFO:elasticsearch:PUT https://kafka-homework3-5284633582.us-east-1.bonsaisearch.net:443/covidtweets/_doc/1387905668133265408 [status:201 request:0.099s]\n",
            "INFO:elasticsearch:PUT https://kafka-homework3-5284633582.us-east-1.bonsaisearch.net:443/covidtweets/_doc/1387905670054236160 [status:201 request:0.026s]\n",
            "INFO:elasticsearch:PUT https://kafka-homework3-5284633582.us-east-1.bonsaisearch.net:443/covidtweets/_doc/1387905672105189376 [status:201 request:0.027s]\n",
            "INFO:elasticsearch:PUT https://kafka-homework3-5284633582.us-east-1.bonsaisearch.net:443/covidtweets/_doc/1387905673757872128 [status:201 request:0.026s]\n",
            "INFO:elasticsearch:PUT https://kafka-homework3-5284633582.us-east-1.bonsaisearch.net:443/covidtweets/_doc/1387905675930619905 [status:201 request:0.026s]\n"
          ],
          "name": "stderr"
        },
        {
          "output_type": "stream",
          "text": [
            "67\n",
            "68\n",
            "69\n",
            "70\n",
            "71\n"
          ],
          "name": "stdout"
        },
        {
          "output_type": "stream",
          "text": [
            "INFO:elasticsearch:PUT https://kafka-homework3-5284633582.us-east-1.bonsaisearch.net:443/covidtweets/_doc/1387905676488314880 [status:201 request:0.090s]\n",
            "INFO:elasticsearch:PUT https://kafka-homework3-5284633582.us-east-1.bonsaisearch.net:443/covidtweets/_doc/1387905679399268352 [status:201 request:0.026s]\n",
            "INFO:elasticsearch:PUT https://kafka-homework3-5284633582.us-east-1.bonsaisearch.net:443/covidtweets/_doc/1387905686504280074 [status:201 request:0.027s]\n",
            "INFO:elasticsearch:PUT https://kafka-homework3-5284633582.us-east-1.bonsaisearch.net:443/covidtweets/_doc/1387905687515185153 [status:201 request:0.029s]\n",
            "INFO:elasticsearch:PUT https://kafka-homework3-5284633582.us-east-1.bonsaisearch.net:443/covidtweets/_doc/1387905693580075014 [status:201 request:0.046s]\n",
            "INFO:elasticsearch:PUT https://kafka-homework3-5284633582.us-east-1.bonsaisearch.net:443/covidtweets/_doc/1387905696054796291 [status:201 request:0.028s]\n",
            "INFO:elasticsearch:PUT https://kafka-homework3-5284633582.us-east-1.bonsaisearch.net:443/covidtweets/_doc/1387905701188620295 [status:201 request:0.028s]\n"
          ],
          "name": "stderr"
        },
        {
          "output_type": "stream",
          "text": [
            "72\n",
            "73\n",
            "74\n",
            "75\n",
            "76\n",
            "77\n",
            "78\n"
          ],
          "name": "stdout"
        },
        {
          "output_type": "stream",
          "text": [
            "INFO:elasticsearch:PUT https://kafka-homework3-5284633582.us-east-1.bonsaisearch.net:443/covidtweets/_doc/1387905703910719488 [status:201 request:0.026s]\n",
            "INFO:elasticsearch:PUT https://kafka-homework3-5284633582.us-east-1.bonsaisearch.net:443/covidtweets/_doc/1387905711951159297 [status:201 request:0.025s]\n",
            "INFO:elasticsearch:PUT https://kafka-homework3-5284633582.us-east-1.bonsaisearch.net:443/covidtweets/_doc/1387905715667275780 [status:201 request:0.027s]\n",
            "INFO:elasticsearch:PUT https://kafka-homework3-5284633582.us-east-1.bonsaisearch.net:443/covidtweets/_doc/1387905716028125189 [status:201 request:0.026s]\n",
            "INFO:elasticsearch:PUT https://kafka-homework3-5284633582.us-east-1.bonsaisearch.net:443/covidtweets/_doc/1387905721182785537 [status:201 request:0.029s]\n",
            "INFO:elasticsearch:PUT https://kafka-homework3-5284633582.us-east-1.bonsaisearch.net:443/covidtweets/_doc/1387905722487279617 [status:201 request:0.028s]\n",
            "INFO:elasticsearch:PUT https://kafka-homework3-5284633582.us-east-1.bonsaisearch.net:443/covidtweets/_doc/1387905722684305409 [status:201 request:0.026s]\n"
          ],
          "name": "stderr"
        },
        {
          "output_type": "stream",
          "text": [
            "79\n",
            "80\n",
            "81\n",
            "82\n",
            "83\n",
            "84\n",
            "85\n"
          ],
          "name": "stdout"
        },
        {
          "output_type": "stream",
          "text": [
            "INFO:elasticsearch:PUT https://kafka-homework3-5284633582.us-east-1.bonsaisearch.net:443/covidtweets/_doc/1387905724701765633 [status:201 request:0.028s]\n",
            "INFO:elasticsearch:PUT https://kafka-homework3-5284633582.us-east-1.bonsaisearch.net:443/covidtweets/_doc/1387905728908865536 [status:201 request:0.027s]\n",
            "INFO:elasticsearch:PUT https://kafka-homework3-5284633582.us-east-1.bonsaisearch.net:443/covidtweets/_doc/1387905732784410628 [status:201 request:0.027s]\n",
            "INFO:elasticsearch:PUT https://kafka-homework3-5284633582.us-east-1.bonsaisearch.net:443/covidtweets/_doc/1387905733879029760 [status:201 request:0.027s]\n",
            "INFO:elasticsearch:PUT https://kafka-homework3-5284633582.us-east-1.bonsaisearch.net:443/covidtweets/_doc/1387905734990438402 [status:201 request:0.026s]\n"
          ],
          "name": "stderr"
        },
        {
          "output_type": "stream",
          "text": [
            "86\n",
            "87\n",
            "88\n",
            "89\n",
            "90\n"
          ],
          "name": "stdout"
        },
        {
          "output_type": "stream",
          "text": [
            "INFO:elasticsearch:PUT https://kafka-homework3-5284633582.us-east-1.bonsaisearch.net:443/covidtweets/_doc/1387905735179345926 [status:201 request:0.095s]\n",
            "INFO:elasticsearch:PUT https://kafka-homework3-5284633582.us-east-1.bonsaisearch.net:443/covidtweets/_doc/1387905735284060160 [status:201 request:0.025s]\n",
            "INFO:elasticsearch:PUT https://kafka-homework3-5284633582.us-east-1.bonsaisearch.net:443/covidtweets/_doc/1387905736680767491 [status:201 request:0.027s]\n",
            "INFO:elasticsearch:PUT https://kafka-homework3-5284633582.us-east-1.bonsaisearch.net:443/covidtweets/_doc/1387905738555772929 [status:201 request:0.026s]\n"
          ],
          "name": "stderr"
        },
        {
          "output_type": "stream",
          "text": [
            "91\n",
            "92\n",
            "93\n",
            "94\n"
          ],
          "name": "stdout"
        },
        {
          "output_type": "stream",
          "text": [
            "INFO:elasticsearch:PUT https://kafka-homework3-5284633582.us-east-1.bonsaisearch.net:443/covidtweets/_doc/1387905740262813696 [status:201 request:0.115s]\n",
            "INFO:elasticsearch:PUT https://kafka-homework3-5284633582.us-east-1.bonsaisearch.net:443/covidtweets/_doc/1387905744310308867 [status:201 request:0.028s]\n",
            "INFO:elasticsearch:PUT https://kafka-homework3-5284633582.us-east-1.bonsaisearch.net:443/covidtweets/_doc/1387905751956459525 [status:201 request:0.026s]\n",
            "INFO:elasticsearch:PUT https://kafka-homework3-5284633582.us-east-1.bonsaisearch.net:443/covidtweets/_doc/1387905762987438080 [status:201 request:0.028s]\n",
            "INFO:elasticsearch:PUT https://kafka-homework3-5284633582.us-east-1.bonsaisearch.net:443/covidtweets/_doc/1387905771837394947 [status:201 request:0.028s]\n",
            "INFO:elasticsearch:PUT https://kafka-homework3-5284633582.us-east-1.bonsaisearch.net:443/covidtweets/_doc/1387905773271797761 [status:201 request:0.030s]\n",
            "INFO:elasticsearch:PUT https://kafka-homework3-5284633582.us-east-1.bonsaisearch.net:443/covidtweets/_doc/1387905775079772162 [status:201 request:0.028s]\n"
          ],
          "name": "stderr"
        },
        {
          "output_type": "stream",
          "text": [
            "95\n",
            "96\n",
            "97\n",
            "98\n",
            "99\n",
            "100\n",
            "101\n"
          ],
          "name": "stdout"
        },
        {
          "output_type": "stream",
          "text": [
            "INFO:elasticsearch:PUT https://kafka-homework3-5284633582.us-east-1.bonsaisearch.net:443/covidtweets/_doc/1387905779492167682 [status:201 request:0.028s]\n",
            "INFO:elasticsearch:PUT https://kafka-homework3-5284633582.us-east-1.bonsaisearch.net:443/covidtweets/_doc/1387905782423998465 [status:201 request:0.029s]\n",
            "INFO:elasticsearch:PUT https://kafka-homework3-5284633582.us-east-1.bonsaisearch.net:443/covidtweets/_doc/1387905791299043328 [status:201 request:0.027s]\n",
            "INFO:elasticsearch:PUT https://kafka-homework3-5284633582.us-east-1.bonsaisearch.net:443/covidtweets/_doc/1387905795182919682 [status:201 request:0.027s]\n",
            "INFO:elasticsearch:PUT https://kafka-homework3-5284633582.us-east-1.bonsaisearch.net:443/covidtweets/_doc/1387905795367575553 [status:201 request:0.026s]\n",
            "INFO:elasticsearch:PUT https://kafka-homework3-5284633582.us-east-1.bonsaisearch.net:443/covidtweets/_doc/1387905795363385346 [status:201 request:0.026s]\n",
            "INFO:elasticsearch:PUT https://kafka-homework3-5284633582.us-east-1.bonsaisearch.net:443/covidtweets/_doc/1387905798261641219 [status:201 request:0.027s]\n"
          ],
          "name": "stderr"
        },
        {
          "output_type": "stream",
          "text": [
            "102\n",
            "103\n",
            "104\n",
            "105\n",
            "106\n",
            "107\n",
            "108\n"
          ],
          "name": "stdout"
        },
        {
          "output_type": "stream",
          "text": [
            "INFO:elasticsearch:PUT https://kafka-homework3-5284633582.us-east-1.bonsaisearch.net:443/covidtweets/_doc/1387905801675759631 [status:201 request:0.026s]\n",
            "INFO:elasticsearch:PUT https://kafka-homework3-5284633582.us-east-1.bonsaisearch.net:443/covidtweets/_doc/1387905803974287366 [status:201 request:0.028s]\n",
            "INFO:elasticsearch:PUT https://kafka-homework3-5284633582.us-east-1.bonsaisearch.net:443/covidtweets/_doc/1387905810743898113 [status:201 request:0.025s]\n",
            "INFO:elasticsearch:PUT https://kafka-homework3-5284633582.us-east-1.bonsaisearch.net:443/covidtweets/_doc/1387905819258376195 [status:201 request:0.027s]\n",
            "INFO:elasticsearch:PUT https://kafka-homework3-5284633582.us-east-1.bonsaisearch.net:443/covidtweets/_doc/1387905819245785093 [status:201 request:0.108s]\n"
          ],
          "name": "stderr"
        },
        {
          "output_type": "stream",
          "text": [
            "109\n",
            "110\n",
            "111\n",
            "112\n",
            "113\n"
          ],
          "name": "stdout"
        },
        {
          "output_type": "stream",
          "text": [
            "INFO:elasticsearch:PUT https://kafka-homework3-5284633582.us-east-1.bonsaisearch.net:443/covidtweets/_doc/1387905822655721477 [status:201 request:0.028s]\n",
            "INFO:elasticsearch:PUT https://kafka-homework3-5284633582.us-east-1.bonsaisearch.net:443/covidtweets/_doc/1387905830842929152 [status:201 request:0.028s]\n",
            "INFO:elasticsearch:PUT https://kafka-homework3-5284633582.us-east-1.bonsaisearch.net:443/covidtweets/_doc/1387905834533855232 [status:201 request:0.029s]\n",
            "INFO:elasticsearch:PUT https://kafka-homework3-5284633582.us-east-1.bonsaisearch.net:443/covidtweets/_doc/1387905834743603203 [status:201 request:0.029s]\n",
            "INFO:elasticsearch:PUT https://kafka-homework3-5284633582.us-east-1.bonsaisearch.net:443/covidtweets/_doc/1387905838241697797 [status:201 request:0.028s]\n",
            "INFO:elasticsearch:PUT https://kafka-homework3-5284633582.us-east-1.bonsaisearch.net:443/covidtweets/_doc/1387905842712875011 [status:201 request:0.026s]\n",
            "INFO:elasticsearch:PUT https://kafka-homework3-5284633582.us-east-1.bonsaisearch.net:443/covidtweets/_doc/1387905843367055364 [status:201 request:0.026s]\n"
          ],
          "name": "stderr"
        },
        {
          "output_type": "stream",
          "text": [
            "114\n",
            "115\n",
            "116\n",
            "117\n",
            "118\n",
            "119\n",
            "120\n"
          ],
          "name": "stdout"
        },
        {
          "output_type": "stream",
          "text": [
            "INFO:elasticsearch:PUT https://kafka-homework3-5284633582.us-east-1.bonsaisearch.net:443/covidtweets/_doc/1387905843388112900 [status:201 request:0.027s]\n",
            "INFO:elasticsearch:PUT https://kafka-homework3-5284633582.us-east-1.bonsaisearch.net:443/covidtweets/_doc/1387905854951804932 [status:201 request:0.026s]\n",
            "INFO:elasticsearch:PUT https://kafka-homework3-5284633582.us-east-1.bonsaisearch.net:443/covidtweets/_doc/1387905855396397057 [status:201 request:0.026s]\n",
            "INFO:elasticsearch:PUT https://kafka-homework3-5284633582.us-east-1.bonsaisearch.net:443/covidtweets/_doc/1387905857460088832 [status:201 request:0.028s]\n",
            "INFO:elasticsearch:PUT https://kafka-homework3-5284633582.us-east-1.bonsaisearch.net:443/covidtweets/_doc/1387905857518702596 [status:201 request:0.030s]\n"
          ],
          "name": "stderr"
        },
        {
          "output_type": "stream",
          "text": [
            "121\n",
            "122\n",
            "123\n",
            "124\n",
            "125\n"
          ],
          "name": "stdout"
        },
        {
          "output_type": "stream",
          "text": [
            "INFO:elasticsearch:PUT https://kafka-homework3-5284633582.us-east-1.bonsaisearch.net:443/covidtweets/_doc/1387905859921928193 [status:201 request:0.109s]\n",
            "INFO:elasticsearch:PUT https://kafka-homework3-5284633582.us-east-1.bonsaisearch.net:443/covidtweets/_doc/1387905866821783555 [status:201 request:0.027s]\n",
            "INFO:elasticsearch:PUT https://kafka-homework3-5284633582.us-east-1.bonsaisearch.net:443/covidtweets/_doc/1387905867551416322 [status:201 request:0.027s]\n",
            "INFO:elasticsearch:PUT https://kafka-homework3-5284633582.us-east-1.bonsaisearch.net:443/covidtweets/_doc/1387905869053009927 [status:201 request:0.027s]\n",
            "INFO:elasticsearch:PUT https://kafka-homework3-5284633582.us-east-1.bonsaisearch.net:443/covidtweets/_doc/1387905869166358528 [status:201 request:0.027s]\n"
          ],
          "name": "stderr"
        },
        {
          "output_type": "stream",
          "text": [
            "126\n",
            "127\n",
            "128\n",
            "129\n",
            "130\n"
          ],
          "name": "stdout"
        },
        {
          "output_type": "stream",
          "text": [
            "INFO:elasticsearch:PUT https://kafka-homework3-5284633582.us-east-1.bonsaisearch.net:443/covidtweets/_doc/1387905870885912576 [status:201 request:0.098s]\n",
            "INFO:elasticsearch:PUT https://kafka-homework3-5284633582.us-east-1.bonsaisearch.net:443/covidtweets/_doc/1387905872500776960 [status:201 request:0.031s]\n",
            "INFO:elasticsearch:PUT https://kafka-homework3-5284633582.us-east-1.bonsaisearch.net:443/covidtweets/_doc/1387905874166001666 [status:201 request:0.027s]\n",
            "INFO:elasticsearch:PUT https://kafka-homework3-5284633582.us-east-1.bonsaisearch.net:443/covidtweets/_doc/1387905875105533952 [status:201 request:0.031s]\n",
            "INFO:elasticsearch:PUT https://kafka-homework3-5284633582.us-east-1.bonsaisearch.net:443/covidtweets/_doc/1387905879190740999 [status:201 request:0.028s]\n",
            "INFO:elasticsearch:PUT https://kafka-homework3-5284633582.us-east-1.bonsaisearch.net:443/covidtweets/_doc/1387905886849490949 [status:201 request:0.028s]\n",
            "INFO:elasticsearch:PUT https://kafka-homework3-5284633582.us-east-1.bonsaisearch.net:443/covidtweets/_doc/1387905887596122117 [status:201 request:0.026s]\n"
          ],
          "name": "stderr"
        },
        {
          "output_type": "stream",
          "text": [
            "131\n",
            "132\n",
            "133\n",
            "134\n",
            "135\n",
            "136\n",
            "137\n"
          ],
          "name": "stdout"
        },
        {
          "output_type": "stream",
          "text": [
            "INFO:elasticsearch:PUT https://kafka-homework3-5284633582.us-east-1.bonsaisearch.net:443/covidtweets/_doc/1387905899474341889 [status:201 request:0.028s]\n",
            "INFO:elasticsearch:PUT https://kafka-homework3-5284633582.us-east-1.bonsaisearch.net:443/covidtweets/_doc/1387905900996870146 [status:201 request:0.030s]\n",
            "INFO:elasticsearch:PUT https://kafka-homework3-5284633582.us-east-1.bonsaisearch.net:443/covidtweets/_doc/1387905906344488965 [status:201 request:0.105s]\n",
            "INFO:elasticsearch:PUT https://kafka-homework3-5284633582.us-east-1.bonsaisearch.net:443/covidtweets/_doc/1387905906805936128 [status:201 request:0.026s]\n"
          ],
          "name": "stderr"
        },
        {
          "output_type": "stream",
          "text": [
            "138\n",
            "139\n",
            "140\n",
            "141\n"
          ],
          "name": "stdout"
        },
        {
          "output_type": "stream",
          "text": [
            "INFO:elasticsearch:PUT https://kafka-homework3-5284633582.us-east-1.bonsaisearch.net:443/covidtweets/_doc/1387905906948681730 [status:201 request:0.029s]\n",
            "INFO:elasticsearch:PUT https://kafka-homework3-5284633582.us-east-1.bonsaisearch.net:443/covidtweets/_doc/1387905906990583810 [status:201 request:0.028s]\n",
            "INFO:elasticsearch:PUT https://kafka-homework3-5284633582.us-east-1.bonsaisearch.net:443/covidtweets/_doc/1387905920668094465 [status:201 request:0.027s]\n",
            "INFO:elasticsearch:PUT https://kafka-homework3-5284633582.us-east-1.bonsaisearch.net:443/covidtweets/_doc/1387905925441282050 [status:201 request:0.028s]\n",
            "INFO:elasticsearch:PUT https://kafka-homework3-5284633582.us-east-1.bonsaisearch.net:443/covidtweets/_doc/1387905927710273536 [status:201 request:0.026s]\n",
            "INFO:elasticsearch:PUT https://kafka-homework3-5284633582.us-east-1.bonsaisearch.net:443/covidtweets/_doc/1387905927542501379 [status:201 request:0.027s]\n",
            "INFO:elasticsearch:PUT https://kafka-homework3-5284633582.us-east-1.bonsaisearch.net:443/covidtweets/_doc/1387905932471017479 [status:201 request:0.026s]\n"
          ],
          "name": "stderr"
        },
        {
          "output_type": "stream",
          "text": [
            "142\n",
            "143\n",
            "144\n",
            "145\n",
            "146\n",
            "147\n",
            "148\n"
          ],
          "name": "stdout"
        },
        {
          "output_type": "stream",
          "text": [
            "INFO:elasticsearch:PUT https://kafka-homework3-5284633582.us-east-1.bonsaisearch.net:443/covidtweets/_doc/1387905932550713345 [status:201 request:0.027s]\n",
            "INFO:elasticsearch:PUT https://kafka-homework3-5284633582.us-east-1.bonsaisearch.net:443/covidtweets/_doc/1387905936245809153 [status:201 request:0.027s]\n",
            "INFO:elasticsearch:PUT https://kafka-homework3-5284633582.us-east-1.bonsaisearch.net:443/covidtweets/_doc/1387905939462926337 [status:201 request:0.028s]\n",
            "INFO:elasticsearch:PUT https://kafka-homework3-5284633582.us-east-1.bonsaisearch.net:443/covidtweets/_doc/1387905939777286144 [status:201 request:0.026s]\n",
            "INFO:elasticsearch:PUT https://kafka-homework3-5284633582.us-east-1.bonsaisearch.net:443/covidtweets/_doc/1387905943015362560 [status:201 request:0.027s]\n",
            "INFO:elasticsearch:PUT https://kafka-homework3-5284633582.us-east-1.bonsaisearch.net:443/covidtweets/_doc/1387905945410232320 [status:201 request:0.026s]\n",
            "INFO:elasticsearch:PUT https://kafka-homework3-5284633582.us-east-1.bonsaisearch.net:443/covidtweets/_doc/1387905949587763205 [status:201 request:0.027s]\n"
          ],
          "name": "stderr"
        },
        {
          "output_type": "stream",
          "text": [
            "149\n",
            "150\n",
            "151\n",
            "152\n",
            "153\n",
            "154\n",
            "155\n"
          ],
          "name": "stdout"
        },
        {
          "output_type": "stream",
          "text": [
            "INFO:elasticsearch:PUT https://kafka-homework3-5284633582.us-east-1.bonsaisearch.net:443/covidtweets/_doc/1387905950003105792 [status:201 request:0.028s]\n",
            "INFO:elasticsearch:PUT https://kafka-homework3-5284633582.us-east-1.bonsaisearch.net:443/covidtweets/_doc/1387905950141530115 [status:201 request:0.032s]\n",
            "INFO:elasticsearch:PUT https://kafka-homework3-5284633582.us-east-1.bonsaisearch.net:443/covidtweets/_doc/1387905951080976384 [status:201 request:0.031s]\n",
            "INFO:elasticsearch:PUT https://kafka-homework3-5284633582.us-east-1.bonsaisearch.net:443/covidtweets/_doc/1387905954222546944 [status:201 request:0.028s]\n",
            "INFO:elasticsearch:PUT https://kafka-homework3-5284633582.us-east-1.bonsaisearch.net:443/covidtweets/_doc/1387905957984968707 [status:201 request:0.027s]\n",
            "INFO:elasticsearch:PUT https://kafka-homework3-5284633582.us-east-1.bonsaisearch.net:443/covidtweets/_doc/1387905958450507778 [status:201 request:0.028s]\n",
            "INFO:elasticsearch:PUT https://kafka-homework3-5284633582.us-east-1.bonsaisearch.net:443/covidtweets/_doc/1387905964989325312 [status:201 request:0.029s]\n"
          ],
          "name": "stderr"
        },
        {
          "output_type": "stream",
          "text": [
            "156\n",
            "157\n",
            "158\n",
            "159\n",
            "160\n",
            "161\n",
            "162\n"
          ],
          "name": "stdout"
        },
        {
          "output_type": "stream",
          "text": [
            "INFO:elasticsearch:PUT https://kafka-homework3-5284633582.us-east-1.bonsaisearch.net:443/covidtweets/_doc/1387905969552822282 [status:201 request:0.027s]\n",
            "INFO:elasticsearch:PUT https://kafka-homework3-5284633582.us-east-1.bonsaisearch.net:443/covidtweets/_doc/1387905970852880386 [status:201 request:0.027s]\n",
            "INFO:elasticsearch:PUT https://kafka-homework3-5284633582.us-east-1.bonsaisearch.net:443/covidtweets/_doc/1387905971981271044 [status:201 request:0.028s]\n",
            "INFO:elasticsearch:PUT https://kafka-homework3-5284633582.us-east-1.bonsaisearch.net:443/covidtweets/_doc/1387905972736307201 [status:201 request:0.095s]\n",
            "INFO:elasticsearch:PUT https://kafka-homework3-5284633582.us-east-1.bonsaisearch.net:443/covidtweets/_doc/1387905974690791431 [status:201 request:0.029s]\n"
          ],
          "name": "stderr"
        },
        {
          "output_type": "stream",
          "text": [
            "163\n",
            "164\n",
            "165\n",
            "166\n",
            "167\n"
          ],
          "name": "stdout"
        },
        {
          "output_type": "stream",
          "text": [
            "INFO:elasticsearch:PUT https://kafka-homework3-5284633582.us-east-1.bonsaisearch.net:443/covidtweets/_doc/1387905974674104324 [status:201 request:0.027s]\n",
            "INFO:elasticsearch:PUT https://kafka-homework3-5284633582.us-east-1.bonsaisearch.net:443/covidtweets/_doc/1387905978788614145 [status:201 request:0.028s]\n",
            "INFO:elasticsearch:PUT https://kafka-homework3-5284633582.us-east-1.bonsaisearch.net:443/covidtweets/_doc/1387905983247265792 [status:201 request:0.028s]\n",
            "INFO:elasticsearch:PUT https://kafka-homework3-5284633582.us-east-1.bonsaisearch.net:443/covidtweets/_doc/1387905984195031041 [status:201 request:0.028s]\n",
            "INFO:elasticsearch:PUT https://kafka-homework3-5284633582.us-east-1.bonsaisearch.net:443/covidtweets/_doc/1387905984308281344 [status:201 request:0.027s]\n",
            "INFO:elasticsearch:PUT https://kafka-homework3-5284633582.us-east-1.bonsaisearch.net:443/covidtweets/_doc/1387905984597839877 [status:201 request:0.028s]\n",
            "INFO:elasticsearch:PUT https://kafka-homework3-5284633582.us-east-1.bonsaisearch.net:443/covidtweets/_doc/1387905984534695940 [status:201 request:0.028s]\n"
          ],
          "name": "stderr"
        },
        {
          "output_type": "stream",
          "text": [
            "168\n",
            "169\n",
            "170\n",
            "171\n",
            "172\n",
            "173\n",
            "174\n"
          ],
          "name": "stdout"
        },
        {
          "output_type": "stream",
          "text": [
            "INFO:elasticsearch:PUT https://kafka-homework3-5284633582.us-east-1.bonsaisearch.net:443/covidtweets/_doc/1387905987240239115 [status:201 request:0.031s]\n",
            "INFO:elasticsearch:PUT https://kafka-homework3-5284633582.us-east-1.bonsaisearch.net:443/covidtweets/_doc/1387905988158754818 [status:201 request:0.030s]\n",
            "INFO:elasticsearch:PUT https://kafka-homework3-5284633582.us-east-1.bonsaisearch.net:443/covidtweets/_doc/1387905988322279426 [status:201 request:0.027s]\n",
            "INFO:elasticsearch:PUT https://kafka-homework3-5284633582.us-east-1.bonsaisearch.net:443/covidtweets/_doc/1387905989022601222 [status:201 request:0.028s]\n",
            "INFO:elasticsearch:PUT https://kafka-homework3-5284633582.us-east-1.bonsaisearch.net:443/covidtweets/_doc/1387905989735849992 [status:201 request:0.027s]\n",
            "INFO:elasticsearch:PUT https://kafka-homework3-5284633582.us-east-1.bonsaisearch.net:443/covidtweets/_doc/1387905990100754432 [status:201 request:0.026s]\n",
            "INFO:elasticsearch:PUT https://kafka-homework3-5284633582.us-east-1.bonsaisearch.net:443/covidtweets/_doc/1387905993783250945 [status:201 request:0.027s]\n"
          ],
          "name": "stderr"
        },
        {
          "output_type": "stream",
          "text": [
            "175\n",
            "176\n",
            "177\n",
            "178\n",
            "179\n",
            "180\n",
            "181\n"
          ],
          "name": "stdout"
        },
        {
          "output_type": "stream",
          "text": [
            "INFO:elasticsearch:PUT https://kafka-homework3-5284633582.us-east-1.bonsaisearch.net:443/covidtweets/_doc/1387905522083434498 [status:201 request:0.030s]\n",
            "INFO:elasticsearch:PUT https://kafka-homework3-5284633582.us-east-1.bonsaisearch.net:443/covidtweets/_doc/1387905522477633536 [status:201 request:0.027s]\n",
            "INFO:elasticsearch:PUT https://kafka-homework3-5284633582.us-east-1.bonsaisearch.net:443/covidtweets/_doc/1387905526365712386 [status:201 request:0.032s]\n",
            "INFO:elasticsearch:PUT https://kafka-homework3-5284633582.us-east-1.bonsaisearch.net:443/covidtweets/_doc/1387905527166951428 [status:201 request:0.028s]\n",
            "INFO:elasticsearch:PUT https://kafka-homework3-5284633582.us-east-1.bonsaisearch.net:443/covidtweets/_doc/1387905529029160960 [status:201 request:0.027s]\n",
            "INFO:elasticsearch:PUT https://kafka-homework3-5284633582.us-east-1.bonsaisearch.net:443/covidtweets/_doc/1387905529436164097 [status:201 request:0.028s]\n",
            "INFO:elasticsearch:PUT https://kafka-homework3-5284633582.us-east-1.bonsaisearch.net:443/covidtweets/_doc/1387905532212637698 [status:201 request:0.029s]\n"
          ],
          "name": "stderr"
        },
        {
          "output_type": "stream",
          "text": [
            "182\n",
            "183\n",
            "184\n",
            "185\n",
            "186\n",
            "187\n",
            "188\n"
          ],
          "name": "stdout"
        },
        {
          "output_type": "stream",
          "text": [
            "INFO:elasticsearch:PUT https://kafka-homework3-5284633582.us-east-1.bonsaisearch.net:443/covidtweets/_doc/1387905532262977536 [status:201 request:0.028s]\n",
            "INFO:elasticsearch:PUT https://kafka-homework3-5284633582.us-east-1.bonsaisearch.net:443/covidtweets/_doc/1387905531755606019 [status:201 request:0.028s]\n",
            "INFO:elasticsearch:PUT https://kafka-homework3-5284633582.us-east-1.bonsaisearch.net:443/covidtweets/_doc/1387905537048645633 [status:201 request:0.029s]\n",
            "INFO:elasticsearch:PUT https://kafka-homework3-5284633582.us-east-1.bonsaisearch.net:443/covidtweets/_doc/1387905537124315136 [status:201 request:0.027s]\n",
            "INFO:elasticsearch:PUT https://kafka-homework3-5284633582.us-east-1.bonsaisearch.net:443/covidtweets/_doc/1387905538009276416 [status:201 request:0.036s]\n",
            "INFO:elasticsearch:PUT https://kafka-homework3-5284633582.us-east-1.bonsaisearch.net:443/covidtweets/_doc/1387905538592227329 [status:201 request:0.028s]\n",
            "INFO:elasticsearch:PUT https://kafka-homework3-5284633582.us-east-1.bonsaisearch.net:443/covidtweets/_doc/1387905539255029762 [status:201 request:0.033s]\n"
          ],
          "name": "stderr"
        },
        {
          "output_type": "stream",
          "text": [
            "189\n",
            "190\n",
            "191\n",
            "192\n",
            "193\n",
            "194\n",
            "195\n"
          ],
          "name": "stdout"
        },
        {
          "output_type": "stream",
          "text": [
            "INFO:elasticsearch:PUT https://kafka-homework3-5284633582.us-east-1.bonsaisearch.net:443/covidtweets/_doc/1387905546062159875 [status:201 request:0.120s]\n",
            "INFO:elasticsearch:PUT https://kafka-homework3-5284633582.us-east-1.bonsaisearch.net:443/covidtweets/_doc/1387905550243958784 [status:201 request:0.027s]\n",
            "INFO:elasticsearch:PUT https://kafka-homework3-5284633582.us-east-1.bonsaisearch.net:443/covidtweets/_doc/1387905552320110594 [status:201 request:0.028s]\n",
            "INFO:elasticsearch:PUT https://kafka-homework3-5284633582.us-east-1.bonsaisearch.net:443/covidtweets/_doc/1387905553062637576 [status:201 request:0.028s]\n",
            "INFO:elasticsearch:PUT https://kafka-homework3-5284633582.us-east-1.bonsaisearch.net:443/covidtweets/_doc/1387905563896471553 [status:201 request:0.028s]\n",
            "INFO:elasticsearch:PUT https://kafka-homework3-5284633582.us-east-1.bonsaisearch.net:443/covidtweets/_doc/1387905566106808325 [status:201 request:0.029s]\n",
            "INFO:elasticsearch:PUT https://kafka-homework3-5284633582.us-east-1.bonsaisearch.net:443/covidtweets/_doc/1387905568015331329 [status:201 request:0.028s]\n"
          ],
          "name": "stderr"
        },
        {
          "output_type": "stream",
          "text": [
            "196\n",
            "197\n",
            "198\n",
            "199\n",
            "200\n",
            "201\n",
            "202\n"
          ],
          "name": "stdout"
        },
        {
          "output_type": "stream",
          "text": [
            "INFO:elasticsearch:PUT https://kafka-homework3-5284633582.us-east-1.bonsaisearch.net:443/covidtweets/_doc/1387905568942219265 [status:201 request:0.029s]\n",
            "INFO:elasticsearch:PUT https://kafka-homework3-5284633582.us-east-1.bonsaisearch.net:443/covidtweets/_doc/1387905569466425346 [status:201 request:0.029s]\n",
            "INFO:elasticsearch:PUT https://kafka-homework3-5284633582.us-east-1.bonsaisearch.net:443/covidtweets/_doc/1387905569516756993 [status:201 request:0.028s]\n",
            "INFO:elasticsearch:PUT https://kafka-homework3-5284633582.us-east-1.bonsaisearch.net:443/covidtweets/_doc/1387905571194540048 [status:201 request:0.028s]\n",
            "INFO:elasticsearch:PUT https://kafka-homework3-5284633582.us-east-1.bonsaisearch.net:443/covidtweets/_doc/1387905571819597829 [status:201 request:0.034s]\n",
            "INFO:elasticsearch:PUT https://kafka-homework3-5284633582.us-east-1.bonsaisearch.net:443/covidtweets/_doc/1387905573996449793 [status:201 request:0.030s]\n",
            "INFO:elasticsearch:PUT https://kafka-homework3-5284633582.us-east-1.bonsaisearch.net:443/covidtweets/_doc/1387905578811502601 [status:201 request:0.028s]\n"
          ],
          "name": "stderr"
        },
        {
          "output_type": "stream",
          "text": [
            "203\n",
            "204\n",
            "205\n",
            "206\n",
            "207\n",
            "208\n",
            "209\n"
          ],
          "name": "stdout"
        },
        {
          "output_type": "stream",
          "text": [
            "INFO:elasticsearch:PUT https://kafka-homework3-5284633582.us-east-1.bonsaisearch.net:443/covidtweets/_doc/1387905579486679040 [status:201 request:0.033s]\n",
            "INFO:elasticsearch:PUT https://kafka-homework3-5284633582.us-east-1.bonsaisearch.net:443/covidtweets/_doc/1387905583861231617 [status:201 request:0.036s]\n",
            "INFO:elasticsearch:PUT https://kafka-homework3-5284633582.us-east-1.bonsaisearch.net:443/covidtweets/_doc/1387905588936458241 [status:201 request:0.028s]\n",
            "INFO:elasticsearch:PUT https://kafka-homework3-5284633582.us-east-1.bonsaisearch.net:443/covidtweets/_doc/1387905593222983680 [status:201 request:0.033s]\n",
            "INFO:elasticsearch:PUT https://kafka-homework3-5284633582.us-east-1.bonsaisearch.net:443/covidtweets/_doc/1387905593533296641 [status:201 request:0.029s]\n",
            "INFO:elasticsearch:PUT https://kafka-homework3-5284633582.us-east-1.bonsaisearch.net:443/covidtweets/_doc/1387905594024251394 [status:201 request:0.028s]\n",
            "INFO:elasticsearch:PUT https://kafka-homework3-5284633582.us-east-1.bonsaisearch.net:443/covidtweets/_doc/1387905596502904832 [status:201 request:0.029s]\n"
          ],
          "name": "stderr"
        },
        {
          "output_type": "stream",
          "text": [
            "210\n",
            "211\n",
            "212\n",
            "213\n",
            "214\n",
            "215\n",
            "216\n"
          ],
          "name": "stdout"
        },
        {
          "output_type": "stream",
          "text": [
            "INFO:elasticsearch:PUT https://kafka-homework3-5284633582.us-east-1.bonsaisearch.net:443/covidtweets/_doc/1387905600349167617 [status:201 request:0.030s]\n",
            "INFO:elasticsearch:PUT https://kafka-homework3-5284633582.us-east-1.bonsaisearch.net:443/covidtweets/_doc/1387905600500154375 [status:201 request:0.031s]\n",
            "INFO:elasticsearch:PUT https://kafka-homework3-5284633582.us-east-1.bonsaisearch.net:443/covidtweets/_doc/1387905601129308160 [status:201 request:0.029s]\n",
            "INFO:elasticsearch:PUT https://kafka-homework3-5284633582.us-east-1.bonsaisearch.net:443/covidtweets/_doc/1387905602077274117 [status:201 request:0.028s]\n",
            "INFO:elasticsearch:PUT https://kafka-homework3-5284633582.us-east-1.bonsaisearch.net:443/covidtweets/_doc/1387905609052442631 [status:201 request:0.026s]\n",
            "INFO:elasticsearch:PUT https://kafka-homework3-5284633582.us-east-1.bonsaisearch.net:443/covidtweets/_doc/1387905612621631491 [status:201 request:0.032s]\n",
            "INFO:elasticsearch:PUT https://kafka-homework3-5284633582.us-east-1.bonsaisearch.net:443/covidtweets/_doc/1387905613221478404 [status:201 request:0.028s]\n"
          ],
          "name": "stderr"
        },
        {
          "output_type": "stream",
          "text": [
            "217\n",
            "218\n",
            "219\n",
            "220\n",
            "221\n",
            "222\n",
            "223\n"
          ],
          "name": "stdout"
        },
        {
          "output_type": "stream",
          "text": [
            "INFO:elasticsearch:PUT https://kafka-homework3-5284633582.us-east-1.bonsaisearch.net:443/covidtweets/_doc/1387905615935115267 [status:201 request:0.027s]\n",
            "INFO:elasticsearch:PUT https://kafka-homework3-5284633582.us-east-1.bonsaisearch.net:443/covidtweets/_doc/1387905617994653706 [status:201 request:0.028s]\n",
            "INFO:elasticsearch:PUT https://kafka-homework3-5284633582.us-east-1.bonsaisearch.net:443/covidtweets/_doc/1387905618288148481 [status:201 request:0.028s]\n",
            "INFO:elasticsearch:PUT https://kafka-homework3-5284633582.us-east-1.bonsaisearch.net:443/covidtweets/_doc/1387905619869409281 [status:201 request:0.128s]\n"
          ],
          "name": "stderr"
        },
        {
          "output_type": "stream",
          "text": [
            "224\n",
            "225\n",
            "226\n",
            "227\n"
          ],
          "name": "stdout"
        },
        {
          "output_type": "stream",
          "text": [
            "INFO:elasticsearch:PUT https://kafka-homework3-5284633582.us-east-1.bonsaisearch.net:443/covidtweets/_doc/1387905621404667907 [status:201 request:0.029s]\n",
            "INFO:elasticsearch:PUT https://kafka-homework3-5284633582.us-east-1.bonsaisearch.net:443/covidtweets/_doc/1387905621689765888 [status:201 request:0.030s]\n",
            "INFO:elasticsearch:PUT https://kafka-homework3-5284633582.us-east-1.bonsaisearch.net:443/covidtweets/_doc/1387905621911957508 [status:201 request:0.029s]\n",
            "INFO:elasticsearch:PUT https://kafka-homework3-5284633582.us-east-1.bonsaisearch.net:443/covidtweets/_doc/1387905622948171778 [status:201 request:0.029s]\n",
            "INFO:elasticsearch:PUT https://kafka-homework3-5284633582.us-east-1.bonsaisearch.net:443/covidtweets/_doc/1387905630099410946 [status:201 request:0.029s]\n"
          ],
          "name": "stderr"
        },
        {
          "output_type": "stream",
          "text": [
            "228\n",
            "229\n",
            "230\n",
            "231\n",
            "232\n"
          ],
          "name": "stdout"
        },
        {
          "output_type": "stream",
          "text": [
            "INFO:elasticsearch:PUT https://kafka-homework3-5284633582.us-east-1.bonsaisearch.net:443/covidtweets/_doc/1387905629885325315 [status:201 request:0.228s]\n",
            "INFO:elasticsearch:PUT https://kafka-homework3-5284633582.us-east-1.bonsaisearch.net:443/covidtweets/_doc/1387905630380331008 [status:201 request:0.027s]\n",
            "INFO:elasticsearch:PUT https://kafka-homework3-5284633582.us-east-1.bonsaisearch.net:443/covidtweets/_doc/1387905634222452741 [status:201 request:0.025s]\n",
            "INFO:elasticsearch:PUT https://kafka-homework3-5284633582.us-east-1.bonsaisearch.net:443/covidtweets/_doc/1387905637154271235 [status:201 request:0.027s]\n",
            "INFO:elasticsearch:PUT https://kafka-homework3-5284633582.us-east-1.bonsaisearch.net:443/covidtweets/_doc/1387905638777380864 [status:201 request:0.026s]\n",
            "INFO:elasticsearch:PUT https://kafka-homework3-5284633582.us-east-1.bonsaisearch.net:443/covidtweets/_doc/1387905640526278658 [status:201 request:0.027s]\n",
            "INFO:elasticsearch:PUT https://kafka-homework3-5284633582.us-east-1.bonsaisearch.net:443/covidtweets/_doc/1387905649904848900 [status:201 request:0.027s]\n"
          ],
          "name": "stderr"
        },
        {
          "output_type": "stream",
          "text": [
            "233\n",
            "234\n",
            "235\n",
            "236\n",
            "237\n",
            "238\n",
            "239\n"
          ],
          "name": "stdout"
        },
        {
          "output_type": "stream",
          "text": [
            "INFO:elasticsearch:PUT https://kafka-homework3-5284633582.us-east-1.bonsaisearch.net:443/covidtweets/_doc/1387905661086969858 [status:201 request:0.027s]\n",
            "INFO:elasticsearch:PUT https://kafka-homework3-5284633582.us-east-1.bonsaisearch.net:443/covidtweets/_doc/1387905661288202248 [status:201 request:0.025s]\n",
            "INFO:elasticsearch:PUT https://kafka-homework3-5284633582.us-east-1.bonsaisearch.net:443/covidtweets/_doc/1387905663653666818 [status:201 request:0.026s]\n",
            "INFO:elasticsearch:PUT https://kafka-homework3-5284633582.us-east-1.bonsaisearch.net:443/covidtweets/_doc/1387905666896048128 [status:201 request:0.031s]\n",
            "INFO:elasticsearch:PUT https://kafka-homework3-5284633582.us-east-1.bonsaisearch.net:443/covidtweets/_doc/1387905667441254405 [status:201 request:0.029s]\n",
            "INFO:elasticsearch:PUT https://kafka-homework3-5284633582.us-east-1.bonsaisearch.net:443/covidtweets/_doc/1387905674143670274 [status:201 request:0.030s]\n",
            "INFO:elasticsearch:PUT https://kafka-homework3-5284633582.us-east-1.bonsaisearch.net:443/covidtweets/_doc/1387905678627393538 [status:201 request:0.027s]\n"
          ],
          "name": "stderr"
        },
        {
          "output_type": "stream",
          "text": [
            "240\n",
            "241\n",
            "242\n",
            "243\n",
            "244\n",
            "245\n",
            "246\n"
          ],
          "name": "stdout"
        },
        {
          "output_type": "stream",
          "text": [
            "INFO:elasticsearch:PUT https://kafka-homework3-5284633582.us-east-1.bonsaisearch.net:443/covidtweets/_doc/1387905692078534658 [status:201 request:0.028s]\n",
            "INFO:elasticsearch:PUT https://kafka-homework3-5284633582.us-east-1.bonsaisearch.net:443/covidtweets/_doc/1387905696897847298 [status:201 request:0.027s]\n",
            "INFO:elasticsearch:PUT https://kafka-homework3-5284633582.us-east-1.bonsaisearch.net:443/covidtweets/_doc/1387905697598173186 [status:201 request:0.027s]\n",
            "INFO:elasticsearch:PUT https://kafka-homework3-5284633582.us-east-1.bonsaisearch.net:443/covidtweets/_doc/1387905697703202820 [status:201 request:0.028s]\n",
            "INFO:elasticsearch:PUT https://kafka-homework3-5284633582.us-east-1.bonsaisearch.net:443/covidtweets/_doc/1387905701192683521 [status:201 request:0.027s]\n",
            "INFO:elasticsearch:PUT https://kafka-homework3-5284633582.us-east-1.bonsaisearch.net:443/covidtweets/_doc/1387905701796884488 [status:201 request:0.028s]\n",
            "INFO:elasticsearch:PUT https://kafka-homework3-5284633582.us-east-1.bonsaisearch.net:443/covidtweets/_doc/1387905701922676736 [status:201 request:0.030s]\n"
          ],
          "name": "stderr"
        },
        {
          "output_type": "stream",
          "text": [
            "247\n",
            "248\n",
            "249\n",
            "250\n",
            "251\n",
            "252\n",
            "253\n"
          ],
          "name": "stdout"
        },
        {
          "output_type": "stream",
          "text": [
            "INFO:elasticsearch:PUT https://kafka-homework3-5284633582.us-east-1.bonsaisearch.net:443/covidtweets/_doc/1387905702698668032 [status:201 request:0.029s]\n",
            "INFO:elasticsearch:PUT https://kafka-homework3-5284633582.us-east-1.bonsaisearch.net:443/covidtweets/_doc/1387905706762907649 [status:201 request:0.027s]\n",
            "INFO:elasticsearch:PUT https://kafka-homework3-5284633582.us-east-1.bonsaisearch.net:443/covidtweets/_doc/1387905712865652741 [status:201 request:0.028s]\n",
            "INFO:elasticsearch:PUT https://kafka-homework3-5284633582.us-east-1.bonsaisearch.net:443/covidtweets/_doc/1387905713591267335 [status:201 request:0.027s]\n",
            "INFO:elasticsearch:PUT https://kafka-homework3-5284633582.us-east-1.bonsaisearch.net:443/covidtweets/_doc/1387905716095094785 [status:201 request:0.026s]\n",
            "INFO:elasticsearch:PUT https://kafka-homework3-5284633582.us-east-1.bonsaisearch.net:443/covidtweets/_doc/1387905716854431745 [status:201 request:0.029s]\n",
            "INFO:elasticsearch:PUT https://kafka-homework3-5284633582.us-east-1.bonsaisearch.net:443/covidtweets/_doc/1387905717311508488 [status:201 request:0.028s]\n"
          ],
          "name": "stderr"
        },
        {
          "output_type": "stream",
          "text": [
            "254\n",
            "255\n",
            "256\n",
            "257\n",
            "258\n",
            "259\n",
            "260\n"
          ],
          "name": "stdout"
        },
        {
          "output_type": "stream",
          "text": [
            "INFO:elasticsearch:PUT https://kafka-homework3-5284633582.us-east-1.bonsaisearch.net:443/covidtweets/_doc/1387905717491933191 [status:201 request:0.026s]\n",
            "INFO:elasticsearch:PUT https://kafka-homework3-5284633582.us-east-1.bonsaisearch.net:443/covidtweets/_doc/1387905717932339207 [status:201 request:0.026s]\n",
            "INFO:elasticsearch:PUT https://kafka-homework3-5284633582.us-east-1.bonsaisearch.net:443/covidtweets/_doc/1387905725318434823 [status:201 request:0.028s]\n",
            "INFO:elasticsearch:PUT https://kafka-homework3-5284633582.us-east-1.bonsaisearch.net:443/covidtweets/_doc/1387905730603278347 [status:201 request:0.027s]\n",
            "INFO:elasticsearch:PUT https://kafka-homework3-5284633582.us-east-1.bonsaisearch.net:443/covidtweets/_doc/1387905738203451394 [status:201 request:0.028s]\n",
            "INFO:elasticsearch:PUT https://kafka-homework3-5284633582.us-east-1.bonsaisearch.net:443/covidtweets/_doc/1387905743169277954 [status:201 request:0.027s]\n",
            "INFO:elasticsearch:PUT https://kafka-homework3-5284633582.us-east-1.bonsaisearch.net:443/covidtweets/_doc/1387905751864254469 [status:201 request:0.027s]\n"
          ],
          "name": "stderr"
        },
        {
          "output_type": "stream",
          "text": [
            "261\n",
            "262\n",
            "263\n",
            "264\n",
            "265\n",
            "266\n",
            "267\n"
          ],
          "name": "stdout"
        },
        {
          "output_type": "stream",
          "text": [
            "INFO:elasticsearch:PUT https://kafka-homework3-5284633582.us-east-1.bonsaisearch.net:443/covidtweets/_doc/1387905756318638082 [status:201 request:0.028s]\n",
            "INFO:elasticsearch:PUT https://kafka-homework3-5284633582.us-east-1.bonsaisearch.net:443/covidtweets/_doc/1387905766133157889 [status:201 request:0.031s]\n",
            "INFO:elasticsearch:PUT https://kafka-homework3-5284633582.us-east-1.bonsaisearch.net:443/covidtweets/_doc/1387905770721665025 [status:201 request:0.030s]\n",
            "INFO:elasticsearch:PUT https://kafka-homework3-5284633582.us-east-1.bonsaisearch.net:443/covidtweets/_doc/1387905775331381255 [status:201 request:0.029s]\n",
            "INFO:elasticsearch:PUT https://kafka-homework3-5284633582.us-east-1.bonsaisearch.net:443/covidtweets/_doc/1387905776128303110 [status:201 request:0.029s]\n",
            "INFO:elasticsearch:PUT https://kafka-homework3-5284633582.us-east-1.bonsaisearch.net:443/covidtweets/_doc/1387905776329453569 [status:201 request:0.028s]\n"
          ],
          "name": "stderr"
        },
        {
          "output_type": "stream",
          "text": [
            "268\n",
            "269\n",
            "270\n",
            "271\n",
            "272\n",
            "273\n"
          ],
          "name": "stdout"
        },
        {
          "output_type": "stream",
          "text": [
            "INFO:elasticsearch:PUT https://kafka-homework3-5284633582.us-east-1.bonsaisearch.net:443/covidtweets/_doc/1387905777046888453 [status:201 request:0.029s]\n",
            "INFO:elasticsearch:PUT https://kafka-homework3-5284633582.us-east-1.bonsaisearch.net:443/covidtweets/_doc/1387905786312118279 [status:201 request:0.030s]\n",
            "INFO:elasticsearch:PUT https://kafka-homework3-5284633582.us-east-1.bonsaisearch.net:443/covidtweets/_doc/1387905787318652933 [status:201 request:0.027s]\n",
            "INFO:elasticsearch:PUT https://kafka-homework3-5284633582.us-east-1.bonsaisearch.net:443/covidtweets/_doc/1387905790640525315 [status:201 request:0.026s]\n",
            "INFO:elasticsearch:PUT https://kafka-homework3-5284633582.us-east-1.bonsaisearch.net:443/covidtweets/_doc/1387905790531538952 [status:201 request:0.027s]\n",
            "INFO:elasticsearch:PUT https://kafka-homework3-5284633582.us-east-1.bonsaisearch.net:443/covidtweets/_doc/1387905793492717568 [status:201 request:0.027s]\n",
            "INFO:elasticsearch:PUT https://kafka-homework3-5284633582.us-east-1.bonsaisearch.net:443/covidtweets/_doc/1387905797670129665 [status:201 request:0.026s]\n"
          ],
          "name": "stderr"
        },
        {
          "output_type": "stream",
          "text": [
            "274\n",
            "275\n",
            "276\n",
            "277\n",
            "278\n",
            "279\n",
            "280\n"
          ],
          "name": "stdout"
        },
        {
          "output_type": "stream",
          "text": [
            "INFO:elasticsearch:PUT https://kafka-homework3-5284633582.us-east-1.bonsaisearch.net:443/covidtweets/_doc/1387905798664163330 [status:201 request:0.030s]\n",
            "INFO:elasticsearch:PUT https://kafka-homework3-5284633582.us-east-1.bonsaisearch.net:443/covidtweets/_doc/1387905797443801090 [status:201 request:0.027s]\n",
            "INFO:elasticsearch:PUT https://kafka-homework3-5284633582.us-east-1.bonsaisearch.net:443/covidtweets/_doc/1387905800027447296 [status:201 request:0.028s]\n",
            "INFO:elasticsearch:PUT https://kafka-homework3-5284633582.us-east-1.bonsaisearch.net:443/covidtweets/_doc/1387905805442326530 [status:201 request:0.030s]\n",
            "INFO:elasticsearch:PUT https://kafka-homework3-5284633582.us-east-1.bonsaisearch.net:443/covidtweets/_doc/1387905807669334017 [status:201 request:0.029s]\n",
            "INFO:elasticsearch:PUT https://kafka-homework3-5284633582.us-east-1.bonsaisearch.net:443/covidtweets/_doc/1387905809561145354 [status:201 request:0.031s]\n",
            "INFO:elasticsearch:PUT https://kafka-homework3-5284633582.us-east-1.bonsaisearch.net:443/covidtweets/_doc/1387905809850388486 [status:201 request:0.026s]\n"
          ],
          "name": "stderr"
        },
        {
          "output_type": "stream",
          "text": [
            "281\n",
            "282\n",
            "283\n",
            "284\n",
            "285\n",
            "286\n",
            "287\n"
          ],
          "name": "stdout"
        },
        {
          "output_type": "stream",
          "text": [
            "INFO:elasticsearch:PUT https://kafka-homework3-5284633582.us-east-1.bonsaisearch.net:443/covidtweets/_doc/1387905811431763977 [status:201 request:0.026s]\n",
            "INFO:elasticsearch:PUT https://kafka-homework3-5284633582.us-east-1.bonsaisearch.net:443/covidtweets/_doc/1387905813885427721 [status:201 request:0.028s]\n",
            "INFO:elasticsearch:PUT https://kafka-homework3-5284633582.us-east-1.bonsaisearch.net:443/covidtweets/_doc/1387905817320562689 [status:201 request:0.026s]\n",
            "INFO:elasticsearch:PUT https://kafka-homework3-5284633582.us-east-1.bonsaisearch.net:443/covidtweets/_doc/1387905818981502976 [status:201 request:0.028s]\n",
            "INFO:elasticsearch:PUT https://kafka-homework3-5284633582.us-east-1.bonsaisearch.net:443/covidtweets/_doc/1387905820898336775 [status:201 request:0.027s]\n",
            "INFO:elasticsearch:PUT https://kafka-homework3-5284633582.us-east-1.bonsaisearch.net:443/covidtweets/_doc/1387905821749637121 [status:201 request:0.027s]\n",
            "INFO:elasticsearch:PUT https://kafka-homework3-5284633582.us-east-1.bonsaisearch.net:443/covidtweets/_doc/1387905824127848448 [status:201 request:0.028s]\n",
            "INFO:elasticsearch:PUT https://kafka-homework3-5284633582.us-east-1.bonsaisearch.net:443/covidtweets/_doc/1387905826770223104 [status:201 request:0.026s]\n"
          ],
          "name": "stderr"
        },
        {
          "output_type": "stream",
          "text": [
            "288\n",
            "289\n",
            "290\n",
            "291\n",
            "292\n",
            "293\n",
            "294\n"
          ],
          "name": "stdout"
        },
        {
          "output_type": "stream",
          "text": [
            "INFO:elasticsearch:PUT https://kafka-homework3-5284633582.us-east-1.bonsaisearch.net:443/covidtweets/_doc/1387905827709784066 [status:201 request:0.027s]\n",
            "INFO:elasticsearch:PUT https://kafka-homework3-5284633582.us-east-1.bonsaisearch.net:443/covidtweets/_doc/1387905828024369156 [status:201 request:0.026s]\n",
            "INFO:elasticsearch:PUT https://kafka-homework3-5284633582.us-east-1.bonsaisearch.net:443/covidtweets/_doc/1387905829463109633 [status:201 request:0.030s]\n",
            "INFO:elasticsearch:PUT https://kafka-homework3-5284633582.us-east-1.bonsaisearch.net:443/covidtweets/_doc/1387905830352261121 [status:201 request:0.027s]\n",
            "INFO:elasticsearch:PUT https://kafka-homework3-5284633582.us-east-1.bonsaisearch.net:443/covidtweets/_doc/1387905831287414786 [status:201 request:0.028s]\n",
            "INFO:elasticsearch:PUT https://kafka-homework3-5284633582.us-east-1.bonsaisearch.net:443/covidtweets/_doc/1387905834756288512 [status:201 request:0.029s]\n",
            "INFO:elasticsearch:PUT https://kafka-homework3-5284633582.us-east-1.bonsaisearch.net:443/covidtweets/_doc/1387905840359907329 [status:201 request:0.028s]\n"
          ],
          "name": "stderr"
        },
        {
          "output_type": "stream",
          "text": [
            "295\n",
            "296\n",
            "297\n",
            "298\n",
            "299\n",
            "300\n",
            "301\n",
            "302\n"
          ],
          "name": "stdout"
        },
        {
          "output_type": "stream",
          "text": [
            "INFO:elasticsearch:PUT https://kafka-homework3-5284633582.us-east-1.bonsaisearch.net:443/covidtweets/_doc/1387905841613901825 [status:201 request:0.026s]\n",
            "INFO:elasticsearch:PUT https://kafka-homework3-5284633582.us-east-1.bonsaisearch.net:443/covidtweets/_doc/1387905842075349000 [status:201 request:0.026s]\n",
            "INFO:elasticsearch:PUT https://kafka-homework3-5284633582.us-east-1.bonsaisearch.net:443/covidtweets/_doc/1387905847888695297 [status:201 request:0.026s]\n",
            "INFO:elasticsearch:PUT https://kafka-homework3-5284633582.us-east-1.bonsaisearch.net:443/covidtweets/_doc/1387905848236814339 [status:201 request:0.030s]\n",
            "INFO:elasticsearch:PUT https://kafka-homework3-5284633582.us-east-1.bonsaisearch.net:443/covidtweets/_doc/1387905849067200512 [status:201 request:0.027s]\n",
            "INFO:elasticsearch:PUT https://kafka-homework3-5284633582.us-east-1.bonsaisearch.net:443/covidtweets/_doc/1387905850417819648 [status:201 request:0.028s]\n",
            "INFO:elasticsearch:PUT https://kafka-homework3-5284633582.us-east-1.bonsaisearch.net:443/covidtweets/_doc/1387905851130798082 [status:201 request:0.027s]\n"
          ],
          "name": "stderr"
        },
        {
          "output_type": "stream",
          "text": [
            "303\n",
            "304\n",
            "305\n",
            "306\n",
            "307\n",
            "308\n",
            "309\n"
          ],
          "name": "stdout"
        },
        {
          "output_type": "stream",
          "text": [
            "INFO:elasticsearch:PUT https://kafka-homework3-5284633582.us-east-1.bonsaisearch.net:443/covidtweets/_doc/1387905851923574785 [status:201 request:0.030s]\n",
            "INFO:elasticsearch:PUT https://kafka-homework3-5284633582.us-east-1.bonsaisearch.net:443/covidtweets/_doc/1387905853592940550 [status:201 request:0.028s]\n",
            "INFO:elasticsearch:PUT https://kafka-homework3-5284633582.us-east-1.bonsaisearch.net:443/covidtweets/_doc/1387905860211445762 [status:201 request:0.052s]\n",
            "INFO:elasticsearch:PUT https://kafka-homework3-5284633582.us-east-1.bonsaisearch.net:443/covidtweets/_doc/1387905861562085376 [status:201 request:0.030s]\n",
            "INFO:elasticsearch:PUT https://kafka-homework3-5284633582.us-east-1.bonsaisearch.net:443/covidtweets/_doc/1387905861427896320 [status:201 request:0.033s]\n",
            "INFO:elasticsearch:PUT https://kafka-homework3-5284633582.us-east-1.bonsaisearch.net:443/covidtweets/_doc/1387905862845489157 [status:201 request:0.031s]\n"
          ],
          "name": "stderr"
        },
        {
          "output_type": "stream",
          "text": [
            "310\n",
            "311\n",
            "312\n",
            "313\n",
            "314\n",
            "315\n"
          ],
          "name": "stdout"
        },
        {
          "output_type": "stream",
          "text": [
            "INFO:elasticsearch:PUT https://kafka-homework3-5284633582.us-east-1.bonsaisearch.net:443/covidtweets/_doc/1387905868189114369 [status:201 request:0.040s]\n",
            "INFO:elasticsearch:PUT https://kafka-homework3-5284633582.us-east-1.bonsaisearch.net:443/covidtweets/_doc/1387905868306464770 [status:201 request:0.027s]\n",
            "INFO:elasticsearch:PUT https://kafka-homework3-5284633582.us-east-1.bonsaisearch.net:443/covidtweets/_doc/1387905869174673415 [status:201 request:0.028s]\n",
            "INFO:elasticsearch:PUT https://kafka-homework3-5284633582.us-east-1.bonsaisearch.net:443/covidtweets/_doc/1387905884798476290 [status:201 request:0.029s]\n",
            "INFO:elasticsearch:PUT https://kafka-homework3-5284633582.us-east-1.bonsaisearch.net:443/covidtweets/_doc/1387905884987301891 [status:201 request:0.036s]\n",
            "INFO:elasticsearch:PUT https://kafka-homework3-5284633582.us-east-1.bonsaisearch.net:443/covidtweets/_doc/1387905889626173440 [status:201 request:0.028s]\n",
            "INFO:elasticsearch:PUT https://kafka-homework3-5284633582.us-east-1.bonsaisearch.net:443/covidtweets/_doc/1387905896748093443 [status:201 request:0.031s]\n"
          ],
          "name": "stderr"
        },
        {
          "output_type": "stream",
          "text": [
            "316\n",
            "317\n",
            "318\n",
            "319\n",
            "320\n",
            "321\n",
            "322\n"
          ],
          "name": "stdout"
        },
        {
          "output_type": "stream",
          "text": [
            "INFO:elasticsearch:PUT https://kafka-homework3-5284633582.us-east-1.bonsaisearch.net:443/covidtweets/_doc/1387905897448579072 [status:201 request:0.027s]\n",
            "INFO:elasticsearch:PUT https://kafka-homework3-5284633582.us-east-1.bonsaisearch.net:443/covidtweets/_doc/1387905900090777602 [status:201 request:0.027s]\n",
            "INFO:elasticsearch:PUT https://kafka-homework3-5284633582.us-east-1.bonsaisearch.net:443/covidtweets/_doc/1387905901928009731 [status:201 request:0.028s]\n",
            "INFO:elasticsearch:PUT https://kafka-homework3-5284633582.us-east-1.bonsaisearch.net:443/covidtweets/_doc/1387905904197214210 [status:201 request:0.028s]\n",
            "INFO:elasticsearch:PUT https://kafka-homework3-5284633582.us-east-1.bonsaisearch.net:443/covidtweets/_doc/1387905905425981441 [status:201 request:0.028s]\n",
            "INFO:elasticsearch:PUT https://kafka-homework3-5284633582.us-east-1.bonsaisearch.net:443/covidtweets/_doc/1387905905845493768 [status:201 request:0.032s]\n",
            "INFO:elasticsearch:PUT https://kafka-homework3-5284633582.us-east-1.bonsaisearch.net:443/covidtweets/_doc/1387905906881404929 [status:201 request:0.026s]\n"
          ],
          "name": "stderr"
        },
        {
          "output_type": "stream",
          "text": [
            "323\n",
            "324\n",
            "325\n",
            "326\n",
            "327\n",
            "328\n"
          ],
          "name": "stdout"
        },
        {
          "output_type": "stream",
          "text": [
            "INFO:elasticsearch:PUT https://kafka-homework3-5284633582.us-east-1.bonsaisearch.net:443/covidtweets/_doc/1387905907560833024 [status:201 request:0.027s]\n",
            "INFO:elasticsearch:PUT https://kafka-homework3-5284633582.us-east-1.bonsaisearch.net:443/covidtweets/_doc/1387905917056819200 [status:201 request:0.027s]\n",
            "INFO:elasticsearch:PUT https://kafka-homework3-5284633582.us-east-1.bonsaisearch.net:443/covidtweets/_doc/1387905921846636544 [status:201 request:0.028s]\n",
            "INFO:elasticsearch:PUT https://kafka-homework3-5284633582.us-east-1.bonsaisearch.net:443/covidtweets/_doc/1387905923834793988 [status:201 request:0.026s]\n",
            "INFO:elasticsearch:PUT https://kafka-homework3-5284633582.us-east-1.bonsaisearch.net:443/covidtweets/_doc/1387905929866358785 [status:201 request:0.027s]\n",
            "INFO:elasticsearch:PUT https://kafka-homework3-5284633582.us-east-1.bonsaisearch.net:443/covidtweets/_doc/1387905930113654784 [status:201 request:0.027s]\n"
          ],
          "name": "stderr"
        },
        {
          "output_type": "stream",
          "text": [
            "329\n",
            "330\n",
            "331\n",
            "332\n",
            "333\n",
            "334\n",
            "335\n"
          ],
          "name": "stdout"
        },
        {
          "output_type": "stream",
          "text": [
            "INFO:elasticsearch:PUT https://kafka-homework3-5284633582.us-east-1.bonsaisearch.net:443/covidtweets/_doc/1387905931921563651 [status:201 request:0.028s]\n",
            "INFO:elasticsearch:PUT https://kafka-homework3-5284633582.us-east-1.bonsaisearch.net:443/covidtweets/_doc/1387905936749211653 [status:201 request:0.032s]\n",
            "INFO:elasticsearch:PUT https://kafka-homework3-5284633582.us-east-1.bonsaisearch.net:443/covidtweets/_doc/1387905936887590913 [status:201 request:0.026s]\n",
            "INFO:elasticsearch:PUT https://kafka-homework3-5284633582.us-east-1.bonsaisearch.net:443/covidtweets/_doc/1387905515741761537 [status:201 request:0.027s]\n",
            "INFO:elasticsearch:PUT https://kafka-homework3-5284633582.us-east-1.bonsaisearch.net:443/covidtweets/_doc/1387905517390123009 [status:201 request:0.029s]\n",
            "INFO:elasticsearch:PUT https://kafka-homework3-5284633582.us-east-1.bonsaisearch.net:443/covidtweets/_doc/1387905522741956608 [status:201 request:0.027s]\n",
            "INFO:elasticsearch:PUT https://kafka-homework3-5284633582.us-east-1.bonsaisearch.net:443/covidtweets/_doc/1387905527339012097 [status:201 request:0.027s]\n"
          ],
          "name": "stderr"
        },
        {
          "output_type": "stream",
          "text": [
            "336\n",
            "337\n",
            "338\n",
            "339\n",
            "340\n",
            "341\n",
            "342\n"
          ],
          "name": "stdout"
        },
        {
          "output_type": "stream",
          "text": [
            "INFO:elasticsearch:PUT https://kafka-homework3-5284633582.us-east-1.bonsaisearch.net:443/covidtweets/_doc/1387905527716274176 [status:201 request:0.027s]\n",
            "INFO:elasticsearch:PUT https://kafka-homework3-5284633582.us-east-1.bonsaisearch.net:443/covidtweets/_doc/1387905527938756611 [status:201 request:0.029s]\n",
            "INFO:elasticsearch:PUT https://kafka-homework3-5284633582.us-east-1.bonsaisearch.net:443/covidtweets/_doc/1387905533978595330 [status:201 request:0.027s]\n",
            "INFO:elasticsearch:PUT https://kafka-homework3-5284633582.us-east-1.bonsaisearch.net:443/covidtweets/_doc/1387905535832375296 [status:201 request:0.027s]\n",
            "INFO:elasticsearch:PUT https://kafka-homework3-5284633582.us-east-1.bonsaisearch.net:443/covidtweets/_doc/1387905537010982915 [status:201 request:0.028s]\n",
            "INFO:elasticsearch:PUT https://kafka-homework3-5284633582.us-east-1.bonsaisearch.net:443/covidtweets/_doc/1387905538965442564 [status:201 request:0.026s]\n",
            "INFO:elasticsearch:PUT https://kafka-homework3-5284633582.us-east-1.bonsaisearch.net:443/covidtweets/_doc/1387905540911767555 [status:201 request:0.026s]\n",
            "INFO:elasticsearch:PUT https://kafka-homework3-5284633582.us-east-1.bonsaisearch.net:443/covidtweets/_doc/1387905541783973888 [status:201 request:0.026s]\n"
          ],
          "name": "stderr"
        },
        {
          "output_type": "stream",
          "text": [
            "343\n",
            "344\n",
            "345\n",
            "346\n",
            "347\n",
            "348\n",
            "349\n",
            "350\n"
          ],
          "name": "stdout"
        },
        {
          "output_type": "stream",
          "text": [
            "INFO:elasticsearch:PUT https://kafka-homework3-5284633582.us-east-1.bonsaisearch.net:443/covidtweets/_doc/1387905542081888267 [status:201 request:0.029s]\n",
            "INFO:elasticsearch:PUT https://kafka-homework3-5284633582.us-east-1.bonsaisearch.net:443/covidtweets/_doc/1387905545265369091 [status:201 request:0.027s]\n",
            "INFO:elasticsearch:PUT https://kafka-homework3-5284633582.us-east-1.bonsaisearch.net:443/covidtweets/_doc/1387905546494353412 [status:201 request:0.032s]\n",
            "INFO:elasticsearch:PUT https://kafka-homework3-5284633582.us-east-1.bonsaisearch.net:443/covidtweets/_doc/1387905547089948672 [status:201 request:0.028s]\n",
            "INFO:elasticsearch:PUT https://kafka-homework3-5284633582.us-east-1.bonsaisearch.net:443/covidtweets/_doc/1387905547177922560 [status:201 request:0.027s]\n",
            "INFO:elasticsearch:PUT https://kafka-homework3-5284633582.us-east-1.bonsaisearch.net:443/covidtweets/_doc/1387905548729847811 [status:201 request:0.027s]\n",
            "INFO:elasticsearch:PUT https://kafka-homework3-5284633582.us-east-1.bonsaisearch.net:443/covidtweets/_doc/1387905549212151808 [status:201 request:0.026s]\n"
          ],
          "name": "stderr"
        },
        {
          "output_type": "stream",
          "text": [
            "351\n",
            "352\n",
            "353\n",
            "354\n",
            "355\n",
            "356\n",
            "357\n"
          ],
          "name": "stdout"
        },
        {
          "output_type": "stream",
          "text": [
            "INFO:elasticsearch:PUT https://kafka-homework3-5284633582.us-east-1.bonsaisearch.net:443/covidtweets/_doc/1387905549849694209 [status:201 request:0.027s]\n",
            "INFO:elasticsearch:PUT https://kafka-homework3-5284633582.us-east-1.bonsaisearch.net:443/covidtweets/_doc/1387905552416661510 [status:201 request:0.028s]\n",
            "INFO:elasticsearch:PUT https://kafka-homework3-5284633582.us-east-1.bonsaisearch.net:443/covidtweets/_doc/1387905552680853512 [status:201 request:0.026s]\n",
            "INFO:elasticsearch:PUT https://kafka-homework3-5284633582.us-east-1.bonsaisearch.net:443/covidtweets/_doc/1387905554975133696 [status:201 request:0.027s]\n",
            "INFO:elasticsearch:PUT https://kafka-homework3-5284633582.us-east-1.bonsaisearch.net:443/covidtweets/_doc/1387905555717496832 [status:201 request:0.026s]\n",
            "INFO:elasticsearch:PUT https://kafka-homework3-5284633582.us-east-1.bonsaisearch.net:443/covidtweets/_doc/1387905564915773447 [status:201 request:0.027s]\n",
            "INFO:elasticsearch:PUT https://kafka-homework3-5284633582.us-east-1.bonsaisearch.net:443/covidtweets/_doc/1387905567663050753 [status:201 request:0.027s]\n"
          ],
          "name": "stderr"
        },
        {
          "output_type": "stream",
          "text": [
            "358\n",
            "359\n",
            "360\n",
            "361\n",
            "362\n",
            "363\n",
            "364\n"
          ],
          "name": "stdout"
        },
        {
          "output_type": "stream",
          "text": [
            "INFO:elasticsearch:PUT https://kafka-homework3-5284633582.us-east-1.bonsaisearch.net:443/covidtweets/_doc/1387905568262733824 [status:201 request:0.029s]\n",
            "INFO:elasticsearch:PUT https://kafka-homework3-5284633582.us-east-1.bonsaisearch.net:443/covidtweets/_doc/1387905569160241154 [status:201 request:0.029s]\n",
            "INFO:elasticsearch:PUT https://kafka-homework3-5284633582.us-east-1.bonsaisearch.net:443/covidtweets/_doc/1387905569114177539 [status:201 request:0.029s]\n",
            "INFO:elasticsearch:PUT https://kafka-homework3-5284633582.us-east-1.bonsaisearch.net:443/covidtweets/_doc/1387905570519326726 [status:201 request:0.027s]\n",
            "INFO:elasticsearch:PUT https://kafka-homework3-5284633582.us-east-1.bonsaisearch.net:443/covidtweets/_doc/1387905571110727682 [status:201 request:0.027s]\n",
            "INFO:elasticsearch:PUT https://kafka-homework3-5284633582.us-east-1.bonsaisearch.net:443/covidtweets/_doc/1387905571123306499 [status:201 request:0.030s]\n",
            "INFO:elasticsearch:PUT https://kafka-homework3-5284633582.us-east-1.bonsaisearch.net:443/covidtweets/_doc/1387905572855558155 [status:201 request:0.027s]\n"
          ],
          "name": "stderr"
        },
        {
          "output_type": "stream",
          "text": [
            "365\n",
            "366\n",
            "367\n",
            "368\n",
            "369\n",
            "370\n",
            "371\n"
          ],
          "name": "stdout"
        },
        {
          "output_type": "stream",
          "text": [
            "INFO:elasticsearch:PUT https://kafka-homework3-5284633582.us-east-1.bonsaisearch.net:443/covidtweets/_doc/1387905574956765185 [status:201 request:0.026s]\n",
            "INFO:elasticsearch:PUT https://kafka-homework3-5284633582.us-east-1.bonsaisearch.net:443/covidtweets/_doc/1387905574839496709 [status:201 request:0.026s]\n",
            "INFO:elasticsearch:PUT https://kafka-homework3-5284633582.us-east-1.bonsaisearch.net:443/covidtweets/_doc/1387905578220105728 [status:201 request:0.031s]\n",
            "INFO:elasticsearch:PUT https://kafka-homework3-5284633582.us-east-1.bonsaisearch.net:443/covidtweets/_doc/1387905578303987715 [status:201 request:0.028s]\n",
            "INFO:elasticsearch:PUT https://kafka-homework3-5284633582.us-east-1.bonsaisearch.net:443/covidtweets/_doc/1387905578891087874 [status:201 request:0.030s]\n",
            "INFO:elasticsearch:PUT https://kafka-homework3-5284633582.us-east-1.bonsaisearch.net:443/covidtweets/_doc/1387905584922390528 [status:201 request:0.028s]\n",
            "INFO:elasticsearch:PUT https://kafka-homework3-5284633582.us-east-1.bonsaisearch.net:443/covidtweets/_doc/1387905586189127681 [status:201 request:0.028s]\n"
          ],
          "name": "stderr"
        },
        {
          "output_type": "stream",
          "text": [
            "372\n",
            "373\n",
            "374\n",
            "375\n",
            "376\n",
            "377\n",
            "378\n"
          ],
          "name": "stdout"
        },
        {
          "output_type": "stream",
          "text": [
            "INFO:elasticsearch:PUT https://kafka-homework3-5284633582.us-east-1.bonsaisearch.net:443/covidtweets/_doc/1387905592681979905 [status:201 request:0.030s]\n",
            "INFO:elasticsearch:PUT https://kafka-homework3-5284633582.us-east-1.bonsaisearch.net:443/covidtweets/_doc/1387905602983133184 [status:201 request:0.027s]\n",
            "INFO:elasticsearch:PUT https://kafka-homework3-5284633582.us-east-1.bonsaisearch.net:443/covidtweets/_doc/1387905616518123521 [status:201 request:0.034s]\n",
            "INFO:elasticsearch:PUT https://kafka-homework3-5284633582.us-east-1.bonsaisearch.net:443/covidtweets/_doc/1387905616761421828 [status:201 request:0.028s]\n",
            "INFO:elasticsearch:PUT https://kafka-homework3-5284633582.us-east-1.bonsaisearch.net:443/covidtweets/_doc/1387905620334977024 [status:201 request:0.026s]\n",
            "INFO:elasticsearch:PUT https://kafka-homework3-5284633582.us-east-1.bonsaisearch.net:443/covidtweets/_doc/1387905623321350144 [status:201 request:0.032s]\n",
            "INFO:elasticsearch:PUT https://kafka-homework3-5284633582.us-east-1.bonsaisearch.net:443/covidtweets/_doc/1387905633895202825 [status:201 request:0.028s]\n"
          ],
          "name": "stderr"
        },
        {
          "output_type": "stream",
          "text": [
            "379\n",
            "380\n",
            "381\n",
            "382\n",
            "383\n",
            "384\n",
            "385\n"
          ],
          "name": "stdout"
        },
        {
          "output_type": "stream",
          "text": [
            "INFO:elasticsearch:PUT https://kafka-homework3-5284633582.us-east-1.bonsaisearch.net:443/covidtweets/_doc/1387905636281864192 [status:201 request:0.029s]\n",
            "INFO:elasticsearch:PUT https://kafka-homework3-5284633582.us-east-1.bonsaisearch.net:443/covidtweets/_doc/1387905642434744322 [status:201 request:0.030s]\n",
            "INFO:elasticsearch:PUT https://kafka-homework3-5284633582.us-east-1.bonsaisearch.net:443/covidtweets/_doc/1387905645379264514 [status:201 request:0.029s]\n",
            "INFO:elasticsearch:PUT https://kafka-homework3-5284633582.us-east-1.bonsaisearch.net:443/covidtweets/_doc/1387905646788583429 [status:201 request:0.028s]\n",
            "INFO:elasticsearch:PUT https://kafka-homework3-5284633582.us-east-1.bonsaisearch.net:443/covidtweets/_doc/1387905649665712128 [status:201 request:0.030s]\n",
            "INFO:elasticsearch:PUT https://kafka-homework3-5284633582.us-east-1.bonsaisearch.net:443/covidtweets/_doc/1387905652039749638 [status:201 request:0.026s]\n",
            "INFO:elasticsearch:PUT https://kafka-homework3-5284633582.us-east-1.bonsaisearch.net:443/covidtweets/_doc/1387905655080579073 [status:201 request:0.026s]\n"
          ],
          "name": "stderr"
        },
        {
          "output_type": "stream",
          "text": [
            "386\n",
            "387\n",
            "388\n",
            "389\n",
            "390\n",
            "391\n",
            "392\n"
          ],
          "name": "stdout"
        },
        {
          "output_type": "stream",
          "text": [
            "INFO:elasticsearch:PUT https://kafka-homework3-5284633582.us-east-1.bonsaisearch.net:443/covidtweets/_doc/1387905656707977218 [status:201 request:0.027s]\n",
            "INFO:elasticsearch:PUT https://kafka-homework3-5284633582.us-east-1.bonsaisearch.net:443/covidtweets/_doc/1387905666245795840 [status:201 request:0.028s]\n",
            "INFO:elasticsearch:PUT https://kafka-homework3-5284633582.us-east-1.bonsaisearch.net:443/covidtweets/_doc/1387905666430476291 [status:201 request:0.026s]\n",
            "INFO:elasticsearch:PUT https://kafka-homework3-5284633582.us-east-1.bonsaisearch.net:443/covidtweets/_doc/1387905671593668609 [status:201 request:0.026s]\n",
            "INFO:elasticsearch:PUT https://kafka-homework3-5284633582.us-east-1.bonsaisearch.net:443/covidtweets/_doc/1387905676379316225 [status:201 request:0.027s]\n",
            "INFO:elasticsearch:PUT https://kafka-homework3-5284633582.us-east-1.bonsaisearch.net:443/covidtweets/_doc/1387905677993996288 [status:201 request:0.027s]\n",
            "INFO:elasticsearch:PUT https://kafka-homework3-5284633582.us-east-1.bonsaisearch.net:443/covidtweets/_doc/1387905680573612037 [status:201 request:0.028s]\n"
          ],
          "name": "stderr"
        },
        {
          "output_type": "stream",
          "text": [
            "393\n",
            "394\n",
            "395\n",
            "396\n",
            "397\n",
            "398\n",
            "399\n"
          ],
          "name": "stdout"
        },
        {
          "output_type": "stream",
          "text": [
            "INFO:elasticsearch:PUT https://kafka-homework3-5284633582.us-east-1.bonsaisearch.net:443/covidtweets/_doc/1387905683228532736 [status:201 request:0.027s]\n",
            "INFO:elasticsearch:PUT https://kafka-homework3-5284633582.us-east-1.bonsaisearch.net:443/covidtweets/_doc/1387905684503732224 [status:201 request:0.026s]\n",
            "INFO:elasticsearch:PUT https://kafka-homework3-5284633582.us-east-1.bonsaisearch.net:443/covidtweets/_doc/1387905685229342721 [status:201 request:0.029s]\n",
            "INFO:elasticsearch:PUT https://kafka-homework3-5284633582.us-east-1.bonsaisearch.net:443/covidtweets/_doc/1387905686575534080 [status:201 request:0.026s]\n",
            "INFO:elasticsearch:PUT https://kafka-homework3-5284633582.us-east-1.bonsaisearch.net:443/covidtweets/_doc/1387905688056303619 [status:201 request:0.027s]\n",
            "INFO:elasticsearch:PUT https://kafka-homework3-5284633582.us-east-1.bonsaisearch.net:443/covidtweets/_doc/1387905691499864067 [status:201 request:0.026s]\n",
            "INFO:elasticsearch:PUT https://kafka-homework3-5284633582.us-east-1.bonsaisearch.net:443/covidtweets/_doc/1387905692619612161 [status:201 request:0.026s]\n"
          ],
          "name": "stderr"
        },
        {
          "output_type": "stream",
          "text": [
            "400\n",
            "401\n",
            "402\n",
            "403\n",
            "404\n",
            "405\n",
            "406\n"
          ],
          "name": "stdout"
        },
        {
          "output_type": "stream",
          "text": [
            "INFO:elasticsearch:PUT https://kafka-homework3-5284633582.us-east-1.bonsaisearch.net:443/covidtweets/_doc/1387905693055913985 [status:201 request:0.027s]\n",
            "INFO:elasticsearch:PUT https://kafka-homework3-5284633582.us-east-1.bonsaisearch.net:443/covidtweets/_doc/1387905693475213313 [status:201 request:0.027s]\n",
            "INFO:elasticsearch:PUT https://kafka-homework3-5284633582.us-east-1.bonsaisearch.net:443/covidtweets/_doc/1387905694934847488 [status:201 request:0.027s]\n",
            "INFO:elasticsearch:PUT https://kafka-homework3-5284633582.us-east-1.bonsaisearch.net:443/covidtweets/_doc/1387905695652134914 [status:201 request:0.027s]\n",
            "INFO:elasticsearch:PUT https://kafka-homework3-5284633582.us-east-1.bonsaisearch.net:443/covidtweets/_doc/1387905703743037441 [status:201 request:0.027s]\n",
            "INFO:elasticsearch:PUT https://kafka-homework3-5284633582.us-east-1.bonsaisearch.net:443/covidtweets/_doc/1387905708545486849 [status:201 request:0.028s]\n",
            "INFO:elasticsearch:PUT https://kafka-homework3-5284633582.us-east-1.bonsaisearch.net:443/covidtweets/_doc/1387905709510119426 [status:201 request:0.028s]\n"
          ],
          "name": "stderr"
        },
        {
          "output_type": "stream",
          "text": [
            "407\n",
            "408\n",
            "409\n",
            "410\n",
            "411\n",
            "412\n",
            "413\n"
          ],
          "name": "stdout"
        },
        {
          "output_type": "stream",
          "text": [
            "INFO:elasticsearch:PUT https://kafka-homework3-5284633582.us-east-1.bonsaisearch.net:443/covidtweets/_doc/1387905710340595722 [status:201 request:0.030s]\n",
            "INFO:elasticsearch:PUT https://kafka-homework3-5284633582.us-east-1.bonsaisearch.net:443/covidtweets/_doc/1387905710382587904 [status:201 request:0.100s]\n",
            "INFO:elasticsearch:PUT https://kafka-homework3-5284633582.us-east-1.bonsaisearch.net:443/covidtweets/_doc/1387905710869123080 [status:201 request:0.027s]\n",
            "INFO:elasticsearch:PUT https://kafka-homework3-5284633582.us-east-1.bonsaisearch.net:443/covidtweets/_doc/1387905712773230593 [status:201 request:0.027s]\n"
          ],
          "name": "stderr"
        },
        {
          "output_type": "stream",
          "text": [
            "414\n",
            "415\n",
            "416\n",
            "417\n"
          ],
          "name": "stdout"
        },
        {
          "output_type": "stream",
          "text": [
            "INFO:elasticsearch:PUT https://kafka-homework3-5284633582.us-east-1.bonsaisearch.net:443/covidtweets/_doc/1387905723082977282 [status:201 request:0.101s]\n",
            "INFO:elasticsearch:PUT https://kafka-homework3-5284633582.us-east-1.bonsaisearch.net:443/covidtweets/_doc/1387905724395790343 [status:201 request:0.029s]\n",
            "INFO:elasticsearch:PUT https://kafka-homework3-5284633582.us-east-1.bonsaisearch.net:443/covidtweets/_doc/1387905727013040130 [status:201 request:0.026s]\n",
            "INFO:elasticsearch:PUT https://kafka-homework3-5284633582.us-east-1.bonsaisearch.net:443/covidtweets/_doc/1387905736592740355 [status:201 request:0.028s]\n",
            "INFO:elasticsearch:PUT https://kafka-homework3-5284633582.us-east-1.bonsaisearch.net:443/covidtweets/_doc/1387905741097406466 [status:201 request:0.028s]\n",
            "INFO:elasticsearch:PUT https://kafka-homework3-5284633582.us-east-1.bonsaisearch.net:443/covidtweets/_doc/1387905742464765961 [status:201 request:0.033s]\n",
            "INFO:elasticsearch:PUT https://kafka-homework3-5284633582.us-east-1.bonsaisearch.net:443/covidtweets/_doc/1387905742741594115 [status:201 request:0.027s]\n"
          ],
          "name": "stderr"
        },
        {
          "output_type": "stream",
          "text": [
            "418\n",
            "419\n",
            "420\n",
            "421\n",
            "422\n",
            "423\n",
            "424\n"
          ],
          "name": "stdout"
        },
        {
          "output_type": "stream",
          "text": [
            "INFO:elasticsearch:PUT https://kafka-homework3-5284633582.us-east-1.bonsaisearch.net:443/covidtweets/_doc/1387905744192872454 [status:201 request:0.026s]\n",
            "INFO:elasticsearch:PUT https://kafka-homework3-5284633582.us-east-1.bonsaisearch.net:443/covidtweets/_doc/1387905753550360582 [status:201 request:0.027s]\n",
            "INFO:elasticsearch:PUT https://kafka-homework3-5284633582.us-east-1.bonsaisearch.net:443/covidtweets/_doc/1387905755853041664 [status:201 request:0.026s]\n",
            "INFO:elasticsearch:PUT https://kafka-homework3-5284633582.us-east-1.bonsaisearch.net:443/covidtweets/_doc/1387905756373061633 [status:201 request:0.035s]\n",
            "INFO:elasticsearch:PUT https://kafka-homework3-5284633582.us-east-1.bonsaisearch.net:443/covidtweets/_doc/1387905758092738562 [status:201 request:0.026s]\n",
            "INFO:elasticsearch:PUT https://kafka-homework3-5284633582.us-east-1.bonsaisearch.net:443/covidtweets/_doc/1387905760340885517 [status:201 request:0.028s]\n",
            "INFO:elasticsearch:PUT https://kafka-homework3-5284633582.us-east-1.bonsaisearch.net:443/covidtweets/_doc/1387905766103920640 [status:201 request:0.027s]\n"
          ],
          "name": "stderr"
        },
        {
          "output_type": "stream",
          "text": [
            "425\n",
            "426\n",
            "427\n",
            "428\n",
            "429\n",
            "430\n",
            "431\n"
          ],
          "name": "stdout"
        },
        {
          "output_type": "stream",
          "text": [
            "INFO:elasticsearch:PUT https://kafka-homework3-5284633582.us-east-1.bonsaisearch.net:443/covidtweets/_doc/1387905765994754049 [status:201 request:0.026s]\n",
            "INFO:elasticsearch:PUT https://kafka-homework3-5284633582.us-east-1.bonsaisearch.net:443/covidtweets/_doc/1387905768054272000 [status:201 request:0.027s]\n",
            "INFO:elasticsearch:PUT https://kafka-homework3-5284633582.us-east-1.bonsaisearch.net:443/covidtweets/_doc/1387905770935697413 [status:201 request:0.027s]\n",
            "INFO:elasticsearch:PUT https://kafka-homework3-5284633582.us-east-1.bonsaisearch.net:443/covidtweets/_doc/1387905772940447744 [status:201 request:0.028s]\n",
            "INFO:elasticsearch:PUT https://kafka-homework3-5284633582.us-east-1.bonsaisearch.net:443/covidtweets/_doc/1387905774685413379 [status:201 request:0.027s]\n",
            "INFO:elasticsearch:PUT https://kafka-homework3-5284633582.us-east-1.bonsaisearch.net:443/covidtweets/_doc/1387905775608213509 [status:201 request:0.028s]\n",
            "INFO:elasticsearch:PUT https://kafka-homework3-5284633582.us-east-1.bonsaisearch.net:443/covidtweets/_doc/1387905776245694464 [status:201 request:0.033s]\n"
          ],
          "name": "stderr"
        },
        {
          "output_type": "stream",
          "text": [
            "432\n",
            "433\n",
            "434\n",
            "435\n",
            "436\n",
            "437\n",
            "438\n"
          ],
          "name": "stdout"
        },
        {
          "output_type": "stream",
          "text": [
            "INFO:elasticsearch:PUT https://kafka-homework3-5284633582.us-east-1.bonsaisearch.net:443/covidtweets/_doc/1387905776895741954 [status:201 request:0.026s]\n",
            "INFO:elasticsearch:PUT https://kafka-homework3-5284633582.us-east-1.bonsaisearch.net:443/covidtweets/_doc/1387905778187530241 [status:201 request:0.027s]\n",
            "INFO:elasticsearch:PUT https://kafka-homework3-5284633582.us-east-1.bonsaisearch.net:443/covidtweets/_doc/1387905780163260416 [status:201 request:0.026s]\n",
            "INFO:elasticsearch:PUT https://kafka-homework3-5284633582.us-east-1.bonsaisearch.net:443/covidtweets/_doc/1387905780821671936 [status:201 request:0.026s]\n",
            "INFO:elasticsearch:PUT https://kafka-homework3-5284633582.us-east-1.bonsaisearch.net:443/covidtweets/_doc/1387905780624601095 [status:201 request:0.031s]\n",
            "INFO:elasticsearch:PUT https://kafka-homework3-5284633582.us-east-1.bonsaisearch.net:443/covidtweets/_doc/1387905783132835846 [status:201 request:0.028s]\n",
            "INFO:elasticsearch:PUT https://kafka-homework3-5284633582.us-east-1.bonsaisearch.net:443/covidtweets/_doc/1387905783778656257 [status:201 request:0.029s]\n"
          ],
          "name": "stderr"
        },
        {
          "output_type": "stream",
          "text": [
            "439\n",
            "440\n",
            "441\n",
            "442\n",
            "443\n",
            "444\n",
            "445\n"
          ],
          "name": "stdout"
        },
        {
          "output_type": "stream",
          "text": [
            "INFO:elasticsearch:PUT https://kafka-homework3-5284633582.us-east-1.bonsaisearch.net:443/covidtweets/_doc/1387905783812210694 [status:201 request:0.028s]\n",
            "INFO:elasticsearch:PUT https://kafka-homework3-5284633582.us-east-1.bonsaisearch.net:443/covidtweets/_doc/1387905787209650182 [status:201 request:0.027s]\n",
            "INFO:elasticsearch:PUT https://kafka-homework3-5284633582.us-east-1.bonsaisearch.net:443/covidtweets/_doc/1387905787746521091 [status:201 request:0.029s]\n",
            "INFO:elasticsearch:PUT https://kafka-homework3-5284633582.us-east-1.bonsaisearch.net:443/covidtweets/_doc/1387905788128149505 [status:201 request:0.032s]\n",
            "INFO:elasticsearch:PUT https://kafka-homework3-5284633582.us-east-1.bonsaisearch.net:443/covidtweets/_doc/1387905791118647301 [status:201 request:0.028s]\n",
            "INFO:elasticsearch:PUT https://kafka-homework3-5284633582.us-east-1.bonsaisearch.net:443/covidtweets/_doc/1387905791558967300 [status:201 request:0.027s]\n",
            "INFO:elasticsearch:PUT https://kafka-homework3-5284633582.us-east-1.bonsaisearch.net:443/covidtweets/_doc/1387905792162947072 [status:201 request:0.028s]\n"
          ],
          "name": "stderr"
        },
        {
          "output_type": "stream",
          "text": [
            "446\n",
            "447\n",
            "448\n",
            "449\n",
            "450\n",
            "451\n",
            "452\n"
          ],
          "name": "stdout"
        },
        {
          "output_type": "stream",
          "text": [
            "INFO:elasticsearch:PUT https://kafka-homework3-5284633582.us-east-1.bonsaisearch.net:443/covidtweets/_doc/1387905794671222787 [status:201 request:0.028s]\n",
            "INFO:elasticsearch:PUT https://kafka-homework3-5284633582.us-east-1.bonsaisearch.net:443/covidtweets/_doc/1387905795086561286 [status:201 request:0.027s]\n",
            "INFO:elasticsearch:PUT https://kafka-homework3-5284633582.us-east-1.bonsaisearch.net:443/covidtweets/_doc/1387905802883772422 [status:201 request:0.028s]\n",
            "INFO:elasticsearch:PUT https://kafka-homework3-5284633582.us-east-1.bonsaisearch.net:443/covidtweets/_doc/1387905804506906626 [status:201 request:0.034s]\n",
            "INFO:elasticsearch:PUT https://kafka-homework3-5284633582.us-east-1.bonsaisearch.net:443/covidtweets/_doc/1387905811142385665 [status:201 request:0.029s]\n",
            "INFO:elasticsearch:PUT https://kafka-homework3-5284633582.us-east-1.bonsaisearch.net:443/covidtweets/_doc/1387905815328215044 [status:201 request:0.028s]\n",
            "INFO:elasticsearch:PUT https://kafka-homework3-5284633582.us-east-1.bonsaisearch.net:443/covidtweets/_doc/1387905816313974788 [status:201 request:0.027s]\n"
          ],
          "name": "stderr"
        },
        {
          "output_type": "stream",
          "text": [
            "453\n",
            "454\n",
            "455\n",
            "456\n",
            "457\n",
            "458\n",
            "459\n"
          ],
          "name": "stdout"
        },
        {
          "output_type": "stream",
          "text": [
            "INFO:elasticsearch:PUT https://kafka-homework3-5284633582.us-east-1.bonsaisearch.net:443/covidtweets/_doc/1387905816410329090 [status:201 request:0.027s]\n",
            "INFO:elasticsearch:PUT https://kafka-homework3-5284633582.us-east-1.bonsaisearch.net:443/covidtweets/_doc/1387905823234531329 [status:201 request:0.026s]\n",
            "INFO:elasticsearch:PUT https://kafka-homework3-5284633582.us-east-1.bonsaisearch.net:443/covidtweets/_doc/1387905825239228421 [status:201 request:0.026s]\n",
            "INFO:elasticsearch:PUT https://kafka-homework3-5284633582.us-east-1.bonsaisearch.net:443/covidtweets/_doc/1387905826371751936 [status:201 request:0.027s]\n",
            "INFO:elasticsearch:PUT https://kafka-homework3-5284633582.us-east-1.bonsaisearch.net:443/covidtweets/_doc/1387905830566211589 [status:201 request:0.027s]\n",
            "INFO:elasticsearch:PUT https://kafka-homework3-5284633582.us-east-1.bonsaisearch.net:443/covidtweets/_doc/1387905839055335426 [status:201 request:0.029s]\n",
            "INFO:elasticsearch:PUT https://kafka-homework3-5284633582.us-east-1.bonsaisearch.net:443/covidtweets/_doc/1387905847410532358 [status:201 request:0.027s]\n"
          ],
          "name": "stderr"
        },
        {
          "output_type": "stream",
          "text": [
            "460\n",
            "461\n",
            "462\n",
            "463\n",
            "464\n",
            "465\n",
            "466\n"
          ],
          "name": "stdout"
        },
        {
          "output_type": "stream",
          "text": [
            "INFO:elasticsearch:PUT https://kafka-homework3-5284633582.us-east-1.bonsaisearch.net:443/covidtweets/_doc/1387905854859464704 [status:201 request:0.030s]\n",
            "INFO:elasticsearch:PUT https://kafka-homework3-5284633582.us-east-1.bonsaisearch.net:443/covidtweets/_doc/1387905856361046016 [status:201 request:0.028s]\n",
            "INFO:elasticsearch:PUT https://kafka-homework3-5284633582.us-east-1.bonsaisearch.net:443/covidtweets/_doc/1387905856864497670 [status:201 request:0.027s]\n",
            "INFO:elasticsearch:PUT https://kafka-homework3-5284633582.us-east-1.bonsaisearch.net:443/covidtweets/_doc/1387905857707413507 [status:201 request:0.027s]\n",
            "INFO:elasticsearch:PUT https://kafka-homework3-5284633582.us-east-1.bonsaisearch.net:443/covidtweets/_doc/1387905860937011200 [status:201 request:0.031s]\n",
            "INFO:elasticsearch:PUT https://kafka-homework3-5284633582.us-east-1.bonsaisearch.net:443/covidtweets/_doc/1387905863013253125 [status:201 request:0.027s]\n",
            "INFO:elasticsearch:PUT https://kafka-homework3-5284633582.us-east-1.bonsaisearch.net:443/covidtweets/_doc/1387905865085239297 [status:201 request:0.027s]\n"
          ],
          "name": "stderr"
        },
        {
          "output_type": "stream",
          "text": [
            "467\n",
            "468\n",
            "469\n",
            "470\n",
            "471\n",
            "472\n",
            "473\n"
          ],
          "name": "stdout"
        },
        {
          "output_type": "stream",
          "text": [
            "INFO:elasticsearch:PUT https://kafka-homework3-5284633582.us-east-1.bonsaisearch.net:443/covidtweets/_doc/1387905866192461825 [status:201 request:0.026s]\n",
            "INFO:elasticsearch:PUT https://kafka-homework3-5284633582.us-east-1.bonsaisearch.net:443/covidtweets/_doc/1387905866477842434 [status:201 request:0.027s]\n",
            "INFO:elasticsearch:PUT https://kafka-homework3-5284633582.us-east-1.bonsaisearch.net:443/covidtweets/_doc/1387905866096119808 [status:201 request:0.028s]\n",
            "INFO:elasticsearch:PUT https://kafka-homework3-5284633582.us-east-1.bonsaisearch.net:443/covidtweets/_doc/1387905866741993472 [status:201 request:0.027s]\n",
            "INFO:elasticsearch:PUT https://kafka-homework3-5284633582.us-east-1.bonsaisearch.net:443/covidtweets/_doc/1387905867547398155 [status:201 request:0.027s]\n",
            "INFO:elasticsearch:PUT https://kafka-homework3-5284633582.us-east-1.bonsaisearch.net:443/covidtweets/_doc/1387905871276093441 [status:201 request:0.028s]\n",
            "INFO:elasticsearch:PUT https://kafka-homework3-5284633582.us-east-1.bonsaisearch.net:443/covidtweets/_doc/1387905873041756161 [status:201 request:0.031s]\n"
          ],
          "name": "stderr"
        },
        {
          "output_type": "stream",
          "text": [
            "474\n",
            "475\n",
            "476\n",
            "477\n",
            "478\n",
            "479\n",
            "480\n"
          ],
          "name": "stdout"
        },
        {
          "output_type": "stream",
          "text": [
            "INFO:elasticsearch:PUT https://kafka-homework3-5284633582.us-east-1.bonsaisearch.net:443/covidtweets/_doc/1387905878020575239 [status:201 request:0.027s]\n",
            "INFO:elasticsearch:PUT https://kafka-homework3-5284633582.us-east-1.bonsaisearch.net:443/covidtweets/_doc/1387905880184684544 [status:201 request:0.028s]\n",
            "INFO:elasticsearch:PUT https://kafka-homework3-5284633582.us-east-1.bonsaisearch.net:443/covidtweets/_doc/1387905880620867585 [status:201 request:0.030s]\n",
            "INFO:elasticsearch:PUT https://kafka-homework3-5284633582.us-east-1.bonsaisearch.net:443/covidtweets/_doc/1387905882982207488 [status:201 request:0.027s]\n",
            "INFO:elasticsearch:PUT https://kafka-homework3-5284633582.us-east-1.bonsaisearch.net:443/covidtweets/_doc/1387905884790030336 [status:201 request:0.027s]\n",
            "INFO:elasticsearch:PUT https://kafka-homework3-5284633582.us-east-1.bonsaisearch.net:443/covidtweets/_doc/1387905891270369286 [status:201 request:0.027s]\n",
            "INFO:elasticsearch:PUT https://kafka-homework3-5284633582.us-east-1.bonsaisearch.net:443/covidtweets/_doc/1387905892754944001 [status:201 request:0.027s]\n"
          ],
          "name": "stderr"
        },
        {
          "output_type": "stream",
          "text": [
            "481\n",
            "482\n",
            "483\n",
            "484\n",
            "485\n",
            "486\n",
            "487\n"
          ],
          "name": "stdout"
        },
        {
          "output_type": "stream",
          "text": [
            "INFO:elasticsearch:PUT https://kafka-homework3-5284633582.us-east-1.bonsaisearch.net:443/covidtweets/_doc/1387905895028297729 [status:201 request:0.026s]\n",
            "INFO:elasticsearch:PUT https://kafka-homework3-5284633582.us-east-1.bonsaisearch.net:443/covidtweets/_doc/1387905896618070016 [status:201 request:0.027s]\n",
            "INFO:elasticsearch:PUT https://kafka-homework3-5284633582.us-east-1.bonsaisearch.net:443/covidtweets/_doc/1387905898400690182 [status:201 request:0.100s]\n",
            "INFO:elasticsearch:PUT https://kafka-homework3-5284633582.us-east-1.bonsaisearch.net:443/covidtweets/_doc/1387905899222740993 [status:201 request:0.027s]\n",
            "INFO:elasticsearch:PUT https://kafka-homework3-5284633582.us-east-1.bonsaisearch.net:443/covidtweets/_doc/1387905899906408452 [status:201 request:0.030s]\n"
          ],
          "name": "stderr"
        },
        {
          "output_type": "stream",
          "text": [
            "488\n",
            "489\n",
            "490\n",
            "491\n",
            "492\n"
          ],
          "name": "stdout"
        },
        {
          "output_type": "stream",
          "text": [
            "INFO:elasticsearch:PUT https://kafka-homework3-5284633582.us-east-1.bonsaisearch.net:443/covidtweets/_doc/1387905903421116416 [status:201 request:0.028s]\n",
            "INFO:elasticsearch:PUT https://kafka-homework3-5284633582.us-east-1.bonsaisearch.net:443/covidtweets/_doc/1387905903924367362 [status:201 request:0.028s]\n",
            "INFO:elasticsearch:PUT https://kafka-homework3-5284633582.us-east-1.bonsaisearch.net:443/covidtweets/_doc/1387905904146665475 [status:201 request:0.027s]\n",
            "INFO:elasticsearch:PUT https://kafka-homework3-5284633582.us-east-1.bonsaisearch.net:443/covidtweets/_doc/1387905906814246915 [status:201 request:0.027s]\n",
            "INFO:elasticsearch:PUT https://kafka-homework3-5284633582.us-east-1.bonsaisearch.net:443/covidtweets/_doc/1387905909687558144 [status:201 request:0.027s]\n",
            "INFO:elasticsearch:PUT https://kafka-homework3-5284633582.us-east-1.bonsaisearch.net:443/covidtweets/_doc/1387905911654690826 [status:201 request:0.028s]\n",
            "INFO:elasticsearch:PUT https://kafka-homework3-5284633582.us-east-1.bonsaisearch.net:443/covidtweets/_doc/1387905919577624580 [status:201 request:0.029s]\n"
          ],
          "name": "stderr"
        },
        {
          "output_type": "stream",
          "text": [
            "493\n",
            "494\n",
            "495\n",
            "496\n",
            "497\n",
            "498\n",
            "499\n"
          ],
          "name": "stdout"
        },
        {
          "output_type": "stream",
          "text": [
            "INFO:elasticsearch:PUT https://kafka-homework3-5284633582.us-east-1.bonsaisearch.net:443/covidtweets/_doc/1387905924786913282 [status:201 request:0.030s]\n",
            "INFO:elasticsearch:PUT https://kafka-homework3-5284633582.us-east-1.bonsaisearch.net:443/covidtweets/_doc/1387905926825394177 [status:201 request:0.030s]\n",
            "INFO:elasticsearch:PUT https://kafka-homework3-5284633582.us-east-1.bonsaisearch.net:443/covidtweets/_doc/1387905930369581060 [status:201 request:0.027s]\n",
            "INFO:elasticsearch:PUT https://kafka-homework3-5284633582.us-east-1.bonsaisearch.net:443/covidtweets/_doc/1387905934538821636 [status:201 request:0.028s]\n",
            "INFO:elasticsearch:PUT https://kafka-homework3-5284633582.us-east-1.bonsaisearch.net:443/covidtweets/_doc/1387905935700500482 [status:201 request:0.028s]\n",
            "INFO:elasticsearch:PUT https://kafka-homework3-5284633582.us-east-1.bonsaisearch.net:443/covidtweets/_doc/1387905935742488578 [status:201 request:0.029s]\n",
            "INFO:elasticsearch:PUT https://kafka-homework3-5284633582.us-east-1.bonsaisearch.net:443/covidtweets/_doc/1387905938682564609 [status:201 request:0.026s]\n"
          ],
          "name": "stderr"
        },
        {
          "output_type": "stream",
          "text": [
            "500\n",
            "501\n",
            "502\n",
            "503\n",
            "504\n",
            "505\n"
          ],
          "name": "stdout"
        },
        {
          "output_type": "stream",
          "text": [
            "INFO:elasticsearch:PUT https://kafka-homework3-5284633582.us-east-1.bonsaisearch.net:443/covidtweets/_doc/1387905940742017024 [status:201 request:0.028s]\n",
            "INFO:elasticsearch:PUT https://kafka-homework3-5284633582.us-east-1.bonsaisearch.net:443/covidtweets/_doc/1387905941056622592 [status:201 request:0.027s]\n",
            "INFO:elasticsearch:PUT https://kafka-homework3-5284633582.us-east-1.bonsaisearch.net:443/covidtweets/_doc/1387905941828341761 [status:201 request:0.028s]\n",
            "INFO:elasticsearch:PUT https://kafka-homework3-5284633582.us-east-1.bonsaisearch.net:443/covidtweets/_doc/1387905946865733634 [status:201 request:0.026s]\n",
            "INFO:elasticsearch:PUT https://kafka-homework3-5284633582.us-east-1.bonsaisearch.net:443/covidtweets/_doc/1387905947406852098 [status:201 request:0.032s]\n",
            "INFO:elasticsearch:PUT https://kafka-homework3-5284633582.us-east-1.bonsaisearch.net:443/covidtweets/_doc/1387905947977277445 [status:201 request:0.026s]\n"
          ],
          "name": "stderr"
        },
        {
          "output_type": "stream",
          "text": [
            "506\n",
            "507\n",
            "508\n",
            "509\n",
            "510\n",
            "511\n",
            "512\n"
          ],
          "name": "stdout"
        },
        {
          "output_type": "stream",
          "text": [
            "INFO:elasticsearch:PUT https://kafka-homework3-5284633582.us-east-1.bonsaisearch.net:443/covidtweets/_doc/1387905948807745539 [status:201 request:0.028s]\n",
            "INFO:elasticsearch:PUT https://kafka-homework3-5284633582.us-east-1.bonsaisearch.net:443/covidtweets/_doc/1387905965006151680 [status:201 request:0.026s]\n",
            "INFO:elasticsearch:PUT https://kafka-homework3-5284633582.us-east-1.bonsaisearch.net:443/covidtweets/_doc/1387905965702492162 [status:201 request:0.027s]\n",
            "INFO:elasticsearch:PUT https://kafka-homework3-5284633582.us-east-1.bonsaisearch.net:443/covidtweets/_doc/1387905966650298368 [status:201 request:0.026s]\n",
            "INFO:elasticsearch:PUT https://kafka-homework3-5284633582.us-east-1.bonsaisearch.net:443/covidtweets/_doc/1387905966742687746 [status:201 request:0.027s]\n",
            "INFO:elasticsearch:PUT https://kafka-homework3-5284633582.us-east-1.bonsaisearch.net:443/covidtweets/_doc/1387905968411926528 [status:201 request:0.027s]\n",
            "INFO:elasticsearch:PUT https://kafka-homework3-5284633582.us-east-1.bonsaisearch.net:443/covidtweets/_doc/1387905968340668418 [status:201 request:0.028s]\n"
          ],
          "name": "stderr"
        },
        {
          "output_type": "stream",
          "text": [
            "513\n",
            "514\n",
            "515\n",
            "516\n",
            "517\n",
            "518\n",
            "519"
          ],
          "name": "stdout"
        },
        {
          "output_type": "stream",
          "text": [
            "INFO:elasticsearch:PUT https://kafka-homework3-5284633582.us-east-1.bonsaisearch.net:443/covidtweets/_doc/1387905970311925760 [status:201 request:0.029s]\n",
            "INFO:elasticsearch:PUT https://kafka-homework3-5284633582.us-east-1.bonsaisearch.net:443/covidtweets/_doc/1387905972035723264 [status:201 request:0.027s]\n",
            "INFO:elasticsearch:PUT https://kafka-homework3-5284633582.us-east-1.bonsaisearch.net:443/covidtweets/_doc/1387905978490884097 [status:201 request:0.030s]\n",
            "INFO:elasticsearch:PUT https://kafka-homework3-5284633582.us-east-1.bonsaisearch.net:443/covidtweets/_doc/1387905982672474116 [status:201 request:0.031s]\n",
            "INFO:elasticsearch:PUT https://kafka-homework3-5284633582.us-east-1.bonsaisearch.net:443/covidtweets/_doc/1387905984945872896 [status:201 request:0.028s]\n",
            "INFO:elasticsearch:PUT https://kafka-homework3-5284633582.us-east-1.bonsaisearch.net:443/covidtweets/_doc/1387905988498448384 [status:201 request:0.027s]\n"
          ],
          "name": "stderr"
        },
        {
          "output_type": "stream",
          "text": [
            "\n",
            "520\n",
            "521\n",
            "522\n",
            "523\n",
            "524\n"
          ],
          "name": "stdout"
        },
        {
          "output_type": "stream",
          "text": [
            "INFO:elasticsearch:PUT https://kafka-homework3-5284633582.us-east-1.bonsaisearch.net:443/covidtweets/_doc/1387905989865660417 [status:201 request:0.028s]\n",
            "INFO:elasticsearch:PUT https://kafka-homework3-5284633582.us-east-1.bonsaisearch.net:443/covidtweets/_doc/1387905996295651330 [status:201 request:0.026s]\n",
            "INFO:elasticsearch:PUT https://kafka-homework3-5284633582.us-east-1.bonsaisearch.net:443/covidtweets/_doc/1387905996803256322 [status:201 request:0.029s]\n",
            "INFO:elasticsearch:PUT https://kafka-homework3-5284633582.us-east-1.bonsaisearch.net:443/covidtweets/_doc/1387905997583396867 [status:201 request:0.035s]\n",
            "INFO:elasticsearch:PUT https://kafka-homework3-5284633582.us-east-1.bonsaisearch.net:443/covidtweets/_doc/1387905997771927553 [status:201 request:0.028s]\n",
            "INFO:elasticsearch:PUT https://kafka-homework3-5284633582.us-east-1.bonsaisearch.net:443/covidtweets/_doc/1387906000297017345 [status:201 request:0.027s]\n"
          ],
          "name": "stderr"
        },
        {
          "output_type": "stream",
          "text": [
            "525\n",
            "526\n",
            "527\n",
            "528\n",
            "529\n",
            "530\n"
          ],
          "name": "stdout"
        },
        {
          "output_type": "stream",
          "text": [
            "INFO:elasticsearch:PUT https://kafka-homework3-5284633582.us-east-1.bonsaisearch.net:443/covidtweets/_doc/1387906001475706881 [status:201 request:0.029s]\n",
            "INFO:elasticsearch:PUT https://kafka-homework3-5284633582.us-east-1.bonsaisearch.net:443/covidtweets/_doc/1387906004373884928 [status:201 request:0.028s]\n",
            "INFO:elasticsearch:PUT https://kafka-homework3-5284633582.us-east-1.bonsaisearch.net:443/covidtweets/_doc/1387906008060661762 [status:201 request:0.031s]\n",
            "INFO:elasticsearch:PUT https://kafka-homework3-5284633582.us-east-1.bonsaisearch.net:443/covidtweets/_doc/1387906020152954883 [status:201 request:0.027s]\n",
            "INFO:elasticsearch:PUT https://kafka-homework3-5284633582.us-east-1.bonsaisearch.net:443/covidtweets/_doc/1387906021704626178 [status:201 request:0.028s]\n",
            "INFO:elasticsearch:PUT https://kafka-homework3-5284633582.us-east-1.bonsaisearch.net:443/covidtweets/_doc/1387906027140435971 [status:201 request:0.028s]\n"
          ],
          "name": "stderr"
        },
        {
          "output_type": "stream",
          "text": [
            "531\n",
            "532\n",
            "533\n",
            "534\n",
            "535\n",
            "536\n",
            "537\n"
          ],
          "name": "stdout"
        },
        {
          "output_type": "stream",
          "text": [
            "INFO:elasticsearch:PUT https://kafka-homework3-5284633582.us-east-1.bonsaisearch.net:443/covidtweets/_doc/1387906029539663873 [status:201 request:0.026s]\n",
            "INFO:elasticsearch:PUT https://kafka-homework3-5284633582.us-east-1.bonsaisearch.net:443/covidtweets/_doc/1387906034493054976 [status:201 request:0.030s]\n",
            "INFO:elasticsearch:PUT https://kafka-homework3-5284633582.us-east-1.bonsaisearch.net:443/covidtweets/_doc/1387906040918904836 [status:201 request:0.027s]\n",
            "INFO:elasticsearch:PUT https://kafka-homework3-5284633582.us-east-1.bonsaisearch.net:443/covidtweets/_doc/1387906042730663936 [status:201 request:0.026s]\n",
            "INFO:elasticsearch:PUT https://kafka-homework3-5284633582.us-east-1.bonsaisearch.net:443/covidtweets/_doc/1387906043854815232 [status:201 request:0.026s]\n",
            "INFO:elasticsearch:PUT https://kafka-homework3-5284633582.us-east-1.bonsaisearch.net:443/covidtweets/_doc/1387906045293469697 [status:201 request:0.028s]\n",
            "INFO:elasticsearch:PUT https://kafka-homework3-5284633582.us-east-1.bonsaisearch.net:443/covidtweets/_doc/1387906045595594753 [status:201 request:0.030s]\n"
          ],
          "name": "stderr"
        },
        {
          "output_type": "stream",
          "text": [
            "538\n",
            "539\n",
            "540\n",
            "541\n",
            "542\n",
            "543\n",
            "544\n"
          ],
          "name": "stdout"
        },
        {
          "output_type": "stream",
          "text": [
            "INFO:elasticsearch:PUT https://kafka-homework3-5284633582.us-east-1.bonsaisearch.net:443/covidtweets/_doc/1387906047420030976 [status:201 request:0.029s]\n",
            "INFO:elasticsearch:PUT https://kafka-homework3-5284633582.us-east-1.bonsaisearch.net:443/covidtweets/_doc/1387906048489664513 [status:201 request:0.027s]\n",
            "INFO:elasticsearch:PUT https://kafka-homework3-5284633582.us-east-1.bonsaisearch.net:443/covidtweets/_doc/1387906049617846274 [status:201 request:0.027s]\n",
            "INFO:elasticsearch:PUT https://kafka-homework3-5284633582.us-east-1.bonsaisearch.net:443/covidtweets/_doc/1387906054860726282 [status:201 request:0.027s]\n",
            "INFO:elasticsearch:PUT https://kafka-homework3-5284633582.us-east-1.bonsaisearch.net:443/covidtweets/_doc/1387906055221485572 [status:201 request:0.026s]\n",
            "INFO:elasticsearch:PUT https://kafka-homework3-5284633582.us-east-1.bonsaisearch.net:443/covidtweets/_doc/1387906055326347265 [status:201 request:0.026s]\n",
            "INFO:elasticsearch:PUT https://kafka-homework3-5284633582.us-east-1.bonsaisearch.net:443/covidtweets/_doc/1387906059054895104 [status:201 request:0.031s]\n"
          ],
          "name": "stderr"
        },
        {
          "output_type": "stream",
          "text": [
            "545\n",
            "546\n",
            "547\n",
            "548\n",
            "549\n",
            "550\n",
            "551\n"
          ],
          "name": "stdout"
        },
        {
          "output_type": "stream",
          "text": [
            "INFO:elasticsearch:PUT https://kafka-homework3-5284633582.us-east-1.bonsaisearch.net:443/covidtweets/_doc/1387906060258713601 [status:201 request:0.026s]\n",
            "INFO:elasticsearch:PUT https://kafka-homework3-5284633582.us-east-1.bonsaisearch.net:443/covidtweets/_doc/1387906061819162630 [status:201 request:0.027s]\n",
            "INFO:elasticsearch:PUT https://kafka-homework3-5284633582.us-east-1.bonsaisearch.net:443/covidtweets/_doc/1387906065661153280 [status:201 request:0.027s]\n",
            "INFO:elasticsearch:PUT https://kafka-homework3-5284633582.us-east-1.bonsaisearch.net:443/covidtweets/_doc/1387906070253867015 [status:201 request:0.026s]\n",
            "INFO:elasticsearch:PUT https://kafka-homework3-5284633582.us-east-1.bonsaisearch.net:443/covidtweets/_doc/1387906071411531777 [status:201 request:0.027s]\n",
            "INFO:elasticsearch:PUT https://kafka-homework3-5284633582.us-east-1.bonsaisearch.net:443/covidtweets/_doc/1387906072992784385 [status:201 request:0.029s]\n",
            "INFO:elasticsearch:PUT https://kafka-homework3-5284633582.us-east-1.bonsaisearch.net:443/covidtweets/_doc/1387906073483427844 [status:201 request:0.027s]\n"
          ],
          "name": "stderr"
        },
        {
          "output_type": "stream",
          "text": [
            "552\n",
            "553\n",
            "554\n",
            "555\n",
            "556\n",
            "557\n",
            "558\n"
          ],
          "name": "stdout"
        },
        {
          "output_type": "stream",
          "text": [
            "INFO:elasticsearch:PUT https://kafka-homework3-5284633582.us-east-1.bonsaisearch.net:443/covidtweets/_doc/1387906074368528385 [status:201 request:0.028s]\n",
            "INFO:elasticsearch:PUT https://kafka-homework3-5284633582.us-east-1.bonsaisearch.net:443/covidtweets/_doc/1387906074913607683 [status:201 request:0.029s]\n",
            "INFO:elasticsearch:PUT https://kafka-homework3-5284633582.us-east-1.bonsaisearch.net:443/covidtweets/_doc/1387906075253411845 [status:201 request:0.026s]\n",
            "INFO:elasticsearch:PUT https://kafka-homework3-5284633582.us-east-1.bonsaisearch.net:443/covidtweets/_doc/1387906078101356544 [status:201 request:0.028s]\n",
            "INFO:elasticsearch:PUT https://kafka-homework3-5284633582.us-east-1.bonsaisearch.net:443/covidtweets/_doc/1387906080181690368 [status:201 request:0.027s]\n",
            "INFO:elasticsearch:PUT https://kafka-homework3-5284633582.us-east-1.bonsaisearch.net:443/covidtweets/_doc/1387906081435922432 [status:201 request:0.027s]\n",
            "INFO:elasticsearch:PUT https://kafka-homework3-5284633582.us-east-1.bonsaisearch.net:443/covidtweets/_doc/1387906088712871940 [status:201 request:0.028s]\n"
          ],
          "name": "stderr"
        },
        {
          "output_type": "stream",
          "text": [
            "559\n",
            "560\n",
            "561\n",
            "562\n",
            "563\n",
            "564\n",
            "565\n"
          ],
          "name": "stdout"
        },
        {
          "output_type": "stream",
          "text": [
            "INFO:elasticsearch:PUT https://kafka-homework3-5284633582.us-east-1.bonsaisearch.net:443/covidtweets/_doc/1387906099160883201 [status:201 request:0.028s]\n",
            "INFO:elasticsearch:PUT https://kafka-homework3-5284633582.us-east-1.bonsaisearch.net:443/covidtweets/_doc/1387906103757975557 [status:201 request:0.027s]\n",
            "INFO:elasticsearch:PUT https://kafka-homework3-5284633582.us-east-1.bonsaisearch.net:443/covidtweets/_doc/1387906107151110144 [status:201 request:0.027s]\n",
            "INFO:elasticsearch:PUT https://kafka-homework3-5284633582.us-east-1.bonsaisearch.net:443/covidtweets/_doc/1387906108539510788 [status:201 request:0.027s]\n",
            "INFO:elasticsearch:PUT https://kafka-homework3-5284633582.us-east-1.bonsaisearch.net:443/covidtweets/_doc/1387906110510751744 [status:201 request:0.028s]\n",
            "INFO:elasticsearch:PUT https://kafka-homework3-5284633582.us-east-1.bonsaisearch.net:443/covidtweets/_doc/1387906111504797696 [status:201 request:0.029s]\n",
            "INFO:elasticsearch:PUT https://kafka-homework3-5284633582.us-east-1.bonsaisearch.net:443/covidtweets/_doc/1387906112331165699 [status:201 request:0.027s]\n"
          ],
          "name": "stderr"
        },
        {
          "output_type": "stream",
          "text": [
            "566\n",
            "567\n",
            "568\n",
            "569\n",
            "570\n",
            "571\n",
            "572\n"
          ],
          "name": "stdout"
        },
        {
          "output_type": "stream",
          "text": [
            "INFO:elasticsearch:PUT https://kafka-homework3-5284633582.us-east-1.bonsaisearch.net:443/covidtweets/_doc/1387906115413843970 [status:201 request:0.027s]\n",
            "INFO:elasticsearch:PUT https://kafka-homework3-5284633582.us-east-1.bonsaisearch.net:443/covidtweets/_doc/1387906118014300162 [status:201 request:0.028s]\n",
            "INFO:elasticsearch:PUT https://kafka-homework3-5284633582.us-east-1.bonsaisearch.net:443/covidtweets/_doc/1387906118689587200 [status:201 request:0.029s]\n",
            "INFO:elasticsearch:PUT https://kafka-homework3-5284633582.us-east-1.bonsaisearch.net:443/covidtweets/_doc/1387906119566245891 [status:201 request:0.028s]\n",
            "INFO:elasticsearch:PUT https://kafka-homework3-5284633582.us-east-1.bonsaisearch.net:443/covidtweets/_doc/1387906122871447562 [status:201 request:0.036s]\n",
            "INFO:elasticsearch:PUT https://kafka-homework3-5284633582.us-east-1.bonsaisearch.net:443/covidtweets/_doc/1387906123764797440 [status:201 request:0.028s]\n",
            "INFO:elasticsearch:PUT https://kafka-homework3-5284633582.us-east-1.bonsaisearch.net:443/covidtweets/_doc/1387906133306712065 [status:201 request:0.028s]\n"
          ],
          "name": "stderr"
        },
        {
          "output_type": "stream",
          "text": [
            "573\n",
            "574\n",
            "575\n",
            "576\n",
            "577\n",
            "578\n",
            "579\n"
          ],
          "name": "stdout"
        },
        {
          "output_type": "stream",
          "text": [
            "INFO:elasticsearch:PUT https://kafka-homework3-5284633582.us-east-1.bonsaisearch.net:443/covidtweets/_doc/1387906135341010944 [status:201 request:0.032s]\n",
            "INFO:elasticsearch:PUT https://kafka-homework3-5284633582.us-east-1.bonsaisearch.net:443/covidtweets/_doc/1387906142546890752 [status:201 request:0.027s]\n",
            "INFO:elasticsearch:PUT https://kafka-homework3-5284633582.us-east-1.bonsaisearch.net:443/covidtweets/_doc/1387906144832655360 [status:201 request:0.031s]\n",
            "INFO:elasticsearch:PUT https://kafka-homework3-5284633582.us-east-1.bonsaisearch.net:443/covidtweets/_doc/1387906150931210242 [status:201 request:0.030s]\n",
            "INFO:elasticsearch:PUT https://kafka-homework3-5284633582.us-east-1.bonsaisearch.net:443/covidtweets/_doc/1387906152126685191 [status:201 request:0.027s]\n",
            "INFO:elasticsearch:PUT https://kafka-homework3-5284633582.us-east-1.bonsaisearch.net:443/covidtweets/_doc/1387906155872243715 [status:201 request:0.029s]\n",
            "INFO:elasticsearch:PUT https://kafka-homework3-5284633582.us-east-1.bonsaisearch.net:443/covidtweets/_doc/1387906164193730561 [status:201 request:0.027s]\n"
          ],
          "name": "stderr"
        },
        {
          "output_type": "stream",
          "text": [
            "580\n",
            "581\n",
            "582\n",
            "583\n",
            "584\n",
            "585\n",
            "586\n"
          ],
          "name": "stdout"
        },
        {
          "output_type": "stream",
          "text": [
            "INFO:elasticsearch:PUT https://kafka-homework3-5284633582.us-east-1.bonsaisearch.net:443/covidtweets/_doc/1387906166747844608 [status:201 request:0.031s]\n",
            "INFO:elasticsearch:PUT https://kafka-homework3-5284633582.us-east-1.bonsaisearch.net:443/covidtweets/_doc/1387906167779774469 [status:201 request:0.027s]\n",
            "INFO:elasticsearch:PUT https://kafka-homework3-5284633582.us-east-1.bonsaisearch.net:443/covidtweets/_doc/1387906170531241984 [status:201 request:0.027s]\n",
            "INFO:elasticsearch:PUT https://kafka-homework3-5284633582.us-east-1.bonsaisearch.net:443/covidtweets/_doc/1387906170736844801 [status:201 request:0.029s]\n",
            "INFO:elasticsearch:PUT https://kafka-homework3-5284633582.us-east-1.bonsaisearch.net:443/covidtweets/_doc/1387906175845519365 [status:201 request:0.028s]\n",
            "INFO:elasticsearch:PUT https://kafka-homework3-5284633582.us-east-1.bonsaisearch.net:443/covidtweets/_doc/1387906178861080576 [status:201 request:0.027s]\n",
            "INFO:elasticsearch:PUT https://kafka-homework3-5284633582.us-east-1.bonsaisearch.net:443/covidtweets/_doc/1387906179909697539 [status:201 request:0.028s]\n"
          ],
          "name": "stderr"
        },
        {
          "output_type": "stream",
          "text": [
            "587\n",
            "588\n",
            "589\n",
            "590\n",
            "591\n",
            "592\n",
            "593\n"
          ],
          "name": "stdout"
        },
        {
          "output_type": "stream",
          "text": [
            "INFO:elasticsearch:PUT https://kafka-homework3-5284633582.us-east-1.bonsaisearch.net:443/covidtweets/_doc/1387906181717536771 [status:201 request:0.033s]\n",
            "INFO:elasticsearch:PUT https://kafka-homework3-5284633582.us-east-1.bonsaisearch.net:443/covidtweets/_doc/1387906183952965632 [status:201 request:0.027s]\n",
            "INFO:elasticsearch:PUT https://kafka-homework3-5284633582.us-east-1.bonsaisearch.net:443/covidtweets/_doc/1387906185156861953 [status:201 request:0.028s]\n",
            "INFO:elasticsearch:PUT https://kafka-homework3-5284633582.us-east-1.bonsaisearch.net:443/covidtweets/_doc/1387906188499693569 [status:201 request:0.027s]\n",
            "INFO:elasticsearch:PUT https://kafka-homework3-5284633582.us-east-1.bonsaisearch.net:443/covidtweets/_doc/1387906193667104768 [status:201 request:0.027s]\n",
            "INFO:elasticsearch:PUT https://kafka-homework3-5284633582.us-east-1.bonsaisearch.net:443/covidtweets/_doc/1387906196494065665 [status:201 request:0.033s]\n",
            "INFO:elasticsearch:PUT https://kafka-homework3-5284633582.us-east-1.bonsaisearch.net:443/covidtweets/_doc/1387906198318501893 [status:201 request:0.026s]\n"
          ],
          "name": "stderr"
        },
        {
          "output_type": "stream",
          "text": [
            "594\n",
            "595\n",
            "596\n",
            "597\n",
            "598\n",
            "599\n",
            "600\n"
          ],
          "name": "stdout"
        },
        {
          "output_type": "stream",
          "text": [
            "INFO:elasticsearch:PUT https://kafka-homework3-5284633582.us-east-1.bonsaisearch.net:443/covidtweets/_doc/1387906199664816129 [status:201 request:0.027s]\n",
            "INFO:elasticsearch:PUT https://kafka-homework3-5284633582.us-east-1.bonsaisearch.net:443/covidtweets/_doc/1387906200638005251 [status:201 request:0.029s]\n",
            "INFO:elasticsearch:PUT https://kafka-homework3-5284633582.us-east-1.bonsaisearch.net:443/covidtweets/_doc/1387906205671165952 [status:201 request:0.028s]\n",
            "INFO:elasticsearch:PUT https://kafka-homework3-5284633582.us-east-1.bonsaisearch.net:443/covidtweets/_doc/1387906207931764741 [status:201 request:0.099s]\n",
            "INFO:elasticsearch:PUT https://kafka-homework3-5284633582.us-east-1.bonsaisearch.net:443/covidtweets/_doc/1387906209445859330 [status:201 request:0.028s]\n"
          ],
          "name": "stderr"
        },
        {
          "output_type": "stream",
          "text": [
            "601\n",
            "602\n",
            "603\n",
            "604\n",
            "605\n"
          ],
          "name": "stdout"
        },
        {
          "output_type": "stream",
          "text": [
            "INFO:elasticsearch:PUT https://kafka-homework3-5284633582.us-east-1.bonsaisearch.net:443/covidtweets/_doc/1387906209588682753 [status:201 request:0.026s]\n",
            "INFO:elasticsearch:PUT https://kafka-homework3-5284633582.us-east-1.bonsaisearch.net:443/covidtweets/_doc/1387906211480231937 [status:201 request:0.027s]\n",
            "INFO:elasticsearch:PUT https://kafka-homework3-5284633582.us-east-1.bonsaisearch.net:443/covidtweets/_doc/1387906216559529984 [status:201 request:0.028s]\n",
            "INFO:elasticsearch:PUT https://kafka-homework3-5284633582.us-east-1.bonsaisearch.net:443/covidtweets/_doc/1387906222590935043 [status:201 request:0.027s]\n",
            "INFO:elasticsearch:PUT https://kafka-homework3-5284633582.us-east-1.bonsaisearch.net:443/covidtweets/_doc/1387906223845134337 [status:201 request:0.028s]\n",
            "INFO:elasticsearch:PUT https://kafka-homework3-5284633582.us-east-1.bonsaisearch.net:443/covidtweets/_doc/1387906226445602820 [status:201 request:0.026s]\n",
            "INFO:elasticsearch:PUT https://kafka-homework3-5284633582.us-east-1.bonsaisearch.net:443/covidtweets/_doc/1387906227556945921 [status:201 request:0.039s]\n"
          ],
          "name": "stderr"
        },
        {
          "output_type": "stream",
          "text": [
            "606\n",
            "607\n",
            "608\n",
            "609\n",
            "610\n",
            "611\n",
            "612\n"
          ],
          "name": "stdout"
        },
        {
          "output_type": "stream",
          "text": [
            "INFO:elasticsearch:PUT https://kafka-homework3-5284633582.us-east-1.bonsaisearch.net:443/covidtweets/_doc/1387906230702706689 [status:201 request:0.028s]\n",
            "INFO:elasticsearch:PUT https://kafka-homework3-5284633582.us-east-1.bonsaisearch.net:443/covidtweets/_doc/1387906233135505408 [status:201 request:0.027s]\n",
            "INFO:elasticsearch:PUT https://kafka-homework3-5284633582.us-east-1.bonsaisearch.net:443/covidtweets/_doc/1387905939869618179 [status:201 request:0.028s]\n",
            "INFO:elasticsearch:PUT https://kafka-homework3-5284633582.us-east-1.bonsaisearch.net:443/covidtweets/_doc/1387905942541504514 [status:201 request:0.029s]\n",
            "INFO:elasticsearch:PUT https://kafka-homework3-5284633582.us-east-1.bonsaisearch.net:443/covidtweets/_doc/1387905942960820226 [status:201 request:0.027s]\n",
            "INFO:elasticsearch:PUT https://kafka-homework3-5284633582.us-east-1.bonsaisearch.net:443/covidtweets/_doc/1387905947629195266 [status:201 request:0.029s]\n",
            "INFO:elasticsearch:PUT https://kafka-homework3-5284633582.us-east-1.bonsaisearch.net:443/covidtweets/_doc/1387905949101215745 [status:201 request:0.028s]\n"
          ],
          "name": "stderr"
        },
        {
          "output_type": "stream",
          "text": [
            "613\n",
            "614\n",
            "615\n",
            "616\n",
            "617\n",
            "618\n",
            "619\n"
          ],
          "name": "stdout"
        },
        {
          "output_type": "stream",
          "text": [
            "INFO:elasticsearch:PUT https://kafka-homework3-5284633582.us-east-1.bonsaisearch.net:443/covidtweets/_doc/1387905949940080642 [status:201 request:0.034s]\n",
            "INFO:elasticsearch:PUT https://kafka-homework3-5284633582.us-east-1.bonsaisearch.net:443/covidtweets/_doc/1387905960396541953 [status:201 request:0.032s]\n",
            "INFO:elasticsearch:PUT https://kafka-homework3-5284633582.us-east-1.bonsaisearch.net:443/covidtweets/_doc/1387905962472841217 [status:201 request:0.034s]\n",
            "INFO:elasticsearch:PUT https://kafka-homework3-5284633582.us-east-1.bonsaisearch.net:443/covidtweets/_doc/1387905972543361028 [status:201 request:0.031s]\n",
            "INFO:elasticsearch:PUT https://kafka-homework3-5284633582.us-east-1.bonsaisearch.net:443/covidtweets/_doc/1387905973998825475 [status:201 request:0.035s]\n",
            "INFO:elasticsearch:PUT https://kafka-homework3-5284633582.us-east-1.bonsaisearch.net:443/covidtweets/_doc/1387905976171253761 [status:201 request:0.028s]\n",
            "INFO:elasticsearch:PUT https://kafka-homework3-5284633582.us-east-1.bonsaisearch.net:443/covidtweets/_doc/1387905981233999875 [status:201 request:0.030s]\n"
          ],
          "name": "stderr"
        },
        {
          "output_type": "stream",
          "text": [
            "620\n",
            "621\n",
            "622\n",
            "623\n",
            "624\n",
            "625\n"
          ],
          "name": "stdout"
        },
        {
          "output_type": "stream",
          "text": [
            "INFO:elasticsearch:PUT https://kafka-homework3-5284633582.us-east-1.bonsaisearch.net:443/covidtweets/_doc/1387905981569511426 [status:201 request:0.030s]\n",
            "INFO:elasticsearch:PUT https://kafka-homework3-5284633582.us-east-1.bonsaisearch.net:443/covidtweets/_doc/1387905981724585984 [status:201 request:0.028s]\n",
            "INFO:elasticsearch:PUT https://kafka-homework3-5284633582.us-east-1.bonsaisearch.net:443/covidtweets/_doc/1387905991505694720 [status:201 request:0.028s]\n",
            "INFO:elasticsearch:PUT https://kafka-homework3-5284633582.us-east-1.bonsaisearch.net:443/covidtweets/_doc/1387905992462151682 [status:201 request:0.028s]\n",
            "INFO:elasticsearch:PUT https://kafka-homework3-5284633582.us-east-1.bonsaisearch.net:443/covidtweets/_doc/1387905992663441408 [status:201 request:0.029s]\n",
            "INFO:elasticsearch:PUT https://kafka-homework3-5284633582.us-east-1.bonsaisearch.net:443/covidtweets/_doc/1387905996966842368 [status:201 request:0.027s]\n",
            "INFO:elasticsearch:PUT https://kafka-homework3-5284633582.us-east-1.bonsaisearch.net:443/covidtweets/_doc/1387905997684027394 [status:201 request:0.028s]\n"
          ],
          "name": "stderr"
        },
        {
          "output_type": "stream",
          "text": [
            "626\n",
            "627\n",
            "628\n",
            "629\n",
            "630\n",
            "631\n",
            "632\n",
            "633\n"
          ],
          "name": "stdout"
        },
        {
          "output_type": "stream",
          "text": [
            "INFO:elasticsearch:PUT https://kafka-homework3-5284633582.us-east-1.bonsaisearch.net:443/covidtweets/_doc/1387906000741675016 [status:201 request:0.027s]\n",
            "INFO:elasticsearch:PUT https://kafka-homework3-5284633582.us-east-1.bonsaisearch.net:443/covidtweets/_doc/1387906001106612231 [status:201 request:0.027s]\n",
            "INFO:elasticsearch:PUT https://kafka-homework3-5284633582.us-east-1.bonsaisearch.net:443/covidtweets/_doc/1387906008220147717 [status:201 request:0.028s]\n",
            "INFO:elasticsearch:PUT https://kafka-homework3-5284633582.us-east-1.bonsaisearch.net:443/covidtweets/_doc/1387906017388810241 [status:201 request:0.027s]\n",
            "INFO:elasticsearch:PUT https://kafka-homework3-5284633582.us-east-1.bonsaisearch.net:443/covidtweets/_doc/1387906018282065920 [status:201 request:0.029s]\n",
            "INFO:elasticsearch:PUT https://kafka-homework3-5284633582.us-east-1.bonsaisearch.net:443/covidtweets/_doc/1387906018936385540 [status:201 request:0.027s]\n",
            "INFO:elasticsearch:PUT https://kafka-homework3-5284633582.us-east-1.bonsaisearch.net:443/covidtweets/_doc/1387906021624934403 [status:201 request:0.028s]\n"
          ],
          "name": "stderr"
        },
        {
          "output_type": "stream",
          "text": [
            "634\n",
            "635\n",
            "636\n",
            "637\n",
            "638\n",
            "639\n",
            "640\n"
          ],
          "name": "stdout"
        },
        {
          "output_type": "stream",
          "text": [
            "INFO:elasticsearch:PUT https://kafka-homework3-5284633582.us-east-1.bonsaisearch.net:443/covidtweets/_doc/1387906024833683464 [status:201 request:0.026s]\n",
            "INFO:elasticsearch:PUT https://kafka-homework3-5284633582.us-east-1.bonsaisearch.net:443/covidtweets/_doc/1387906028109455363 [status:201 request:0.027s]\n",
            "INFO:elasticsearch:PUT https://kafka-homework3-5284633582.us-east-1.bonsaisearch.net:443/covidtweets/_doc/1387906031041355776 [status:201 request:0.101s]\n",
            "INFO:elasticsearch:PUT https://kafka-homework3-5284633582.us-east-1.bonsaisearch.net:443/covidtweets/_doc/1387906039203307520 [status:201 request:0.026s]\n",
            "INFO:elasticsearch:PUT https://kafka-homework3-5284633582.us-east-1.bonsaisearch.net:443/covidtweets/_doc/1387906041380229120 [status:201 request:0.027s]\n"
          ],
          "name": "stderr"
        },
        {
          "output_type": "stream",
          "text": [
            "641\n",
            "642\n",
            "643\n",
            "644\n",
            "645\n"
          ],
          "name": "stdout"
        },
        {
          "output_type": "stream",
          "text": [
            "INFO:elasticsearch:PUT https://kafka-homework3-5284633582.us-east-1.bonsaisearch.net:443/covidtweets/_doc/1387906046564392976 [status:201 request:0.030s]\n",
            "INFO:elasticsearch:PUT https://kafka-homework3-5284633582.us-east-1.bonsaisearch.net:443/covidtweets/_doc/1387906047877304320 [status:201 request:0.027s]\n",
            "INFO:elasticsearch:PUT https://kafka-homework3-5284633582.us-east-1.bonsaisearch.net:443/covidtweets/_doc/1387906048975982594 [status:201 request:0.026s]\n",
            "INFO:elasticsearch:PUT https://kafka-homework3-5284633582.us-east-1.bonsaisearch.net:443/covidtweets/_doc/1387906051887058944 [status:201 request:0.026s]\n",
            "INFO:elasticsearch:PUT https://kafka-homework3-5284633582.us-east-1.bonsaisearch.net:443/covidtweets/_doc/1387906052750938112 [status:201 request:0.027s]\n",
            "INFO:elasticsearch:PUT https://kafka-homework3-5284633582.us-east-1.bonsaisearch.net:443/covidtweets/_doc/1387906053258547202 [status:201 request:0.027s]\n",
            "INFO:elasticsearch:PUT https://kafka-homework3-5284633582.us-east-1.bonsaisearch.net:443/covidtweets/_doc/1387906053690507271 [status:201 request:0.028s]\n"
          ],
          "name": "stderr"
        },
        {
          "output_type": "stream",
          "text": [
            "646\n",
            "647\n",
            "648\n",
            "649\n",
            "650\n",
            "651\n",
            "652\n"
          ],
          "name": "stdout"
        },
        {
          "output_type": "stream",
          "text": [
            "INFO:elasticsearch:PUT https://kafka-homework3-5284633582.us-east-1.bonsaisearch.net:443/covidtweets/_doc/1387906054898556928 [status:201 request:0.027s]\n",
            "INFO:elasticsearch:PUT https://kafka-homework3-5284633582.us-east-1.bonsaisearch.net:443/covidtweets/_doc/1387906055003328520 [status:201 request:0.026s]\n",
            "INFO:elasticsearch:PUT https://kafka-homework3-5284633582.us-east-1.bonsaisearch.net:443/covidtweets/_doc/1387906056378933249 [status:201 request:0.028s]\n",
            "INFO:elasticsearch:PUT https://kafka-homework3-5284633582.us-east-1.bonsaisearch.net:443/covidtweets/_doc/1387906058295910405 [status:201 request:0.029s]\n",
            "INFO:elasticsearch:PUT https://kafka-homework3-5284633582.us-east-1.bonsaisearch.net:443/covidtweets/_doc/1387906062062264320 [status:201 request:0.028s]\n",
            "INFO:elasticsearch:PUT https://kafka-homework3-5284633582.us-east-1.bonsaisearch.net:443/covidtweets/_doc/1387906064327352321 [status:201 request:0.028s]\n",
            "INFO:elasticsearch:PUT https://kafka-homework3-5284633582.us-east-1.bonsaisearch.net:443/covidtweets/_doc/1387906066017619974 [status:201 request:0.028s]\n"
          ],
          "name": "stderr"
        },
        {
          "output_type": "stream",
          "text": [
            "653\n",
            "654\n",
            "655\n",
            "656\n",
            "657\n",
            "658\n",
            "659\n"
          ],
          "name": "stdout"
        },
        {
          "output_type": "stream",
          "text": [
            "INFO:elasticsearch:PUT https://kafka-homework3-5284633582.us-east-1.bonsaisearch.net:443/covidtweets/_doc/1387906068920029188 [status:201 request:0.026s]\n",
            "INFO:elasticsearch:PUT https://kafka-homework3-5284633582.us-east-1.bonsaisearch.net:443/covidtweets/_doc/1387906072367804419 [status:201 request:0.028s]\n",
            "INFO:elasticsearch:PUT https://kafka-homework3-5284633582.us-east-1.bonsaisearch.net:443/covidtweets/_doc/1387906072627793920 [status:201 request:0.027s]\n",
            "INFO:elasticsearch:PUT https://kafka-homework3-5284633582.us-east-1.bonsaisearch.net:443/covidtweets/_doc/1387906073789612040 [status:201 request:0.026s]\n",
            "INFO:elasticsearch:PUT https://kafka-homework3-5284633582.us-east-1.bonsaisearch.net:443/covidtweets/_doc/1387906075756834816 [status:201 request:0.028s]\n",
            "INFO:elasticsearch:PUT https://kafka-homework3-5284633582.us-east-1.bonsaisearch.net:443/covidtweets/_doc/1387906076138381312 [status:201 request:0.027s]\n",
            "INFO:elasticsearch:PUT https://kafka-homework3-5284633582.us-east-1.bonsaisearch.net:443/covidtweets/_doc/1387906077040185344 [status:201 request:0.029s]\n"
          ],
          "name": "stderr"
        },
        {
          "output_type": "stream",
          "text": [
            "660\n",
            "661\n",
            "662\n",
            "663\n",
            "664\n",
            "665\n",
            "666\n"
          ],
          "name": "stdout"
        },
        {
          "output_type": "stream",
          "text": [
            "INFO:elasticsearch:PUT https://kafka-homework3-5284633582.us-east-1.bonsaisearch.net:443/covidtweets/_doc/1387906081066684416 [status:201 request:0.029s]\n",
            "INFO:elasticsearch:PUT https://kafka-homework3-5284633582.us-east-1.bonsaisearch.net:443/covidtweets/_doc/1387906082216022018 [status:201 request:0.031s]\n",
            "INFO:elasticsearch:PUT https://kafka-homework3-5284633582.us-east-1.bonsaisearch.net:443/covidtweets/_doc/1387906083574882304 [status:201 request:0.027s]\n",
            "INFO:elasticsearch:PUT https://kafka-homework3-5284633582.us-east-1.bonsaisearch.net:443/covidtweets/_doc/1387906088532594689 [status:201 request:0.029s]\n",
            "INFO:elasticsearch:PUT https://kafka-homework3-5284633582.us-east-1.bonsaisearch.net:443/covidtweets/_doc/1387906090034098178 [status:201 request:0.031s]\n",
            "INFO:elasticsearch:PUT https://kafka-homework3-5284633582.us-east-1.bonsaisearch.net:443/covidtweets/_doc/1387906095973167111 [status:201 request:0.026s]\n",
            "INFO:elasticsearch:PUT https://kafka-homework3-5284633582.us-east-1.bonsaisearch.net:443/covidtweets/_doc/1387906103132844033 [status:201 request:0.027s]\n"
          ],
          "name": "stderr"
        },
        {
          "output_type": "stream",
          "text": [
            "667\n",
            "668\n",
            "669\n",
            "670\n",
            "671\n",
            "672\n",
            "673\n"
          ],
          "name": "stdout"
        },
        {
          "output_type": "stream",
          "text": [
            "INFO:elasticsearch:PUT https://kafka-homework3-5284633582.us-east-1.bonsaisearch.net:443/covidtweets/_doc/1387906106903564291 [status:201 request:0.028s]\n",
            "INFO:elasticsearch:PUT https://kafka-homework3-5284633582.us-east-1.bonsaisearch.net:443/covidtweets/_doc/1387906108514136066 [status:201 request:0.026s]\n",
            "INFO:elasticsearch:PUT https://kafka-homework3-5284633582.us-east-1.bonsaisearch.net:443/covidtweets/_doc/1387906109856358402 [status:201 request:0.028s]\n",
            "INFO:elasticsearch:PUT https://kafka-homework3-5284633582.us-east-1.bonsaisearch.net:443/covidtweets/_doc/1387906110380814339 [status:201 request:0.026s]\n",
            "INFO:elasticsearch:PUT https://kafka-homework3-5284633582.us-east-1.bonsaisearch.net:443/covidtweets/_doc/1387906116852588545 [status:201 request:0.029s]\n",
            "INFO:elasticsearch:PUT https://kafka-homework3-5284633582.us-east-1.bonsaisearch.net:443/covidtweets/_doc/1387906134938423298 [status:201 request:0.027s]\n",
            "INFO:elasticsearch:PUT https://kafka-homework3-5284633582.us-east-1.bonsaisearch.net:443/covidtweets/_doc/1387906139506028550 [status:201 request:0.027s]\n"
          ],
          "name": "stderr"
        },
        {
          "output_type": "stream",
          "text": [
            "674\n",
            "675\n",
            "676\n",
            "677\n",
            "678\n",
            "679\n",
            "680\n"
          ],
          "name": "stdout"
        },
        {
          "output_type": "stream",
          "text": [
            "INFO:elasticsearch:PUT https://kafka-homework3-5284633582.us-east-1.bonsaisearch.net:443/covidtweets/_doc/1387906143322877955 [status:201 request:0.028s]\n",
            "INFO:elasticsearch:PUT https://kafka-homework3-5284633582.us-east-1.bonsaisearch.net:443/covidtweets/_doc/1387906144690085889 [status:201 request:0.027s]\n",
            "INFO:elasticsearch:PUT https://kafka-homework3-5284633582.us-east-1.bonsaisearch.net:443/covidtweets/_doc/1387906147756224518 [status:201 request:0.032s]\n",
            "INFO:elasticsearch:PUT https://kafka-homework3-5284633582.us-east-1.bonsaisearch.net:443/covidtweets/_doc/1387906149928816642 [status:201 request:0.026s]\n",
            "INFO:elasticsearch:PUT https://kafka-homework3-5284633582.us-east-1.bonsaisearch.net:443/covidtweets/_doc/1387906151447105536 [status:201 request:0.028s]\n",
            "INFO:elasticsearch:PUT https://kafka-homework3-5284633582.us-east-1.bonsaisearch.net:443/covidtweets/_doc/1387906152311123969 [status:201 request:0.028s]\n",
            "INFO:elasticsearch:PUT https://kafka-homework3-5284633582.us-east-1.bonsaisearch.net:443/covidtweets/_doc/1387906155012411398 [status:201 request:0.030s]\n"
          ],
          "name": "stderr"
        },
        {
          "output_type": "stream",
          "text": [
            "681\n",
            "682\n",
            "683\n",
            "684\n",
            "685\n",
            "686\n",
            "687\n"
          ],
          "name": "stdout"
        },
        {
          "output_type": "stream",
          "text": [
            "INFO:elasticsearch:PUT https://kafka-homework3-5284633582.us-east-1.bonsaisearch.net:443/covidtweets/_doc/1387906161073029122 [status:201 request:0.027s]\n",
            "INFO:elasticsearch:PUT https://kafka-homework3-5284633582.us-east-1.bonsaisearch.net:443/covidtweets/_doc/1387906163958812673 [status:201 request:0.027s]\n",
            "INFO:elasticsearch:PUT https://kafka-homework3-5284633582.us-east-1.bonsaisearch.net:443/covidtweets/_doc/1387906168698200064 [status:201 request:0.027s]\n",
            "INFO:elasticsearch:PUT https://kafka-homework3-5284633582.us-east-1.bonsaisearch.net:443/covidtweets/_doc/1387906177577611264 [status:201 request:0.028s]\n",
            "INFO:elasticsearch:PUT https://kafka-homework3-5284633582.us-east-1.bonsaisearch.net:443/covidtweets/_doc/1387906180383580161 [status:201 request:0.027s]\n",
            "INFO:elasticsearch:PUT https://kafka-homework3-5284633582.us-east-1.bonsaisearch.net:443/covidtweets/_doc/1387906182191325185 [status:201 request:0.030s]\n",
            "INFO:elasticsearch:PUT https://kafka-homework3-5284633582.us-east-1.bonsaisearch.net:443/covidtweets/_doc/1387906186838687747 [status:201 request:0.027s]\n"
          ],
          "name": "stderr"
        },
        {
          "output_type": "stream",
          "text": [
            "688\n",
            "689\n",
            "690\n",
            "691\n",
            "692\n",
            "693\n",
            "694\n"
          ],
          "name": "stdout"
        },
        {
          "output_type": "stream",
          "text": [
            "INFO:elasticsearch:PUT https://kafka-homework3-5284633582.us-east-1.bonsaisearch.net:443/covidtweets/_doc/1387906187744747530 [status:201 request:0.027s]\n",
            "INFO:elasticsearch:PUT https://kafka-homework3-5284633582.us-east-1.bonsaisearch.net:443/covidtweets/_doc/1387906189413928963 [status:201 request:0.027s]\n",
            "INFO:elasticsearch:PUT https://kafka-homework3-5284633582.us-east-1.bonsaisearch.net:443/covidtweets/_doc/1387906196124934148 [status:201 request:0.028s]\n",
            "INFO:elasticsearch:PUT https://kafka-homework3-5284633582.us-east-1.bonsaisearch.net:443/covidtweets/_doc/1387906196540059651 [status:201 request:0.030s]\n",
            "INFO:elasticsearch:PUT https://kafka-homework3-5284633582.us-east-1.bonsaisearch.net:443/covidtweets/_doc/1387906197685166086 [status:201 request:0.028s]\n",
            "INFO:elasticsearch:PUT https://kafka-homework3-5284633582.us-east-1.bonsaisearch.net:443/covidtweets/_doc/1387906198305918980 [status:201 request:0.028s]\n",
            "INFO:elasticsearch:PUT https://kafka-homework3-5284633582.us-east-1.bonsaisearch.net:443/covidtweets/_doc/1387906199467737091 [status:201 request:0.028s]\n"
          ],
          "name": "stderr"
        },
        {
          "output_type": "stream",
          "text": [
            "695\n",
            "696\n",
            "697\n",
            "698\n",
            "699\n",
            "700\n",
            "701\n"
          ],
          "name": "stdout"
        },
        {
          "output_type": "stream",
          "text": [
            "INFO:elasticsearch:PUT https://kafka-homework3-5284633582.us-east-1.bonsaisearch.net:443/covidtweets/_doc/1387906200285720576 [status:201 request:0.028s]\n",
            "INFO:elasticsearch:PUT https://kafka-homework3-5284633582.us-east-1.bonsaisearch.net:443/covidtweets/_doc/1387906202227548161 [status:201 request:0.027s]\n",
            "INFO:elasticsearch:PUT https://kafka-homework3-5284633582.us-east-1.bonsaisearch.net:443/covidtweets/_doc/1387906208527441920 [status:201 request:0.027s]\n",
            "INFO:elasticsearch:PUT https://kafka-homework3-5284633582.us-east-1.bonsaisearch.net:443/covidtweets/_doc/1387906211610308608 [status:201 request:0.028s]\n",
            "INFO:elasticsearch:PUT https://kafka-homework3-5284633582.us-east-1.bonsaisearch.net:443/covidtweets/_doc/1387906216198868993 [status:201 request:0.026s]\n",
            "INFO:elasticsearch:PUT https://kafka-homework3-5284633582.us-east-1.bonsaisearch.net:443/covidtweets/_doc/1387906220984520707 [status:201 request:0.029s]\n",
            "INFO:elasticsearch:PUT https://kafka-homework3-5284633582.us-east-1.bonsaisearch.net:443/covidtweets/_doc/1387906221034852353 [status:201 request:0.029s]\n"
          ],
          "name": "stderr"
        },
        {
          "output_type": "stream",
          "text": [
            "702\n",
            "703\n",
            "704\n",
            "705\n",
            "706\n",
            "707\n",
            "708\n"
          ],
          "name": "stdout"
        },
        {
          "output_type": "stream",
          "text": [
            "INFO:elasticsearch:PUT https://kafka-homework3-5284633582.us-east-1.bonsaisearch.net:443/covidtweets/_doc/1387906227535978500 [status:201 request:0.028s]\n",
            "INFO:elasticsearch:PUT https://kafka-homework3-5284633582.us-east-1.bonsaisearch.net:443/covidtweets/_doc/1387906228743938048 [status:201 request:0.031s]\n",
            "INFO:elasticsearch:PUT https://kafka-homework3-5284633582.us-east-1.bonsaisearch.net:443/covidtweets/_doc/1387906229704536064 [status:201 request:0.028s]\n",
            "INFO:elasticsearch:PUT https://kafka-homework3-5284633582.us-east-1.bonsaisearch.net:443/covidtweets/_doc/1387906231726116870 [status:201 request:0.026s]\n",
            "INFO:elasticsearch:PUT https://kafka-homework3-5284633582.us-east-1.bonsaisearch.net:443/covidtweets/_doc/1387905993795719171 [status:201 request:0.028s]\n",
            "INFO:elasticsearch:PUT https://kafka-homework3-5284633582.us-east-1.bonsaisearch.net:443/covidtweets/_doc/1387905994328625158 [status:201 request:0.028s]\n",
            "INFO:elasticsearch:PUT https://kafka-homework3-5284633582.us-east-1.bonsaisearch.net:443/covidtweets/_doc/1387905995108716546 [status:201 request:0.027s]\n"
          ],
          "name": "stderr"
        },
        {
          "output_type": "stream",
          "text": [
            "709\n",
            "710\n",
            "711\n",
            "712\n",
            "713\n",
            "714\n",
            "715\n"
          ],
          "name": "stdout"
        },
        {
          "output_type": "stream",
          "text": [
            "INFO:elasticsearch:PUT https://kafka-homework3-5284633582.us-east-1.bonsaisearch.net:443/covidtweets/_doc/1387905999940501507 [status:201 request:0.027s]\n",
            "INFO:elasticsearch:PUT https://kafka-homework3-5284633582.us-east-1.bonsaisearch.net:443/covidtweets/_doc/1387906003656757254 [status:201 request:0.028s]\n",
            "INFO:elasticsearch:PUT https://kafka-homework3-5284633582.us-east-1.bonsaisearch.net:443/covidtweets/_doc/1387906010711351303 [status:201 request:0.027s]\n",
            "INFO:elasticsearch:PUT https://kafka-homework3-5284633582.us-east-1.bonsaisearch.net:443/covidtweets/_doc/1387906012158386178 [status:201 request:0.026s]\n",
            "INFO:elasticsearch:PUT https://kafka-homework3-5284633582.us-east-1.bonsaisearch.net:443/covidtweets/_doc/1387906013064417285 [status:201 request:0.027s]\n",
            "INFO:elasticsearch:PUT https://kafka-homework3-5284633582.us-east-1.bonsaisearch.net:443/covidtweets/_doc/1387906013609697280 [status:201 request:0.029s]\n",
            "INFO:elasticsearch:PUT https://kafka-homework3-5284633582.us-east-1.bonsaisearch.net:443/covidtweets/_doc/1387906018735181829 [status:201 request:0.027s]\n"
          ],
          "name": "stderr"
        },
        {
          "output_type": "stream",
          "text": [
            "716\n",
            "717\n",
            "718\n",
            "719\n",
            "720\n",
            "721\n",
            "722\n"
          ],
          "name": "stdout"
        },
        {
          "output_type": "stream",
          "text": [
            "INFO:elasticsearch:PUT https://kafka-homework3-5284633582.us-east-1.bonsaisearch.net:443/covidtweets/_doc/1387906023378276352 [status:201 request:0.027s]\n",
            "INFO:elasticsearch:PUT https://kafka-homework3-5284633582.us-east-1.bonsaisearch.net:443/covidtweets/_doc/1387906024234000387 [status:201 request:0.026s]\n",
            "INFO:elasticsearch:PUT https://kafka-homework3-5284633582.us-east-1.bonsaisearch.net:443/covidtweets/_doc/1387906025752338435 [status:201 request:0.030s]\n",
            "INFO:elasticsearch:PUT https://kafka-homework3-5284633582.us-east-1.bonsaisearch.net:443/covidtweets/_doc/1387906027140562946 [status:201 request:0.027s]\n",
            "INFO:elasticsearch:PUT https://kafka-homework3-5284633582.us-east-1.bonsaisearch.net:443/covidtweets/_doc/1387906027572678659 [status:201 request:0.029s]\n",
            "INFO:elasticsearch:PUT https://kafka-homework3-5284633582.us-east-1.bonsaisearch.net:443/covidtweets/_doc/1387906027648032771 [status:201 request:0.026s]\n",
            "INFO:elasticsearch:PUT https://kafka-homework3-5284633582.us-east-1.bonsaisearch.net:443/covidtweets/_doc/1387906030387011584 [status:201 request:0.027s]\n"
          ],
          "name": "stderr"
        },
        {
          "output_type": "stream",
          "text": [
            "723\n",
            "724\n",
            "725\n",
            "726\n",
            "727\n",
            "728\n",
            "729\n"
          ],
          "name": "stdout"
        },
        {
          "output_type": "stream",
          "text": [
            "INFO:elasticsearch:PUT https://kafka-homework3-5284633582.us-east-1.bonsaisearch.net:443/covidtweets/_doc/1387906035130814466 [status:201 request:0.027s]\n",
            "INFO:elasticsearch:PUT https://kafka-homework3-5284633582.us-east-1.bonsaisearch.net:443/covidtweets/_doc/1387906045394178051 [status:201 request:0.026s]\n",
            "INFO:elasticsearch:PUT https://kafka-homework3-5284633582.us-east-1.bonsaisearch.net:443/covidtweets/_doc/1387906045956300800 [status:201 request:0.029s]\n",
            "INFO:elasticsearch:PUT https://kafka-homework3-5284633582.us-east-1.bonsaisearch.net:443/covidtweets/_doc/1387906048892145668 [status:201 request:0.026s]\n",
            "INFO:elasticsearch:PUT https://kafka-homework3-5284633582.us-east-1.bonsaisearch.net:443/covidtweets/_doc/1387906051052240896 [status:201 request:0.027s]\n",
            "INFO:elasticsearch:PUT https://kafka-homework3-5284633582.us-east-1.bonsaisearch.net:443/covidtweets/_doc/1387906052478414851 [status:201 request:0.028s]\n",
            "INFO:elasticsearch:PUT https://kafka-homework3-5284633582.us-east-1.bonsaisearch.net:443/covidtweets/_doc/1387906054705618945 [status:201 request:0.027s]\n"
          ],
          "name": "stderr"
        },
        {
          "output_type": "stream",
          "text": [
            "730\n",
            "731\n",
            "732\n",
            "733\n",
            "734\n",
            "735\n",
            "736\n"
          ],
          "name": "stdout"
        },
        {
          "output_type": "stream",
          "text": [
            "INFO:elasticsearch:PUT https://kafka-homework3-5284633582.us-east-1.bonsaisearch.net:443/covidtweets/_doc/1387906055812886530 [status:201 request:0.028s]\n",
            "INFO:elasticsearch:PUT https://kafka-homework3-5284633582.us-east-1.bonsaisearch.net:443/covidtweets/_doc/1387906056769130497 [status:201 request:0.028s]\n",
            "INFO:elasticsearch:PUT https://kafka-homework3-5284633582.us-east-1.bonsaisearch.net:443/covidtweets/_doc/1387906060665511936 [status:201 request:0.031s]\n",
            "INFO:elasticsearch:PUT https://kafka-homework3-5284633582.us-east-1.bonsaisearch.net:443/covidtweets/_doc/1387906062066483200 [status:201 request:0.036s]\n",
            "INFO:elasticsearch:PUT https://kafka-homework3-5284633582.us-east-1.bonsaisearch.net:443/covidtweets/_doc/1387906062322266115 [status:201 request:0.037s]\n"
          ],
          "name": "stderr"
        },
        {
          "output_type": "stream",
          "text": [
            "737\n",
            "738\n",
            "739\n",
            "740\n",
            "741\n"
          ],
          "name": "stdout"
        },
        {
          "output_type": "stream",
          "text": [
            "INFO:elasticsearch:PUT https://kafka-homework3-5284633582.us-east-1.bonsaisearch.net:443/covidtweets/_doc/1387906065254211585 [status:201 request:0.070s]\n",
            "INFO:elasticsearch:PUT https://kafka-homework3-5284633582.us-east-1.bonsaisearch.net:443/covidtweets/_doc/1387906065933639680 [status:201 request:0.026s]\n",
            "INFO:elasticsearch:PUT https://kafka-homework3-5284633582.us-east-1.bonsaisearch.net:443/covidtweets/_doc/1387906066747428868 [status:201 request:0.029s]\n",
            "INFO:elasticsearch:PUT https://kafka-homework3-5284633582.us-east-1.bonsaisearch.net:443/covidtweets/_doc/1387906068198662152 [status:201 request:0.072s]\n",
            "INFO:elasticsearch:PUT https://kafka-homework3-5284633582.us-east-1.bonsaisearch.net:443/covidtweets/_doc/1387906070052474881 [status:201 request:0.030s]\n"
          ],
          "name": "stderr"
        },
        {
          "output_type": "stream",
          "text": [
            "742\n",
            "743\n",
            "744\n",
            "745\n",
            "746\n"
          ],
          "name": "stdout"
        },
        {
          "output_type": "stream",
          "text": [
            "INFO:elasticsearch:PUT https://kafka-homework3-5284633582.us-east-1.bonsaisearch.net:443/covidtweets/_doc/1387906072384610304 [status:201 request:0.162s]\n",
            "INFO:elasticsearch:PUT https://kafka-homework3-5284633582.us-east-1.bonsaisearch.net:443/covidtweets/_doc/1387906074532003840 [status:201 request:0.028s]\n",
            "INFO:elasticsearch:PUT https://kafka-homework3-5284633582.us-east-1.bonsaisearch.net:443/covidtweets/_doc/1387906076473913344 [status:201 request:0.029s]\n",
            "INFO:elasticsearch:PUT https://kafka-homework3-5284633582.us-east-1.bonsaisearch.net:443/covidtweets/_doc/1387906077925154817 [status:201 request:0.026s]\n",
            "INFO:elasticsearch:PUT https://kafka-homework3-5284633582.us-east-1.bonsaisearch.net:443/covidtweets/_doc/1387906080982937603 [status:201 request:0.027s]\n",
            "INFO:elasticsearch:PUT https://kafka-homework3-5284633582.us-east-1.bonsaisearch.net:443/covidtweets/_doc/1387906082740133889 [status:201 request:0.026s]\n",
            "INFO:elasticsearch:PUT https://kafka-homework3-5284633582.us-east-1.bonsaisearch.net:443/covidtweets/_doc/1387906082652176384 [status:201 request:0.026s]\n"
          ],
          "name": "stderr"
        },
        {
          "output_type": "stream",
          "text": [
            "747\n",
            "748\n",
            "749\n",
            "750\n",
            "751\n",
            "752\n",
            "753\n"
          ],
          "name": "stdout"
        },
        {
          "output_type": "stream",
          "text": [
            "INFO:elasticsearch:PUT https://kafka-homework3-5284633582.us-east-1.bonsaisearch.net:443/covidtweets/_doc/1387906091674218501 [status:201 request:0.028s]\n",
            "INFO:elasticsearch:PUT https://kafka-homework3-5284633582.us-east-1.bonsaisearch.net:443/covidtweets/_doc/1387906095646117889 [status:201 request:0.027s]\n",
            "INFO:elasticsearch:PUT https://kafka-homework3-5284633582.us-east-1.bonsaisearch.net:443/covidtweets/_doc/1387906095717306371 [status:201 request:0.034s]\n",
            "INFO:elasticsearch:PUT https://kafka-homework3-5284633582.us-east-1.bonsaisearch.net:443/covidtweets/_doc/1387906096031883271 [status:201 request:0.027s]\n",
            "INFO:elasticsearch:PUT https://kafka-homework3-5284633582.us-east-1.bonsaisearch.net:443/covidtweets/_doc/1387906100104769543 [status:201 request:0.030s]\n",
            "INFO:elasticsearch:PUT https://kafka-homework3-5284633582.us-east-1.bonsaisearch.net:443/covidtweets/_doc/1387906100238897156 [status:201 request:0.028s]\n",
            "INFO:elasticsearch:PUT https://kafka-homework3-5284633582.us-east-1.bonsaisearch.net:443/covidtweets/_doc/1387906108170321921 [status:201 request:0.027s]\n"
          ],
          "name": "stderr"
        },
        {
          "output_type": "stream",
          "text": [
            "754\n",
            "755\n",
            "756\n",
            "757\n",
            "758\n",
            "759\n",
            "760\n"
          ],
          "name": "stdout"
        },
        {
          "output_type": "stream",
          "text": [
            "INFO:elasticsearch:PUT https://kafka-homework3-5284633582.us-east-1.bonsaisearch.net:443/covidtweets/_doc/1387906112226316289 [status:201 request:0.109s]\n",
            "INFO:elasticsearch:PUT https://kafka-homework3-5284633582.us-east-1.bonsaisearch.net:443/covidtweets/_doc/1387906112926715907 [status:201 request:0.027s]\n",
            "INFO:elasticsearch:PUT https://kafka-homework3-5284633582.us-east-1.bonsaisearch.net:443/covidtweets/_doc/1387906116064104452 [status:201 request:0.027s]\n",
            "INFO:elasticsearch:PUT https://kafka-homework3-5284633582.us-east-1.bonsaisearch.net:443/covidtweets/_doc/1387906116491780097 [status:201 request:0.028s]\n",
            "INFO:elasticsearch:PUT https://kafka-homework3-5284633582.us-east-1.bonsaisearch.net:443/covidtweets/_doc/1387906117821505537 [status:201 request:0.027s]\n",
            "INFO:elasticsearch:PUT https://kafka-homework3-5284633582.us-east-1.bonsaisearch.net:443/covidtweets/_doc/1387906123684974593 [status:201 request:0.027s]\n",
            "INFO:elasticsearch:PUT https://kafka-homework3-5284633582.us-east-1.bonsaisearch.net:443/covidtweets/_doc/1387906123383050244 [status:201 request:0.028s]\n"
          ],
          "name": "stderr"
        },
        {
          "output_type": "stream",
          "text": [
            "761\n",
            "762\n",
            "763\n",
            "764\n",
            "765\n",
            "766\n",
            "767\n"
          ],
          "name": "stdout"
        },
        {
          "output_type": "stream",
          "text": [
            "INFO:elasticsearch:PUT https://kafka-homework3-5284633582.us-east-1.bonsaisearch.net:443/covidtweets/_doc/1387906125115187205 [status:201 request:0.027s]\n",
            "INFO:elasticsearch:PUT https://kafka-homework3-5284633582.us-east-1.bonsaisearch.net:443/covidtweets/_doc/1387906125417390084 [status:201 request:0.031s]\n",
            "INFO:elasticsearch:PUT https://kafka-homework3-5284633582.us-east-1.bonsaisearch.net:443/covidtweets/_doc/1387906127405387776 [status:201 request:0.027s]\n",
            "INFO:elasticsearch:PUT https://kafka-homework3-5284633582.us-east-1.bonsaisearch.net:443/covidtweets/_doc/1387906128189743107 [status:201 request:0.028s]\n",
            "INFO:elasticsearch:PUT https://kafka-homework3-5284633582.us-east-1.bonsaisearch.net:443/covidtweets/_doc/1387906131083812866 [status:201 request:0.028s]\n",
            "INFO:elasticsearch:PUT https://kafka-homework3-5284633582.us-east-1.bonsaisearch.net:443/covidtweets/_doc/1387906131675258883 [status:201 request:0.030s]\n",
            "INFO:elasticsearch:PUT https://kafka-homework3-5284633582.us-east-1.bonsaisearch.net:443/covidtweets/_doc/1387906137752809472 [status:201 request:0.026s]\n"
          ],
          "name": "stderr"
        },
        {
          "output_type": "stream",
          "text": [
            "768\n",
            "769\n",
            "770\n",
            "771\n",
            "772\n",
            "773\n",
            "774\n"
          ],
          "name": "stdout"
        },
        {
          "output_type": "stream",
          "text": [
            "INFO:elasticsearch:PUT https://kafka-homework3-5284633582.us-east-1.bonsaisearch.net:443/covidtweets/_doc/1387906138331566083 [status:201 request:0.028s]\n",
            "INFO:elasticsearch:PUT https://kafka-homework3-5284633582.us-east-1.bonsaisearch.net:443/covidtweets/_doc/1387906139044548608 [status:201 request:0.027s]\n",
            "INFO:elasticsearch:PUT https://kafka-homework3-5284633582.us-east-1.bonsaisearch.net:443/covidtweets/_doc/1387906153095573505 [status:201 request:0.029s]\n",
            "INFO:elasticsearch:PUT https://kafka-homework3-5284633582.us-east-1.bonsaisearch.net:443/covidtweets/_doc/1387906157675614210 [status:201 request:0.026s]\n",
            "INFO:elasticsearch:PUT https://kafka-homework3-5284633582.us-east-1.bonsaisearch.net:443/covidtweets/_doc/1387906159059763201 [status:201 request:0.028s]\n",
            "INFO:elasticsearch:PUT https://kafka-homework3-5284633582.us-east-1.bonsaisearch.net:443/covidtweets/_doc/1387906159483392000 [status:201 request:0.027s]\n",
            "INFO:elasticsearch:PUT https://kafka-homework3-5284633582.us-east-1.bonsaisearch.net:443/covidtweets/_doc/1387906161941393409 [status:201 request:0.028s]\n"
          ],
          "name": "stderr"
        },
        {
          "output_type": "stream",
          "text": [
            "775\n",
            "776\n",
            "777\n",
            "778\n",
            "779\n",
            "780\n",
            "781\n"
          ],
          "name": "stdout"
        },
        {
          "output_type": "stream",
          "text": [
            "INFO:elasticsearch:PUT https://kafka-homework3-5284633582.us-east-1.bonsaisearch.net:443/covidtweets/_doc/1387906162482245632 [status:201 request:0.027s]\n",
            "INFO:elasticsearch:PUT https://kafka-homework3-5284633582.us-east-1.bonsaisearch.net:443/covidtweets/_doc/1387906164428521473 [status:201 request:0.028s]\n",
            "INFO:elasticsearch:PUT https://kafka-homework3-5284633582.us-east-1.bonsaisearch.net:443/covidtweets/_doc/1387906166953365507 [status:201 request:0.026s]\n",
            "INFO:elasticsearch:PUT https://kafka-homework3-5284633582.us-east-1.bonsaisearch.net:443/covidtweets/_doc/1387906169990168582 [status:201 request:0.028s]\n",
            "INFO:elasticsearch:PUT https://kafka-homework3-5284633582.us-east-1.bonsaisearch.net:443/covidtweets/_doc/1387906174796828672 [status:201 request:0.027s]\n",
            "INFO:elasticsearch:PUT https://kafka-homework3-5284633582.us-east-1.bonsaisearch.net:443/covidtweets/_doc/1387906177455968263 [status:201 request:0.027s]\n",
            "INFO:elasticsearch:PUT https://kafka-homework3-5284633582.us-east-1.bonsaisearch.net:443/covidtweets/_doc/1387906183969730561 [status:201 request:0.027s]\n"
          ],
          "name": "stderr"
        },
        {
          "output_type": "stream",
          "text": [
            "782\n",
            "783\n",
            "784\n",
            "785\n",
            "786\n",
            "787\n",
            "788\n"
          ],
          "name": "stdout"
        },
        {
          "output_type": "stream",
          "text": [
            "INFO:elasticsearch:PUT https://kafka-homework3-5284633582.us-east-1.bonsaisearch.net:443/covidtweets/_doc/1387906185139949570 [status:201 request:0.027s]\n",
            "INFO:elasticsearch:PUT https://kafka-homework3-5284633582.us-east-1.bonsaisearch.net:443/covidtweets/_doc/1387906188109438976 [status:201 request:0.028s]\n",
            "INFO:elasticsearch:PUT https://kafka-homework3-5284633582.us-east-1.bonsaisearch.net:443/covidtweets/_doc/1387906195957092352 [status:201 request:0.028s]\n",
            "INFO:elasticsearch:PUT https://kafka-homework3-5284633582.us-east-1.bonsaisearch.net:443/covidtweets/_doc/1387906196053532673 [status:201 request:0.026s]\n",
            "INFO:elasticsearch:PUT https://kafka-homework3-5284633582.us-east-1.bonsaisearch.net:443/covidtweets/_doc/1387906202139561985 [status:201 request:0.028s]\n",
            "INFO:elasticsearch:PUT https://kafka-homework3-5284633582.us-east-1.bonsaisearch.net:443/covidtweets/_doc/1387906205499084802 [status:201 request:0.027s]\n",
            "INFO:elasticsearch:PUT https://kafka-homework3-5284633582.us-east-1.bonsaisearch.net:443/covidtweets/_doc/1387906206635753472 [status:201 request:0.027s]\n"
          ],
          "name": "stderr"
        },
        {
          "output_type": "stream",
          "text": [
            "789\n",
            "790\n",
            "791\n",
            "792\n",
            "793\n",
            "794\n",
            "795\n"
          ],
          "name": "stdout"
        },
        {
          "output_type": "stream",
          "text": [
            "INFO:elasticsearch:PUT https://kafka-homework3-5284633582.us-east-1.bonsaisearch.net:443/covidtweets/_doc/1387906207533441029 [status:201 request:0.027s]\n",
            "INFO:elasticsearch:PUT https://kafka-homework3-5284633582.us-east-1.bonsaisearch.net:443/covidtweets/_doc/1387906207650770950 [status:201 request:0.027s]\n",
            "INFO:elasticsearch:PUT https://kafka-homework3-5284633582.us-east-1.bonsaisearch.net:443/covidtweets/_doc/1387906213573103616 [status:201 request:0.027s]\n",
            "INFO:elasticsearch:PUT https://kafka-homework3-5284633582.us-east-1.bonsaisearch.net:443/covidtweets/_doc/1387906221441695744 [status:201 request:0.027s]\n",
            "INFO:elasticsearch:PUT https://kafka-homework3-5284633582.us-east-1.bonsaisearch.net:443/covidtweets/_doc/1387906221726916616 [status:201 request:0.027s]\n",
            "INFO:elasticsearch:PUT https://kafka-homework3-5284633582.us-east-1.bonsaisearch.net:443/covidtweets/_doc/1387906223929008137 [status:201 request:0.029s]\n"
          ],
          "name": "stderr"
        },
        {
          "output_type": "stream",
          "text": [
            "796\n",
            "797\n",
            "798\n",
            "799\n",
            "800\n",
            "801\n"
          ],
          "name": "stdout"
        },
        {
          "output_type": "stream",
          "text": [
            "INFO:elasticsearch:PUT https://kafka-homework3-5284633582.us-east-1.bonsaisearch.net:443/covidtweets/_doc/1387906227036901376 [status:201 request:0.102s]\n"
          ],
          "name": "stderr"
        },
        {
          "output_type": "error",
          "ename": "KeyboardInterrupt",
          "evalue": "ignored",
          "traceback": [
            "\u001b[0;31m---------------------------------------------------------------------------\u001b[0m",
            "\u001b[0;31mKeyboardInterrupt\u001b[0m                         Traceback (most recent call last)",
            "\u001b[0;32m<ipython-input-201-927e32c4e8eb>\u001b[0m in \u001b[0;36m<module>\u001b[0;34m()\u001b[0m\n\u001b[1;32m     28\u001b[0m \u001b[0;34m\u001b[0m\u001b[0m\n\u001b[1;32m     29\u001b[0m \u001b[0;32mif\u001b[0m \u001b[0m__name__\u001b[0m \u001b[0;34m==\u001b[0m \u001b[0;34m'__main__'\u001b[0m\u001b[0;34m:\u001b[0m\u001b[0;34m\u001b[0m\u001b[0;34m\u001b[0m\u001b[0m\n\u001b[0;32m---> 30\u001b[0;31m     \u001b[0melasticsearch_consumer_main\u001b[0m\u001b[0;34m(\u001b[0m\u001b[0;34m'covidtweets'\u001b[0m\u001b[0;34m)\u001b[0m\u001b[0;34m\u001b[0m\u001b[0;34m\u001b[0m\u001b[0m\n\u001b[0m",
            "\u001b[0;32m<ipython-input-201-927e32c4e8eb>\u001b[0m in \u001b[0;36melasticsearch_consumer_main\u001b[0;34m(topicname)\u001b[0m\n\u001b[1;32m     11\u001b[0m \u001b[0;34m\u001b[0m\u001b[0m\n\u001b[1;32m     12\u001b[0m     \u001b[0;32mglobal\u001b[0m \u001b[0mcount1\u001b[0m\u001b[0;34m\u001b[0m\u001b[0;34m\u001b[0m\u001b[0m\n\u001b[0;32m---> 13\u001b[0;31m     \u001b[0;32mfor\u001b[0m \u001b[0mmessage\u001b[0m \u001b[0;32min\u001b[0m \u001b[0mconsumer\u001b[0m\u001b[0;34m:\u001b[0m\u001b[0;34m\u001b[0m\u001b[0;34m\u001b[0m\u001b[0m\n\u001b[0m\u001b[1;32m     14\u001b[0m         \u001b[0;31m#time.sleep(1)\u001b[0m\u001b[0;34m\u001b[0m\u001b[0;34m\u001b[0m\u001b[0;34m\u001b[0m\u001b[0m\n\u001b[1;32m     15\u001b[0m         \u001b[0;31m#print(\"next\")\u001b[0m\u001b[0;34m\u001b[0m\u001b[0;34m\u001b[0m\u001b[0;34m\u001b[0m\u001b[0m\n",
            "\u001b[0;32m/usr/local/lib/python3.7/dist-packages/kafka/consumer/group.py\u001b[0m in \u001b[0;36m__next__\u001b[0;34m(self)\u001b[0m\n\u001b[1;32m   1191\u001b[0m             \u001b[0;32mreturn\u001b[0m \u001b[0mself\u001b[0m\u001b[0;34m.\u001b[0m\u001b[0mnext_v1\u001b[0m\u001b[0;34m(\u001b[0m\u001b[0;34m)\u001b[0m\u001b[0;34m\u001b[0m\u001b[0;34m\u001b[0m\u001b[0m\n\u001b[1;32m   1192\u001b[0m         \u001b[0;32melse\u001b[0m\u001b[0;34m:\u001b[0m\u001b[0;34m\u001b[0m\u001b[0;34m\u001b[0m\u001b[0m\n\u001b[0;32m-> 1193\u001b[0;31m             \u001b[0;32mreturn\u001b[0m \u001b[0mself\u001b[0m\u001b[0;34m.\u001b[0m\u001b[0mnext_v2\u001b[0m\u001b[0;34m(\u001b[0m\u001b[0;34m)\u001b[0m\u001b[0;34m\u001b[0m\u001b[0;34m\u001b[0m\u001b[0m\n\u001b[0m\u001b[1;32m   1194\u001b[0m \u001b[0;34m\u001b[0m\u001b[0m\n\u001b[1;32m   1195\u001b[0m     \u001b[0;32mdef\u001b[0m \u001b[0mnext_v2\u001b[0m\u001b[0;34m(\u001b[0m\u001b[0mself\u001b[0m\u001b[0;34m)\u001b[0m\u001b[0;34m:\u001b[0m\u001b[0;34m\u001b[0m\u001b[0;34m\u001b[0m\u001b[0m\n",
            "\u001b[0;32m/usr/local/lib/python3.7/dist-packages/kafka/consumer/group.py\u001b[0m in \u001b[0;36mnext_v2\u001b[0;34m(self)\u001b[0m\n\u001b[1;32m   1199\u001b[0m                 \u001b[0mself\u001b[0m\u001b[0;34m.\u001b[0m\u001b[0m_iterator\u001b[0m \u001b[0;34m=\u001b[0m \u001b[0mself\u001b[0m\u001b[0;34m.\u001b[0m\u001b[0m_message_generator_v2\u001b[0m\u001b[0;34m(\u001b[0m\u001b[0;34m)\u001b[0m\u001b[0;34m\u001b[0m\u001b[0;34m\u001b[0m\u001b[0m\n\u001b[1;32m   1200\u001b[0m             \u001b[0;32mtry\u001b[0m\u001b[0;34m:\u001b[0m\u001b[0;34m\u001b[0m\u001b[0;34m\u001b[0m\u001b[0m\n\u001b[0;32m-> 1201\u001b[0;31m                 \u001b[0;32mreturn\u001b[0m \u001b[0mnext\u001b[0m\u001b[0;34m(\u001b[0m\u001b[0mself\u001b[0m\u001b[0;34m.\u001b[0m\u001b[0m_iterator\u001b[0m\u001b[0;34m)\u001b[0m\u001b[0;34m\u001b[0m\u001b[0;34m\u001b[0m\u001b[0m\n\u001b[0m\u001b[1;32m   1202\u001b[0m             \u001b[0;32mexcept\u001b[0m \u001b[0mStopIteration\u001b[0m\u001b[0;34m:\u001b[0m\u001b[0;34m\u001b[0m\u001b[0;34m\u001b[0m\u001b[0m\n\u001b[1;32m   1203\u001b[0m                 \u001b[0mself\u001b[0m\u001b[0;34m.\u001b[0m\u001b[0m_iterator\u001b[0m \u001b[0;34m=\u001b[0m \u001b[0;32mNone\u001b[0m\u001b[0;34m\u001b[0m\u001b[0;34m\u001b[0m\u001b[0m\n",
            "\u001b[0;32m/usr/local/lib/python3.7/dist-packages/kafka/consumer/group.py\u001b[0m in \u001b[0;36m_message_generator_v2\u001b[0;34m(self)\u001b[0m\n\u001b[1;32m   1114\u001b[0m     \u001b[0;32mdef\u001b[0m \u001b[0m_message_generator_v2\u001b[0m\u001b[0;34m(\u001b[0m\u001b[0mself\u001b[0m\u001b[0;34m)\u001b[0m\u001b[0;34m:\u001b[0m\u001b[0;34m\u001b[0m\u001b[0;34m\u001b[0m\u001b[0m\n\u001b[1;32m   1115\u001b[0m         \u001b[0mtimeout_ms\u001b[0m \u001b[0;34m=\u001b[0m \u001b[0;36m1000\u001b[0m \u001b[0;34m*\u001b[0m \u001b[0;34m(\u001b[0m\u001b[0mself\u001b[0m\u001b[0;34m.\u001b[0m\u001b[0m_consumer_timeout\u001b[0m \u001b[0;34m-\u001b[0m \u001b[0mtime\u001b[0m\u001b[0;34m.\u001b[0m\u001b[0mtime\u001b[0m\u001b[0;34m(\u001b[0m\u001b[0;34m)\u001b[0m\u001b[0;34m)\u001b[0m\u001b[0;34m\u001b[0m\u001b[0;34m\u001b[0m\u001b[0m\n\u001b[0;32m-> 1116\u001b[0;31m         \u001b[0mrecord_map\u001b[0m \u001b[0;34m=\u001b[0m \u001b[0mself\u001b[0m\u001b[0;34m.\u001b[0m\u001b[0mpoll\u001b[0m\u001b[0;34m(\u001b[0m\u001b[0mtimeout_ms\u001b[0m\u001b[0;34m=\u001b[0m\u001b[0mtimeout_ms\u001b[0m\u001b[0;34m,\u001b[0m \u001b[0mupdate_offsets\u001b[0m\u001b[0;34m=\u001b[0m\u001b[0;32mFalse\u001b[0m\u001b[0;34m)\u001b[0m\u001b[0;34m\u001b[0m\u001b[0;34m\u001b[0m\u001b[0m\n\u001b[0m\u001b[1;32m   1117\u001b[0m         \u001b[0;32mfor\u001b[0m \u001b[0mtp\u001b[0m\u001b[0;34m,\u001b[0m \u001b[0mrecords\u001b[0m \u001b[0;32min\u001b[0m \u001b[0msix\u001b[0m\u001b[0;34m.\u001b[0m\u001b[0miteritems\u001b[0m\u001b[0;34m(\u001b[0m\u001b[0mrecord_map\u001b[0m\u001b[0;34m)\u001b[0m\u001b[0;34m:\u001b[0m\u001b[0;34m\u001b[0m\u001b[0;34m\u001b[0m\u001b[0m\n\u001b[1;32m   1118\u001b[0m             \u001b[0;31m# Generators are stateful, and it is possible that the tp / records\u001b[0m\u001b[0;34m\u001b[0m\u001b[0;34m\u001b[0m\u001b[0;34m\u001b[0m\u001b[0m\n",
            "\u001b[0;32m/usr/local/lib/python3.7/dist-packages/kafka/consumer/group.py\u001b[0m in \u001b[0;36mpoll\u001b[0;34m(self, timeout_ms, max_records, update_offsets)\u001b[0m\n\u001b[1;32m    653\u001b[0m         \u001b[0mremaining\u001b[0m \u001b[0;34m=\u001b[0m \u001b[0mtimeout_ms\u001b[0m\u001b[0;34m\u001b[0m\u001b[0;34m\u001b[0m\u001b[0m\n\u001b[1;32m    654\u001b[0m         \u001b[0;32mwhile\u001b[0m \u001b[0;32mTrue\u001b[0m\u001b[0;34m:\u001b[0m\u001b[0;34m\u001b[0m\u001b[0;34m\u001b[0m\u001b[0m\n\u001b[0;32m--> 655\u001b[0;31m             \u001b[0mrecords\u001b[0m \u001b[0;34m=\u001b[0m \u001b[0mself\u001b[0m\u001b[0;34m.\u001b[0m\u001b[0m_poll_once\u001b[0m\u001b[0;34m(\u001b[0m\u001b[0mremaining\u001b[0m\u001b[0;34m,\u001b[0m \u001b[0mmax_records\u001b[0m\u001b[0;34m,\u001b[0m \u001b[0mupdate_offsets\u001b[0m\u001b[0;34m=\u001b[0m\u001b[0mupdate_offsets\u001b[0m\u001b[0;34m)\u001b[0m\u001b[0;34m\u001b[0m\u001b[0;34m\u001b[0m\u001b[0m\n\u001b[0m\u001b[1;32m    656\u001b[0m             \u001b[0;32mif\u001b[0m \u001b[0mrecords\u001b[0m\u001b[0;34m:\u001b[0m\u001b[0;34m\u001b[0m\u001b[0;34m\u001b[0m\u001b[0m\n\u001b[1;32m    657\u001b[0m                 \u001b[0;32mreturn\u001b[0m \u001b[0mrecords\u001b[0m\u001b[0;34m\u001b[0m\u001b[0;34m\u001b[0m\u001b[0m\n",
            "\u001b[0;32m/usr/local/lib/python3.7/dist-packages/kafka/consumer/group.py\u001b[0m in \u001b[0;36m_poll_once\u001b[0;34m(self, timeout_ms, max_records, update_offsets)\u001b[0m\n\u001b[1;32m    700\u001b[0m \u001b[0;34m\u001b[0m\u001b[0m\n\u001b[1;32m    701\u001b[0m         \u001b[0mtimeout_ms\u001b[0m \u001b[0;34m=\u001b[0m \u001b[0mmin\u001b[0m\u001b[0;34m(\u001b[0m\u001b[0mtimeout_ms\u001b[0m\u001b[0;34m,\u001b[0m \u001b[0mself\u001b[0m\u001b[0;34m.\u001b[0m\u001b[0m_coordinator\u001b[0m\u001b[0;34m.\u001b[0m\u001b[0mtime_to_next_poll\u001b[0m\u001b[0;34m(\u001b[0m\u001b[0;34m)\u001b[0m \u001b[0;34m*\u001b[0m \u001b[0;36m1000\u001b[0m\u001b[0;34m)\u001b[0m\u001b[0;34m\u001b[0m\u001b[0;34m\u001b[0m\u001b[0m\n\u001b[0;32m--> 702\u001b[0;31m         \u001b[0mself\u001b[0m\u001b[0;34m.\u001b[0m\u001b[0m_client\u001b[0m\u001b[0;34m.\u001b[0m\u001b[0mpoll\u001b[0m\u001b[0;34m(\u001b[0m\u001b[0mtimeout_ms\u001b[0m\u001b[0;34m=\u001b[0m\u001b[0mtimeout_ms\u001b[0m\u001b[0;34m)\u001b[0m\u001b[0;34m\u001b[0m\u001b[0;34m\u001b[0m\u001b[0m\n\u001b[0m\u001b[1;32m    703\u001b[0m         \u001b[0;31m# after the long poll, we should check whether the group needs to rebalance\u001b[0m\u001b[0;34m\u001b[0m\u001b[0;34m\u001b[0m\u001b[0;34m\u001b[0m\u001b[0m\n\u001b[1;32m    704\u001b[0m         \u001b[0;31m# prior to returning data so that the group can stabilize faster\u001b[0m\u001b[0;34m\u001b[0m\u001b[0;34m\u001b[0m\u001b[0;34m\u001b[0m\u001b[0m\n",
            "\u001b[0;32m/usr/local/lib/python3.7/dist-packages/kafka/client_async.py\u001b[0m in \u001b[0;36mpoll\u001b[0;34m(self, timeout_ms, future)\u001b[0m\n\u001b[1;32m    600\u001b[0m                     \u001b[0mtimeout\u001b[0m \u001b[0;34m=\u001b[0m \u001b[0mmax\u001b[0m\u001b[0;34m(\u001b[0m\u001b[0;36m0\u001b[0m\u001b[0;34m,\u001b[0m \u001b[0mtimeout\u001b[0m\u001b[0;34m)\u001b[0m  \u001b[0;31m# avoid negative timeouts\u001b[0m\u001b[0;34m\u001b[0m\u001b[0;34m\u001b[0m\u001b[0m\n\u001b[1;32m    601\u001b[0m \u001b[0;34m\u001b[0m\u001b[0m\n\u001b[0;32m--> 602\u001b[0;31m                 \u001b[0mself\u001b[0m\u001b[0;34m.\u001b[0m\u001b[0m_poll\u001b[0m\u001b[0;34m(\u001b[0m\u001b[0mtimeout\u001b[0m \u001b[0;34m/\u001b[0m \u001b[0;36m1000\u001b[0m\u001b[0;34m)\u001b[0m\u001b[0;34m\u001b[0m\u001b[0;34m\u001b[0m\u001b[0m\n\u001b[0m\u001b[1;32m    603\u001b[0m \u001b[0;34m\u001b[0m\u001b[0m\n\u001b[1;32m    604\u001b[0m             \u001b[0;31m# called without the lock to avoid deadlock potential\u001b[0m\u001b[0;34m\u001b[0m\u001b[0;34m\u001b[0m\u001b[0;34m\u001b[0m\u001b[0m\n",
            "\u001b[0;32m/usr/local/lib/python3.7/dist-packages/kafka/client_async.py\u001b[0m in \u001b[0;36m_poll\u001b[0;34m(self, timeout)\u001b[0m\n\u001b[1;32m    632\u001b[0m \u001b[0;34m\u001b[0m\u001b[0m\n\u001b[1;32m    633\u001b[0m         \u001b[0mstart_select\u001b[0m \u001b[0;34m=\u001b[0m \u001b[0mtime\u001b[0m\u001b[0;34m.\u001b[0m\u001b[0mtime\u001b[0m\u001b[0;34m(\u001b[0m\u001b[0;34m)\u001b[0m\u001b[0;34m\u001b[0m\u001b[0;34m\u001b[0m\u001b[0m\n\u001b[0;32m--> 634\u001b[0;31m         \u001b[0mready\u001b[0m \u001b[0;34m=\u001b[0m \u001b[0mself\u001b[0m\u001b[0;34m.\u001b[0m\u001b[0m_selector\u001b[0m\u001b[0;34m.\u001b[0m\u001b[0mselect\u001b[0m\u001b[0;34m(\u001b[0m\u001b[0mtimeout\u001b[0m\u001b[0;34m)\u001b[0m\u001b[0;34m\u001b[0m\u001b[0;34m\u001b[0m\u001b[0m\n\u001b[0m\u001b[1;32m    635\u001b[0m         \u001b[0mend_select\u001b[0m \u001b[0;34m=\u001b[0m \u001b[0mtime\u001b[0m\u001b[0;34m.\u001b[0m\u001b[0mtime\u001b[0m\u001b[0;34m(\u001b[0m\u001b[0;34m)\u001b[0m\u001b[0;34m\u001b[0m\u001b[0;34m\u001b[0m\u001b[0m\n\u001b[1;32m    636\u001b[0m         \u001b[0;32mif\u001b[0m \u001b[0mself\u001b[0m\u001b[0;34m.\u001b[0m\u001b[0m_sensors\u001b[0m\u001b[0;34m:\u001b[0m\u001b[0;34m\u001b[0m\u001b[0;34m\u001b[0m\u001b[0m\n",
            "\u001b[0;32m/usr/lib/python3.7/selectors.py\u001b[0m in \u001b[0;36mselect\u001b[0;34m(self, timeout)\u001b[0m\n\u001b[1;32m    466\u001b[0m             \u001b[0mready\u001b[0m \u001b[0;34m=\u001b[0m \u001b[0;34m[\u001b[0m\u001b[0;34m]\u001b[0m\u001b[0;34m\u001b[0m\u001b[0;34m\u001b[0m\u001b[0m\n\u001b[1;32m    467\u001b[0m             \u001b[0;32mtry\u001b[0m\u001b[0;34m:\u001b[0m\u001b[0;34m\u001b[0m\u001b[0;34m\u001b[0m\u001b[0m\n\u001b[0;32m--> 468\u001b[0;31m                 \u001b[0mfd_event_list\u001b[0m \u001b[0;34m=\u001b[0m \u001b[0mself\u001b[0m\u001b[0;34m.\u001b[0m\u001b[0m_selector\u001b[0m\u001b[0;34m.\u001b[0m\u001b[0mpoll\u001b[0m\u001b[0;34m(\u001b[0m\u001b[0mtimeout\u001b[0m\u001b[0;34m,\u001b[0m \u001b[0mmax_ev\u001b[0m\u001b[0;34m)\u001b[0m\u001b[0;34m\u001b[0m\u001b[0;34m\u001b[0m\u001b[0m\n\u001b[0m\u001b[1;32m    469\u001b[0m             \u001b[0;32mexcept\u001b[0m \u001b[0mInterruptedError\u001b[0m\u001b[0;34m:\u001b[0m\u001b[0;34m\u001b[0m\u001b[0;34m\u001b[0m\u001b[0m\n\u001b[1;32m    470\u001b[0m                 \u001b[0;32mreturn\u001b[0m \u001b[0mready\u001b[0m\u001b[0;34m\u001b[0m\u001b[0;34m\u001b[0m\u001b[0m\n",
            "\u001b[0;31mKeyboardInterrupt\u001b[0m: "
          ]
        }
      ]
    },
    {
      "cell_type": "code",
      "metadata": {
        "id": "s1usecmb-nE1",
        "colab": {
          "base_uri": "https://localhost:8080/"
        },
        "outputId": "b897742b-bf25-4727-f07a-f709c8442dc0"
      },
      "source": [
        "def gather_data(topicname):\n",
        "    es = elasticsearch_connect()\n",
        "    s = Search(using=es, index=topicname)\n",
        "    df = pd.DataFrame([hit.to_dict() for hit in s.scan()])\n",
        "\n",
        "    return df\n",
        "def identify_tokens(row):\n",
        "    twitter_text = row['text']\n",
        "    tokens = nltk.word_tokenize(twitter_text)\n",
        "    token_words = [w for w in tokens if w.isalpha()]\n",
        "\n",
        "    return token_words\n",
        "\n",
        "def stem_list(row):\n",
        "    stemming = PorterStemmer()\n",
        "    my_list = row['tokenized']\n",
        "    stemmed_list = [stemming.stem(word) for word in my_list]\n",
        "\n",
        "    return stemmed_list\n",
        "\n",
        "def remove_stops(row):\n",
        "    stops = set(stopwords.words('english'))\n",
        "    my_list = row['stemmed']\n",
        "    meaningful_words = [w for w in my_list if not w in stops]\n",
        "\n",
        "    return meaningful_words\n",
        "\n",
        "def rejoin_words(row):\n",
        "    my_list = row['stopped_removed']\n",
        "    joined_words = (' '.join(my_list))\n",
        "    #print(joined_words)\n",
        "\n",
        "    return joined_words\n",
        "\n",
        "def text_analytics(doc_type, topicname):\n",
        "    df = gather_data(topicname)\n",
        "    df['tokenized'] = df.apply(identify_tokens, axis=1)\n",
        "    df['stemmed'] = df.apply(stem_list, axis=1)\n",
        "    df['stopped_removed'] = df.apply(remove_stops, axis=1)\n",
        "    df.stopped_removed.to_string(index=False)\n",
        "    df['processed'] = df.apply(rejoin_words, axis=1)\n",
        "    df.processed.to_string(index=False)\n",
        "\n",
        "    if (doc_type==\"document\"):\n",
        "      df_doc = doc_matrix(df['processed'])\n",
        "      return df_doc\n",
        "    elif (doc_type==\"tfidf\"):\n",
        "      df_tfidf = tfidf_matrix(df['processed'])\n",
        "      return df_tfidf\n",
        "\n",
        "    elif (doc_type==\"sentiment\"):\n",
        "      df_sentiment = sentiment(df)\n",
        "      return df_sentiment\n",
        "\n",
        "    return False\n",
        "\n",
        "def doc_matrix(docs, xColNames = None, **kwargs):\n",
        "    #initialize the  vectorizer\n",
        "    vectorizer = CountVectorizer()\n",
        "    x1 = vectorizer.fit_transform(docs)\n",
        "\n",
        "    #create dataFrame\n",
        "    df = pd.DataFrame(x1.toarray(), columns = vectorizer.get_feature_names())\n",
        "    return df\n",
        "\n",
        "def tfidf_matrix(docs):\n",
        "    vectorizer = TfidfVectorizer()\n",
        "    x1 = vectorizer.fit_transform(docs)\n",
        "\n",
        "    #create dataFrame\n",
        "    df = pd.DataFrame(x1.toarray(), columns = vectorizer.get_feature_names())\n",
        "    \n",
        "    return df\n",
        "\n",
        "def sentiment(docs):\n",
        "\n",
        "    sia = SentimentIntensityAnalyzer()\n",
        "\n",
        "    docs['polarity_scores'] = docs['processed'].map(lambda text: sia.polarity_scores(text)['compound'])\n",
        "    docs.loc[docs['polarity_scores'] > 0, 'sentiment'] = 'positive' \n",
        "    docs.loc[docs['polarity_scores'] < 0, 'sentiment'] = 'negative'\n",
        "    docs.loc[docs['polarity_scores'] == 0, 'sentiment'] = 'neutral'\n",
        "    \n",
        "    return docs\n",
        "\n",
        "if __name__ == '__main__':\n",
        "    # create document matrix on climate change\n",
        "    doc_matrix_climate = text_analytics(doc_type=\"document\", topicname=\"climatetweets\")\n",
        "    # create TF-IDF matrix on cimate change \n",
        "    tfidf_matrix_climate = text_analytics(doc_type=\"tfidf\", topicname=\"climatetweets\")\n",
        "    # sentiment analysis on vaccinationstweets\n",
        "    sentiment_matrix_vaccinations = text_analytics(doc_type=\"sentiment\", topicname=\"vaccinationstweets\")\n",
        "    # sentiment analysis on covidtweets\n",
        "    sentiment_matrix_covid = text_analytics(doc_type=\"sentiment\", topicname=\"covidtweets\")"
      ],
      "execution_count": null,
      "outputs": [
        {
          "output_type": "stream",
          "text": [
            "INFO:elasticsearch:HEAD https://kafka-homework3-5284633582.us-east-1.bonsaisearch.net:443/ [status:200 request:0.108s]\n",
            "INFO:elasticsearch:POST https://kafka-homework3-5284633582.us-east-1.bonsaisearch.net:443/climatetweets/_search?scroll=5m&size=1000 [status:200 request:1.570s]\n",
            "INFO:elasticsearch:POST https://kafka-homework3-5284633582.us-east-1.bonsaisearch.net:443/_search/scroll [status:200 request:0.017s]\n",
            "INFO:elasticsearch:DELETE https://kafka-homework3-5284633582.us-east-1.bonsaisearch.net:443/_search/scroll [status:200 request:0.016s]\n",
            "INFO:elasticsearch:HEAD https://kafka-homework3-5284633582.us-east-1.bonsaisearch.net:443/ [status:200 request:0.064s]\n",
            "INFO:elasticsearch:POST https://kafka-homework3-5284633582.us-east-1.bonsaisearch.net:443/climatetweets/_search?scroll=5m&size=1000 [status:200 request:1.321s]\n",
            "INFO:elasticsearch:POST https://kafka-homework3-5284633582.us-east-1.bonsaisearch.net:443/_search/scroll [status:200 request:0.017s]\n",
            "INFO:elasticsearch:DELETE https://kafka-homework3-5284633582.us-east-1.bonsaisearch.net:443/_search/scroll [status:200 request:0.016s]\n",
            "INFO:elasticsearch:HEAD https://kafka-homework3-5284633582.us-east-1.bonsaisearch.net:443/ [status:200 request:0.077s]\n"
          ],
          "name": "stderr"
        },
        {
          "output_type": "stream",
          "text": [
            "     aapl   ab  abandon  abc  abe  abiyahmedali  abl  ableist  abnorm  \\\n",
            "0     0.0  0.0      0.0  0.0  0.0           0.0  0.0      0.0     0.0   \n",
            "1     0.0  0.0      0.0  0.0  0.0           0.0  0.0      0.0     0.0   \n",
            "2     0.0  0.0      0.0  0.0  0.0           0.0  0.0      0.0     0.0   \n",
            "3     0.0  0.0      0.0  0.0  0.0           0.0  0.0      0.0     0.0   \n",
            "4     0.0  0.0      0.0  0.0  0.0           0.0  0.0      0.0     0.0   \n",
            "..    ...  ...      ...  ...  ...           ...  ...      ...     ...   \n",
            "796   0.0  0.0      0.0  0.0  0.0           0.0  0.0      0.0     0.0   \n",
            "797   0.0  0.0      0.0  0.0  0.0           0.0  0.0      0.0     0.0   \n",
            "798   0.0  0.0      0.0  0.0  0.0           0.0  0.0      0.0     0.0   \n",
            "799   0.0  0.0      0.0  0.0  0.0           0.0  0.0      0.0     0.0   \n",
            "800   0.0  0.0      0.0  0.0  0.0           0.0  0.0      0.0     0.0   \n",
            "\n",
            "     abolish  abov  absolut     abund  abus  aca  acceler  accept  accord  \\\n",
            "0        0.0   0.0      0.0  0.000000   0.0  0.0      0.0     0.0     0.0   \n",
            "1        0.0   0.0      0.0  0.347602   0.0  0.0      0.0     0.0     0.0   \n",
            "2        0.0   0.0      0.0  0.000000   0.0  0.0      0.0     0.0     0.0   \n",
            "3        0.0   0.0      0.0  0.000000   0.0  0.0      0.0     0.0     0.0   \n",
            "4        0.0   0.0      0.0  0.000000   0.0  0.0      0.0     0.0     0.0   \n",
            "..       ...   ...      ...       ...   ...  ...      ...     ...     ...   \n",
            "796      0.0   0.0      0.0  0.000000   0.0  0.0      0.0     0.0     0.0   \n",
            "797      0.0   0.0      0.0  0.000000   0.0  0.0      0.0     0.0     0.0   \n",
            "798      0.0   0.0      0.0  0.000000   0.0  0.0      0.0     0.0     0.0   \n",
            "799      0.0   0.0      0.0  0.000000   0.0  0.0      0.0     0.0     0.0   \n",
            "800      0.0   0.0      0.0  0.000000   0.0  0.0      0.0     0.0     0.0   \n",
            "\n",
            "     account  accus  across  acryl       act  action  activist  ...  yeah  \\\n",
            "0        0.0    0.0     0.0    0.0  0.000000     0.0       0.0  ...   0.0   \n",
            "1        0.0    0.0     0.0    0.0  0.000000     0.0       0.0  ...   0.0   \n",
            "2        0.0    0.0     0.0    0.0  0.000000     0.0       0.0  ...   0.0   \n",
            "3        0.0    0.0     0.0    0.0  0.000000     0.0       0.0  ...   0.0   \n",
            "4        0.0    0.0     0.0    0.0  0.000000     0.0       0.0  ...   0.0   \n",
            "..       ...    ...     ...    ...       ...     ...       ...  ...   ...   \n",
            "796      0.0    0.0     0.0    0.0  0.000000     0.0       0.0  ...   0.0   \n",
            "797      0.0    0.0     0.0    0.0  0.000000     0.0       0.0  ...   0.0   \n",
            "798      0.0    0.0     0.0    0.0  0.300745     0.0       0.0  ...   0.0   \n",
            "799      0.0    0.0     0.0    0.0  0.000000     0.0       0.0  ...   0.0   \n",
            "800      0.0    0.0     0.0    0.0  0.000000     0.0       0.0  ...   0.0   \n",
            "\n",
            "         year  yesar  yess  yessir  yesterday  yet  yield  york  young  \\\n",
            "0    0.216589    0.0   0.0     0.0        0.0  0.0    0.0   0.0    0.0   \n",
            "1    0.000000    0.0   0.0     0.0        0.0  0.0    0.0   0.0    0.0   \n",
            "2    0.000000    0.0   0.0     0.0        0.0  0.0    0.0   0.0    0.0   \n",
            "3    0.000000    0.0   0.0     0.0        0.0  0.0    0.0   0.0    0.0   \n",
            "4    0.000000    0.0   0.0     0.0        0.0  0.0    0.0   0.0    0.0   \n",
            "..        ...    ...   ...     ...        ...  ...    ...   ...    ...   \n",
            "796  0.000000    0.0   0.0     0.0        0.0  0.0    0.0   0.0    0.0   \n",
            "797  0.000000    0.0   0.0     0.0        0.0  0.0    0.0   0.0    0.0   \n",
            "798  0.000000    0.0   0.0     0.0        0.0  0.0    0.0   0.0    0.0   \n",
            "799  0.000000    0.0   0.0     0.0        0.0  0.0    0.0   0.0    0.0   \n",
            "800  0.000000    0.0   0.0     0.0        0.0  0.0    0.0   0.0    0.0   \n",
            "\n",
            "     younger  youtub   yr  yycbik  zack  zaid  zalisteggal  zealand  \\\n",
            "0        0.0     0.0  0.0     0.0   0.0   0.0          0.0      0.0   \n",
            "1        0.0     0.0  0.0     0.0   0.0   0.0          0.0      0.0   \n",
            "2        0.0     0.0  0.0     0.0   0.0   0.0          0.0      0.0   \n",
            "3        0.0     0.0  0.0     0.0   0.0   0.0          0.0      0.0   \n",
            "4        0.0     0.0  0.0     0.0   0.0   0.0          0.0      0.0   \n",
            "..       ...     ...  ...     ...   ...   ...          ...      ...   \n",
            "796      0.0     0.0  0.0     0.0   0.0   0.0          0.0      0.0   \n",
            "797      0.0     0.0  0.0     0.0   0.0   0.0          0.0      0.0   \n",
            "798      0.0     0.0  0.0     0.0   0.0   0.0          0.0      0.0   \n",
            "799      0.0     0.0  0.0     0.0   0.0   0.0          0.0      0.0   \n",
            "800      0.0     0.0  0.0     0.0   0.0   0.0          0.0      0.0   \n",
            "\n",
            "     zebrasfli  zeldenrust  zero  ziadmdaoud  ziplinebrew  zoom  zurijayyy  \n",
            "0          0.0         0.0   0.0         0.0          0.0   0.0        0.0  \n",
            "1          0.0         0.0   0.0         0.0          0.0   0.0        0.0  \n",
            "2          0.0         0.0   0.0         0.0          0.0   0.0        0.0  \n",
            "3          0.0         0.0   0.0         0.0          0.0   0.0        0.0  \n",
            "4          0.0         0.0   0.0         0.0          0.0   0.0        0.0  \n",
            "..         ...         ...   ...         ...          ...   ...        ...  \n",
            "796        0.0         0.0   0.0         0.0          0.0   0.0        0.0  \n",
            "797        0.0         0.0   0.0         0.0          0.0   0.0        0.0  \n",
            "798        0.0         0.0   0.0         0.0          0.0   0.0        0.0  \n",
            "799        0.0         0.0   0.0         0.0          0.0   0.0        0.0  \n",
            "800        0.0         0.0   0.0         0.0          0.0   0.0        0.0  \n",
            "\n",
            "[801 rows x 2908 columns]\n"
          ],
          "name": "stdout"
        },
        {
          "output_type": "stream",
          "text": [
            "INFO:elasticsearch:POST https://kafka-homework3-5284633582.us-east-1.bonsaisearch.net:443/vaccinationstweets/_search?scroll=5m&size=1000 [status:200 request:1.620s]\n",
            "INFO:elasticsearch:POST https://kafka-homework3-5284633582.us-east-1.bonsaisearch.net:443/_search/scroll [status:200 request:0.017s]\n",
            "INFO:elasticsearch:DELETE https://kafka-homework3-5284633582.us-east-1.bonsaisearch.net:443/_search/scroll [status:200 request:0.016s]\n",
            "INFO:elasticsearch:HEAD https://kafka-homework3-5284633582.us-east-1.bonsaisearch.net:443/ [status:200 request:0.065s]\n",
            "INFO:elasticsearch:POST https://kafka-homework3-5284633582.us-east-1.bonsaisearch.net:443/covidtweets/_search?scroll=5m&size=1000 [status:200 request:0.836s]\n",
            "INFO:elasticsearch:POST https://kafka-homework3-5284633582.us-east-1.bonsaisearch.net:443/_search/scroll [status:200 request:0.017s]\n",
            "INFO:elasticsearch:DELETE https://kafka-homework3-5284633582.us-east-1.bonsaisearch.net:443/_search/scroll [status:200 request:0.016s]\n"
          ],
          "name": "stderr"
        }
      ]
    },
    {
      "cell_type": "markdown",
      "metadata": {
        "id": "pBmOmeOr1Y0z"
      },
      "source": [
        "### Climate Top Words"
      ]
    },
    {
      "cell_type": "code",
      "metadata": {
        "colab": {
          "base_uri": "https://localhost:8080/"
        },
        "id": "HUiUNkl_U2x4",
        "outputId": "60378e56-afe6-43db-9f42-17b093fdf631"
      },
      "source": [
        "# Top words\n",
        "tfidf_matrix_climate.mean().sort_values(ascending=False)[0:20]"
      ],
      "execution_count": null,
      "outputs": [
        {
          "output_type": "execute_result",
          "data": {
            "text/plain": [
              "rt         0.048665\n",
              "http       0.045172\n",
              "climat     0.024663\n",
              "ga         0.022454\n",
              "oil        0.021269\n",
              "thi        0.020958\n",
              "new        0.019728\n",
              "environ    0.015538\n",
              "chang      0.014720\n",
              "wa         0.014606\n",
              "polit      0.013868\n",
              "day        0.013824\n",
              "job        0.013318\n",
              "ha         0.012234\n",
              "biden      0.011413\n",
              "last       0.011024\n",
              "amp        0.009728\n",
              "we         0.009527\n",
              "citi       0.008967\n",
              "get        0.008684\n",
              "dtype: float64"
            ]
          },
          "metadata": {
            "tags": []
          },
          "execution_count": 203
        }
      ]
    },
    {
      "cell_type": "markdown",
      "metadata": {
        "id": "4WRqa_Wp2sLZ"
      },
      "source": [
        "Some of the top words are:\n",
        "\n",
        "\n",
        "*   climate\n",
        "*   gas\n",
        "*   oil\n",
        "*   new\n",
        "*   environment\n",
        "\n",
        "Among the top words, many of them are not very useful based on the topic we had. In addition, many of the top words were words used to filter the tweets. \n",
        "\n"
      ]
    },
    {
      "cell_type": "markdown",
      "metadata": {
        "id": "dQFiR19C1uqf"
      },
      "source": [
        "There are some advantages of using this method. It successfully removed stop words and the computation was done in a fairly simple way. However, TF-IDF is based on the bag-of-words model, which means it doesn't capture the position in text, semantics, co-occurrences in different documents, etc. \n",
        "\n",
        "This is not a reliable method. First of all, most of the top words are simply the keywords we filtered on. There also may be some ambiguity on some of the words since they were tokenized. Lastly, some of the words may be irrelevant like rt (for retweet) and http (for a url)."
      ]
    },
    {
      "cell_type": "code",
      "metadata": {
        "colab": {
          "base_uri": "https://localhost:8080/"
        },
        "id": "4ip6rZlntgWW",
        "outputId": "7c13acfe-d494-41c0-9444-1a7e39750af7"
      },
      "source": [
        "# Vaccinations\n",
        "\n",
        "len(sentiment_matrix_vaccinations.loc[sentiment_matrix_vaccinations['sentiment']=='positive'])/(len(sentiment_matrix_vaccinations.loc[sentiment_matrix_vaccinations['sentiment']=='positive'])+len(sentiment_matrix_vaccinations.loc[sentiment_matrix_vaccinations['sentiment']=='negative']))"
      ],
      "execution_count": null,
      "outputs": [
        {
          "output_type": "execute_result",
          "data": {
            "text/plain": [
              "0.6813417190775681"
            ]
          },
          "metadata": {
            "tags": []
          },
          "execution_count": 204
        }
      ]
    },
    {
      "cell_type": "code",
      "metadata": {
        "colab": {
          "base_uri": "https://localhost:8080/"
        },
        "id": "PRWItQJ9yi2D",
        "outputId": "13a3c0c7-d8ec-43c1-b004-8dafc7762e04"
      },
      "source": [
        "# COVID\n",
        "\n",
        "len(sentiment_matrix_covid.loc[sentiment_matrix_covid['sentiment']=='positive'])/(len(sentiment_matrix_covid.loc[sentiment_matrix_covid['sentiment']=='positive'])+len(sentiment_matrix_covid.loc[sentiment_matrix_covid['sentiment']=='negative']))"
      ],
      "execution_count": null,
      "outputs": [
        {
          "output_type": "execute_result",
          "data": {
            "text/plain": [
              "0.567741935483871"
            ]
          },
          "metadata": {
            "tags": []
          },
          "execution_count": 205
        }
      ]
    },
    {
      "cell_type": "markdown",
      "metadata": {
        "id": "MbeOx8QG1s3c"
      },
      "source": [
        "Vaccination tweets have a more positive sentiment than COVID vaccination tweets on average. However, this analysis doesn't offer more specific analysis on trending topics within \"vaccinationstweets' or \" covidtweets\". In the future, with more time and data, we recommend building a supervised model for sentiment analysis that could give us more accurate and in-depth results. along with that we can perform topic modeling (supervised or unsupervised) to extract themes prevalent across the data"
      ]
    }
  ]
}